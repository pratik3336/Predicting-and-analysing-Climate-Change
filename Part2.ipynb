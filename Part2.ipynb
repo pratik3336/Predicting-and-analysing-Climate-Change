{
 "cells": [
  {
   "cell_type": "markdown",
   "id": "b0569f61",
   "metadata": {},
   "source": [
    "### Global Warming ML/DL Models"
   ]
  },
  {
   "attachments": {},
   "cell_type": "markdown",
   "id": "cbc73c04",
   "metadata": {},
   "source": [
    "<br />\n",
    "<center>\n",
    "<img src =images/climate_2.jpg width = 500 />\n",
    "</center>"
   ]
  },
  {
   "cell_type": "code",
   "execution_count": 1,
   "id": "c2b0ea1a",
   "metadata": {},
   "outputs": [],
   "source": [
    "import math\n",
    "import pandas as pd\n",
    "import numpy as np\n",
    "import seaborn as sns\n",
    "import matplotlib.pyplot as plt\n",
    "from keras.models import Sequential\n",
    "from keras.layers import Dense\n",
    "from keras.layers import LSTM\n",
    "from sklearn.model_selection import train_test_split\n",
    "from sklearn.feature_selection import SelectKBest\n",
    "from sklearn.ensemble import RandomForestRegressor\n",
    "from sklearn.pipeline import make_pipeline\n",
    "from sklearn.preprocessing import StandardScaler\n",
    "from sklearn.preprocessing import MinMaxScaler\n",
    "from sklearn.metrics import mean_absolute_error\n",
    "from sklearn.metrics import mean_squared_error\n",
    "import statsmodels.api as sm\n",
    "import statsmodels as smt"
   ]
  },
  {
   "cell_type": "code",
   "execution_count": 2,
   "id": "c43c3230",
   "metadata": {},
   "outputs": [],
   "source": [
    "df_global_warming = pd.read_csv(r\"Dataset/GlobalTemperatures.csv\")"
   ]
  },
  {
   "cell_type": "code",
   "execution_count": 3,
   "id": "e3605a64",
   "metadata": {},
   "outputs": [
    {
     "data": {
      "text/plain": [
       "Index(['dt', 'LandAverageTemperature', 'LandAverageTemperatureUncertainty',\n",
       "       'LandMaxTemperature', 'LandMaxTemperatureUncertainty',\n",
       "       'LandMinTemperature', 'LandMinTemperatureUncertainty',\n",
       "       'LandAndOceanAverageTemperature',\n",
       "       'LandAndOceanAverageTemperatureUncertainty'],\n",
       "      dtype='object')"
      ]
     },
     "execution_count": 3,
     "metadata": {},
     "output_type": "execute_result"
    }
   ],
   "source": [
    "df_global_warming.columns"
   ]
  },
  {
   "cell_type": "code",
   "execution_count": 4,
   "id": "b9abcb42",
   "metadata": {},
   "outputs": [
    {
     "name": "stdout",
     "output_type": "stream",
     "text": [
      "<class 'pandas.core.frame.DataFrame'>\n",
      "RangeIndex: 3192 entries, 0 to 3191\n",
      "Data columns (total 9 columns):\n",
      " #   Column                                     Non-Null Count  Dtype  \n",
      "---  ------                                     --------------  -----  \n",
      " 0   dt                                         3192 non-null   object \n",
      " 1   LandAverageTemperature                     3180 non-null   float64\n",
      " 2   LandAverageTemperatureUncertainty          3180 non-null   float64\n",
      " 3   LandMaxTemperature                         1992 non-null   float64\n",
      " 4   LandMaxTemperatureUncertainty              1992 non-null   float64\n",
      " 5   LandMinTemperature                         1992 non-null   float64\n",
      " 6   LandMinTemperatureUncertainty              1992 non-null   float64\n",
      " 7   LandAndOceanAverageTemperature             1992 non-null   float64\n",
      " 8   LandAndOceanAverageTemperatureUncertainty  1992 non-null   float64\n",
      "dtypes: float64(8), object(1)\n",
      "memory usage: 224.6+ KB\n"
     ]
    }
   ],
   "source": [
    "df_global_warming.info()"
   ]
  },
  {
   "cell_type": "markdown",
   "id": "370b7f3c",
   "metadata": {},
   "source": [
    "### To find missing value count"
   ]
  },
  {
   "cell_type": "code",
   "execution_count": 5,
   "id": "51db0ec0",
   "metadata": {},
   "outputs": [
    {
     "data": {
      "text/plain": [
       "dt                                              0\n",
       "LandAverageTemperature                         12\n",
       "LandAverageTemperatureUncertainty              12\n",
       "LandMaxTemperature                           1200\n",
       "LandMaxTemperatureUncertainty                1200\n",
       "LandMinTemperature                           1200\n",
       "LandMinTemperatureUncertainty                1200\n",
       "LandAndOceanAverageTemperature               1200\n",
       "LandAndOceanAverageTemperatureUncertainty    1200\n",
       "dtype: int64"
      ]
     },
     "execution_count": 5,
     "metadata": {},
     "output_type": "execute_result"
    }
   ],
   "source": [
    "df_global_warming.isnull().sum()"
   ]
  },
  {
   "cell_type": "code",
   "execution_count": 6,
   "id": "da956df0",
   "metadata": {},
   "outputs": [],
   "source": [
    "df_main = df_global_warming.copy() "
   ]
  },
  {
   "cell_type": "code",
   "execution_count": 7,
   "id": "2939c462",
   "metadata": {},
   "outputs": [],
   "source": [
    "# Dropping columns with high cardinality\n",
    "df_global_warming =  df_global_warming.drop(columns=[\"LandAverageTemperatureUncertainty\",\"LandMaxTemperatureUncertainty\",\"LandMinTemperatureUncertainty\",\n",
    "                          \"LandAndOceanAverageTemperatureUncertainty\"])"
   ]
  },
  {
   "cell_type": "markdown",
   "id": "c3a9ea01",
   "metadata": {},
   "source": [
    "### Format Conversion"
   ]
  },
  {
   "cell_type": "code",
   "execution_count": 8,
   "id": "9fb4b183",
   "metadata": {},
   "outputs": [],
   "source": [
    "def ConvertCelsiusToFarhenheit(x):\n",
    "    x = (x*1.8)+32\n",
    "    return float(x)"
   ]
  },
  {
   "cell_type": "code",
   "execution_count": 9,
   "id": "4e8d8359",
   "metadata": {},
   "outputs": [],
   "source": [
    "df_global_warming['LandAverageTemperature'] = df_global_warming['LandAverageTemperature'].apply(ConvertCelsiusToFarhenheit)\n",
    "df_global_warming['LandMaxTemperature'] = df_global_warming['LandMaxTemperature'].apply(ConvertCelsiusToFarhenheit)\n",
    "df_global_warming['LandMinTemperature'] = df_global_warming['LandMinTemperature'].apply(ConvertCelsiusToFarhenheit)\n",
    "df_global_warming['LandAndOceanAverageTemperature'] = df_global_warming['LandAndOceanAverageTemperature'].apply(ConvertCelsiusToFarhenheit)"
   ]
  },
  {
   "cell_type": "code",
   "execution_count": 10,
   "id": "87cff61f",
   "metadata": {},
   "outputs": [
    {
     "name": "stderr",
     "output_type": "stream",
     "text": [
      "NumExpr defaulting to 4 threads.\n"
     ]
    }
   ],
   "source": [
    "#Data format conversion\n",
    "df_global_warming[\"dt\"] = pd.to_datetime(df_global_warming[\"dt\"])\n",
    "df_global_warming[\"Month\"] = df_global_warming[\"dt\"].dt.month\n",
    "df_global_warming[\"Year\"] = df_global_warming[\"dt\"].dt.year\n",
    "df_global_warming = df_global_warming.drop(\"dt\", axis=1)\n",
    "df_global_warming = df_global_warming.drop(\"Month\", axis=1)\n",
    "df_global_warming = df_global_warming[df_global_warming.Year >=1850]"
   ]
  },
  {
   "cell_type": "code",
   "execution_count": 11,
   "id": "4a29b99e",
   "metadata": {},
   "outputs": [],
   "source": [
    "df_global_warming = df_global_warming.set_index([\"Year\"])"
   ]
  },
  {
   "cell_type": "code",
   "execution_count": 12,
   "id": "2f20b7bd",
   "metadata": {},
   "outputs": [],
   "source": [
    "df_global_warming =  df_global_warming.dropna()"
   ]
  },
  {
   "cell_type": "code",
   "execution_count": 13,
   "id": "22d78edb",
   "metadata": {},
   "outputs": [
    {
     "data": {
      "text/html": [
       "<div><div id=ab0b7481-441a-4a53-bf0e-df802c9b7f29 style=\"display:none; background-color:#9D6CFF; color:white; width:200px; height:30px; padding-left:5px; border-radius:4px; flex-direction:row; justify-content:space-around; align-items:center;\" onmouseover=\"this.style.backgroundColor='#BA9BF8'\" onmouseout=\"this.style.backgroundColor='#9D6CFF'\" onclick=\"window.commands?.execute('create-mitosheet-from-dataframe-output');\">See Full Dataframe in Mito</div> <script> if (window.commands.hasCommand('create-mitosheet-from-dataframe-output')) document.getElementById('ab0b7481-441a-4a53-bf0e-df802c9b7f29').style.display = 'flex' </script> <table border=\"1\" class=\"dataframe\">\n",
       "  <thead>\n",
       "    <tr style=\"text-align: right;\">\n",
       "      <th></th>\n",
       "      <th>LandAverageTemperature</th>\n",
       "      <th>LandMaxTemperature</th>\n",
       "      <th>LandMinTemperature</th>\n",
       "      <th>LandAndOceanAverageTemperature</th>\n",
       "    </tr>\n",
       "    <tr>\n",
       "      <th>Year</th>\n",
       "      <th></th>\n",
       "      <th></th>\n",
       "      <th></th>\n",
       "      <th></th>\n",
       "    </tr>\n",
       "  </thead>\n",
       "  <tbody>\n",
       "    <tr>\n",
       "      <th>1850</th>\n",
       "      <td>33.3482</td>\n",
       "      <td>46.8356</td>\n",
       "      <td>26.2292</td>\n",
       "      <td>55.0994</td>\n",
       "    </tr>\n",
       "    <tr>\n",
       "      <th>1850</th>\n",
       "      <td>37.5278</td>\n",
       "      <td>49.9460</td>\n",
       "      <td>27.8762</td>\n",
       "      <td>56.4584</td>\n",
       "    </tr>\n",
       "    <tr>\n",
       "      <th>1850</th>\n",
       "      <td>40.9172</td>\n",
       "      <td>50.6246</td>\n",
       "      <td>28.5710</td>\n",
       "      <td>57.2774</td>\n",
       "    </tr>\n",
       "    <tr>\n",
       "      <th>1850</th>\n",
       "      <td>44.9906</td>\n",
       "      <td>55.2812</td>\n",
       "      <td>33.8324</td>\n",
       "      <td>58.4006</td>\n",
       "    </tr>\n",
       "    <tr>\n",
       "      <th>1850</th>\n",
       "      <td>50.0072</td>\n",
       "      <td>60.1790</td>\n",
       "      <td>38.8598</td>\n",
       "      <td>59.9126</td>\n",
       "    </tr>\n",
       "  </tbody>\n",
       "</table></div>"
      ],
      "text/plain": [
       "      LandAverageTemperature  LandMaxTemperature  LandMinTemperature  \\\n",
       "Year                                                                   \n",
       "1850                 33.3482             46.8356             26.2292   \n",
       "1850                 37.5278             49.9460             27.8762   \n",
       "1850                 40.9172             50.6246             28.5710   \n",
       "1850                 44.9906             55.2812             33.8324   \n",
       "1850                 50.0072             60.1790             38.8598   \n",
       "\n",
       "      LandAndOceanAverageTemperature  \n",
       "Year                                  \n",
       "1850                         55.0994  \n",
       "1850                         56.4584  \n",
       "1850                         57.2774  \n",
       "1850                         58.4006  \n",
       "1850                         59.9126  "
      ]
     },
     "execution_count": 13,
     "metadata": {},
     "output_type": "execute_result"
    }
   ],
   "source": [
    "df_global_warming.head()"
   ]
  },
  {
   "cell_type": "code",
   "execution_count": 14,
   "id": "aa0065e6",
   "metadata": {},
   "outputs": [
    {
     "data": {
      "text/plain": [
       "(1992, 4)"
      ]
     },
     "execution_count": 14,
     "metadata": {},
     "output_type": "execute_result"
    }
   ],
   "source": [
    "df_global_warming.shape"
   ]
  },
  {
   "cell_type": "markdown",
   "id": "334fd3ec",
   "metadata": {},
   "source": [
    "### check for NULL values in processed data"
   ]
  },
  {
   "cell_type": "code",
   "execution_count": 15,
   "id": "93d497bb",
   "metadata": {},
   "outputs": [
    {
     "data": {
      "text/plain": [
       "LandAverageTemperature            0\n",
       "LandMaxTemperature                0\n",
       "LandMinTemperature                0\n",
       "LandAndOceanAverageTemperature    0\n",
       "dtype: int64"
      ]
     },
     "execution_count": 15,
     "metadata": {},
     "output_type": "execute_result"
    }
   ],
   "source": [
    "df_global_warming.isnull().sum()"
   ]
  },
  {
   "cell_type": "code",
   "execution_count": 16,
   "id": "d9d02fc9",
   "metadata": {},
   "outputs": [
    {
     "data": {
      "image/png": "[encoded data removed]",
      "text/plain": [
       "<Figure size 432x288 with 2 Axes>"
      ]
     },
     "metadata": {
      "needs_background": "light"
     },
     "output_type": "display_data"
    }
   ],
   "source": [
    "temp_corrmatrix = df_global_warming.corr()\n",
    "sns.heatmap(temp_corrmatrix,annot=True)\n",
    "plt.show()"
   ]
  },
  {
   "cell_type": "markdown",
   "id": "10eac759",
   "metadata": {},
   "source": [
    "### EDA"
   ]
  },
  {
   "cell_type": "code",
   "execution_count": 17,
   "id": "a6596b13",
   "metadata": {},
   "outputs": [
    {
     "data": {
      "image/png": "[encoded data removed]",
      "text/plain": [
       "<Figure size 432x288 with 1 Axes>"
      ]
     },
     "metadata": {
      "needs_background": "light"
     },
     "output_type": "display_data"
    }
   ],
   "source": [
    "df_global_warming.reset_index()\n",
    "sns.kdeplot(df_global_warming['LandAverageTemperature'], legend=False, color=\"brown\", shade=True)\n",
    "plt.xlabel(\"\\nLandAverageTemperature \")\n",
    "plt.ylabel(\"Proportion of years\")\n",
    "plt.title(\"Land Average Temperature \")\n",
    "plt.show()"
   ]
  },
  {
   "cell_type": "code",
   "execution_count": 18,
   "id": "3a4b9ce8",
   "metadata": {},
   "outputs": [
    {
     "data": {
      "image/png": "[encoded data removed]",
      "text/plain": [
       "<Figure size 432x288 with 1 Axes>"
      ]
     },
     "metadata": {
      "needs_background": "light"
     },
     "output_type": "display_data"
    }
   ],
   "source": [
    "sns.kdeplot(df_global_warming['LandMaxTemperature'], legend=False, color=\"brown\", shade=True)\n",
    "plt.xlabel(\"\\nLandMaxTemperature \")\n",
    "plt.ylabel(\"Proportion of years\")\n",
    "plt.title(\"Land Max Temperature \")\n",
    "plt.show()"
   ]
  },
  {
   "cell_type": "code",
   "execution_count": 19,
   "id": "fdd57aca",
   "metadata": {},
   "outputs": [
    {
     "data": {
      "image/png": "[encoded data removed]",
      "text/plain": [
       "<Figure size 432x288 with 1 Axes>"
      ]
     },
     "metadata": {
      "needs_background": "light"
     },
     "output_type": "display_data"
    }
   ],
   "source": [
    "sns.kdeplot(df_global_warming['LandMinTemperature'], legend=False, color=\"brown\", shade=True)\n",
    "plt.xlabel(\"\\nLand Min Temperature \")\n",
    "plt.ylabel(\"Proportion of years\")\n",
    "plt.title(\"Land Min Temperature \")\n",
    "plt.show()"
   ]
  },
  {
   "cell_type": "markdown",
   "id": "f563ebe1",
   "metadata": {},
   "source": [
    "### Separating out features"
   ]
  },
  {
   "cell_type": "code",
   "execution_count": 20,
   "id": "55bdf114",
   "metadata": {},
   "outputs": [],
   "source": [
    "#Target Vector Creation\n",
    "target = \"LandAndOceanAverageTemperature\"\n",
    "Y = df_global_warming[target]\n",
    "X = df_global_warming[[\"LandAverageTemperature\",\"LandMaxTemperature\",\"LandMinTemperature\"]]"
   ]
  },
  {
   "cell_type": "code",
   "execution_count": 21,
   "id": "a2605272",
   "metadata": {},
   "outputs": [],
   "source": [
    "X_train,  X_val,Y_train, Y_val = train_test_split(X,Y,test_size=0.25,random_state=42)"
   ]
  },
  {
   "cell_type": "code",
   "execution_count": 22,
   "id": "7d0310fc",
   "metadata": {},
   "outputs": [
    {
     "name": "stdout",
     "output_type": "stream",
     "text": [
      "(1494, 3)\n",
      "(1494,)\n",
      "(498, 3)\n",
      "(498,)\n"
     ]
    }
   ],
   "source": [
    "print(X_train.shape)\n",
    "print(Y_train.shape)\n",
    "print(X_val.shape)\n",
    "print(Y_val.shape)"
   ]
  },
  {
   "cell_type": "markdown",
   "id": "eb2b0af8",
   "metadata": {},
   "source": [
    "<br />\n",
    "<center>\n",
    "<img src =images/ml_dl.jpg width = 400 />\n",
    "</center>"
   ]
  },
  {
   "cell_type": "markdown",
   "id": "f17c65a1",
   "metadata": {},
   "source": [
    "### Random Forest Regression"
   ]
  },
  {
   "cell_type": "code",
   "execution_count": 23,
   "id": "fce76a5b",
   "metadata": {},
   "outputs": [],
   "source": [
    "RF_model = make_pipeline(SelectKBest(k=\"all\"),StandardScaler(), RandomForestRegressor(n_estimators=100, max_depth=50,\n",
    "                                                                                      random_state =77, n_jobs=-1))"
   ]
  },
  {
   "cell_type": "code",
   "execution_count": 24,
   "id": "42736f88",
   "metadata": {},
   "outputs": [
    {
     "data": {
      "text/plain": [
       "Pipeline(steps=[('selectkbest', SelectKBest(k='all')),\n",
       "                ('standardscaler', StandardScaler()),\n",
       "                ('randomforestregressor',\n",
       "                 RandomForestRegressor(max_depth=50, n_jobs=-1,\n",
       "                                       random_state=77))])"
      ]
     },
     "execution_count": 24,
     "metadata": {},
     "output_type": "execute_result"
    }
   ],
   "source": [
    "RF_model.fit(X_train,Y_train)"
   ]
  },
  {
   "cell_type": "code",
   "execution_count": 25,
   "id": "d4155f0b",
   "metadata": {},
   "outputs": [],
   "source": [
    "y_pred = [Y_train.mean()]*len(Y_train)"
   ]
  },
  {
   "cell_type": "code",
   "execution_count": 26,
   "id": "26ea8b07",
   "metadata": {},
   "outputs": [],
   "source": [
    "train_RF_MAE = mean_absolute_error(Y_train,RF_model.predict(X_train))"
   ]
  },
  {
   "cell_type": "code",
   "execution_count": 27,
   "id": "a628e8b8",
   "metadata": {},
   "outputs": [],
   "source": [
    "val_RF_MAE = mean_absolute_error(Y_val,RF_model.predict(X_val))"
   ]
  },
  {
   "cell_type": "code",
   "execution_count": 28,
   "id": "3fada328",
   "metadata": {},
   "outputs": [
    {
     "name": "stdout",
     "output_type": "stream",
     "text": [
      "Train Random Forest Regressor MAE ==> 0.09095704819277328\n"
     ]
    }
   ],
   "source": [
    "print(\"Train Random Forest Regressor MAE ==>\",train_RF_MAE)"
   ]
  },
  {
   "cell_type": "code",
   "execution_count": 29,
   "id": "d840065d",
   "metadata": {},
   "outputs": [
    {
     "name": "stdout",
     "output_type": "stream",
     "text": [
      "Validation Random Forest Regressor MAE ==> 0.2443031204819263\n"
     ]
    }
   ],
   "source": [
    "print(\"Validation Random Forest Regressor MAE ==>\",val_RF_MAE)"
   ]
  },
  {
   "cell_type": "code",
   "execution_count": 30,
   "id": "22420d5b",
   "metadata": {},
   "outputs": [],
   "source": [
    "y_pred = RF_model.predict(X_val)"
   ]
  },
  {
   "cell_type": "code",
   "execution_count": 31,
   "id": "3f0c12b9",
   "metadata": {},
   "outputs": [],
   "source": [
    "errors = abs(y_pred - Y_val)"
   ]
  },
  {
   "cell_type": "code",
   "execution_count": 32,
   "id": "2d388790",
   "metadata": {},
   "outputs": [],
   "source": [
    "#Calculating mean absolute percentage\n",
    "mape = 100 * (errors/Y_train)"
   ]
  },
  {
   "cell_type": "code",
   "execution_count": 33,
   "id": "62c0dd1d",
   "metadata": {},
   "outputs": [],
   "source": [
    "accuracy = 100 - np.mean(mape)"
   ]
  },
  {
   "cell_type": "code",
   "execution_count": 34,
   "id": "24c44d19",
   "metadata": {},
   "outputs": [
    {
     "name": "stdout",
     "output_type": "stream",
     "text": [
      "Random Forest Accuracy Model Prediction Accuracy === 99.58201104247628\n"
     ]
    }
   ],
   "source": [
    "print(\"Random Forest Accuracy Model Prediction Accuracy ===\",accuracy)"
   ]
  },
  {
   "cell_type": "markdown",
   "id": "76f77e51",
   "metadata": {},
   "source": [
    "### LSTM Modelling"
   ]
  },
  {
   "cell_type": "code",
   "execution_count": 35,
   "id": "220161e3",
   "metadata": {},
   "outputs": [],
   "source": [
    "df_global_temp = pd.read_csv(r\"Dataset/gmst-assessment.csv\", usecols=[1], engine='python')\n",
    "dataset = df_global_temp.values\n",
    "dataset = dataset.astype('float32')"
   ]
  },
  {
   "cell_type": "code",
   "execution_count": 36,
   "id": "524f7453",
   "metadata": {},
   "outputs": [],
   "source": [
    "# normalize the dataset\n",
    "scaler = MinMaxScaler(feature_range=(0, 1))\n",
    "dataset = scaler.fit_transform(dataset)"
   ]
  },
  {
   "cell_type": "code",
   "execution_count": 37,
   "id": "d91c3689",
   "metadata": {},
   "outputs": [],
   "source": [
    "\n",
    "# split into train and test sets\n",
    "train_size = int(len(dataset) * 0.67)\n",
    "test_size = len(dataset) - train_size\n",
    "train, test = dataset[0:train_size,:], dataset[train_size:len(dataset),:]"
   ]
  },
  {
   "cell_type": "code",
   "execution_count": 38,
   "id": "a546e751",
   "metadata": {},
   "outputs": [],
   "source": [
    "\n",
    "# convert an array of values into a dataset matrix\n",
    "def create_dataset(dataset, look_back=1):\n",
    "\tdataX, dataY = [], []\n",
    "\tfor i in range(len(dataset)-look_back-1):\n",
    "\t\ta = dataset[i:(i+look_back), 0]\n",
    "\t\tdataX.append(a)\n",
    "\t\tdataY.append(dataset[i + look_back, 0])\n",
    "\treturn np.array(dataX), np.array(dataY)"
   ]
  },
  {
   "cell_type": "code",
   "execution_count": 39,
   "id": "2f9c79f8",
   "metadata": {},
   "outputs": [],
   "source": [
    "look_back = 1\n",
    "trainX, trainY = create_dataset(train, look_back)\n",
    "testX, testY = create_dataset(test, look_back)"
   ]
  },
  {
   "cell_type": "code",
   "execution_count": 40,
   "id": "217becec",
   "metadata": {},
   "outputs": [],
   "source": [
    "\n",
    "# reshape input to be [samples, time steps, features]\n",
    "trainX = np.reshape(trainX, (trainX.shape[0], 1, trainX.shape[1]))\n",
    "testX = np.reshape(testX, (testX.shape[0], 1, testX.shape[1]))"
   ]
  },
  {
   "cell_type": "code",
   "execution_count": 41,
   "id": "8fd4e4c4",
   "metadata": {},
   "outputs": [
    {
     "name": "stdout",
     "output_type": "stream",
     "text": [
      "Epoch 1/100\n",
      "112/112 - 4s - loss: 0.0237 - 4s/epoch - 35ms/step\n",
      "Epoch 2/100\n",
      "112/112 - 0s - loss: 0.0093 - 282ms/epoch - 3ms/step\n",
      "Epoch 3/100\n",
      "112/112 - 0s - loss: 0.0081 - 270ms/epoch - 2ms/step\n",
      "Epoch 4/100\n",
      "112/112 - 0s - loss: 0.0078 - 255ms/epoch - 2ms/step\n",
      "Epoch 5/100\n",
      "112/112 - 0s - loss: 0.0074 - 286ms/epoch - 3ms/step\n",
      "Epoch 6/100\n",
      "112/112 - 0s - loss: 0.0070 - 284ms/epoch - 3ms/step\n",
      "Epoch 7/100\n",
      "112/112 - 0s - loss: 0.0067 - 292ms/epoch - 3ms/step\n",
      "Epoch 8/100\n",
      "112/112 - 0s - loss: 0.0063 - 263ms/epoch - 2ms/step\n",
      "Epoch 9/100\n",
      "112/112 - 0s - loss: 0.0059 - 267ms/epoch - 2ms/step\n",
      "Epoch 10/100\n",
      "112/112 - 0s - loss: 0.0055 - 236ms/epoch - 2ms/step\n",
      "Epoch 11/100\n",
      "112/112 - 0s - loss: 0.0052 - 268ms/epoch - 2ms/step\n",
      "Epoch 12/100\n",
      "112/112 - 0s - loss: 0.0049 - 264ms/epoch - 2ms/step\n",
      "Epoch 13/100\n",
      "112/112 - 0s - loss: 0.0047 - 256ms/epoch - 2ms/step\n",
      "Epoch 14/100\n",
      "112/112 - 0s - loss: 0.0046 - 263ms/epoch - 2ms/step\n",
      "Epoch 15/100\n",
      "112/112 - 0s - loss: 0.0044 - 268ms/epoch - 2ms/step\n",
      "Epoch 16/100\n",
      "112/112 - 0s - loss: 0.0044 - 234ms/epoch - 2ms/step\n",
      "Epoch 17/100\n",
      "112/112 - 0s - loss: 0.0044 - 219ms/epoch - 2ms/step\n",
      "Epoch 18/100\n",
      "112/112 - 0s - loss: 0.0043 - 233ms/epoch - 2ms/step\n",
      "Epoch 19/100\n",
      "112/112 - 0s - loss: 0.0043 - 225ms/epoch - 2ms/step\n",
      "Epoch 20/100\n",
      "112/112 - 0s - loss: 0.0042 - 237ms/epoch - 2ms/step\n",
      "Epoch 21/100\n",
      "112/112 - 0s - loss: 0.0044 - 252ms/epoch - 2ms/step\n",
      "Epoch 22/100\n",
      "112/112 - 0s - loss: 0.0043 - 259ms/epoch - 2ms/step\n",
      "Epoch 23/100\n",
      "112/112 - 0s - loss: 0.0043 - 296ms/epoch - 3ms/step\n",
      "Epoch 24/100\n",
      "112/112 - 0s - loss: 0.0043 - 230ms/epoch - 2ms/step\n",
      "Epoch 25/100\n",
      "112/112 - 0s - loss: 0.0043 - 239ms/epoch - 2ms/step\n",
      "Epoch 26/100\n",
      "112/112 - 0s - loss: 0.0043 - 231ms/epoch - 2ms/step\n",
      "Epoch 27/100\n",
      "112/112 - 0s - loss: 0.0043 - 234ms/epoch - 2ms/step\n",
      "Epoch 28/100\n",
      "112/112 - 0s - loss: 0.0043 - 250ms/epoch - 2ms/step\n",
      "Epoch 29/100\n",
      "112/112 - 0s - loss: 0.0043 - 283ms/epoch - 3ms/step\n",
      "Epoch 30/100\n",
      "112/112 - 0s - loss: 0.0043 - 260ms/epoch - 2ms/step\n",
      "Epoch 31/100\n",
      "112/112 - 0s - loss: 0.0043 - 260ms/epoch - 2ms/step\n",
      "Epoch 32/100\n",
      "112/112 - 0s - loss: 0.0043 - 268ms/epoch - 2ms/step\n",
      "Epoch 33/100\n",
      "112/112 - 0s - loss: 0.0043 - 265ms/epoch - 2ms/step\n",
      "Epoch 34/100\n",
      "112/112 - 0s - loss: 0.0043 - 262ms/epoch - 2ms/step\n",
      "Epoch 35/100\n",
      "112/112 - 0s - loss: 0.0042 - 273ms/epoch - 2ms/step\n",
      "Epoch 36/100\n",
      "112/112 - 0s - loss: 0.0043 - 236ms/epoch - 2ms/step\n",
      "Epoch 37/100\n",
      "112/112 - 0s - loss: 0.0043 - 247ms/epoch - 2ms/step\n",
      "Epoch 38/100\n",
      "112/112 - 0s - loss: 0.0042 - 248ms/epoch - 2ms/step\n",
      "Epoch 39/100\n",
      "112/112 - 0s - loss: 0.0043 - 253ms/epoch - 2ms/step\n",
      "Epoch 40/100\n",
      "112/112 - 0s - loss: 0.0043 - 265ms/epoch - 2ms/step\n",
      "Epoch 41/100\n",
      "112/112 - 0s - loss: 0.0043 - 262ms/epoch - 2ms/step\n",
      "Epoch 42/100\n",
      "112/112 - 0s - loss: 0.0043 - 249ms/epoch - 2ms/step\n",
      "Epoch 43/100\n",
      "112/112 - 0s - loss: 0.0043 - 250ms/epoch - 2ms/step\n",
      "Epoch 44/100\n",
      "112/112 - 0s - loss: 0.0043 - 276ms/epoch - 2ms/step\n",
      "Epoch 45/100\n",
      "112/112 - 0s - loss: 0.0043 - 259ms/epoch - 2ms/step\n",
      "Epoch 46/100\n",
      "112/112 - 0s - loss: 0.0043 - 249ms/epoch - 2ms/step\n",
      "Epoch 47/100\n",
      "112/112 - 0s - loss: 0.0043 - 260ms/epoch - 2ms/step\n",
      "Epoch 48/100\n",
      "112/112 - 0s - loss: 0.0042 - 272ms/epoch - 2ms/step\n",
      "Epoch 49/100\n",
      "112/112 - 0s - loss: 0.0043 - 255ms/epoch - 2ms/step\n",
      "Epoch 50/100\n",
      "112/112 - 0s - loss: 0.0043 - 212ms/epoch - 2ms/step\n",
      "Epoch 51/100\n",
      "112/112 - 0s - loss: 0.0043 - 247ms/epoch - 2ms/step\n",
      "Epoch 52/100\n",
      "112/112 - 0s - loss: 0.0043 - 263ms/epoch - 2ms/step\n",
      "Epoch 53/100\n",
      "112/112 - 0s - loss: 0.0044 - 278ms/epoch - 2ms/step\n",
      "Epoch 54/100\n",
      "112/112 - 0s - loss: 0.0043 - 282ms/epoch - 3ms/step\n",
      "Epoch 55/100\n",
      "112/112 - 0s - loss: 0.0043 - 258ms/epoch - 2ms/step\n",
      "Epoch 56/100\n",
      "112/112 - 0s - loss: 0.0043 - 256ms/epoch - 2ms/step\n",
      "Epoch 57/100\n",
      "112/112 - 0s - loss: 0.0043 - 280ms/epoch - 2ms/step\n",
      "Epoch 58/100\n",
      "112/112 - 0s - loss: 0.0043 - 281ms/epoch - 3ms/step\n",
      "Epoch 59/100\n",
      "112/112 - 0s - loss: 0.0043 - 268ms/epoch - 2ms/step\n",
      "Epoch 60/100\n",
      "112/112 - 0s - loss: 0.0043 - 266ms/epoch - 2ms/step\n",
      "Epoch 61/100\n",
      "112/112 - 0s - loss: 0.0042 - 288ms/epoch - 3ms/step\n",
      "Epoch 62/100\n",
      "112/112 - 0s - loss: 0.0042 - 266ms/epoch - 2ms/step\n",
      "Epoch 63/100\n",
      "112/112 - 0s - loss: 0.0043 - 256ms/epoch - 2ms/step\n",
      "Epoch 64/100\n",
      "112/112 - 0s - loss: 0.0043 - 244ms/epoch - 2ms/step\n",
      "Epoch 65/100\n",
      "112/112 - 0s - loss: 0.0043 - 257ms/epoch - 2ms/step\n",
      "Epoch 66/100\n",
      "112/112 - 0s - loss: 0.0043 - 262ms/epoch - 2ms/step\n",
      "Epoch 67/100\n",
      "112/112 - 0s - loss: 0.0043 - 278ms/epoch - 2ms/step\n",
      "Epoch 68/100\n",
      "112/112 - 0s - loss: 0.0043 - 252ms/epoch - 2ms/step\n",
      "Epoch 69/100\n",
      "112/112 - 0s - loss: 0.0043 - 277ms/epoch - 2ms/step\n",
      "Epoch 70/100\n",
      "112/112 - 0s - loss: 0.0043 - 269ms/epoch - 2ms/step\n",
      "Epoch 71/100\n",
      "112/112 - 0s - loss: 0.0043 - 276ms/epoch - 2ms/step\n",
      "Epoch 72/100\n",
      "112/112 - 0s - loss: 0.0043 - 283ms/epoch - 3ms/step\n",
      "Epoch 73/100\n",
      "112/112 - 0s - loss: 0.0043 - 273ms/epoch - 2ms/step\n",
      "Epoch 74/100\n",
      "112/112 - 0s - loss: 0.0042 - 299ms/epoch - 3ms/step\n",
      "Epoch 75/100\n",
      "112/112 - 0s - loss: 0.0043 - 282ms/epoch - 3ms/step\n",
      "Epoch 76/100\n",
      "112/112 - 0s - loss: 0.0044 - 244ms/epoch - 2ms/step\n",
      "Epoch 77/100\n",
      "112/112 - 0s - loss: 0.0042 - 232ms/epoch - 2ms/step\n",
      "Epoch 78/100\n",
      "112/112 - 0s - loss: 0.0043 - 238ms/epoch - 2ms/step\n",
      "Epoch 79/100\n",
      "112/112 - 0s - loss: 0.0043 - 278ms/epoch - 2ms/step\n",
      "Epoch 80/100\n",
      "112/112 - 0s - loss: 0.0043 - 238ms/epoch - 2ms/step\n",
      "Epoch 81/100\n",
      "112/112 - 0s - loss: 0.0043 - 257ms/epoch - 2ms/step\n",
      "Epoch 82/100\n",
      "112/112 - 0s - loss: 0.0042 - 248ms/epoch - 2ms/step\n",
      "Epoch 83/100\n",
      "112/112 - 0s - loss: 0.0042 - 294ms/epoch - 3ms/step\n",
      "Epoch 84/100\n",
      "112/112 - 0s - loss: 0.0042 - 272ms/epoch - 2ms/step\n",
      "Epoch 85/100\n",
      "112/112 - 0s - loss: 0.0043 - 239ms/epoch - 2ms/step\n",
      "Epoch 86/100\n",
      "112/112 - 0s - loss: 0.0043 - 230ms/epoch - 2ms/step\n",
      "Epoch 87/100\n",
      "112/112 - 0s - loss: 0.0043 - 222ms/epoch - 2ms/step\n",
      "Epoch 88/100\n",
      "112/112 - 0s - loss: 0.0043 - 241ms/epoch - 2ms/step\n",
      "Epoch 89/100\n",
      "112/112 - 0s - loss: 0.0043 - 263ms/epoch - 2ms/step\n",
      "Epoch 90/100\n",
      "112/112 - 0s - loss: 0.0043 - 276ms/epoch - 2ms/step\n",
      "Epoch 91/100\n",
      "112/112 - 0s - loss: 0.0043 - 282ms/epoch - 3ms/step\n",
      "Epoch 92/100\n",
      "112/112 - 0s - loss: 0.0043 - 267ms/epoch - 2ms/step\n",
      "Epoch 93/100\n",
      "112/112 - 0s - loss: 0.0043 - 276ms/epoch - 2ms/step\n",
      "Epoch 94/100\n",
      "112/112 - 0s - loss: 0.0043 - 269ms/epoch - 2ms/step\n",
      "Epoch 95/100\n",
      "112/112 - 0s - loss: 0.0043 - 261ms/epoch - 2ms/step\n",
      "Epoch 96/100\n",
      "112/112 - 0s - loss: 0.0043 - 360ms/epoch - 3ms/step\n",
      "Epoch 97/100\n",
      "112/112 - 0s - loss: 0.0043 - 296ms/epoch - 3ms/step\n",
      "Epoch 98/100\n",
      "112/112 - 0s - loss: 0.0043 - 204ms/epoch - 2ms/step\n",
      "Epoch 99/100\n",
      "112/112 - 0s - loss: 0.0044 - 265ms/epoch - 2ms/step\n",
      "Epoch 100/100\n",
      "112/112 - 0s - loss: 0.0043 - 292ms/epoch - 3ms/step\n"
     ]
    },
    {
     "data": {
      "text/plain": [
       "<keras.callbacks.History at 0x13d134ec430>"
      ]
     },
     "execution_count": 41,
     "metadata": {},
     "output_type": "execute_result"
    }
   ],
   "source": [
    "\n",
    "# create and fit the LSTM network\n",
    "model = Sequential()\n",
    "model.add(LSTM(4, input_shape=(1, look_back)))\n",
    "model.add(Dense(1))\n",
    "model.compile(loss='mean_squared_error', optimizer='adam')\n",
    "model.fit(trainX, trainY, epochs=100, batch_size=1, verbose=2)"
   ]
  },
  {
   "cell_type": "code",
   "execution_count": 42,
   "id": "512e9c0f",
   "metadata": {},
   "outputs": [
    {
     "name": "stdout",
     "output_type": "stream",
     "text": [
      "Train Score: 0.10 RMSE\n",
      "Test Score: 0.17 RMSE\n"
     ]
    }
   ],
   "source": [
    "\n",
    "# make predictions\n",
    "trainPredict = model.predict(trainX)\n",
    "testPredict = model.predict(testX)\n",
    "# invert predictions\n",
    "trainPredict = scaler.inverse_transform(trainPredict)\n",
    "trainY = scaler.inverse_transform([trainY])\n",
    "testPredict = scaler.inverse_transform(testPredict)\n",
    "testY = scaler.inverse_transform([testY])\n",
    "# calculate root mean squared error\n",
    "trainScore = math.sqrt(mean_squared_error(trainY[0], trainPredict[:,0]))\n",
    "print('Train Score: %.2f RMSE' % (trainScore))\n",
    "testScore = math.sqrt(mean_squared_error(testY[0], testPredict[:,0]))\n",
    "print('Test Score: %.2f RMSE' % (testScore))"
   ]
  },
  {
   "cell_type": "code",
   "execution_count": 46,
   "id": "6944fdcf",
   "metadata": {},
   "outputs": [
    {
     "data": {
      "image/png": "[encoded data removed]",
      "text/plain": [
       "<Figure size 432x288 with 1 Axes>"
      ]
     },
     "metadata": {
      "needs_background": "light"
     },
     "output_type": "display_data"
    }
   ],
   "source": [
    "\n",
    "# shift train predictions for plotting\n",
    "trainPredictPlot = np.empty_like(dataset)\n",
    "trainPredictPlot[:, :] = np.nan\n",
    "trainPredictPlot[look_back:len(trainPredict)+look_back, :] = trainPredict\n",
    "# shift test predictions for plotting\n",
    "testPredictPlot = np.empty_like(dataset)\n",
    "testPredictPlot[:, :] = np.nan\n",
    "testPredictPlot[len(trainPredict)+(look_back*2)+1:len(dataset)-1, :] = testPredict\n",
    "# plot baseline and predictions\n",
    "plt.plot(scaler.inverse_transform(dataset),label=\"Actual\")\n",
    "plt.plot(trainPredictPlot,label=\"Train Predicted\")\n",
    "plt.plot(testPredictPlot,label=\"Test Predicted\")\n",
    "plt.legend(loc=\"upper left\")\n",
    "plt.show()"
   ]
  },
  {
   "cell_type": "code",
   "execution_count": null,
   "id": "207a8d25",
   "metadata": {},
   "outputs": [],
   "source": []
  }
 ],
 "metadata": {
  "kernelspec": {
   "display_name": "Python 3",
   "language": "python",
   "name": "python3"
  },
  "language_info": {
   "codemirror_mode": {
    "name": "ipython",
    "version": 3
   },
   "file_extension": ".py",
   "mimetype": "text/x-python",
   "name": "python",
   "nbconvert_exporter": "python",
   "pygments_lexer": "ipython3",
   "version": "3.8.8"
  }
 },
 "nbformat": 4,
 "nbformat_minor": 5
}
