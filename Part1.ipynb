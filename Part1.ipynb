{
 "cells": [
  {
   "cell_type": "markdown",
   "id": "df2d5cbf",
   "metadata": {},
   "source": [
    "## Problem Statement"
   ]
  },
  {
   "cell_type": "markdown",
   "id": "0370636d",
   "metadata": {},
   "source": [
    "As global warming is a critical concern for many countries with evolving industrialization and modernization, regulations, budgeting and pledges have been made to reduce the global warming temperature. The factors that affect global warming are the emission of greenhouse gases like Carbon Dioxide (Co2), Methane (CH4), and Nitric Oxide (NO2) and also burning of fossil fuels, gases, and coal. Deforestation and livestock farming also contribute to global warming. Considering these factors, a study and in-depth analysis have to be conducted on how each factor has contributed to the rise in temperature over the past decades and also the model the data to predict and forecast the future values so that government establishments can take appropriate measures to minimize the impact of factors affecting global warming."
   ]
  },
  {
   "cell_type": "markdown",
   "id": "484d0ca1",
   "metadata": {},
   "source": [
    "## Goals"
   ]
  },
  {
   "cell_type": "markdown",
   "id": "da8d5c79",
   "metadata": {},
   "source": [
    "• Collection of relevant data\n",
    "<br>\n",
    "• Pre-processing of data\n",
    "<br>\n",
    "• Visualization and analysis of different factors that affect global warming\n",
    "<br>\n",
    "• Statistical modelling of significant components of climate change\n",
    "<br>\n",
    "• Forecasting model to predict future values of the critical factors\n",
    "<br>\n",
    "• Performance Evaluation"
   ]
  },
  {
   "cell_type": "markdown",
   "id": "16735957",
   "metadata": {},
   "source": [
    "## Factors affecting Global Warming"
   ]
  },
  {
   "cell_type": "markdown",
   "id": "be264b4f",
   "metadata": {},
   "source": [
    "1. Emission of Gases like Co2, N2O and CH4\n",
    "<br>\n",
    "2. Fossil Fuels and Industrial\n",
    "<br>\n",
    "3. Agricultural waste and Forest Burning"
   ]
  },
  {
   "cell_type": "code",
   "execution_count": 36,
   "id": "76f8f261",
   "metadata": {},
   "outputs": [
    {
     "data": {
      "text/html": [
       "        <script type=\"text/javascript\">\n",
       "        window.PlotlyConfig = {MathJaxConfig: 'local'};\n",
       "        if (window.MathJax) {MathJax.Hub.Config({SVG: {font: \"STIX-Web\"}});}\n",
       "        if (typeof require !== 'undefined') {\n",
       "        require.undef(\"plotly\");\n",
       "        requirejs.config({\n",
       "            paths: {\n",
       "                'plotly': ['https://cdn.plot.ly/plotly-2.4.1.min']\n",
       "            }\n",
       "        });\n",
       "        require(['plotly'], function(Plotly) {\n",
       "            window._Plotly = Plotly;\n",
       "        });\n",
       "        }\n",
       "        </script>\n",
       "        "
      ]
     },
     "metadata": {},
     "output_type": "display_data"
    }
   ],
   "source": [
    "import pandas as pd\n",
    "from pmdarima import auto_arima\n",
    "import plotly.graph_objects as go\n",
    "import chart_studio.plotly as ply\n",
    "import cufflinks as cf\n",
    "cf.go_offline()\n",
    "import plotly.express as px\n",
    "from copy import copy\n",
    "import matplotlib.pyplot as plt\n",
    "import numpy as np\n",
    "import seaborn as sns\n",
    "from sklearn.model_selection import train_test_split\n",
    "from sklearn.metrics import r2_score\n",
    "from sklearn.preprocessing import MinMaxScaler\n",
    "import tensorflow as tf\n",
    "from tensorflow import keras\n",
    "import plotly.offline as py\n",
    "import plotly.express as px"
   ]
  },
  {
   "cell_type": "code",
   "execution_count": 37,
   "id": "843fe18d",
   "metadata": {},
   "outputs": [],
   "source": [
    "csv_file = (r'Dataset/GlobalLandTemperaturesByCountry.csv')"
   ]
  },
  {
   "cell_type": "code",
   "execution_count": 39,
   "id": "92e1c90b",
   "metadata": {},
   "outputs": [
    {
     "data": {
      "text/plain": [
       "577462"
      ]
     },
     "execution_count": 39,
     "metadata": {},
     "output_type": "execute_result"
    }
   ],
   "source": [
    "data = pd.read_csv(csv_file)\n",
    "data.head()"
   ]
  },
  {
   "cell_type": "code",
   "execution_count": 43,
   "id": "8791e671",
   "metadata": {},
   "outputs": [
    {
     "data": {
      "text/plain": [
       "['Åland',\n",
       " 'Afghanistan',\n",
       " 'Africa',\n",
       " 'Albania',\n",
       " 'Algeria',\n",
       " 'American Samoa',\n",
       " 'Andorra',\n",
       " 'Angola',\n",
       " 'Anguilla',\n",
       " 'Antarctica',\n",
       " 'Antigua And Barbuda',\n",
       " 'Argentina',\n",
       " 'Armenia',\n",
       " 'Aruba',\n",
       " 'Asia',\n",
       " 'Australia',\n",
       " 'Austria',\n",
       " 'Azerbaijan',\n",
       " 'Bahamas',\n",
       " 'Bahrain',\n",
       " 'Baker Island',\n",
       " 'Bangladesh',\n",
       " 'Barbados',\n",
       " 'Belarus',\n",
       " 'Belgium',\n",
       " 'Belize',\n",
       " 'Benin',\n",
       " 'Bhutan',\n",
       " 'Bolivia',\n",
       " 'Bonaire, Saint Eustatius And Saba',\n",
       " 'Bosnia And Herzegovina',\n",
       " 'Botswana',\n",
       " 'Brazil',\n",
       " 'British Virgin Islands',\n",
       " 'Bulgaria',\n",
       " 'Burkina Faso',\n",
       " 'Burma',\n",
       " 'Burundi',\n",
       " \"Côte D'Ivoire\",\n",
       " 'Cambodia',\n",
       " 'Cameroon',\n",
       " 'Canada',\n",
       " 'Cape Verde',\n",
       " 'Cayman Islands',\n",
       " 'Central African Republic',\n",
       " 'Chad',\n",
       " 'Chile',\n",
       " 'China',\n",
       " 'Christmas Island',\n",
       " 'Colombia',\n",
       " 'Comoros',\n",
       " 'Congo (Democratic Republic Of The)',\n",
       " 'Congo',\n",
       " 'Costa Rica',\n",
       " 'Croatia',\n",
       " 'Cuba',\n",
       " 'Curaçao',\n",
       " 'Cyprus',\n",
       " 'Czech Republic',\n",
       " 'Denmark (Europe)',\n",
       " 'Denmark',\n",
       " 'Djibouti',\n",
       " 'Dominica',\n",
       " 'Dominican Republic',\n",
       " 'Ecuador',\n",
       " 'Egypt',\n",
       " 'El Salvador',\n",
       " 'Equatorial Guinea',\n",
       " 'Eritrea',\n",
       " 'Estonia',\n",
       " 'Ethiopia',\n",
       " 'Europe',\n",
       " 'Falkland Islands (Islas Malvinas)',\n",
       " 'Faroe Islands',\n",
       " 'Federated States Of Micronesia',\n",
       " 'Fiji',\n",
       " 'Finland',\n",
       " 'France (Europe)',\n",
       " 'France',\n",
       " 'French Guiana',\n",
       " 'French Polynesia',\n",
       " 'French Southern And Antarctic Lands',\n",
       " 'Gabon',\n",
       " 'Gambia',\n",
       " 'Gaza Strip',\n",
       " 'Georgia',\n",
       " 'Germany',\n",
       " 'Ghana',\n",
       " 'Greece',\n",
       " 'Greenland',\n",
       " 'Grenada',\n",
       " 'Guadeloupe',\n",
       " 'Guam',\n",
       " 'Guatemala',\n",
       " 'Guernsey',\n",
       " 'Guinea Bissau',\n",
       " 'Guinea',\n",
       " 'Guyana',\n",
       " 'Haiti',\n",
       " 'Heard Island And Mcdonald Islands',\n",
       " 'Honduras',\n",
       " 'Hong Kong',\n",
       " 'Hungary',\n",
       " 'Iceland',\n",
       " 'India',\n",
       " 'Indonesia',\n",
       " 'Iran',\n",
       " 'Iraq',\n",
       " 'Ireland',\n",
       " 'Isle Of Man',\n",
       " 'Israel',\n",
       " 'Italy',\n",
       " 'Jamaica',\n",
       " 'Japan',\n",
       " 'Jersey',\n",
       " 'Jordan',\n",
       " 'Kazakhstan',\n",
       " 'Kenya',\n",
       " 'Kingman Reef',\n",
       " 'Kiribati',\n",
       " 'Kuwait',\n",
       " 'Kyrgyzstan',\n",
       " 'Laos',\n",
       " 'Latvia',\n",
       " 'Lebanon',\n",
       " 'Lesotho',\n",
       " 'Liberia',\n",
       " 'Libya',\n",
       " 'Liechtenstein',\n",
       " 'Lithuania',\n",
       " 'Luxembourg',\n",
       " 'Macau',\n",
       " 'Macedonia',\n",
       " 'Madagascar',\n",
       " 'Malawi',\n",
       " 'Malaysia',\n",
       " 'Mali',\n",
       " 'Malta',\n",
       " 'Martinique',\n",
       " 'Mauritania',\n",
       " 'Mauritius',\n",
       " 'Mayotte',\n",
       " 'Mexico',\n",
       " 'Moldova',\n",
       " 'Monaco',\n",
       " 'Mongolia',\n",
       " 'Montenegro',\n",
       " 'Montserrat',\n",
       " 'Morocco',\n",
       " 'Mozambique',\n",
       " 'Namibia',\n",
       " 'Nepal',\n",
       " 'Netherlands (Europe)',\n",
       " 'Netherlands',\n",
       " 'New Caledonia',\n",
       " 'New Zealand',\n",
       " 'Nicaragua',\n",
       " 'Niger',\n",
       " 'Nigeria',\n",
       " 'Niue',\n",
       " 'North America',\n",
       " 'North Korea',\n",
       " 'Northern Mariana Islands',\n",
       " 'Norway',\n",
       " 'Oceania',\n",
       " 'Oman',\n",
       " 'Pakistan',\n",
       " 'Palau',\n",
       " 'Palestina',\n",
       " 'Palmyra Atoll',\n",
       " 'Panama',\n",
       " 'Papua New Guinea',\n",
       " 'Paraguay',\n",
       " 'Peru',\n",
       " 'Philippines',\n",
       " 'Poland',\n",
       " 'Portugal',\n",
       " 'Puerto Rico',\n",
       " 'Qatar',\n",
       " 'Reunion',\n",
       " 'Romania',\n",
       " 'Russia',\n",
       " 'Rwanda',\n",
       " 'Saint Barthélemy',\n",
       " 'Saint Kitts And Nevis',\n",
       " 'Saint Lucia',\n",
       " 'Saint Martin',\n",
       " 'Saint Pierre And Miquelon',\n",
       " 'Saint Vincent And The Grenadines',\n",
       " 'Samoa',\n",
       " 'San Marino',\n",
       " 'Sao Tome And Principe',\n",
       " 'Saudi Arabia',\n",
       " 'Senegal',\n",
       " 'Serbia',\n",
       " 'Seychelles',\n",
       " 'Sierra Leone',\n",
       " 'Singapore',\n",
       " 'Sint Maarten',\n",
       " 'Slovakia',\n",
       " 'Slovenia',\n",
       " 'Solomon Islands',\n",
       " 'Somalia',\n",
       " 'South Africa',\n",
       " 'South America',\n",
       " 'South Georgia And The South Sandwich Isla',\n",
       " 'South Korea',\n",
       " 'Spain',\n",
       " 'Sri Lanka',\n",
       " 'Sudan',\n",
       " 'Suriname',\n",
       " 'Svalbard And Jan Mayen',\n",
       " 'Swaziland',\n",
       " 'Sweden',\n",
       " 'Switzerland',\n",
       " 'Syria',\n",
       " 'Taiwan',\n",
       " 'Tajikistan',\n",
       " 'Tanzania',\n",
       " 'Thailand',\n",
       " 'Timor Leste',\n",
       " 'Togo',\n",
       " 'Tonga',\n",
       " 'Trinidad And Tobago',\n",
       " 'Tunisia',\n",
       " 'Turkey',\n",
       " 'Turkmenistan',\n",
       " 'Turks And Caicas Islands',\n",
       " 'Uganda',\n",
       " 'Ukraine',\n",
       " 'United Arab Emirates',\n",
       " 'United Kingdom (Europe)',\n",
       " 'United Kingdom',\n",
       " 'United States',\n",
       " 'Uruguay',\n",
       " 'Uzbekistan',\n",
       " 'Venezuela',\n",
       " 'Vietnam',\n",
       " 'Virgin Islands',\n",
       " 'Western Sahara',\n",
       " 'Yemen',\n",
       " 'Zambia',\n",
       " 'Zimbabwe']"
      ]
     },
     "execution_count": 43,
     "metadata": {},
     "output_type": "execute_result"
    }
   ],
   "source": [
    "countries = data['Country'].unique().tolist()\n",
    "countries"
   ]
  },
  {
   "cell_type": "code",
   "execution_count": 44,
   "id": "20122ffc",
   "metadata": {},
   "outputs": [],
   "source": [
    "# get the mean temp for each country\n",
    "mean_temp = []\n",
    "for i in countries:\n",
    "    mean_temp.append(data[data.Country == i]['AverageTemperature'].mean())"
   ]
  },
  {
   "cell_type": "code",
   "execution_count": 45,
   "id": "26e5c799",
   "metadata": {},
   "outputs": [
    {
     "data": {
      "application/vnd.plotly.v1+json": {
       "config": {
        "linkText": "Export to plot.ly",
        "plotlyServerURL": "https://plot.ly",
        "showLink": false
       },
       "data": [
        {
         "locationmode": "country names",
         "locations": [
          "Åland",
          "Afghanistan",
          "Africa",
          "Albania",
          "Algeria",
          "American Samoa",
          "Andorra",
          "Angola",
          "Anguilla",
          "Antarctica",
          "Antigua And Barbuda",
          "Argentina",
          "Armenia",
          "Aruba",
          "Asia",
          "Australia",
          "Austria",
          "Azerbaijan",
          "Bahamas",
          "Bahrain",
          "Baker Island",
          "Bangladesh",
          "Barbados",
          "Belarus",
          "Belgium",
          "Belize",
          "Benin",
          "Bhutan",
          "Bolivia",
          "Bonaire, Saint Eustatius And Saba",
          "Bosnia And Herzegovina",
          "Botswana",
          "Brazil",
          "British Virgin Islands",
          "Bulgaria",
          "Burkina Faso",
          "Burma",
          "Burundi",
          "Côte D'Ivoire",
          "Cambodia",
          "Cameroon",
          "Canada",
          "Cape Verde",
          "Cayman Islands",
          "Central African Republic",
          "Chad",
          "Chile",
          "China",
          "Christmas Island",
          "Colombia",
          "Comoros",
          "Congo (Democratic Republic Of The)",
          "Congo",
          "Costa Rica",
          "Croatia",
          "Cuba",
          "Curaçao",
          "Cyprus",
          "Czech Republic",
          "Denmark (Europe)",
          "Denmark",
          "Djibouti",
          "Dominica",
          "Dominican Republic",
          "Ecuador",
          "Egypt",
          "El Salvador",
          "Equatorial Guinea",
          "Eritrea",
          "Estonia",
          "Ethiopia",
          "Europe",
          "Falkland Islands (Islas Malvinas)",
          "Faroe Islands",
          "Federated States Of Micronesia",
          "Fiji",
          "Finland",
          "France (Europe)",
          "France",
          "French Guiana",
          "French Polynesia",
          "French Southern And Antarctic Lands",
          "Gabon",
          "Gambia",
          "Gaza Strip",
          "Georgia",
          "Germany",
          "Ghana",
          "Greece",
          "Greenland",
          "Grenada",
          "Guadeloupe",
          "Guam",
          "Guatemala",
          "Guernsey",
          "Guinea Bissau",
          "Guinea",
          "Guyana",
          "Haiti",
          "Heard Island And Mcdonald Islands",
          "Honduras",
          "Hong Kong",
          "Hungary",
          "Iceland",
          "India",
          "Indonesia",
          "Iran",
          "Iraq",
          "Ireland",
          "Isle Of Man",
          "Israel",
          "Italy",
          "Jamaica",
          "Japan",
          "Jersey",
          "Jordan",
          "Kazakhstan",
          "Kenya",
          "Kingman Reef",
          "Kiribati",
          "Kuwait",
          "Kyrgyzstan",
          "Laos",
          "Latvia",
          "Lebanon",
          "Lesotho",
          "Liberia",
          "Libya",
          "Liechtenstein",
          "Lithuania",
          "Luxembourg",
          "Macau",
          "Macedonia",
          "Madagascar",
          "Malawi",
          "Malaysia",
          "Mali",
          "Malta",
          "Martinique",
          "Mauritania",
          "Mauritius",
          "Mayotte",
          "Mexico",
          "Moldova",
          "Monaco",
          "Mongolia",
          "Montenegro",
          "Montserrat",
          "Morocco",
          "Mozambique",
          "Namibia",
          "Nepal",
          "Netherlands (Europe)",
          "Netherlands",
          "New Caledonia",
          "New Zealand",
          "Nicaragua",
          "Niger",
          "Nigeria",
          "Niue",
          "North America",
          "North Korea",
          "Northern Mariana Islands",
          "Norway",
          "Oceania",
          "Oman",
          "Pakistan",
          "Palau",
          "Palestina",
          "Palmyra Atoll",
          "Panama",
          "Papua New Guinea",
          "Paraguay",
          "Peru",
          "Philippines",
          "Poland",
          "Portugal",
          "Puerto Rico",
          "Qatar",
          "Reunion",
          "Romania",
          "Russia",
          "Rwanda",
          "Saint Barthélemy",
          "Saint Kitts And Nevis",
          "Saint Lucia",
          "Saint Martin",
          "Saint Pierre And Miquelon",
          "Saint Vincent And The Grenadines",
          "Samoa",
          "San Marino",
          "Sao Tome And Principe",
          "Saudi Arabia",
          "Senegal",
          "Serbia",
          "Seychelles",
          "Sierra Leone",
          "Singapore",
          "Sint Maarten",
          "Slovakia",
          "Slovenia",
          "Solomon Islands",
          "Somalia",
          "South Africa",
          "South America",
          "South Georgia And The South Sandwich Isla",
          "South Korea",
          "Spain",
          "Sri Lanka",
          "Sudan",
          "Suriname",
          "Svalbard And Jan Mayen",
          "Swaziland",
          "Sweden",
          "Switzerland",
          "Syria",
          "Taiwan",
          "Tajikistan",
          "Tanzania",
          "Thailand",
          "Timor Leste",
          "Togo",
          "Tonga",
          "Trinidad And Tobago",
          "Tunisia",
          "Turkey",
          "Turkmenistan",
          "Turks And Caicas Islands",
          "Uganda",
          "Ukraine",
          "United Arab Emirates",
          "United Kingdom (Europe)",
          "United Kingdom",
          "United States",
          "Uruguay",
          "Uzbekistan",
          "Venezuela",
          "Vietnam",
          "Virgin Islands",
          "Western Sahara",
          "Yemen",
          "Zambia",
          "Zimbabwe"
         ],
         "type": "choropleth",
         "z": [
          5.291383449147199,
          14.045007194244608,
          24.07420274551212,
          12.61064592545798,
          22.985111769059955,
          26.611965009208156,
          11.201553063802905,
          21.82454918981486,
          26.610491850431465,
          null,
          26.437924256951035,
          14.621194210526305,
          8.551647926634773,
          27.92039022051774,
          7.347892223161453,
          21.624696891191693,
          6.210731838281731,
          11.175936074918587,
          25.12822004008018,
          25.93080933465739,
          25.372350232798794,
          24.82024278370897,
          26.45854793863855,
          5.819288060644335,
          9.48337839545166,
          25.052099776286326,
          27.171999431818186,
          11.811878969957082,
          20.8772305263158,
          27.173294822627003,
          10.421283954516774,
          21.879296691568843,
          24.699255545286466,
          26.336523239099186,
          10.482968414403024,
          28.083506760410998,
          23.70619723953693,
          20.070990127758442,
          25.948536060279846,
          26.65685403576609,
          24.352585590778116,
          -5.216658945686897,
          24.185563568376022,
          26.722504150283953,
          25.28040691642648,
          27.12046628242079,
          9.383473684210513,
          6.612731031349375,
          25.784654071314534,
          24.716870967741926,
          25.70220930232557,
          23.77366493955099,
          24.462931988472597,
          25.615784434203807,
          11.342399873657591,
          25.407426387068544,
          27.353414669223397,
          18.78774568642161,
          7.626019267214149,
          7.832859444093484,
          -18.053050699300716,
          28.816602533172542,
          26.1101514860978,
          25.547511210762387,
          21.869970347003168,
          22.620693031209964,
          24.906704545454577,
          24.921677809798265,
          26.80265311004786,
          4.819805748578657,
          23.012356759976136,
          7.830063802905867,
          6.076773492667047,
          6.619001579279848,
          26.94435777126096,
          25.038671779141108,
          1.2447422615287405,
          10.416045799115615,
          12.772445672773216,
          25.718151106833467,
          26.10709611829945,
          4.983111111111109,
          24.254725648414972,
          27.538551816239316,
          19.19263696098565,
          8.106881895881907,
          8.152496209728362,
          26.71101355166567,
          14.773012002526816,
          -18.58745804195801,
          26.741952061361474,
          26.32956088207096,
          26.996834337349433,
          23.111650494159935,
          10.928408717624766,
          26.761366648850885,
          25.452353098290622,
          25.93092011549566,
          26.295837740923353,
          2.562114942528734,
          24.6955479945922,
          22.659894913627642,
          9.722423246999355,
          1.4050650663297544,
          23.87378947368426,
          25.684483767961684,
          17.60707645115617,
          21.77562887931037,
          9.419558433354414,
          9.365805432722688,
          19.626577302631585,
          12.737121920404292,
          26.0963395638629,
          11.95190733590733,
          10.928408717624766,
          19.346512587701167,
          5.202144758735441,
          24.102428231089974,
          27.133034438775535,
          26.73686534779841,
          25.09814023210831,
          3.2204981651376143,
          23.574696349064986,
          5.320545167403669,
          17.631617730784885,
          13.726681793913507,
          25.377737931034517,
          22.26825393848455,
          4.642939039797854,
          5.907991787744772,
          9.16519646241313,
          22.4183747600768,
          10.375550852811111,
          22.749045944412938,
          21.431086144578323,
          25.80544200779728,
          28.441976570819996,
          18.494875319693055,
          26.1101514860978,
          27.620255504352293,
          23.522653983353138,
          26.34096142938175,
          20.56755804195808,
          8.931716677195217,
          9.024701831964629,
          -0.8206709844559608,
          10.21462950094757,
          26.383128475551263,
          17.62749740932639,
          23.596194758785003,
          20.48449519743865,
          14.807390612244879,
          9.11279911560327,
          9.504604548325991,
          22.700108194965168,
          10.371239107883817,
          25.957508780036967,
          27.458972540045757,
          26.74470830912261,
          25.094878453038664,
          2.0283738920225614,
          6.748336832061071,
          26.996834337349433,
          0.09580385344283013,
          21.45298911917101,
          26.91686266589726,
          20.615513304305733,
          27.216379332477516,
          23.125663223140542,
          27.163455994897923,
          26.29162063808573,
          24.450801898734266,
          23.23796755725191,
          19.935974230044003,
          26.440472486772517,
          7.460205938092234,
          14.688179987212278,
          25.451961667465255,
          26.78499601593621,
          23.301403091557614,
          8.760901768793424,
          -5.521881912681911,
          19.24442218350756,
          26.610491850431465,
          25.852186001917556,
          26.646838446788106,
          26.610491850431465,
          4.2230599551138175,
          26.789448705656774,
          26.331862492326593,
          13.83142229943148,
          25.79438616714698,
          25.54640783525872,
          27.96737499999997,
          9.986563171193945,
          26.738423142370962,
          26.022571277159468,
          26.523102826510677,
          26.610491850431465,
          7.52721699305117,
          9.659700568540737,
          26.62503698979594,
          26.877085169743943,
          17.270982915109443,
          21.823920081967245,
          1.4010251017639086,
          11.849048745173734,
          13.6128341756159,
          26.9476870015949,
          27.093359428571475,
          26.171663137632375,
          -7.448027925531907,
          18.839807261078484,
          2.386331964624136,
          6.992051484523055,
          17.917548596990663,
          21.937427536231866,
          4.016035217794258,
          22.347910971786856,
          25.986800979519113,
          25.96633271832718,
          26.871782756664746,
          23.23624785276075,
          26.118751198466015,
          19.97059047314578,
          11.63156730091614,
          14.781998181818167,
          26.662733508082173,
          23.0329687137891,
          7.653507264687312,
          27.693994700582884,
          8.655788060644333,
          8.489325331648798,
          8.603572522159553,
          17.149306774809137,
          12.27801593806923,
          25.025685522531145,
          23.688365504061206,
          26.336523239099186,
          22.319817823343875,
          26.25359672528806,
          21.282955621301788,
          21.11754724637679
         ]
        }
       ],
       "layout": {
        "geo": {
         "lataxis": {
          "gridcolar": "black",
          "showgrid": true
         },
         "lonaxis": {
          "gridcolar": "black",
          "showgrid": true
         },
         "oceancolor": "blue",
         "projection": {
          "type": "orthographic"
         },
         "showframe": false,
         "showocean": true
        },
        "title": "Average Global Temperatures"
       }
      },
      "text/html": [
       "<div>                            <div id=\"dd9755b6-7804-4b01-b839-8cbba4ec16de\" class=\"plotly-graph-div\" style=\"height:525px; width:100%;\"></div>            <script type=\"text/javascript\">                require([\"plotly\"], function(Plotly) {                    window.PLOTLYENV=window.PLOTLYENV || {};                                    if (document.getElementById(\"dd9755b6-7804-4b01-b839-8cbba4ec16de\")) {                    Plotly.newPlot(                        \"dd9755b6-7804-4b01-b839-8cbba4ec16de\",                        [{\"locationmode\":\"country names\",\"locations\":[\"\\u00c5land\",\"Afghanistan\",\"Africa\",\"Albania\",\"Algeria\",\"American Samoa\",\"Andorra\",\"Angola\",\"Anguilla\",\"Antarctica\",\"Antigua And Barbuda\",\"Argentina\",\"Armenia\",\"Aruba\",\"Asia\",\"Australia\",\"Austria\",\"Azerbaijan\",\"Bahamas\",\"Bahrain\",\"Baker Island\",\"Bangladesh\",\"Barbados\",\"Belarus\",\"Belgium\",\"Belize\",\"Benin\",\"Bhutan\",\"Bolivia\",\"Bonaire, Saint Eustatius And Saba\",\"Bosnia And Herzegovina\",\"Botswana\",\"Brazil\",\"British Virgin Islands\",\"Bulgaria\",\"Burkina Faso\",\"Burma\",\"Burundi\",\"C\\u00f4te D'Ivoire\",\"Cambodia\",\"Cameroon\",\"Canada\",\"Cape Verde\",\"Cayman Islands\",\"Central African Republic\",\"Chad\",\"Chile\",\"China\",\"Christmas Island\",\"Colombia\",\"Comoros\",\"Congo (Democratic Republic Of The)\",\"Congo\",\"Costa Rica\",\"Croatia\",\"Cuba\",\"Cura\\u00e7ao\",\"Cyprus\",\"Czech Republic\",\"Denmark (Europe)\",\"Denmark\",\"Djibouti\",\"Dominica\",\"Dominican Republic\",\"Ecuador\",\"Egypt\",\"El Salvador\",\"Equatorial Guinea\",\"Eritrea\",\"Estonia\",\"Ethiopia\",\"Europe\",\"Falkland Islands (Islas Malvinas)\",\"Faroe Islands\",\"Federated States Of Micronesia\",\"Fiji\",\"Finland\",\"France (Europe)\",\"France\",\"French Guiana\",\"French Polynesia\",\"French Southern And Antarctic Lands\",\"Gabon\",\"Gambia\",\"Gaza Strip\",\"Georgia\",\"Germany\",\"Ghana\",\"Greece\",\"Greenland\",\"Grenada\",\"Guadeloupe\",\"Guam\",\"Guatemala\",\"Guernsey\",\"Guinea Bissau\",\"Guinea\",\"Guyana\",\"Haiti\",\"Heard Island And Mcdonald Islands\",\"Honduras\",\"Hong Kong\",\"Hungary\",\"Iceland\",\"India\",\"Indonesia\",\"Iran\",\"Iraq\",\"Ireland\",\"Isle Of Man\",\"Israel\",\"Italy\",\"Jamaica\",\"Japan\",\"Jersey\",\"Jordan\",\"Kazakhstan\",\"Kenya\",\"Kingman Reef\",\"Kiribati\",\"Kuwait\",\"Kyrgyzstan\",\"Laos\",\"Latvia\",\"Lebanon\",\"Lesotho\",\"Liberia\",\"Libya\",\"Liechtenstein\",\"Lithuania\",\"Luxembourg\",\"Macau\",\"Macedonia\",\"Madagascar\",\"Malawi\",\"Malaysia\",\"Mali\",\"Malta\",\"Martinique\",\"Mauritania\",\"Mauritius\",\"Mayotte\",\"Mexico\",\"Moldova\",\"Monaco\",\"Mongolia\",\"Montenegro\",\"Montserrat\",\"Morocco\",\"Mozambique\",\"Namibia\",\"Nepal\",\"Netherlands (Europe)\",\"Netherlands\",\"New Caledonia\",\"New Zealand\",\"Nicaragua\",\"Niger\",\"Nigeria\",\"Niue\",\"North America\",\"North Korea\",\"Northern Mariana Islands\",\"Norway\",\"Oceania\",\"Oman\",\"Pakistan\",\"Palau\",\"Palestina\",\"Palmyra Atoll\",\"Panama\",\"Papua New Guinea\",\"Paraguay\",\"Peru\",\"Philippines\",\"Poland\",\"Portugal\",\"Puerto Rico\",\"Qatar\",\"Reunion\",\"Romania\",\"Russia\",\"Rwanda\",\"Saint Barth\\u00e9lemy\",\"Saint Kitts And Nevis\",\"Saint Lucia\",\"Saint Martin\",\"Saint Pierre And Miquelon\",\"Saint Vincent And The Grenadines\",\"Samoa\",\"San Marino\",\"Sao Tome And Principe\",\"Saudi Arabia\",\"Senegal\",\"Serbia\",\"Seychelles\",\"Sierra Leone\",\"Singapore\",\"Sint Maarten\",\"Slovakia\",\"Slovenia\",\"Solomon Islands\",\"Somalia\",\"South Africa\",\"South America\",\"South Georgia And The South Sandwich Isla\",\"South Korea\",\"Spain\",\"Sri Lanka\",\"Sudan\",\"Suriname\",\"Svalbard And Jan Mayen\",\"Swaziland\",\"Sweden\",\"Switzerland\",\"Syria\",\"Taiwan\",\"Tajikistan\",\"Tanzania\",\"Thailand\",\"Timor Leste\",\"Togo\",\"Tonga\",\"Trinidad And Tobago\",\"Tunisia\",\"Turkey\",\"Turkmenistan\",\"Turks And Caicas Islands\",\"Uganda\",\"Ukraine\",\"United Arab Emirates\",\"United Kingdom (Europe)\",\"United Kingdom\",\"United States\",\"Uruguay\",\"Uzbekistan\",\"Venezuela\",\"Vietnam\",\"Virgin Islands\",\"Western Sahara\",\"Yemen\",\"Zambia\",\"Zimbabwe\"],\"type\":\"choropleth\",\"z\":[5.291383449147199,14.045007194244608,24.07420274551212,12.61064592545798,22.985111769059955,26.611965009208156,11.201553063802905,21.82454918981486,26.610491850431465,null,26.437924256951035,14.621194210526305,8.551647926634773,27.92039022051774,7.347892223161453,21.624696891191693,6.210731838281731,11.175936074918587,25.12822004008018,25.93080933465739,25.372350232798794,24.82024278370897,26.45854793863855,5.819288060644335,9.48337839545166,25.052099776286326,27.171999431818186,11.811878969957082,20.8772305263158,27.173294822627003,10.421283954516774,21.879296691568843,24.699255545286466,26.336523239099186,10.482968414403024,28.083506760410998,23.70619723953693,20.070990127758442,25.948536060279846,26.65685403576609,24.352585590778116,-5.216658945686897,24.185563568376022,26.722504150283953,25.28040691642648,27.12046628242079,9.383473684210513,6.612731031349375,25.784654071314534,24.716870967741926,25.70220930232557,23.77366493955099,24.462931988472597,25.615784434203807,11.342399873657591,25.407426387068544,27.353414669223397,18.78774568642161,7.626019267214149,7.832859444093484,-18.053050699300716,28.816602533172542,26.1101514860978,25.547511210762387,21.869970347003168,22.620693031209964,24.906704545454577,24.921677809798265,26.80265311004786,4.819805748578657,23.012356759976136,7.830063802905867,6.076773492667047,6.619001579279848,26.94435777126096,25.038671779141108,1.2447422615287405,10.416045799115615,12.772445672773216,25.718151106833467,26.10709611829945,4.983111111111109,24.254725648414972,27.538551816239316,19.19263696098565,8.106881895881907,8.152496209728362,26.71101355166567,14.773012002526816,-18.58745804195801,26.741952061361474,26.32956088207096,26.996834337349433,23.111650494159935,10.928408717624766,26.761366648850885,25.452353098290622,25.93092011549566,26.295837740923353,2.562114942528734,24.6955479945922,22.659894913627642,9.722423246999355,1.4050650663297544,23.87378947368426,25.684483767961684,17.60707645115617,21.77562887931037,9.419558433354414,9.365805432722688,19.626577302631585,12.737121920404292,26.0963395638629,11.95190733590733,10.928408717624766,19.346512587701167,5.202144758735441,24.102428231089974,27.133034438775535,26.73686534779841,25.09814023210831,3.2204981651376143,23.574696349064986,5.320545167403669,17.631617730784885,13.726681793913507,25.377737931034517,22.26825393848455,4.642939039797854,5.907991787744772,9.16519646241313,22.4183747600768,10.375550852811111,22.749045944412938,21.431086144578323,25.80544200779728,28.441976570819996,18.494875319693055,26.1101514860978,27.620255504352293,23.522653983353138,26.34096142938175,20.56755804195808,8.931716677195217,9.024701831964629,-0.8206709844559608,10.21462950094757,26.383128475551263,17.62749740932639,23.596194758785003,20.48449519743865,14.807390612244879,9.11279911560327,9.504604548325991,22.700108194965168,10.371239107883817,25.957508780036967,27.458972540045757,26.74470830912261,25.094878453038664,2.0283738920225614,6.748336832061071,26.996834337349433,0.09580385344283013,21.45298911917101,26.91686266589726,20.615513304305733,27.216379332477516,23.125663223140542,27.163455994897923,26.29162063808573,24.450801898734266,23.23796755725191,19.935974230044003,26.440472486772517,7.460205938092234,14.688179987212278,25.451961667465255,26.78499601593621,23.301403091557614,8.760901768793424,-5.521881912681911,19.24442218350756,26.610491850431465,25.852186001917556,26.646838446788106,26.610491850431465,4.2230599551138175,26.789448705656774,26.331862492326593,13.83142229943148,25.79438616714698,25.54640783525872,27.96737499999997,9.986563171193945,26.738423142370962,26.022571277159468,26.523102826510677,26.610491850431465,7.52721699305117,9.659700568540737,26.62503698979594,26.877085169743943,17.270982915109443,21.823920081967245,1.4010251017639086,11.849048745173734,13.6128341756159,26.9476870015949,27.093359428571475,26.171663137632375,-7.448027925531907,18.839807261078484,2.386331964624136,6.992051484523055,17.917548596990663,21.937427536231866,4.016035217794258,22.347910971786856,25.986800979519113,25.96633271832718,26.871782756664746,23.23624785276075,26.118751198466015,19.97059047314578,11.63156730091614,14.781998181818167,26.662733508082173,23.0329687137891,7.653507264687312,27.693994700582884,8.655788060644333,8.489325331648798,8.603572522159553,17.149306774809137,12.27801593806923,25.025685522531145,23.688365504061206,26.336523239099186,22.319817823343875,26.25359672528806,21.282955621301788,21.11754724637679]}],                        {\"geo\":{\"lataxis\":{\"gridcolar\":\"black\",\"showgrid\":true},\"lonaxis\":{\"gridcolar\":\"black\",\"showgrid\":true},\"oceancolor\":\"blue\",\"projection\":{\"type\":\"orthographic\"},\"showframe\":false,\"showocean\":true},\"title\":\"Average Global Temperatures\"},                        {\"responsive\": true}                    ).then(function(){\n",
       "                            \n",
       "var gd = document.getElementById('dd9755b6-7804-4b01-b839-8cbba4ec16de');\n",
       "var x = new MutationObserver(function (mutations, observer) {{\n",
       "        var display = window.getComputedStyle(gd).display;\n",
       "        if (!display || display === 'none') {{\n",
       "            console.log([gd, 'removed!']);\n",
       "            Plotly.purge(gd);\n",
       "            observer.disconnect();\n",
       "        }}\n",
       "}});\n",
       "\n",
       "// Listen for the removal of the full notebook cells\n",
       "var notebookContainer = gd.closest('#notebook-container');\n",
       "if (notebookContainer) {{\n",
       "    x.observe(notebookContainer, {childList: true});\n",
       "}}\n",
       "\n",
       "// Listen for the clearing of the current output cell\n",
       "var outputEl = gd.closest('.output');\n",
       "if (outputEl) {{\n",
       "    x.observe(outputEl, {childList: true});\n",
       "}}\n",
       "\n",
       "                        })                };                });            </script>        </div>"
      ]
     },
     "metadata": {},
     "output_type": "display_data"
    }
   ],
   "source": [
    "#@title\n",
    "# plot the mean temperature of countries \n",
    "\n",
    "element_map = [ dict(type = 'choropleth', # type of map\n",
    "              locations = countries, # location names\n",
    "              z = mean_temp, # temperature of countries\n",
    "              locationmode = 'country names')\n",
    "       ]\n",
    "\n",
    "layout = dict(title = 'Average Global Temperatures',\n",
    "              geo = dict(showframe = False,\n",
    "                         showocean = True, \n",
    "                         oceancolor = 'blue',\n",
    "                         projection = dict(type = 'orthographic'),\n",
    "                         lonaxis = dict(showgrid=True, gridcolar='black'),\n",
    "                         lataxis = dict(showgrid=True, gridcolar = 'black'))) \n",
    "\n",
    "fig = dict(data = element_map, layout = layout)\n",
    "py.iplot(fig, validate = False, filename = 'worldmap')"
   ]
  },
  {
   "cell_type": "markdown",
   "id": "883e71ab",
   "metadata": {},
   "source": [
    "### Analysis  & Forescasting of emissions data"
   ]
  },
  {
   "attachments": {},
   "cell_type": "markdown",
   "id": "b94eb08b",
   "metadata": {},
   "source": [
    "<br />\n",
    "<center>\n",
    "<img src =images/greenhouse_emissions.jpg width = 300 />\n",
    "</center>"
   ]
  },
  {
   "cell_type": "code",
   "execution_count": 2,
   "id": "eaa740b9",
   "metadata": {},
   "outputs": [],
   "source": [
    "df_emissions_data = pd.read_csv(r\"Dataset/rcmip-concentrations-annual-means-world-ssp370-v5-1-0.csv\") "
   ]
  },
  {
   "cell_type": "code",
   "execution_count": 3,
   "id": "c4672b11",
   "metadata": {},
   "outputs": [
    {
     "data": {
      "text/html": [
       "<div><div id=bd24e18e-dac8-4c88-bd64-92ffc948e5a1 style=\"display:none; background-color:#9D6CFF; color:white; width:200px; height:30px; padding-left:5px; border-radius:4px; flex-direction:row; justify-content:space-around; align-items:center;\" onmouseover=\"this.style.backgroundColor='#BA9BF8'\" onmouseout=\"this.style.backgroundColor='#9D6CFF'\" onclick=\"window.commands?.execute('create-mitosheet-from-dataframe-output');\">See Full Dataframe in Mito</div> <script> if (window.commands.hasCommand('create-mitosheet-from-dataframe-output')) document.getElementById('bd24e18e-dac8-4c88-bd64-92ffc948e5a1').style.display = 'flex' </script> <table border=\"1\" class=\"dataframe\">\n",
       "  <thead>\n",
       "    <tr style=\"text-align: right;\">\n",
       "      <th></th>\n",
       "      <th>Model</th>\n",
       "      <th>Scenario</th>\n",
       "      <th>Region</th>\n",
       "      <th>Variable</th>\n",
       "      <th>Unit</th>\n",
       "      <th>Activity_Id</th>\n",
       "      <th>Mip_Era</th>\n",
       "      <th>1750</th>\n",
       "      <th>1751</th>\n",
       "      <th>1752</th>\n",
       "      <th>...</th>\n",
       "      <th>2491</th>\n",
       "      <th>2492</th>\n",
       "      <th>2493</th>\n",
       "      <th>2494</th>\n",
       "      <th>2495</th>\n",
       "      <th>2496</th>\n",
       "      <th>2497</th>\n",
       "      <th>2498</th>\n",
       "      <th>2499</th>\n",
       "      <th>2500</th>\n",
       "    </tr>\n",
       "  </thead>\n",
       "  <tbody>\n",
       "    <tr>\n",
       "      <th>0</th>\n",
       "      <td>AIM</td>\n",
       "      <td>ssp370</td>\n",
       "      <td>World</td>\n",
       "      <td>Atmospheric Concentrations|CH4</td>\n",
       "      <td>ppb</td>\n",
       "      <td>input4MIPs</td>\n",
       "      <td>CMIP6</td>\n",
       "      <td>731.405996</td>\n",
       "      <td>731.838165</td>\n",
       "      <td>732.899974</td>\n",
       "      <td>...</td>\n",
       "      <td>1939.940063</td>\n",
       "      <td>1939.760050</td>\n",
       "      <td>1939.580058</td>\n",
       "      <td>1939.390066</td>\n",
       "      <td>1939.210052</td>\n",
       "      <td>1939.030050</td>\n",
       "      <td>1938.860036</td>\n",
       "      <td>1938.680064</td>\n",
       "      <td>1938.500061</td>\n",
       "      <td>1938.410055</td>\n",
       "    </tr>\n",
       "    <tr>\n",
       "      <th>1</th>\n",
       "      <td>AIM</td>\n",
       "      <td>ssp370</td>\n",
       "      <td>World</td>\n",
       "      <td>Atmospheric Concentrations|CO2</td>\n",
       "      <td>ppm</td>\n",
       "      <td>input4MIPs</td>\n",
       "      <td>CMIP6</td>\n",
       "      <td>277.147003</td>\n",
       "      <td>277.188001</td>\n",
       "      <td>277.229001</td>\n",
       "      <td>...</td>\n",
       "      <td>1375.360006</td>\n",
       "      <td>1374.860026</td>\n",
       "      <td>1374.359985</td>\n",
       "      <td>1373.860006</td>\n",
       "      <td>1373.359996</td>\n",
       "      <td>1372.869985</td>\n",
       "      <td>1372.369995</td>\n",
       "      <td>1371.869985</td>\n",
       "      <td>1371.380005</td>\n",
       "      <td>1371.130005</td>\n",
       "    </tr>\n",
       "    <tr>\n",
       "      <th>2</th>\n",
       "      <td>AIM</td>\n",
       "      <td>ssp370</td>\n",
       "      <td>World</td>\n",
       "      <td>Atmospheric Concentrations|F-Gases|HFC|HFC125</td>\n",
       "      <td>ppt</td>\n",
       "      <td>input4MIPs</td>\n",
       "      <td>CMIP6</td>\n",
       "      <td>0.000000</td>\n",
       "      <td>0.000000</td>\n",
       "      <td>0.000000</td>\n",
       "      <td>...</td>\n",
       "      <td>0.008620</td>\n",
       "      <td>0.008293</td>\n",
       "      <td>0.007979</td>\n",
       "      <td>0.007677</td>\n",
       "      <td>0.007386</td>\n",
       "      <td>0.007106</td>\n",
       "      <td>0.006837</td>\n",
       "      <td>0.006578</td>\n",
       "      <td>0.006328</td>\n",
       "      <td>0.006206</td>\n",
       "    </tr>\n",
       "    <tr>\n",
       "      <th>3</th>\n",
       "      <td>AIM</td>\n",
       "      <td>ssp370</td>\n",
       "      <td>World</td>\n",
       "      <td>Atmospheric Concentrations|F-Gases|HFC|HFC134a</td>\n",
       "      <td>ppt</td>\n",
       "      <td>input4MIPs</td>\n",
       "      <td>CMIP6</td>\n",
       "      <td>0.000000</td>\n",
       "      <td>0.000000</td>\n",
       "      <td>0.000000</td>\n",
       "      <td>...</td>\n",
       "      <td>0.000000</td>\n",
       "      <td>0.000000</td>\n",
       "      <td>0.000000</td>\n",
       "      <td>0.000000</td>\n",
       "      <td>0.000000</td>\n",
       "      <td>0.000000</td>\n",
       "      <td>0.000000</td>\n",
       "      <td>0.000000</td>\n",
       "      <td>0.000000</td>\n",
       "      <td>0.000000</td>\n",
       "    </tr>\n",
       "    <tr>\n",
       "      <th>4</th>\n",
       "      <td>AIM</td>\n",
       "      <td>ssp370</td>\n",
       "      <td>World</td>\n",
       "      <td>Atmospheric Concentrations|F-Gases|HFC|HFC143a</td>\n",
       "      <td>ppt</td>\n",
       "      <td>input4MIPs</td>\n",
       "      <td>CMIP6</td>\n",
       "      <td>0.000000</td>\n",
       "      <td>0.000000</td>\n",
       "      <td>0.000000</td>\n",
       "      <td>...</td>\n",
       "      <td>0.513955</td>\n",
       "      <td>0.502173</td>\n",
       "      <td>0.490660</td>\n",
       "      <td>0.479412</td>\n",
       "      <td>0.468422</td>\n",
       "      <td>0.457683</td>\n",
       "      <td>0.447191</td>\n",
       "      <td>0.436939</td>\n",
       "      <td>0.426923</td>\n",
       "      <td>0.421972</td>\n",
       "    </tr>\n",
       "  </tbody>\n",
       "</table></div>"
      ],
      "text/plain": [
       "  Model Scenario Region                                        Variable Unit  \\\n",
       "0   AIM   ssp370  World                  Atmospheric Concentrations|CH4  ppb   \n",
       "1   AIM   ssp370  World                  Atmospheric Concentrations|CO2  ppm   \n",
       "2   AIM   ssp370  World   Atmospheric Concentrations|F-Gases|HFC|HFC125  ppt   \n",
       "3   AIM   ssp370  World  Atmospheric Concentrations|F-Gases|HFC|HFC134a  ppt   \n",
       "4   AIM   ssp370  World  Atmospheric Concentrations|F-Gases|HFC|HFC143a  ppt   \n",
       "\n",
       "  Activity_Id Mip_Era        1750        1751        1752  ...         2491  \\\n",
       "0  input4MIPs   CMIP6  731.405996  731.838165  732.899974  ...  1939.940063   \n",
       "1  input4MIPs   CMIP6  277.147003  277.188001  277.229001  ...  1375.360006   \n",
       "2  input4MIPs   CMIP6    0.000000    0.000000    0.000000  ...     0.008620   \n",
       "3  input4MIPs   CMIP6    0.000000    0.000000    0.000000  ...     0.000000   \n",
       "4  input4MIPs   CMIP6    0.000000    0.000000    0.000000  ...     0.513955   \n",
       "\n",
       "          2492         2493         2494         2495         2496  \\\n",
       "0  1939.760050  1939.580058  1939.390066  1939.210052  1939.030050   \n",
       "1  1374.860026  1374.359985  1373.860006  1373.359996  1372.869985   \n",
       "2     0.008293     0.007979     0.007677     0.007386     0.007106   \n",
       "3     0.000000     0.000000     0.000000     0.000000     0.000000   \n",
       "4     0.502173     0.490660     0.479412     0.468422     0.457683   \n",
       "\n",
       "          2497         2498         2499         2500  \n",
       "0  1938.860036  1938.680064  1938.500061  1938.410055  \n",
       "1  1372.369995  1371.869985  1371.380005  1371.130005  \n",
       "2     0.006837     0.006578     0.006328     0.006206  \n",
       "3     0.000000     0.000000     0.000000     0.000000  \n",
       "4     0.447191     0.436939     0.426923     0.421972  \n",
       "\n",
       "[5 rows x 758 columns]"
      ]
     },
     "execution_count": 3,
     "metadata": {},
     "output_type": "execute_result"
    }
   ],
   "source": [
    "df_emissions_data.head()"
   ]
  },
  {
   "cell_type": "markdown",
   "id": "09bea663",
   "metadata": {},
   "source": [
    "### Extracting the columns having emission values of Co2,CH4,N20"
   ]
  },
  {
   "cell_type": "code",
   "execution_count": 4,
   "id": "2a8f249f",
   "metadata": {},
   "outputs": [],
   "source": [
    "df_Co2_CH4 = df_emissions_data.loc[0:1,:]\n",
    "df_N2o = df_emissions_data.loc[42:42, :]"
   ]
  },
  {
   "cell_type": "code",
   "execution_count": 5,
   "id": "97c68378",
   "metadata": {},
   "outputs": [
    {
     "data": {
      "text/html": [
       "<div><div id=30aee6fb-e01e-4d8f-a28f-d572cf44e7b8 style=\"display:none; background-color:#9D6CFF; color:white; width:200px; height:30px; padding-left:5px; border-radius:4px; flex-direction:row; justify-content:space-around; align-items:center;\" onmouseover=\"this.style.backgroundColor='#BA9BF8'\" onmouseout=\"this.style.backgroundColor='#9D6CFF'\" onclick=\"window.commands?.execute('create-mitosheet-from-dataframe-output');\">See Full Dataframe in Mito</div> <script> if (window.commands.hasCommand('create-mitosheet-from-dataframe-output')) document.getElementById('30aee6fb-e01e-4d8f-a28f-d572cf44e7b8').style.display = 'flex' </script> <table border=\"1\" class=\"dataframe\">\n",
       "  <thead>\n",
       "    <tr style=\"text-align: right;\">\n",
       "      <th></th>\n",
       "      <th>Model</th>\n",
       "      <th>Scenario</th>\n",
       "      <th>Region</th>\n",
       "      <th>Variable</th>\n",
       "      <th>Unit</th>\n",
       "      <th>Activity_Id</th>\n",
       "      <th>Mip_Era</th>\n",
       "      <th>1750</th>\n",
       "      <th>1751</th>\n",
       "      <th>1752</th>\n",
       "      <th>...</th>\n",
       "      <th>2491</th>\n",
       "      <th>2492</th>\n",
       "      <th>2493</th>\n",
       "      <th>2494</th>\n",
       "      <th>2495</th>\n",
       "      <th>2496</th>\n",
       "      <th>2497</th>\n",
       "      <th>2498</th>\n",
       "      <th>2499</th>\n",
       "      <th>2500</th>\n",
       "    </tr>\n",
       "  </thead>\n",
       "  <tbody>\n",
       "    <tr>\n",
       "      <th>0</th>\n",
       "      <td>AIM</td>\n",
       "      <td>ssp370</td>\n",
       "      <td>World</td>\n",
       "      <td>Atmospheric Concentrations|CH4</td>\n",
       "      <td>ppb</td>\n",
       "      <td>input4MIPs</td>\n",
       "      <td>CMIP6</td>\n",
       "      <td>731.405996</td>\n",
       "      <td>731.838165</td>\n",
       "      <td>732.899974</td>\n",
       "      <td>...</td>\n",
       "      <td>1939.940063</td>\n",
       "      <td>1939.760050</td>\n",
       "      <td>1939.580058</td>\n",
       "      <td>1939.390066</td>\n",
       "      <td>1939.210052</td>\n",
       "      <td>1939.030050</td>\n",
       "      <td>1938.860036</td>\n",
       "      <td>1938.680064</td>\n",
       "      <td>1938.500061</td>\n",
       "      <td>1938.410055</td>\n",
       "    </tr>\n",
       "    <tr>\n",
       "      <th>1</th>\n",
       "      <td>AIM</td>\n",
       "      <td>ssp370</td>\n",
       "      <td>World</td>\n",
       "      <td>Atmospheric Concentrations|CO2</td>\n",
       "      <td>ppm</td>\n",
       "      <td>input4MIPs</td>\n",
       "      <td>CMIP6</td>\n",
       "      <td>277.147003</td>\n",
       "      <td>277.188001</td>\n",
       "      <td>277.229001</td>\n",
       "      <td>...</td>\n",
       "      <td>1375.360006</td>\n",
       "      <td>1374.860026</td>\n",
       "      <td>1374.359985</td>\n",
       "      <td>1373.860006</td>\n",
       "      <td>1373.359996</td>\n",
       "      <td>1372.869985</td>\n",
       "      <td>1372.369995</td>\n",
       "      <td>1371.869985</td>\n",
       "      <td>1371.380005</td>\n",
       "      <td>1371.130005</td>\n",
       "    </tr>\n",
       "    <tr>\n",
       "      <th>42</th>\n",
       "      <td>AIM</td>\n",
       "      <td>ssp370</td>\n",
       "      <td>World</td>\n",
       "      <td>Atmospheric Concentrations|N2O</td>\n",
       "      <td>ppb</td>\n",
       "      <td>input4MIPs</td>\n",
       "      <td>CMIP6</td>\n",
       "      <td>273.865051</td>\n",
       "      <td>273.894056</td>\n",
       "      <td>273.927055</td>\n",
       "      <td>...</td>\n",
       "      <td>515.906993</td>\n",
       "      <td>515.919978</td>\n",
       "      <td>515.931992</td>\n",
       "      <td>515.944977</td>\n",
       "      <td>515.956980</td>\n",
       "      <td>515.968989</td>\n",
       "      <td>515.980993</td>\n",
       "      <td>515.992976</td>\n",
       "      <td>516.004990</td>\n",
       "      <td>516.010991</td>\n",
       "    </tr>\n",
       "  </tbody>\n",
       "</table></div>"
      ],
      "text/plain": [
       "   Model Scenario Region                        Variable Unit Activity_Id  \\\n",
       "0    AIM   ssp370  World  Atmospheric Concentrations|CH4  ppb  input4MIPs   \n",
       "1    AIM   ssp370  World  Atmospheric Concentrations|CO2  ppm  input4MIPs   \n",
       "42   AIM   ssp370  World  Atmospheric Concentrations|N2O  ppb  input4MIPs   \n",
       "\n",
       "   Mip_Era        1750        1751        1752  ...         2491         2492  \\\n",
       "0    CMIP6  731.405996  731.838165  732.899974  ...  1939.940063  1939.760050   \n",
       "1    CMIP6  277.147003  277.188001  277.229001  ...  1375.360006  1374.860026   \n",
       "42   CMIP6  273.865051  273.894056  273.927055  ...   515.906993   515.919978   \n",
       "\n",
       "           2493         2494         2495         2496         2497  \\\n",
       "0   1939.580058  1939.390066  1939.210052  1939.030050  1938.860036   \n",
       "1   1374.359985  1373.860006  1373.359996  1372.869985  1372.369995   \n",
       "42   515.931992   515.944977   515.956980   515.968989   515.980993   \n",
       "\n",
       "           2498         2499         2500  \n",
       "0   1938.680064  1938.500061  1938.410055  \n",
       "1   1371.869985  1371.380005  1371.130005  \n",
       "42   515.992976   516.004990   516.010991  \n",
       "\n",
       "[3 rows x 758 columns]"
      ]
     },
     "execution_count": 5,
     "metadata": {},
     "output_type": "execute_result"
    }
   ],
   "source": [
    "df_combined = df_Co2_CH4.append(df_N2o)\n",
    "df_combined.head()"
   ]
  },
  {
   "cell_type": "code",
   "execution_count": 6,
   "id": "1af41b94",
   "metadata": {},
   "outputs": [],
   "source": [
    "df_combined = df_combined.drop([\"Model\", \"Scenario\", \"Region\", \"Variable\", \"Unit\", \"Activity_Id\",\"Mip_Era\"],axis=1)"
   ]
  },
  {
   "cell_type": "code",
   "execution_count": 7,
   "id": "83b2f1e5",
   "metadata": {},
   "outputs": [
    {
     "data": {
      "text/html": [
       "<div><div id=ef067ab8-d2f2-4e5b-b23c-30a4cb282fdc style=\"display:none; background-color:#9D6CFF; color:white; width:200px; height:30px; padding-left:5px; border-radius:4px; flex-direction:row; justify-content:space-around; align-items:center;\" onmouseover=\"this.style.backgroundColor='#BA9BF8'\" onmouseout=\"this.style.backgroundColor='#9D6CFF'\" onclick=\"window.commands?.execute('create-mitosheet-from-dataframe-output');\">See Full Dataframe in Mito</div> <script> if (window.commands.hasCommand('create-mitosheet-from-dataframe-output')) document.getElementById('ef067ab8-d2f2-4e5b-b23c-30a4cb282fdc').style.display = 'flex' </script> <table border=\"1\" class=\"dataframe\">\n",
       "  <thead>\n",
       "    <tr style=\"text-align: right;\">\n",
       "      <th></th>\n",
       "      <th>1750</th>\n",
       "      <th>1751</th>\n",
       "      <th>1752</th>\n",
       "      <th>1753</th>\n",
       "      <th>1754</th>\n",
       "      <th>1755</th>\n",
       "      <th>1756</th>\n",
       "      <th>1757</th>\n",
       "      <th>1758</th>\n",
       "      <th>1759</th>\n",
       "      <th>...</th>\n",
       "      <th>2491</th>\n",
       "      <th>2492</th>\n",
       "      <th>2493</th>\n",
       "      <th>2494</th>\n",
       "      <th>2495</th>\n",
       "      <th>2496</th>\n",
       "      <th>2497</th>\n",
       "      <th>2498</th>\n",
       "      <th>2499</th>\n",
       "      <th>2500</th>\n",
       "    </tr>\n",
       "  </thead>\n",
       "  <tbody>\n",
       "    <tr>\n",
       "      <th>0</th>\n",
       "      <td>731.405996</td>\n",
       "      <td>731.838165</td>\n",
       "      <td>732.899974</td>\n",
       "      <td>733.634038</td>\n",
       "      <td>734.202021</td>\n",
       "      <td>734.736079</td>\n",
       "      <td>735.421000</td>\n",
       "      <td>735.893031</td>\n",
       "      <td>736.206996</td>\n",
       "      <td>736.098887</td>\n",
       "      <td>...</td>\n",
       "      <td>1939.940063</td>\n",
       "      <td>1939.760050</td>\n",
       "      <td>1939.580058</td>\n",
       "      <td>1939.390066</td>\n",
       "      <td>1939.210052</td>\n",
       "      <td>1939.030050</td>\n",
       "      <td>1938.860036</td>\n",
       "      <td>1938.680064</td>\n",
       "      <td>1938.500061</td>\n",
       "      <td>1938.410055</td>\n",
       "    </tr>\n",
       "    <tr>\n",
       "      <th>1</th>\n",
       "      <td>277.147003</td>\n",
       "      <td>277.188001</td>\n",
       "      <td>277.229001</td>\n",
       "      <td>277.263000</td>\n",
       "      <td>277.304003</td>\n",
       "      <td>277.351003</td>\n",
       "      <td>277.389000</td>\n",
       "      <td>277.441999</td>\n",
       "      <td>277.489001</td>\n",
       "      <td>277.539998</td>\n",
       "      <td>...</td>\n",
       "      <td>1375.360006</td>\n",
       "      <td>1374.860026</td>\n",
       "      <td>1374.359985</td>\n",
       "      <td>1373.860006</td>\n",
       "      <td>1373.359996</td>\n",
       "      <td>1372.869985</td>\n",
       "      <td>1372.369995</td>\n",
       "      <td>1371.869985</td>\n",
       "      <td>1371.380005</td>\n",
       "      <td>1371.130005</td>\n",
       "    </tr>\n",
       "    <tr>\n",
       "      <th>42</th>\n",
       "      <td>273.865051</td>\n",
       "      <td>273.894056</td>\n",
       "      <td>273.927055</td>\n",
       "      <td>273.973055</td>\n",
       "      <td>274.016045</td>\n",
       "      <td>274.051043</td>\n",
       "      <td>274.079051</td>\n",
       "      <td>274.096051</td>\n",
       "      <td>274.129046</td>\n",
       "      <td>274.165047</td>\n",
       "      <td>...</td>\n",
       "      <td>515.906993</td>\n",
       "      <td>515.919978</td>\n",
       "      <td>515.931992</td>\n",
       "      <td>515.944977</td>\n",
       "      <td>515.956980</td>\n",
       "      <td>515.968989</td>\n",
       "      <td>515.980993</td>\n",
       "      <td>515.992976</td>\n",
       "      <td>516.004990</td>\n",
       "      <td>516.010991</td>\n",
       "    </tr>\n",
       "  </tbody>\n",
       "</table></div>"
      ],
      "text/plain": [
       "          1750        1751        1752        1753        1754        1755  \\\n",
       "0   731.405996  731.838165  732.899974  733.634038  734.202021  734.736079   \n",
       "1   277.147003  277.188001  277.229001  277.263000  277.304003  277.351003   \n",
       "42  273.865051  273.894056  273.927055  273.973055  274.016045  274.051043   \n",
       "\n",
       "          1756        1757        1758        1759  ...         2491  \\\n",
       "0   735.421000  735.893031  736.206996  736.098887  ...  1939.940063   \n",
       "1   277.389000  277.441999  277.489001  277.539998  ...  1375.360006   \n",
       "42  274.079051  274.096051  274.129046  274.165047  ...   515.906993   \n",
       "\n",
       "           2492         2493         2494         2495         2496  \\\n",
       "0   1939.760050  1939.580058  1939.390066  1939.210052  1939.030050   \n",
       "1   1374.860026  1374.359985  1373.860006  1373.359996  1372.869985   \n",
       "42   515.919978   515.931992   515.944977   515.956980   515.968989   \n",
       "\n",
       "           2497         2498         2499         2500  \n",
       "0   1938.860036  1938.680064  1938.500061  1938.410055  \n",
       "1   1372.369995  1371.869985  1371.380005  1371.130005  \n",
       "42   515.980993   515.992976   516.004990   516.010991  \n",
       "\n",
       "[3 rows x 751 columns]"
      ]
     },
     "execution_count": 7,
     "metadata": {},
     "output_type": "execute_result"
    }
   ],
   "source": [
    "df_combined.head()"
   ]
  },
  {
   "cell_type": "code",
   "execution_count": 8,
   "id": "43adacc3",
   "metadata": {},
   "outputs": [],
   "source": [
    "def create_df(value):\n",
    "    cols = [\"Year\" , \"Value\"]\n",
    "    df_temp = pd.DataFrame(columns = cols)\n",
    "    df_temp_forecastGT = pd.DataFrame(columns = cols)\n",
    "    k =0 \n",
    "    c=0\n",
    "    for i, row in df_combined.iterrows():\n",
    "        if i == value:\n",
    "            for j,val in row.iteritems():\n",
    "                if int(j) > 2020 :\n",
    "                    df_temp_forecastGT.loc[c,\"Year\"] = j\n",
    "                    df_temp_forecastGT.loc[c,\"Value\"] = val\n",
    "                    c=c+1\n",
    "\n",
    "                else:\n",
    "                    df_temp.loc[k,\"Year\"] = j\n",
    "                    df_temp.loc[k,\"Value\"] = val\n",
    "                    k+=1\n",
    "    return df_temp,df_temp_forecastGT"
   ]
  },
  {
   "cell_type": "code",
   "execution_count": 9,
   "id": "a987a81d",
   "metadata": {},
   "outputs": [],
   "source": [
    "def plot(df, name):\n",
    "    df= df.set_index('Year')\n",
    "    df.iplot(title=name, categoryorder = \"category ascending\")"
   ]
  },
  {
   "cell_type": "code",
   "execution_count": 10,
   "id": "55944e67",
   "metadata": {},
   "outputs": [
    {
     "data": {
      "application/vnd.plotly.v1+json": {
       "config": {
        "plotlyServerURL": "https://plot.ly"
       },
       "data": [
        {
         "name": "CO2",
         "type": "scatter",
         "x": [
          "1750",
          "1751",
          "1752",
          "1753",
          "1754",
          "1755",
          "1756",
          "1757",
          "1758",
          "1759",
          "1760",
          "1761",
          "1762",
          "1763",
          "1764",
          "1765",
          "1766",
          "1767",
          "1768",
          "1769",
          "1770",
          "1771",
          "1772",
          "1773",
          "1774",
          "1775",
          "1776",
          "1777",
          "1778",
          "1779",
          "1780",
          "1781",
          "1782",
          "1783",
          "1784",
          "1785",
          "1786",
          "1787",
          "1788",
          "1789",
          "1790",
          "1791",
          "1792",
          "1793",
          "1794",
          "1795",
          "1796",
          "1797",
          "1798",
          "1799",
          "1800",
          "1801",
          "1802",
          "1803",
          "1804",
          "1805",
          "1806",
          "1807",
          "1808",
          "1809",
          "1810",
          "1811",
          "1812",
          "1813",
          "1814",
          "1815",
          "1816",
          "1817",
          "1818",
          "1819",
          "1820",
          "1821",
          "1822",
          "1823",
          "1824",
          "1825",
          "1826",
          "1827",
          "1828",
          "1829",
          "1830",
          "1831",
          "1832",
          "1833",
          "1834",
          "1835",
          "1836",
          "1837",
          "1838",
          "1839",
          "1840",
          "1841",
          "1842",
          "1843",
          "1844",
          "1845",
          "1846",
          "1847",
          "1848",
          "1849",
          "1850",
          "1851",
          "1852",
          "1853",
          "1854",
          "1855",
          "1856",
          "1857",
          "1858",
          "1859",
          "1860",
          "1861",
          "1862",
          "1863",
          "1864",
          "1865",
          "1866",
          "1867",
          "1868",
          "1869",
          "1870",
          "1871",
          "1872",
          "1873",
          "1874",
          "1875",
          "1876",
          "1877",
          "1878",
          "1879",
          "1880",
          "1881",
          "1882",
          "1883",
          "1884",
          "1885",
          "1886",
          "1887",
          "1888",
          "1889",
          "1890",
          "1891",
          "1892",
          "1893",
          "1894",
          "1895",
          "1896",
          "1897",
          "1898",
          "1899",
          "1900",
          "1901",
          "1902",
          "1903",
          "1904",
          "1905",
          "1906",
          "1907",
          "1908",
          "1909",
          "1910",
          "1911",
          "1912",
          "1913",
          "1914",
          "1915",
          "1916",
          "1917",
          "1918",
          "1919",
          "1920",
          "1921",
          "1922",
          "1923",
          "1924",
          "1925",
          "1926",
          "1927",
          "1928",
          "1929",
          "1930",
          "1931",
          "1932",
          "1933",
          "1934",
          "1935",
          "1936",
          "1937",
          "1938",
          "1939",
          "1940",
          "1941",
          "1942",
          "1943",
          "1944",
          "1945",
          "1946",
          "1947",
          "1948",
          "1949",
          "1950",
          "1951",
          "1952",
          "1953",
          "1954",
          "1955",
          "1956",
          "1957",
          "1958",
          "1959",
          "1960",
          "1961",
          "1962",
          "1963",
          "1964",
          "1965",
          "1966",
          "1967",
          "1968",
          "1969",
          "1970",
          "1971",
          "1972",
          "1973",
          "1974",
          "1975",
          "1976",
          "1977",
          "1978",
          "1979",
          "1980",
          "1981",
          "1982",
          "1983",
          "1984",
          "1985",
          "1986",
          "1987",
          "1988",
          "1989",
          "1990",
          "1991",
          "1992",
          "1993",
          "1994",
          "1995",
          "1996",
          "1997",
          "1998",
          "1999",
          "2000",
          "2001",
          "2002",
          "2003",
          "2004",
          "2005",
          "2006",
          "2007",
          "2008",
          "2009",
          "2010",
          "2011",
          "2012",
          "2013",
          "2014",
          "2015",
          "2016",
          "2017",
          "2018",
          "2019",
          "2020"
         ],
         "y": [
          731.4059957,
          731.8381653,
          732.8999736,
          733.6340383,
          734.2020213,
          734.7360789,
          735.4210002,
          735.8930308,
          736.2069956,
          736.0988871,
          735.4841715,
          735.7630208,
          736.3031057,
          737.1810404,
          738.1030629,
          738.9860382,
          739.8310852,
          740.7289836,
          741.2220561,
          741.74705,
          742.3010152,
          742.871165,
          744.0189667,
          744.6629842,
          744.8780721,
          745.3670603,
          746.0480703,
          746.7369181,
          746.7510579,
          746.9070231,
          747.2310638,
          747.7660472,
          748.2900187,
          748.6270294,
          748.9340261,
          749.2520396,
          749.5639801,
          749.6690826,
          750.1610209,
          750.647049,
          751.1640371,
          751.7080536,
          752.2780151,
          752.6820679,
          753.2520447,
          753.8410645,
          754.5180511,
          755.256073,
          756.1130473,
          756.9420471,
          757.7620494,
          758.5840607,
          759.5070699,
          760.5080465,
          761.5410817,
          762.6710561,
          763.7990774,
          765.0220795,
          766.3190816,
          767.6550802,
          769.1471151,
          770.718043,
          772.2101186,
          773.7009939,
          774.8281352,
          776.1400197,
          777.3801575,
          778.9910329,
          780.3030497,
          781.4260508,
          782.4270782,
          783.5681305,
          784.9560547,
          786.2210744,
          787.4750722,
          788.7140605,
          789.8310445,
          790.8700918,
          791.9830424,
          793.0000712,
          793.9600271,
          794.8100739,
          795.5789846,
          796.124115,
          797.0440369,
          797.8309682,
          798.106013,
          798.1159821,
          797.9370168,
          797.9220988,
          798.3870494,
          799.060084,
          800.001119,
          801.4921824,
          803.6190745,
          805.6650696,
          807.255956,
          807.9369812,
          808.092041,
          808.2150014,
          808.2490285,
          808.4141083,
          809.1631317,
          810.4040578,
          811.7321421,
          813.3320363,
          814.7961222,
          816.4521179,
          818.355128,
          820.3960775,
          822.3121185,
          824.3991903,
          827.0292002,
          830.166214,
          833.6041412,
          836.8942057,
          840.362208,
          843.9951223,
          847.2491252,
          850.1300863,
          852.4350077,
          853.9930725,
          855.2329915,
          856.1681976,
          857.8200785,
          859.4690653,
          860.8591054,
          862.3791148,
          864.13915,
          866.2831624,
          868.696106,
          870.9841258,
          873.2501373,
          875.6031494,
          878.1482035,
          881.0251312,
          883.8392181,
          886.933136,
          889.9262136,
          893.1561584,
          896.3831838,
          899.6662649,
          903.5341949,
          907.2741191,
          910.4781342,
          913.2259827,
          914.7710927,
          916.2742818,
          919.0172272,
          922.2811839,
          925.5521139,
          928.8003337,
          932.7311605,
          936.7834269,
          942.114268,
          947.4432729,
          953.0924225,
          959.1561178,
          964.0852966,
          969.3983663,
          974.787089,
          979.4653219,
          983.6058604,
          986.2423197,
          988.6108805,
          991.4610799,
          998.4538218,
          1003.570552,
          1010.130447,
          1017.630366,
          1025.070328,
          1032.200338,
          1039.10025,
          1045.130066,
          1049.450033,
          1052.159953,
          1053.600108,
          1055.770569,
          1060.640361,
          1066.660329,
          1072.640116,
          1077.490224,
          1081.960225,
          1086.540334,
          1091.770294,
          1097.080129,
          1101.830302,
          1106.319987,
          1110.630798,
          1116.909678,
          1120.120178,
          1123.240509,
          1128.190155,
          1132.660156,
          1136.27006,
          1139.320363,
          1143.660492,
          1149.640299,
          1155.630168,
          1160.349945,
          1163.820567,
          1168.81012,
          1174.310883,
          1183.360657,
          1194.430603,
          1206.65093,
          1221.1008,
          1235.800181,
          1247.420481,
          1257.320079,
          1264.119873,
          1269.461528,
          1282.571289,
          1300.790578,
          1317.370453,
          1331.060282,
          1342.240509,
          1354.271556,
          1371.650462,
          1389.341756,
          1411.100515,
          1431.120962,
          1449.290019,
          1462.860677,
          1476.14091,
          1491.740967,
          1509.110952,
          1527.680949,
          1546.8909,
          1566.160858,
          1584.940735,
          1602.650625,
          1618.73054,
          1632.620148,
          1643.500854,
          1655.910472,
          1668.791148,
          1683.749786,
          1693.940928,
          1705.630442,
          1717.400675,
          1729.330556,
          1740.139262,
          1743.100688,
          1748.620372,
          1755.229624,
          1757.190592,
          1761.501078,
          1770.29068,
          1778.199514,
          1778.010122,
          1776.530731,
          1778.960948,
          1783.589813,
          1784.230286,
          1783.360433,
          1783.421224,
          1788.951314,
          1798.419647,
          1802.101186,
          1807.850667,
          1813.07019,
          1815.26123,
          1822.580841,
          1831.470998,
          1841.932699,
          1851.594167,
          1874.50945,
          1889.79128,
          1905.450948,
          1921.44102
         ]
        },
        {
         "name": "CH4",
         "type": "scatter",
         "x": [
          "1750",
          "1751",
          "1752",
          "1753",
          "1754",
          "1755",
          "1756",
          "1757",
          "1758",
          "1759",
          "1760",
          "1761",
          "1762",
          "1763",
          "1764",
          "1765",
          "1766",
          "1767",
          "1768",
          "1769",
          "1770",
          "1771",
          "1772",
          "1773",
          "1774",
          "1775",
          "1776",
          "1777",
          "1778",
          "1779",
          "1780",
          "1781",
          "1782",
          "1783",
          "1784",
          "1785",
          "1786",
          "1787",
          "1788",
          "1789",
          "1790",
          "1791",
          "1792",
          "1793",
          "1794",
          "1795",
          "1796",
          "1797",
          "1798",
          "1799",
          "1800",
          "1801",
          "1802",
          "1803",
          "1804",
          "1805",
          "1806",
          "1807",
          "1808",
          "1809",
          "1810",
          "1811",
          "1812",
          "1813",
          "1814",
          "1815",
          "1816",
          "1817",
          "1818",
          "1819",
          "1820",
          "1821",
          "1822",
          "1823",
          "1824",
          "1825",
          "1826",
          "1827",
          "1828",
          "1829",
          "1830",
          "1831",
          "1832",
          "1833",
          "1834",
          "1835",
          "1836",
          "1837",
          "1838",
          "1839",
          "1840",
          "1841",
          "1842",
          "1843",
          "1844",
          "1845",
          "1846",
          "1847",
          "1848",
          "1849",
          "1850",
          "1851",
          "1852",
          "1853",
          "1854",
          "1855",
          "1856",
          "1857",
          "1858",
          "1859",
          "1860",
          "1861",
          "1862",
          "1863",
          "1864",
          "1865",
          "1866",
          "1867",
          "1868",
          "1869",
          "1870",
          "1871",
          "1872",
          "1873",
          "1874",
          "1875",
          "1876",
          "1877",
          "1878",
          "1879",
          "1880",
          "1881",
          "1882",
          "1883",
          "1884",
          "1885",
          "1886",
          "1887",
          "1888",
          "1889",
          "1890",
          "1891",
          "1892",
          "1893",
          "1894",
          "1895",
          "1896",
          "1897",
          "1898",
          "1899",
          "1900",
          "1901",
          "1902",
          "1903",
          "1904",
          "1905",
          "1906",
          "1907",
          "1908",
          "1909",
          "1910",
          "1911",
          "1912",
          "1913",
          "1914",
          "1915",
          "1916",
          "1917",
          "1918",
          "1919",
          "1920",
          "1921",
          "1922",
          "1923",
          "1924",
          "1925",
          "1926",
          "1927",
          "1928",
          "1929",
          "1930",
          "1931",
          "1932",
          "1933",
          "1934",
          "1935",
          "1936",
          "1937",
          "1938",
          "1939",
          "1940",
          "1941",
          "1942",
          "1943",
          "1944",
          "1945",
          "1946",
          "1947",
          "1948",
          "1949",
          "1950",
          "1951",
          "1952",
          "1953",
          "1954",
          "1955",
          "1956",
          "1957",
          "1958",
          "1959",
          "1960",
          "1961",
          "1962",
          "1963",
          "1964",
          "1965",
          "1966",
          "1967",
          "1968",
          "1969",
          "1970",
          "1971",
          "1972",
          "1973",
          "1974",
          "1975",
          "1976",
          "1977",
          "1978",
          "1979",
          "1980",
          "1981",
          "1982",
          "1983",
          "1984",
          "1985",
          "1986",
          "1987",
          "1988",
          "1989",
          "1990",
          "1991",
          "1992",
          "1993",
          "1994",
          "1995",
          "1996",
          "1997",
          "1998",
          "1999",
          "2000",
          "2001",
          "2002",
          "2003",
          "2004",
          "2005",
          "2006",
          "2007",
          "2008",
          "2009",
          "2010",
          "2011",
          "2012",
          "2013",
          "2014",
          "2015",
          "2016",
          "2017",
          "2018",
          "2019",
          "2020"
         ],
         "y": [
          277.1470032,
          277.188001,
          277.2290014,
          277.2630005,
          277.3040034,
          277.351003,
          277.3889999,
          277.4419988,
          277.489001,
          277.5399984,
          277.6050034,
          277.6639989,
          277.7320023,
          277.7959976,
          277.8590037,
          277.9129995,
          277.9580002,
          278.0169983,
          278.0779953,
          278.1350047,
          278.1939977,
          278.2700017,
          278.3339996,
          278.4119949,
          278.4909999,
          278.5860036,
          278.6829987,
          278.773997,
          278.8659999,
          278.9590022,
          279.0540034,
          279.1449992,
          279.2430013,
          279.3399989,
          279.4340007,
          279.5320028,
          279.6290003,
          279.7290014,
          279.8309987,
          279.9329987,
          280.0370026,
          280.1409988,
          280.2409973,
          280.3319982,
          280.4150009,
          280.4919968,
          280.5549952,
          280.6230011,
          280.6820043,
          280.7529984,
          280.8339971,
          280.9189987,
          280.9939957,
          281.0729955,
          281.1569977,
          281.2339961,
          281.3220011,
          281.4090017,
          281.4959997,
          281.5659968,
          281.6480026,
          281.7179972,
          281.7899984,
          281.8580017,
          281.9310048,
          281.9919968,
          282.0590007,
          282.1270014,
          282.1999995,
          282.2720057,
          282.3460007,
          282.4150035,
          282.4769999,
          282.5400009,
          282.6179962,
          282.676,
          282.6929983,
          282.6929957,
          282.7080027,
          282.7609965,
          282.8249995,
          282.8909963,
          282.9219971,
          282.9659983,
          283.0279999,
          283.0859985,
          283.1489995,
          283.1980006,
          283.2530034,
          283.3109996,
          283.3820012,
          283.4669978,
          283.5279999,
          283.5660019,
          283.6089986,
          283.7249959,
          283.8470001,
          283.9359996,
          284.0679983,
          284.2069982,
          284.3169988,
          284.451004,
          284.5980021,
          284.7309977,
          284.8459981,
          284.9409993,
          285.0489934,
          285.2039998,
          285.3690008,
          285.5449956,
          285.7389933,
          285.9330012,
          286.100001,
          286.2710012,
          286.4420013,
          286.6139959,
          286.7809982,
          286.9550018,
          287.1050008,
          287.2249985,
          287.3549983,
          287.4940008,
          287.6639964,
          287.8600006,
          288.0609996,
          288.2910029,
          288.5199966,
          288.7520014,
          288.9930013,
          289.2210007,
          289.4699987,
          289.736997,
          290.0190023,
          290.2630005,
          290.5119985,
          290.7969971,
          291.0999959,
          291.4139989,
          291.7630005,
          292.1130015,
          292.4579976,
          292.8159993,
          293.1669998,
          293.4769999,
          293.7909978,
          294.0789973,
          294.3649979,
          294.6459986,
          294.9539998,
          295.299998,
          295.6749954,
          296.0069987,
          296.3249995,
          296.6539968,
          296.9539948,
          297.2889964,
          297.6619975,
          298.0979945,
          298.5179901,
          298.9359919,
          299.3769964,
          299.8289922,
          300.3529917,
          300.9099935,
          301.4189911,
          301.9369888,
          302.4849879,
          303.0109889,
          303.4489873,
          303.8139877,
          304.2459869,
          304.5999883,
          304.9449819,
          305.2709834,
          305.6299845,
          305.8129807,
          305.9539846,
          306.1769867,
          306.3289795,
          306.4949875,
          306.6199773,
          306.8219833,
          307.0929794,
          307.4019801,
          307.7849833,
          308.2269796,
          309.0119731,
          309.7639745,
          310.2939758,
          310.850975,
          311.3569768,
          311.8109741,
          312.1719767,
          312.389979,
          312.4129715,
          312.3849767,
          312.3899714,
          312.4859721,
          312.5209681,
          312.6319707,
          312.8209763,
          313.013972,
          313.3419774,
          313.7299678,
          314.0949682,
          314.4149704,
          314.6979675,
          314.9919612,
          315.3449656,
          315.8069661,
          316.6249669,
          317.2989629,
          318.0439631,
          318.6499634,
          319.332962,
          319.8159612,
          320.8799566,
          321.4799576,
          322.3889567,
          323.2509562,
          324.7829564,
          325.3999557,
          327.3489532,
          329.9089508,
          330.7559535,
          330.8269552,
          331.5449498,
          333.352946,
          335.0099487,
          336.6049474,
          338.7049459,
          340.0589498,
          340.6439412,
          342.265948,
          344.0079473,
          345.4589539,
          346.9029465,
          348.7749456,
          351.2759323,
          352.8939234,
          354.0729319,
          355.3529383,
          356.228948,
          356.9249598,
          358.2539597,
          360.2389552,
          362.0049616,
          363.2519557,
          365.9329554,
          367.8449783,
          369.1249746,
          370.6729889,
          372.834994,
          375.410998,
          376.9870021,
          378.9070079,
          381.0100072,
          382.6030197,
          384.7390188,
          386.2800217,
          388.7170308,
          390.9440206,
          393.0159912,
          395.7249781,
          397.5469793,
          399.948438,
          403.1169662,
          405.8129628,
          408.8319575,
          411.945961,
          415.1549555
         ]
        },
        {
         "name": "N2O",
         "type": "scatter",
         "x": [
          "1750",
          "1751",
          "1752",
          "1753",
          "1754",
          "1755",
          "1756",
          "1757",
          "1758",
          "1759",
          "1760",
          "1761",
          "1762",
          "1763",
          "1764",
          "1765",
          "1766",
          "1767",
          "1768",
          "1769",
          "1770",
          "1771",
          "1772",
          "1773",
          "1774",
          "1775",
          "1776",
          "1777",
          "1778",
          "1779",
          "1780",
          "1781",
          "1782",
          "1783",
          "1784",
          "1785",
          "1786",
          "1787",
          "1788",
          "1789",
          "1790",
          "1791",
          "1792",
          "1793",
          "1794",
          "1795",
          "1796",
          "1797",
          "1798",
          "1799",
          "1800",
          "1801",
          "1802",
          "1803",
          "1804",
          "1805",
          "1806",
          "1807",
          "1808",
          "1809",
          "1810",
          "1811",
          "1812",
          "1813",
          "1814",
          "1815",
          "1816",
          "1817",
          "1818",
          "1819",
          "1820",
          "1821",
          "1822",
          "1823",
          "1824",
          "1825",
          "1826",
          "1827",
          "1828",
          "1829",
          "1830",
          "1831",
          "1832",
          "1833",
          "1834",
          "1835",
          "1836",
          "1837",
          "1838",
          "1839",
          "1840",
          "1841",
          "1842",
          "1843",
          "1844",
          "1845",
          "1846",
          "1847",
          "1848",
          "1849",
          "1850",
          "1851",
          "1852",
          "1853",
          "1854",
          "1855",
          "1856",
          "1857",
          "1858",
          "1859",
          "1860",
          "1861",
          "1862",
          "1863",
          "1864",
          "1865",
          "1866",
          "1867",
          "1868",
          "1869",
          "1870",
          "1871",
          "1872",
          "1873",
          "1874",
          "1875",
          "1876",
          "1877",
          "1878",
          "1879",
          "1880",
          "1881",
          "1882",
          "1883",
          "1884",
          "1885",
          "1886",
          "1887",
          "1888",
          "1889",
          "1890",
          "1891",
          "1892",
          "1893",
          "1894",
          "1895",
          "1896",
          "1897",
          "1898",
          "1899",
          "1900",
          "1901",
          "1902",
          "1903",
          "1904",
          "1905",
          "1906",
          "1907",
          "1908",
          "1909",
          "1910",
          "1911",
          "1912",
          "1913",
          "1914",
          "1915",
          "1916",
          "1917",
          "1918",
          "1919",
          "1920",
          "1921",
          "1922",
          "1923",
          "1924",
          "1925",
          "1926",
          "1927",
          "1928",
          "1929",
          "1930",
          "1931",
          "1932",
          "1933",
          "1934",
          "1935",
          "1936",
          "1937",
          "1938",
          "1939",
          "1940",
          "1941",
          "1942",
          "1943",
          "1944",
          "1945",
          "1946",
          "1947",
          "1948",
          "1949",
          "1950",
          "1951",
          "1952",
          "1953",
          "1954",
          "1955",
          "1956",
          "1957",
          "1958",
          "1959",
          "1960",
          "1961",
          "1962",
          "1963",
          "1964",
          "1965",
          "1966",
          "1967",
          "1968",
          "1969",
          "1970",
          "1971",
          "1972",
          "1973",
          "1974",
          "1975",
          "1976",
          "1977",
          "1978",
          "1979",
          "1980",
          "1981",
          "1982",
          "1983",
          "1984",
          "1985",
          "1986",
          "1987",
          "1988",
          "1989",
          "1990",
          "1991",
          "1992",
          "1993",
          "1994",
          "1995",
          "1996",
          "1997",
          "1998",
          "1999",
          "2000",
          "2001",
          "2002",
          "2003",
          "2004",
          "2005",
          "2006",
          "2007",
          "2008",
          "2009",
          "2010",
          "2011",
          "2012",
          "2013",
          "2014",
          "2015",
          "2016",
          "2017",
          "2018",
          "2019",
          "2020"
         ],
         "y": [
          273.8650513,
          273.8940557,
          273.9270554,
          273.9730555,
          274.0160446,
          274.0510432,
          274.0790507,
          274.0960515,
          274.1290461,
          274.1650467,
          274.1930517,
          274.222051,
          274.2500483,
          274.3020554,
          274.3400497,
          274.3720474,
          274.3920517,
          274.4260508,
          274.4470469,
          274.4680506,
          274.4950485,
          274.5130514,
          274.5310491,
          274.5470505,
          274.5650457,
          274.5790456,
          274.5940475,
          274.6060486,
          274.6180471,
          274.6290487,
          274.6390508,
          274.6470464,
          274.6540476,
          274.6580505,
          274.6640549,
          274.6690496,
          274.6760534,
          274.6780472,
          274.6770477,
          274.6780523,
          274.6770528,
          274.6740468,
          274.6740468,
          274.6590525,
          274.648056,
          274.6310527,
          274.6150538,
          274.6010539,
          274.584053,
          274.570048,
          274.5470505,
          274.5320511,
          274.5230509,
          274.5050507,
          274.4860484,
          274.4660467,
          274.447052,
          274.4280472,
          274.4110514,
          274.3830541,
          274.3600464,
          274.334048,
          274.3040517,
          274.2670517,
          274.2310486,
          274.1810506,
          274.1430511,
          274.1070557,
          274.07105,
          274.0500488,
          274.0070496,
          273.9700495,
          273.9330521,
          273.89505,
          273.8470484,
          273.7860463,
          273.7280502,
          273.6770554,
          273.6410522,
          273.6020533,
          273.5640513,
          273.52005,
          273.4440486,
          273.37205,
          273.2140503,
          273.0790507,
          272.9540532,
          272.8730545,
          272.8660507,
          272.85805,
          272.7990519,
          272.6890488,
          272.5820541,
          272.607048,
          272.6480535,
          272.6400503,
          272.7300466,
          272.8130519,
          272.8850479,
          272.9540456,
          273.021047,
          273.0940501,
          273.1680501,
          273.2640508,
          273.3630498,
          273.4700495,
          273.5780462,
          273.6750488,
          273.7560501,
          273.89505,
          274.0560481,
          274.2400462,
          274.4160487,
          274.5710449,
          274.7200521,
          274.880043,
          275.0480474,
          275.2130483,
          275.3910446,
          275.5610479,
          275.7200445,
          275.9030457,
          276.0780436,
          276.2500483,
          276.4160538,
          276.5850474,
          276.7350515,
          276.8640493,
          277.0020447,
          277.133049,
          277.2650503,
          277.3740412,
          277.4860509,
          277.5910492,
          277.6950506,
          277.795049,
          277.8850479,
          277.995046,
          278.0800502,
          278.1910477,
          278.2730509,
          278.347051,
          278.4420446,
          278.5540492,
          278.6890488,
          278.8310496,
          278.9390513,
          279.0510457,
          279.1630478,
          279.308047,
          279.4540482,
          279.6130473,
          279.8610509,
          280.1560415,
          280.4320424,
          280.7050451,
          280.9800466,
          281.2760442,
          281.6110433,
          281.9500453,
          282.3140437,
          282.7210414,
          283.019043,
          283.3620402,
          283.7160416,
          284.0470428,
          284.3120422,
          284.6150462,
          284.8050486,
          284.8510513,
          284.9290441,
          285.0390422,
          285.170049,
          285.467041,
          285.6050491,
          285.6520513,
          285.6920471,
          285.7400513,
          285.8330485,
          285.8910522,
          285.9380519,
          286.1240438,
          286.2220484,
          286.3710505,
          286.4670486,
          286.5870488,
          286.7470449,
          286.9510447,
          287.1910426,
          287.3870468,
          287.6190414,
          287.8640467,
          288.1380539,
          288.7810287,
          289.0000509,
          289.2270406,
          289.4270452,
          289.5110448,
          289.5560532,
          289.5980504,
          289.7390416,
          289.860054,
          290.0250524,
          290.3340403,
          290.5480499,
          290.844045,
          291.1870448,
          291.5120417,
          291.7720464,
          291.9870427,
          292.2830455,
          292.6020457,
          292.9450378,
          293.3270493,
          293.6850484,
          294.0450389,
          294.4530436,
          294.8600464,
          295.2690455,
          295.681043,
          296.0980377,
          296.5220439,
          296.95504,
          297.3990402,
          297.8550415,
          298.3260447,
          298.8140437,
          299.3190358,
          299.8450394,
          300.3930384,
          300.9650396,
          301.5620346,
          302.1870422,
          302.842041,
          303.528038,
          304.2470398,
          305.002037,
          305.7930349,
          306.6240438,
          307.8310242,
          308.6830368,
          309.2330373,
          309.7250392,
          310.0990524,
          310.8080292,
          311.2790553,
          312.2980194,
          313.1830317,
          313.9070053,
          314.7089895,
          315.7589951,
          316.4930166,
          317.1010183,
          317.7300059,
          318.3570175,
          319.1300023,
          319.9329987,
          320.6460139,
          321.5749919,
          322.2750066,
          323.1409938,
          324.1589839,
          325.0049922,
          325.9189911,
          326.9879913,
          328.1795222,
          329.0759761,
          329.7909749,
          330.5649719,
          331.3559748,
          332.163976
         ]
        }
       ],
       "layout": {
        "font": {
         "color": "RebeccaPurple",
         "family": "Courier New, monospace",
         "size": 10
        },
        "legend": {
         "title": {
          "text": "Type"
         }
        },
        "template": {
         "data": {
          "bar": [
           {
            "error_x": {
             "color": "#2a3f5f"
            },
            "error_y": {
             "color": "#2a3f5f"
            },
            "marker": {
             "line": {
              "color": "#E5ECF6",
              "width": 0.5
             },
             "pattern": {
              "fillmode": "overlay",
              "size": 10,
              "solidity": 0.2
             }
            },
            "type": "bar"
           }
          ],
          "barpolar": [
           {
            "marker": {
             "line": {
              "color": "#E5ECF6",
              "width": 0.5
             },
             "pattern": {
              "fillmode": "overlay",
              "size": 10,
              "solidity": 0.2
             }
            },
            "type": "barpolar"
           }
          ],
          "carpet": [
           {
            "aaxis": {
             "endlinecolor": "#2a3f5f",
             "gridcolor": "white",
             "linecolor": "white",
             "minorgridcolor": "white",
             "startlinecolor": "#2a3f5f"
            },
            "baxis": {
             "endlinecolor": "#2a3f5f",
             "gridcolor": "white",
             "linecolor": "white",
             "minorgridcolor": "white",
             "startlinecolor": "#2a3f5f"
            },
            "type": "carpet"
           }
          ],
          "choropleth": [
           {
            "colorbar": {
             "outlinewidth": 0,
             "ticks": ""
            },
            "type": "choropleth"
           }
          ],
          "contour": [
           {
            "colorbar": {
             "outlinewidth": 0,
             "ticks": ""
            },
            "colorscale": [
             [
              0,
              "#0d0887"
             ],
             [
              0.1111111111111111,
              "#46039f"
             ],
             [
              0.2222222222222222,
              "#7201a8"
             ],
             [
              0.3333333333333333,
              "#9c179e"
             ],
             [
              0.4444444444444444,
              "#bd3786"
             ],
             [
              0.5555555555555556,
              "#d8576b"
             ],
             [
              0.6666666666666666,
              "#ed7953"
             ],
             [
              0.7777777777777778,
              "#fb9f3a"
             ],
             [
              0.8888888888888888,
              "#fdca26"
             ],
             [
              1,
              "#f0f921"
             ]
            ],
            "type": "contour"
           }
          ],
          "contourcarpet": [
           {
            "colorbar": {
             "outlinewidth": 0,
             "ticks": ""
            },
            "type": "contourcarpet"
           }
          ],
          "heatmap": [
           {
            "colorbar": {
             "outlinewidth": 0,
             "ticks": ""
            },
            "colorscale": [
             [
              0,
              "#0d0887"
             ],
             [
              0.1111111111111111,
              "#46039f"
             ],
             [
              0.2222222222222222,
              "#7201a8"
             ],
             [
              0.3333333333333333,
              "#9c179e"
             ],
             [
              0.4444444444444444,
              "#bd3786"
             ],
             [
              0.5555555555555556,
              "#d8576b"
             ],
             [
              0.6666666666666666,
              "#ed7953"
             ],
             [
              0.7777777777777778,
              "#fb9f3a"
             ],
             [
              0.8888888888888888,
              "#fdca26"
             ],
             [
              1,
              "#f0f921"
             ]
            ],
            "type": "heatmap"
           }
          ],
          "heatmapgl": [
           {
            "colorbar": {
             "outlinewidth": 0,
             "ticks": ""
            },
            "colorscale": [
             [
              0,
              "#0d0887"
             ],
             [
              0.1111111111111111,
              "#46039f"
             ],
             [
              0.2222222222222222,
              "#7201a8"
             ],
             [
              0.3333333333333333,
              "#9c179e"
             ],
             [
              0.4444444444444444,
              "#bd3786"
             ],
             [
              0.5555555555555556,
              "#d8576b"
             ],
             [
              0.6666666666666666,
              "#ed7953"
             ],
             [
              0.7777777777777778,
              "#fb9f3a"
             ],
             [
              0.8888888888888888,
              "#fdca26"
             ],
             [
              1,
              "#f0f921"
             ]
            ],
            "type": "heatmapgl"
           }
          ],
          "histogram": [
           {
            "marker": {
             "pattern": {
              "fillmode": "overlay",
              "size": 10,
              "solidity": 0.2
             }
            },
            "type": "histogram"
           }
          ],
          "histogram2d": [
           {
            "colorbar": {
             "outlinewidth": 0,
             "ticks": ""
            },
            "colorscale": [
             [
              0,
              "#0d0887"
             ],
             [
              0.1111111111111111,
              "#46039f"
             ],
             [
              0.2222222222222222,
              "#7201a8"
             ],
             [
              0.3333333333333333,
              "#9c179e"
             ],
             [
              0.4444444444444444,
              "#bd3786"
             ],
             [
              0.5555555555555556,
              "#d8576b"
             ],
             [
              0.6666666666666666,
              "#ed7953"
             ],
             [
              0.7777777777777778,
              "#fb9f3a"
             ],
             [
              0.8888888888888888,
              "#fdca26"
             ],
             [
              1,
              "#f0f921"
             ]
            ],
            "type": "histogram2d"
           }
          ],
          "histogram2dcontour": [
           {
            "colorbar": {
             "outlinewidth": 0,
             "ticks": ""
            },
            "colorscale": [
             [
              0,
              "#0d0887"
             ],
             [
              0.1111111111111111,
              "#46039f"
             ],
             [
              0.2222222222222222,
              "#7201a8"
             ],
             [
              0.3333333333333333,
              "#9c179e"
             ],
             [
              0.4444444444444444,
              "#bd3786"
             ],
             [
              0.5555555555555556,
              "#d8576b"
             ],
             [
              0.6666666666666666,
              "#ed7953"
             ],
             [
              0.7777777777777778,
              "#fb9f3a"
             ],
             [
              0.8888888888888888,
              "#fdca26"
             ],
             [
              1,
              "#f0f921"
             ]
            ],
            "type": "histogram2dcontour"
           }
          ],
          "mesh3d": [
           {
            "colorbar": {
             "outlinewidth": 0,
             "ticks": ""
            },
            "type": "mesh3d"
           }
          ],
          "parcoords": [
           {
            "line": {
             "colorbar": {
              "outlinewidth": 0,
              "ticks": ""
             }
            },
            "type": "parcoords"
           }
          ],
          "pie": [
           {
            "automargin": true,
            "type": "pie"
           }
          ],
          "scatter": [
           {
            "marker": {
             "colorbar": {
              "outlinewidth": 0,
              "ticks": ""
             }
            },
            "type": "scatter"
           }
          ],
          "scatter3d": [
           {
            "line": {
             "colorbar": {
              "outlinewidth": 0,
              "ticks": ""
             }
            },
            "marker": {
             "colorbar": {
              "outlinewidth": 0,
              "ticks": ""
             }
            },
            "type": "scatter3d"
           }
          ],
          "scattercarpet": [
           {
            "marker": {
             "colorbar": {
              "outlinewidth": 0,
              "ticks": ""
             }
            },
            "type": "scattercarpet"
           }
          ],
          "scattergeo": [
           {
            "marker": {
             "colorbar": {
              "outlinewidth": 0,
              "ticks": ""
             }
            },
            "type": "scattergeo"
           }
          ],
          "scattergl": [
           {
            "marker": {
             "colorbar": {
              "outlinewidth": 0,
              "ticks": ""
             }
            },
            "type": "scattergl"
           }
          ],
          "scattermapbox": [
           {
            "marker": {
             "colorbar": {
              "outlinewidth": 0,
              "ticks": ""
             }
            },
            "type": "scattermapbox"
           }
          ],
          "scatterpolar": [
           {
            "marker": {
             "colorbar": {
              "outlinewidth": 0,
              "ticks": ""
             }
            },
            "type": "scatterpolar"
           }
          ],
          "scatterpolargl": [
           {
            "marker": {
             "colorbar": {
              "outlinewidth": 0,
              "ticks": ""
             }
            },
            "type": "scatterpolargl"
           }
          ],
          "scatterternary": [
           {
            "marker": {
             "colorbar": {
              "outlinewidth": 0,
              "ticks": ""
             }
            },
            "type": "scatterternary"
           }
          ],
          "surface": [
           {
            "colorbar": {
             "outlinewidth": 0,
             "ticks": ""
            },
            "colorscale": [
             [
              0,
              "#0d0887"
             ],
             [
              0.1111111111111111,
              "#46039f"
             ],
             [
              0.2222222222222222,
              "#7201a8"
             ],
             [
              0.3333333333333333,
              "#9c179e"
             ],
             [
              0.4444444444444444,
              "#bd3786"
             ],
             [
              0.5555555555555556,
              "#d8576b"
             ],
             [
              0.6666666666666666,
              "#ed7953"
             ],
             [
              0.7777777777777778,
              "#fb9f3a"
             ],
             [
              0.8888888888888888,
              "#fdca26"
             ],
             [
              1,
              "#f0f921"
             ]
            ],
            "type": "surface"
           }
          ],
          "table": [
           {
            "cells": {
             "fill": {
              "color": "#EBF0F8"
             },
             "line": {
              "color": "white"
             }
            },
            "header": {
             "fill": {
              "color": "#C8D4E3"
             },
             "line": {
              "color": "white"
             }
            },
            "type": "table"
           }
          ]
         },
         "layout": {
          "annotationdefaults": {
           "arrowcolor": "#2a3f5f",
           "arrowhead": 0,
           "arrowwidth": 1
          },
          "autotypenumbers": "strict",
          "coloraxis": {
           "colorbar": {
            "outlinewidth": 0,
            "ticks": ""
           }
          },
          "colorscale": {
           "diverging": [
            [
             0,
             "#8e0152"
            ],
            [
             0.1,
             "#c51b7d"
            ],
            [
             0.2,
             "#de77ae"
            ],
            [
             0.3,
             "#f1b6da"
            ],
            [
             0.4,
             "#fde0ef"
            ],
            [
             0.5,
             "#f7f7f7"
            ],
            [
             0.6,
             "#e6f5d0"
            ],
            [
             0.7,
             "#b8e186"
            ],
            [
             0.8,
             "#7fbc41"
            ],
            [
             0.9,
             "#4d9221"
            ],
            [
             1,
             "#276419"
            ]
           ],
           "sequential": [
            [
             0,
             "#0d0887"
            ],
            [
             0.1111111111111111,
             "#46039f"
            ],
            [
             0.2222222222222222,
             "#7201a8"
            ],
            [
             0.3333333333333333,
             "#9c179e"
            ],
            [
             0.4444444444444444,
             "#bd3786"
            ],
            [
             0.5555555555555556,
             "#d8576b"
            ],
            [
             0.6666666666666666,
             "#ed7953"
            ],
            [
             0.7777777777777778,
             "#fb9f3a"
            ],
            [
             0.8888888888888888,
             "#fdca26"
            ],
            [
             1,
             "#f0f921"
            ]
           ],
           "sequentialminus": [
            [
             0,
             "#0d0887"
            ],
            [
             0.1111111111111111,
             "#46039f"
            ],
            [
             0.2222222222222222,
             "#7201a8"
            ],
            [
             0.3333333333333333,
             "#9c179e"
            ],
            [
             0.4444444444444444,
             "#bd3786"
            ],
            [
             0.5555555555555556,
             "#d8576b"
            ],
            [
             0.6666666666666666,
             "#ed7953"
            ],
            [
             0.7777777777777778,
             "#fb9f3a"
            ],
            [
             0.8888888888888888,
             "#fdca26"
            ],
            [
             1,
             "#f0f921"
            ]
           ]
          },
          "colorway": [
           "#636efa",
           "#EF553B",
           "#00cc96",
           "#ab63fa",
           "#FFA15A",
           "#19d3f3",
           "#FF6692",
           "#B6E880",
           "#FF97FF",
           "#FECB52"
          ],
          "font": {
           "color": "#2a3f5f"
          },
          "geo": {
           "bgcolor": "white",
           "lakecolor": "white",
           "landcolor": "#E5ECF6",
           "showlakes": true,
           "showland": true,
           "subunitcolor": "white"
          },
          "hoverlabel": {
           "align": "left"
          },
          "hovermode": "closest",
          "mapbox": {
           "style": "light"
          },
          "paper_bgcolor": "white",
          "plot_bgcolor": "#E5ECF6",
          "polar": {
           "angularaxis": {
            "gridcolor": "white",
            "linecolor": "white",
            "ticks": ""
           },
           "bgcolor": "#E5ECF6",
           "radialaxis": {
            "gridcolor": "white",
            "linecolor": "white",
            "ticks": ""
           }
          },
          "scene": {
           "xaxis": {
            "backgroundcolor": "#E5ECF6",
            "gridcolor": "white",
            "gridwidth": 2,
            "linecolor": "white",
            "showbackground": true,
            "ticks": "",
            "zerolinecolor": "white"
           },
           "yaxis": {
            "backgroundcolor": "#E5ECF6",
            "gridcolor": "white",
            "gridwidth": 2,
            "linecolor": "white",
            "showbackground": true,
            "ticks": "",
            "zerolinecolor": "white"
           },
           "zaxis": {
            "backgroundcolor": "#E5ECF6",
            "gridcolor": "white",
            "gridwidth": 2,
            "linecolor": "white",
            "showbackground": true,
            "ticks": "",
            "zerolinecolor": "white"
           }
          },
          "shapedefaults": {
           "line": {
            "color": "#2a3f5f"
           }
          },
          "ternary": {
           "aaxis": {
            "gridcolor": "white",
            "linecolor": "white",
            "ticks": ""
           },
           "baxis": {
            "gridcolor": "white",
            "linecolor": "white",
            "ticks": ""
           },
           "bgcolor": "#E5ECF6",
           "caxis": {
            "gridcolor": "white",
            "linecolor": "white",
            "ticks": ""
           }
          },
          "title": {
           "x": 0.05
          },
          "xaxis": {
           "automargin": true,
           "gridcolor": "white",
           "linecolor": "white",
           "ticks": "",
           "title": {
            "standoff": 15
           },
           "zerolinecolor": "white",
           "zerolinewidth": 2
          },
          "yaxis": {
           "automargin": true,
           "gridcolor": "white",
           "linecolor": "white",
           "ticks": "",
           "title": {
            "standoff": 15
           },
           "zerolinecolor": "white",
           "zerolinewidth": 2
          }
         }
        },
        "title": {
         "text": "GreenHouse Gases Emissions"
        },
        "xaxis": {
         "title": {
          "text": "Year"
         }
        },
        "yaxis": {
         "title": {
          "text": "Emission Value"
         }
        }
       }
      },
      "text/html": [
       "<div>                            <div id=\"7242fe8f-1b61-4bf9-833d-ca677dc7e820\" class=\"plotly-graph-div\" style=\"height:525px; width:100%;\"></div>            <script type=\"text/javascript\">                require([\"plotly\"], function(Plotly) {                    window.PLOTLYENV=window.PLOTLYENV || {};                                    if (document.getElementById(\"7242fe8f-1b61-4bf9-833d-ca677dc7e820\")) {                    Plotly.newPlot(                        \"7242fe8f-1b61-4bf9-833d-ca677dc7e820\",                        [{\"name\":\"CO2\",\"type\":\"scatter\",\"x\":[\"1750\",\"1751\",\"1752\",\"1753\",\"1754\",\"1755\",\"1756\",\"1757\",\"1758\",\"1759\",\"1760\",\"1761\",\"1762\",\"1763\",\"1764\",\"1765\",\"1766\",\"1767\",\"1768\",\"1769\",\"1770\",\"1771\",\"1772\",\"1773\",\"1774\",\"1775\",\"1776\",\"1777\",\"1778\",\"1779\",\"1780\",\"1781\",\"1782\",\"1783\",\"1784\",\"1785\",\"1786\",\"1787\",\"1788\",\"1789\",\"1790\",\"1791\",\"1792\",\"1793\",\"1794\",\"1795\",\"1796\",\"1797\",\"1798\",\"1799\",\"1800\",\"1801\",\"1802\",\"1803\",\"1804\",\"1805\",\"1806\",\"1807\",\"1808\",\"1809\",\"1810\",\"1811\",\"1812\",\"1813\",\"1814\",\"1815\",\"1816\",\"1817\",\"1818\",\"1819\",\"1820\",\"1821\",\"1822\",\"1823\",\"1824\",\"1825\",\"1826\",\"1827\",\"1828\",\"1829\",\"1830\",\"1831\",\"1832\",\"1833\",\"1834\",\"1835\",\"1836\",\"1837\",\"1838\",\"1839\",\"1840\",\"1841\",\"1842\",\"1843\",\"1844\",\"1845\",\"1846\",\"1847\",\"1848\",\"1849\",\"1850\",\"1851\",\"1852\",\"1853\",\"1854\",\"1855\",\"1856\",\"1857\",\"1858\",\"1859\",\"1860\",\"1861\",\"1862\",\"1863\",\"1864\",\"1865\",\"1866\",\"1867\",\"1868\",\"1869\",\"1870\",\"1871\",\"1872\",\"1873\",\"1874\",\"1875\",\"1876\",\"1877\",\"1878\",\"1879\",\"1880\",\"1881\",\"1882\",\"1883\",\"1884\",\"1885\",\"1886\",\"1887\",\"1888\",\"1889\",\"1890\",\"1891\",\"1892\",\"1893\",\"1894\",\"1895\",\"1896\",\"1897\",\"1898\",\"1899\",\"1900\",\"1901\",\"1902\",\"1903\",\"1904\",\"1905\",\"1906\",\"1907\",\"1908\",\"1909\",\"1910\",\"1911\",\"1912\",\"1913\",\"1914\",\"1915\",\"1916\",\"1917\",\"1918\",\"1919\",\"1920\",\"1921\",\"1922\",\"1923\",\"1924\",\"1925\",\"1926\",\"1927\",\"1928\",\"1929\",\"1930\",\"1931\",\"1932\",\"1933\",\"1934\",\"1935\",\"1936\",\"1937\",\"1938\",\"1939\",\"1940\",\"1941\",\"1942\",\"1943\",\"1944\",\"1945\",\"1946\",\"1947\",\"1948\",\"1949\",\"1950\",\"1951\",\"1952\",\"1953\",\"1954\",\"1955\",\"1956\",\"1957\",\"1958\",\"1959\",\"1960\",\"1961\",\"1962\",\"1963\",\"1964\",\"1965\",\"1966\",\"1967\",\"1968\",\"1969\",\"1970\",\"1971\",\"1972\",\"1973\",\"1974\",\"1975\",\"1976\",\"1977\",\"1978\",\"1979\",\"1980\",\"1981\",\"1982\",\"1983\",\"1984\",\"1985\",\"1986\",\"1987\",\"1988\",\"1989\",\"1990\",\"1991\",\"1992\",\"1993\",\"1994\",\"1995\",\"1996\",\"1997\",\"1998\",\"1999\",\"2000\",\"2001\",\"2002\",\"2003\",\"2004\",\"2005\",\"2006\",\"2007\",\"2008\",\"2009\",\"2010\",\"2011\",\"2012\",\"2013\",\"2014\",\"2015\",\"2016\",\"2017\",\"2018\",\"2019\",\"2020\"],\"y\":[731.4059957,731.8381653,732.8999736,733.6340383,734.2020213,734.7360789,735.4210002,735.8930308,736.2069956,736.0988871,735.4841715,735.7630208,736.3031057,737.1810404,738.1030629,738.9860382,739.8310852,740.7289836,741.2220561,741.74705,742.3010152,742.871165,744.0189667,744.6629842,744.8780721,745.3670603,746.0480703,746.7369181,746.7510579,746.9070231,747.2310638,747.7660472,748.2900187,748.6270294,748.9340261,749.2520396,749.5639801,749.6690826,750.1610209,750.647049,751.1640371,751.7080536,752.2780151,752.6820679,753.2520447,753.8410645,754.5180511,755.256073,756.1130473,756.9420471,757.7620494,758.5840607,759.5070699,760.5080465,761.5410817,762.6710561,763.7990774,765.0220795,766.3190816,767.6550802,769.1471151,770.718043,772.2101186,773.7009939,774.8281352,776.1400197,777.3801575,778.9910329,780.3030497,781.4260508,782.4270782,783.5681305,784.9560547,786.2210744,787.4750722,788.7140605,789.8310445,790.8700918,791.9830424,793.0000712,793.9600271,794.8100739,795.5789846,796.124115,797.0440369,797.8309682,798.106013,798.1159821,797.9370168,797.9220988,798.3870494,799.060084,800.001119,801.4921824,803.6190745,805.6650696,807.255956,807.9369812,808.092041,808.2150014,808.2490285,808.4141083,809.1631317,810.4040578,811.7321421,813.3320363,814.7961222,816.4521179,818.355128,820.3960775,822.3121185,824.3991903,827.0292002,830.166214,833.6041412,836.8942057,840.362208,843.9951223,847.2491252,850.1300863,852.4350077,853.9930725,855.2329915,856.1681976,857.8200785,859.4690653,860.8591054,862.3791148,864.13915,866.2831624,868.696106,870.9841258,873.2501373,875.6031494,878.1482035,881.0251312,883.8392181,886.933136,889.9262136,893.1561584,896.3831838,899.6662649,903.5341949,907.2741191,910.4781342,913.2259827,914.7710927,916.2742818,919.0172272,922.2811839,925.5521139,928.8003337,932.7311605,936.7834269,942.114268,947.4432729,953.0924225,959.1561178,964.0852966,969.3983663,974.787089,979.4653219,983.6058604,986.2423197,988.6108805,991.4610799,998.4538218,1003.570552,1010.130447,1017.630366,1025.070328,1032.200338,1039.10025,1045.130066,1049.450033,1052.159953,1053.600108,1055.770569,1060.640361,1066.660329,1072.640116,1077.490224,1081.960225,1086.540334,1091.770294,1097.080129,1101.830302,1106.319987,1110.630798,1116.909678,1120.120178,1123.240509,1128.190155,1132.660156,1136.27006,1139.320363,1143.660492,1149.640299,1155.630168,1160.349945,1163.820567,1168.81012,1174.310883,1183.360657,1194.430603,1206.65093,1221.1008,1235.800181,1247.420481,1257.320079,1264.119873,1269.461528,1282.571289,1300.790578,1317.370453,1331.060282,1342.240509,1354.271556,1371.650462,1389.341756,1411.100515,1431.120962,1449.290019,1462.860677,1476.14091,1491.740967,1509.110952,1527.680949,1546.8909,1566.160858,1584.940735,1602.650625,1618.73054,1632.620148,1643.500854,1655.910472,1668.791148,1683.749786,1693.940928,1705.630442,1717.400675,1729.330556,1740.139262,1743.100688,1748.620372,1755.229624,1757.190592,1761.501078,1770.29068,1778.199514,1778.010122,1776.530731,1778.960948,1783.589813,1784.230286,1783.360433,1783.421224,1788.951314,1798.419647,1802.101186,1807.850667,1813.07019,1815.26123,1822.580841,1831.470998,1841.932699,1851.594167,1874.50945,1889.79128,1905.450948,1921.44102]},{\"name\":\"CH4\",\"type\":\"scatter\",\"x\":[\"1750\",\"1751\",\"1752\",\"1753\",\"1754\",\"1755\",\"1756\",\"1757\",\"1758\",\"1759\",\"1760\",\"1761\",\"1762\",\"1763\",\"1764\",\"1765\",\"1766\",\"1767\",\"1768\",\"1769\",\"1770\",\"1771\",\"1772\",\"1773\",\"1774\",\"1775\",\"1776\",\"1777\",\"1778\",\"1779\",\"1780\",\"1781\",\"1782\",\"1783\",\"1784\",\"1785\",\"1786\",\"1787\",\"1788\",\"1789\",\"1790\",\"1791\",\"1792\",\"1793\",\"1794\",\"1795\",\"1796\",\"1797\",\"1798\",\"1799\",\"1800\",\"1801\",\"1802\",\"1803\",\"1804\",\"1805\",\"1806\",\"1807\",\"1808\",\"1809\",\"1810\",\"1811\",\"1812\",\"1813\",\"1814\",\"1815\",\"1816\",\"1817\",\"1818\",\"1819\",\"1820\",\"1821\",\"1822\",\"1823\",\"1824\",\"1825\",\"1826\",\"1827\",\"1828\",\"1829\",\"1830\",\"1831\",\"1832\",\"1833\",\"1834\",\"1835\",\"1836\",\"1837\",\"1838\",\"1839\",\"1840\",\"1841\",\"1842\",\"1843\",\"1844\",\"1845\",\"1846\",\"1847\",\"1848\",\"1849\",\"1850\",\"1851\",\"1852\",\"1853\",\"1854\",\"1855\",\"1856\",\"1857\",\"1858\",\"1859\",\"1860\",\"1861\",\"1862\",\"1863\",\"1864\",\"1865\",\"1866\",\"1867\",\"1868\",\"1869\",\"1870\",\"1871\",\"1872\",\"1873\",\"1874\",\"1875\",\"1876\",\"1877\",\"1878\",\"1879\",\"1880\",\"1881\",\"1882\",\"1883\",\"1884\",\"1885\",\"1886\",\"1887\",\"1888\",\"1889\",\"1890\",\"1891\",\"1892\",\"1893\",\"1894\",\"1895\",\"1896\",\"1897\",\"1898\",\"1899\",\"1900\",\"1901\",\"1902\",\"1903\",\"1904\",\"1905\",\"1906\",\"1907\",\"1908\",\"1909\",\"1910\",\"1911\",\"1912\",\"1913\",\"1914\",\"1915\",\"1916\",\"1917\",\"1918\",\"1919\",\"1920\",\"1921\",\"1922\",\"1923\",\"1924\",\"1925\",\"1926\",\"1927\",\"1928\",\"1929\",\"1930\",\"1931\",\"1932\",\"1933\",\"1934\",\"1935\",\"1936\",\"1937\",\"1938\",\"1939\",\"1940\",\"1941\",\"1942\",\"1943\",\"1944\",\"1945\",\"1946\",\"1947\",\"1948\",\"1949\",\"1950\",\"1951\",\"1952\",\"1953\",\"1954\",\"1955\",\"1956\",\"1957\",\"1958\",\"1959\",\"1960\",\"1961\",\"1962\",\"1963\",\"1964\",\"1965\",\"1966\",\"1967\",\"1968\",\"1969\",\"1970\",\"1971\",\"1972\",\"1973\",\"1974\",\"1975\",\"1976\",\"1977\",\"1978\",\"1979\",\"1980\",\"1981\",\"1982\",\"1983\",\"1984\",\"1985\",\"1986\",\"1987\",\"1988\",\"1989\",\"1990\",\"1991\",\"1992\",\"1993\",\"1994\",\"1995\",\"1996\",\"1997\",\"1998\",\"1999\",\"2000\",\"2001\",\"2002\",\"2003\",\"2004\",\"2005\",\"2006\",\"2007\",\"2008\",\"2009\",\"2010\",\"2011\",\"2012\",\"2013\",\"2014\",\"2015\",\"2016\",\"2017\",\"2018\",\"2019\",\"2020\"],\"y\":[277.1470032,277.188001,277.2290014,277.2630005,277.3040034,277.351003,277.3889999,277.4419988,277.489001,277.5399984,277.6050034,277.6639989,277.7320023,277.7959976,277.8590037,277.9129995,277.9580002,278.0169983,278.0779953,278.1350047,278.1939977,278.2700017,278.3339996,278.4119949,278.4909999,278.5860036,278.6829987,278.773997,278.8659999,278.9590022,279.0540034,279.1449992,279.2430013,279.3399989,279.4340007,279.5320028,279.6290003,279.7290014,279.8309987,279.9329987,280.0370026,280.1409988,280.2409973,280.3319982,280.4150009,280.4919968,280.5549952,280.6230011,280.6820043,280.7529984,280.8339971,280.9189987,280.9939957,281.0729955,281.1569977,281.2339961,281.3220011,281.4090017,281.4959997,281.5659968,281.6480026,281.7179972,281.7899984,281.8580017,281.9310048,281.9919968,282.0590007,282.1270014,282.1999995,282.2720057,282.3460007,282.4150035,282.4769999,282.5400009,282.6179962,282.676,282.6929983,282.6929957,282.7080027,282.7609965,282.8249995,282.8909963,282.9219971,282.9659983,283.0279999,283.0859985,283.1489995,283.1980006,283.2530034,283.3109996,283.3820012,283.4669978,283.5279999,283.5660019,283.6089986,283.7249959,283.8470001,283.9359996,284.0679983,284.2069982,284.3169988,284.451004,284.5980021,284.7309977,284.8459981,284.9409993,285.0489934,285.2039998,285.3690008,285.5449956,285.7389933,285.9330012,286.100001,286.2710012,286.4420013,286.6139959,286.7809982,286.9550018,287.1050008,287.2249985,287.3549983,287.4940008,287.6639964,287.8600006,288.0609996,288.2910029,288.5199966,288.7520014,288.9930013,289.2210007,289.4699987,289.736997,290.0190023,290.2630005,290.5119985,290.7969971,291.0999959,291.4139989,291.7630005,292.1130015,292.4579976,292.8159993,293.1669998,293.4769999,293.7909978,294.0789973,294.3649979,294.6459986,294.9539998,295.299998,295.6749954,296.0069987,296.3249995,296.6539968,296.9539948,297.2889964,297.6619975,298.0979945,298.5179901,298.9359919,299.3769964,299.8289922,300.3529917,300.9099935,301.4189911,301.9369888,302.4849879,303.0109889,303.4489873,303.8139877,304.2459869,304.5999883,304.9449819,305.2709834,305.6299845,305.8129807,305.9539846,306.1769867,306.3289795,306.4949875,306.6199773,306.8219833,307.0929794,307.4019801,307.7849833,308.2269796,309.0119731,309.7639745,310.2939758,310.850975,311.3569768,311.8109741,312.1719767,312.389979,312.4129715,312.3849767,312.3899714,312.4859721,312.5209681,312.6319707,312.8209763,313.013972,313.3419774,313.7299678,314.0949682,314.4149704,314.6979675,314.9919612,315.3449656,315.8069661,316.6249669,317.2989629,318.0439631,318.6499634,319.332962,319.8159612,320.8799566,321.4799576,322.3889567,323.2509562,324.7829564,325.3999557,327.3489532,329.9089508,330.7559535,330.8269552,331.5449498,333.352946,335.0099487,336.6049474,338.7049459,340.0589498,340.6439412,342.265948,344.0079473,345.4589539,346.9029465,348.7749456,351.2759323,352.8939234,354.0729319,355.3529383,356.228948,356.9249598,358.2539597,360.2389552,362.0049616,363.2519557,365.9329554,367.8449783,369.1249746,370.6729889,372.834994,375.410998,376.9870021,378.9070079,381.0100072,382.6030197,384.7390188,386.2800217,388.7170308,390.9440206,393.0159912,395.7249781,397.5469793,399.948438,403.1169662,405.8129628,408.8319575,411.945961,415.1549555]},{\"name\":\"N2O\",\"type\":\"scatter\",\"x\":[\"1750\",\"1751\",\"1752\",\"1753\",\"1754\",\"1755\",\"1756\",\"1757\",\"1758\",\"1759\",\"1760\",\"1761\",\"1762\",\"1763\",\"1764\",\"1765\",\"1766\",\"1767\",\"1768\",\"1769\",\"1770\",\"1771\",\"1772\",\"1773\",\"1774\",\"1775\",\"1776\",\"1777\",\"1778\",\"1779\",\"1780\",\"1781\",\"1782\",\"1783\",\"1784\",\"1785\",\"1786\",\"1787\",\"1788\",\"1789\",\"1790\",\"1791\",\"1792\",\"1793\",\"1794\",\"1795\",\"1796\",\"1797\",\"1798\",\"1799\",\"1800\",\"1801\",\"1802\",\"1803\",\"1804\",\"1805\",\"1806\",\"1807\",\"1808\",\"1809\",\"1810\",\"1811\",\"1812\",\"1813\",\"1814\",\"1815\",\"1816\",\"1817\",\"1818\",\"1819\",\"1820\",\"1821\",\"1822\",\"1823\",\"1824\",\"1825\",\"1826\",\"1827\",\"1828\",\"1829\",\"1830\",\"1831\",\"1832\",\"1833\",\"1834\",\"1835\",\"1836\",\"1837\",\"1838\",\"1839\",\"1840\",\"1841\",\"1842\",\"1843\",\"1844\",\"1845\",\"1846\",\"1847\",\"1848\",\"1849\",\"1850\",\"1851\",\"1852\",\"1853\",\"1854\",\"1855\",\"1856\",\"1857\",\"1858\",\"1859\",\"1860\",\"1861\",\"1862\",\"1863\",\"1864\",\"1865\",\"1866\",\"1867\",\"1868\",\"1869\",\"1870\",\"1871\",\"1872\",\"1873\",\"1874\",\"1875\",\"1876\",\"1877\",\"1878\",\"1879\",\"1880\",\"1881\",\"1882\",\"1883\",\"1884\",\"1885\",\"1886\",\"1887\",\"1888\",\"1889\",\"1890\",\"1891\",\"1892\",\"1893\",\"1894\",\"1895\",\"1896\",\"1897\",\"1898\",\"1899\",\"1900\",\"1901\",\"1902\",\"1903\",\"1904\",\"1905\",\"1906\",\"1907\",\"1908\",\"1909\",\"1910\",\"1911\",\"1912\",\"1913\",\"1914\",\"1915\",\"1916\",\"1917\",\"1918\",\"1919\",\"1920\",\"1921\",\"1922\",\"1923\",\"1924\",\"1925\",\"1926\",\"1927\",\"1928\",\"1929\",\"1930\",\"1931\",\"1932\",\"1933\",\"1934\",\"1935\",\"1936\",\"1937\",\"1938\",\"1939\",\"1940\",\"1941\",\"1942\",\"1943\",\"1944\",\"1945\",\"1946\",\"1947\",\"1948\",\"1949\",\"1950\",\"1951\",\"1952\",\"1953\",\"1954\",\"1955\",\"1956\",\"1957\",\"1958\",\"1959\",\"1960\",\"1961\",\"1962\",\"1963\",\"1964\",\"1965\",\"1966\",\"1967\",\"1968\",\"1969\",\"1970\",\"1971\",\"1972\",\"1973\",\"1974\",\"1975\",\"1976\",\"1977\",\"1978\",\"1979\",\"1980\",\"1981\",\"1982\",\"1983\",\"1984\",\"1985\",\"1986\",\"1987\",\"1988\",\"1989\",\"1990\",\"1991\",\"1992\",\"1993\",\"1994\",\"1995\",\"1996\",\"1997\",\"1998\",\"1999\",\"2000\",\"2001\",\"2002\",\"2003\",\"2004\",\"2005\",\"2006\",\"2007\",\"2008\",\"2009\",\"2010\",\"2011\",\"2012\",\"2013\",\"2014\",\"2015\",\"2016\",\"2017\",\"2018\",\"2019\",\"2020\"],\"y\":[273.8650513,273.8940557,273.9270554,273.9730555,274.0160446,274.0510432,274.0790507,274.0960515,274.1290461,274.1650467,274.1930517,274.222051,274.2500483,274.3020554,274.3400497,274.3720474,274.3920517,274.4260508,274.4470469,274.4680506,274.4950485,274.5130514,274.5310491,274.5470505,274.5650457,274.5790456,274.5940475,274.6060486,274.6180471,274.6290487,274.6390508,274.6470464,274.6540476,274.6580505,274.6640549,274.6690496,274.6760534,274.6780472,274.6770477,274.6780523,274.6770528,274.6740468,274.6740468,274.6590525,274.648056,274.6310527,274.6150538,274.6010539,274.584053,274.570048,274.5470505,274.5320511,274.5230509,274.5050507,274.4860484,274.4660467,274.447052,274.4280472,274.4110514,274.3830541,274.3600464,274.334048,274.3040517,274.2670517,274.2310486,274.1810506,274.1430511,274.1070557,274.07105,274.0500488,274.0070496,273.9700495,273.9330521,273.89505,273.8470484,273.7860463,273.7280502,273.6770554,273.6410522,273.6020533,273.5640513,273.52005,273.4440486,273.37205,273.2140503,273.0790507,272.9540532,272.8730545,272.8660507,272.85805,272.7990519,272.6890488,272.5820541,272.607048,272.6480535,272.6400503,272.7300466,272.8130519,272.8850479,272.9540456,273.021047,273.0940501,273.1680501,273.2640508,273.3630498,273.4700495,273.5780462,273.6750488,273.7560501,273.89505,274.0560481,274.2400462,274.4160487,274.5710449,274.7200521,274.880043,275.0480474,275.2130483,275.3910446,275.5610479,275.7200445,275.9030457,276.0780436,276.2500483,276.4160538,276.5850474,276.7350515,276.8640493,277.0020447,277.133049,277.2650503,277.3740412,277.4860509,277.5910492,277.6950506,277.795049,277.8850479,277.995046,278.0800502,278.1910477,278.2730509,278.347051,278.4420446,278.5540492,278.6890488,278.8310496,278.9390513,279.0510457,279.1630478,279.308047,279.4540482,279.6130473,279.8610509,280.1560415,280.4320424,280.7050451,280.9800466,281.2760442,281.6110433,281.9500453,282.3140437,282.7210414,283.019043,283.3620402,283.7160416,284.0470428,284.3120422,284.6150462,284.8050486,284.8510513,284.9290441,285.0390422,285.170049,285.467041,285.6050491,285.6520513,285.6920471,285.7400513,285.8330485,285.8910522,285.9380519,286.1240438,286.2220484,286.3710505,286.4670486,286.5870488,286.7470449,286.9510447,287.1910426,287.3870468,287.6190414,287.8640467,288.1380539,288.7810287,289.0000509,289.2270406,289.4270452,289.5110448,289.5560532,289.5980504,289.7390416,289.860054,290.0250524,290.3340403,290.5480499,290.844045,291.1870448,291.5120417,291.7720464,291.9870427,292.2830455,292.6020457,292.9450378,293.3270493,293.6850484,294.0450389,294.4530436,294.8600464,295.2690455,295.681043,296.0980377,296.5220439,296.95504,297.3990402,297.8550415,298.3260447,298.8140437,299.3190358,299.8450394,300.3930384,300.9650396,301.5620346,302.1870422,302.842041,303.528038,304.2470398,305.002037,305.7930349,306.6240438,307.8310242,308.6830368,309.2330373,309.7250392,310.0990524,310.8080292,311.2790553,312.2980194,313.1830317,313.9070053,314.7089895,315.7589951,316.4930166,317.1010183,317.7300059,318.3570175,319.1300023,319.9329987,320.6460139,321.5749919,322.2750066,323.1409938,324.1589839,325.0049922,325.9189911,326.9879913,328.1795222,329.0759761,329.7909749,330.5649719,331.3559748,332.163976]}],                        {\"font\":{\"color\":\"RebeccaPurple\",\"family\":\"Courier New, monospace\",\"size\":10},\"legend\":{\"title\":{\"text\":\"Type\"}},\"template\":{\"data\":{\"bar\":[{\"error_x\":{\"color\":\"#2a3f5f\"},\"error_y\":{\"color\":\"#2a3f5f\"},\"marker\":{\"line\":{\"color\":\"#E5ECF6\",\"width\":0.5},\"pattern\":{\"fillmode\":\"overlay\",\"size\":10,\"solidity\":0.2}},\"type\":\"bar\"}],\"barpolar\":[{\"marker\":{\"line\":{\"color\":\"#E5ECF6\",\"width\":0.5},\"pattern\":{\"fillmode\":\"overlay\",\"size\":10,\"solidity\":0.2}},\"type\":\"barpolar\"}],\"carpet\":[{\"aaxis\":{\"endlinecolor\":\"#2a3f5f\",\"gridcolor\":\"white\",\"linecolor\":\"white\",\"minorgridcolor\":\"white\",\"startlinecolor\":\"#2a3f5f\"},\"baxis\":{\"endlinecolor\":\"#2a3f5f\",\"gridcolor\":\"white\",\"linecolor\":\"white\",\"minorgridcolor\":\"white\",\"startlinecolor\":\"#2a3f5f\"},\"type\":\"carpet\"}],\"choropleth\":[{\"colorbar\":{\"outlinewidth\":0,\"ticks\":\"\"},\"type\":\"choropleth\"}],\"contour\":[{\"colorbar\":{\"outlinewidth\":0,\"ticks\":\"\"},\"colorscale\":[[0.0,\"#0d0887\"],[0.1111111111111111,\"#46039f\"],[0.2222222222222222,\"#7201a8\"],[0.3333333333333333,\"#9c179e\"],[0.4444444444444444,\"#bd3786\"],[0.5555555555555556,\"#d8576b\"],[0.6666666666666666,\"#ed7953\"],[0.7777777777777778,\"#fb9f3a\"],[0.8888888888888888,\"#fdca26\"],[1.0,\"#f0f921\"]],\"type\":\"contour\"}],\"contourcarpet\":[{\"colorbar\":{\"outlinewidth\":0,\"ticks\":\"\"},\"type\":\"contourcarpet\"}],\"heatmap\":[{\"colorbar\":{\"outlinewidth\":0,\"ticks\":\"\"},\"colorscale\":[[0.0,\"#0d0887\"],[0.1111111111111111,\"#46039f\"],[0.2222222222222222,\"#7201a8\"],[0.3333333333333333,\"#9c179e\"],[0.4444444444444444,\"#bd3786\"],[0.5555555555555556,\"#d8576b\"],[0.6666666666666666,\"#ed7953\"],[0.7777777777777778,\"#fb9f3a\"],[0.8888888888888888,\"#fdca26\"],[1.0,\"#f0f921\"]],\"type\":\"heatmap\"}],\"heatmapgl\":[{\"colorbar\":{\"outlinewidth\":0,\"ticks\":\"\"},\"colorscale\":[[0.0,\"#0d0887\"],[0.1111111111111111,\"#46039f\"],[0.2222222222222222,\"#7201a8\"],[0.3333333333333333,\"#9c179e\"],[0.4444444444444444,\"#bd3786\"],[0.5555555555555556,\"#d8576b\"],[0.6666666666666666,\"#ed7953\"],[0.7777777777777778,\"#fb9f3a\"],[0.8888888888888888,\"#fdca26\"],[1.0,\"#f0f921\"]],\"type\":\"heatmapgl\"}],\"histogram\":[{\"marker\":{\"pattern\":{\"fillmode\":\"overlay\",\"size\":10,\"solidity\":0.2}},\"type\":\"histogram\"}],\"histogram2d\":[{\"colorbar\":{\"outlinewidth\":0,\"ticks\":\"\"},\"colorscale\":[[0.0,\"#0d0887\"],[0.1111111111111111,\"#46039f\"],[0.2222222222222222,\"#7201a8\"],[0.3333333333333333,\"#9c179e\"],[0.4444444444444444,\"#bd3786\"],[0.5555555555555556,\"#d8576b\"],[0.6666666666666666,\"#ed7953\"],[0.7777777777777778,\"#fb9f3a\"],[0.8888888888888888,\"#fdca26\"],[1.0,\"#f0f921\"]],\"type\":\"histogram2d\"}],\"histogram2dcontour\":[{\"colorbar\":{\"outlinewidth\":0,\"ticks\":\"\"},\"colorscale\":[[0.0,\"#0d0887\"],[0.1111111111111111,\"#46039f\"],[0.2222222222222222,\"#7201a8\"],[0.3333333333333333,\"#9c179e\"],[0.4444444444444444,\"#bd3786\"],[0.5555555555555556,\"#d8576b\"],[0.6666666666666666,\"#ed7953\"],[0.7777777777777778,\"#fb9f3a\"],[0.8888888888888888,\"#fdca26\"],[1.0,\"#f0f921\"]],\"type\":\"histogram2dcontour\"}],\"mesh3d\":[{\"colorbar\":{\"outlinewidth\":0,\"ticks\":\"\"},\"type\":\"mesh3d\"}],\"parcoords\":[{\"line\":{\"colorbar\":{\"outlinewidth\":0,\"ticks\":\"\"}},\"type\":\"parcoords\"}],\"pie\":[{\"automargin\":true,\"type\":\"pie\"}],\"scatter\":[{\"marker\":{\"colorbar\":{\"outlinewidth\":0,\"ticks\":\"\"}},\"type\":\"scatter\"}],\"scatter3d\":[{\"line\":{\"colorbar\":{\"outlinewidth\":0,\"ticks\":\"\"}},\"marker\":{\"colorbar\":{\"outlinewidth\":0,\"ticks\":\"\"}},\"type\":\"scatter3d\"}],\"scattercarpet\":[{\"marker\":{\"colorbar\":{\"outlinewidth\":0,\"ticks\":\"\"}},\"type\":\"scattercarpet\"}],\"scattergeo\":[{\"marker\":{\"colorbar\":{\"outlinewidth\":0,\"ticks\":\"\"}},\"type\":\"scattergeo\"}],\"scattergl\":[{\"marker\":{\"colorbar\":{\"outlinewidth\":0,\"ticks\":\"\"}},\"type\":\"scattergl\"}],\"scattermapbox\":[{\"marker\":{\"colorbar\":{\"outlinewidth\":0,\"ticks\":\"\"}},\"type\":\"scattermapbox\"}],\"scatterpolar\":[{\"marker\":{\"colorbar\":{\"outlinewidth\":0,\"ticks\":\"\"}},\"type\":\"scatterpolar\"}],\"scatterpolargl\":[{\"marker\":{\"colorbar\":{\"outlinewidth\":0,\"ticks\":\"\"}},\"type\":\"scatterpolargl\"}],\"scatterternary\":[{\"marker\":{\"colorbar\":{\"outlinewidth\":0,\"ticks\":\"\"}},\"type\":\"scatterternary\"}],\"surface\":[{\"colorbar\":{\"outlinewidth\":0,\"ticks\":\"\"},\"colorscale\":[[0.0,\"#0d0887\"],[0.1111111111111111,\"#46039f\"],[0.2222222222222222,\"#7201a8\"],[0.3333333333333333,\"#9c179e\"],[0.4444444444444444,\"#bd3786\"],[0.5555555555555556,\"#d8576b\"],[0.6666666666666666,\"#ed7953\"],[0.7777777777777778,\"#fb9f3a\"],[0.8888888888888888,\"#fdca26\"],[1.0,\"#f0f921\"]],\"type\":\"surface\"}],\"table\":[{\"cells\":{\"fill\":{\"color\":\"#EBF0F8\"},\"line\":{\"color\":\"white\"}},\"header\":{\"fill\":{\"color\":\"#C8D4E3\"},\"line\":{\"color\":\"white\"}},\"type\":\"table\"}]},\"layout\":{\"annotationdefaults\":{\"arrowcolor\":\"#2a3f5f\",\"arrowhead\":0,\"arrowwidth\":1},\"autotypenumbers\":\"strict\",\"coloraxis\":{\"colorbar\":{\"outlinewidth\":0,\"ticks\":\"\"}},\"colorscale\":{\"diverging\":[[0,\"#8e0152\"],[0.1,\"#c51b7d\"],[0.2,\"#de77ae\"],[0.3,\"#f1b6da\"],[0.4,\"#fde0ef\"],[0.5,\"#f7f7f7\"],[0.6,\"#e6f5d0\"],[0.7,\"#b8e186\"],[0.8,\"#7fbc41\"],[0.9,\"#4d9221\"],[1,\"#276419\"]],\"sequential\":[[0.0,\"#0d0887\"],[0.1111111111111111,\"#46039f\"],[0.2222222222222222,\"#7201a8\"],[0.3333333333333333,\"#9c179e\"],[0.4444444444444444,\"#bd3786\"],[0.5555555555555556,\"#d8576b\"],[0.6666666666666666,\"#ed7953\"],[0.7777777777777778,\"#fb9f3a\"],[0.8888888888888888,\"#fdca26\"],[1.0,\"#f0f921\"]],\"sequentialminus\":[[0.0,\"#0d0887\"],[0.1111111111111111,\"#46039f\"],[0.2222222222222222,\"#7201a8\"],[0.3333333333333333,\"#9c179e\"],[0.4444444444444444,\"#bd3786\"],[0.5555555555555556,\"#d8576b\"],[0.6666666666666666,\"#ed7953\"],[0.7777777777777778,\"#fb9f3a\"],[0.8888888888888888,\"#fdca26\"],[1.0,\"#f0f921\"]]},\"colorway\":[\"#636efa\",\"#EF553B\",\"#00cc96\",\"#ab63fa\",\"#FFA15A\",\"#19d3f3\",\"#FF6692\",\"#B6E880\",\"#FF97FF\",\"#FECB52\"],\"font\":{\"color\":\"#2a3f5f\"},\"geo\":{\"bgcolor\":\"white\",\"lakecolor\":\"white\",\"landcolor\":\"#E5ECF6\",\"showlakes\":true,\"showland\":true,\"subunitcolor\":\"white\"},\"hoverlabel\":{\"align\":\"left\"},\"hovermode\":\"closest\",\"mapbox\":{\"style\":\"light\"},\"paper_bgcolor\":\"white\",\"plot_bgcolor\":\"#E5ECF6\",\"polar\":{\"angularaxis\":{\"gridcolor\":\"white\",\"linecolor\":\"white\",\"ticks\":\"\"},\"bgcolor\":\"#E5ECF6\",\"radialaxis\":{\"gridcolor\":\"white\",\"linecolor\":\"white\",\"ticks\":\"\"}},\"scene\":{\"xaxis\":{\"backgroundcolor\":\"#E5ECF6\",\"gridcolor\":\"white\",\"gridwidth\":2,\"linecolor\":\"white\",\"showbackground\":true,\"ticks\":\"\",\"zerolinecolor\":\"white\"},\"yaxis\":{\"backgroundcolor\":\"#E5ECF6\",\"gridcolor\":\"white\",\"gridwidth\":2,\"linecolor\":\"white\",\"showbackground\":true,\"ticks\":\"\",\"zerolinecolor\":\"white\"},\"zaxis\":{\"backgroundcolor\":\"#E5ECF6\",\"gridcolor\":\"white\",\"gridwidth\":2,\"linecolor\":\"white\",\"showbackground\":true,\"ticks\":\"\",\"zerolinecolor\":\"white\"}},\"shapedefaults\":{\"line\":{\"color\":\"#2a3f5f\"}},\"ternary\":{\"aaxis\":{\"gridcolor\":\"white\",\"linecolor\":\"white\",\"ticks\":\"\"},\"baxis\":{\"gridcolor\":\"white\",\"linecolor\":\"white\",\"ticks\":\"\"},\"bgcolor\":\"#E5ECF6\",\"caxis\":{\"gridcolor\":\"white\",\"linecolor\":\"white\",\"ticks\":\"\"}},\"title\":{\"x\":0.05},\"xaxis\":{\"automargin\":true,\"gridcolor\":\"white\",\"linecolor\":\"white\",\"ticks\":\"\",\"title\":{\"standoff\":15},\"zerolinecolor\":\"white\",\"zerolinewidth\":2},\"yaxis\":{\"automargin\":true,\"gridcolor\":\"white\",\"linecolor\":\"white\",\"ticks\":\"\",\"title\":{\"standoff\":15},\"zerolinecolor\":\"white\",\"zerolinewidth\":2}}},\"title\":{\"text\":\"GreenHouse Gases Emissions\"},\"xaxis\":{\"title\":{\"text\":\"Year\"}},\"yaxis\":{\"title\":{\"text\":\"Emission Value\"}}},                        {\"responsive\": true}                    ).then(function(){\n",
       "                            \n",
       "var gd = document.getElementById('7242fe8f-1b61-4bf9-833d-ca677dc7e820');\n",
       "var x = new MutationObserver(function (mutations, observer) {{\n",
       "        var display = window.getComputedStyle(gd).display;\n",
       "        if (!display || display === 'none') {{\n",
       "            console.log([gd, 'removed!']);\n",
       "            Plotly.purge(gd);\n",
       "            observer.disconnect();\n",
       "        }}\n",
       "}});\n",
       "\n",
       "// Listen for the removal of the full notebook cells\n",
       "var notebookContainer = gd.closest('#notebook-container');\n",
       "if (notebookContainer) {{\n",
       "    x.observe(notebookContainer, {childList: true});\n",
       "}}\n",
       "\n",
       "// Listen for the clearing of the current output cell\n",
       "var outputEl = gd.closest('.output');\n",
       "if (outputEl) {{\n",
       "    x.observe(outputEl, {childList: true});\n",
       "}}\n",
       "\n",
       "                        })                };                });            </script>        </div>"
      ]
     },
     "metadata": {},
     "output_type": "display_data"
    }
   ],
   "source": [
    "fig_emissions = go.Figure()\n",
    "df_Co2, df_Co2_forecastGT = create_df(0)\n",
    "df_CH4, df_CH4_forecastGT = create_df(1)\n",
    "df_N2O, df_N2O_forecastGT = create_df(42)\n",
    "\n",
    "fig_emissions.add_trace(\n",
    "            go.Scatter(x = df_Co2[\"Year\"].to_list() ,y = df_Co2[\"Value\"].to_list(),name=\"CO2\")\n",
    "            )\n",
    "fig_emissions.add_trace(\n",
    "            go.Scatter(x = df_CH4[\"Year\"].to_list() ,y = df_CH4[\"Value\"].to_list(),name=\"CH4\")\n",
    "            )\n",
    "fig_emissions.add_trace(\n",
    "            go.Scatter(x = df_N2O[\"Year\"].to_list() ,y = df_N2O[\"Value\"].to_list(),name=\"N2O\")\n",
    "            )\n",
    "fig_emissions.update_layout(title=\"GreenHouse Gases Emissions\",xaxis_title=\"Year\",yaxis_title=\"Emission Value\",legend_title=\"Type\",font=dict(family=\"Courier New, monospace\",size=10,color=\"RebeccaPurple\"))"
   ]
  },
  {
   "cell_type": "markdown",
   "id": "156853b0",
   "metadata": {},
   "source": [
    "#### As per above plots, we observed the emissions data is of type time-series with upward trend."
   ]
  },
  {
   "cell_type": "markdown",
   "id": "d1de56ee",
   "metadata": {},
   "source": [
    "Now, let's model the time-series data using ARIMA model to forecast future values."
   ]
  },
  {
   "cell_type": "code",
   "execution_count": 11,
   "id": "15921b50",
   "metadata": {},
   "outputs": [],
   "source": [
    "def build_model_and_forecast(df,df_forecastGT, name):\n",
    "    df= df.set_index('Year')\n",
    "    stepwise_model = auto_arima(df, start_p=1, start_q=1,\n",
    "                               max_p=3, max_q=3, m=12,\n",
    "                               start_P=0, seasonal=True,\n",
    "                               d=1, D=1, trace=True,\n",
    "                               error_action='ignore',  \n",
    "                               suppress_warnings=True, \n",
    "                               stepwise=True)\n",
    "    print(\"AIC Value \" ,stepwise_model.aic())\n",
    "    train = df[\"1750\":]\n",
    "    test = df_forecastGT.loc[\"2021\":\"2050\"]\n",
    "    stepwise_model.fit(train)\n",
    "    future_forecast = stepwise_model.predict(n_periods=30)\n",
    "    print(future_forecast)\n",
    "    future_forecast = pd.DataFrame(future_forecast,index = test.index,columns=[\"Prediction\"])\n",
    "    pd.concat([test,future_forecast],axis=1).iplot(title = name, categoryorder = \"category ascending\")"
   ]
  },
  {
   "cell_type": "code",
   "execution_count": 12,
   "id": "6b589509",
   "metadata": {
    "scrolled": false
   },
   "outputs": [
    {
     "name": "stdout",
     "output_type": "stream",
     "text": [
      "Performing stepwise search to minimize aic\n",
      " ARIMA(1,1,1)(0,1,1)[12]             : AIC=1096.287, Time=0.53 sec\n",
      " ARIMA(0,1,0)(0,1,0)[12]             : AIC=1474.391, Time=0.07 sec\n",
      " ARIMA(1,1,0)(1,1,0)[12]             : AIC=1141.850, Time=0.21 sec\n",
      " ARIMA(0,1,1)(0,1,1)[12]             : AIC=1268.251, Time=0.32 sec\n",
      " ARIMA(1,1,1)(0,1,0)[12]             : AIC=1156.712, Time=0.12 sec\n",
      " ARIMA(1,1,1)(1,1,1)[12]             : AIC=1096.713, Time=0.78 sec\n",
      " ARIMA(1,1,1)(0,1,2)[12]             : AIC=1095.485, Time=1.59 sec\n",
      " ARIMA(1,1,1)(1,1,2)[12]             : AIC=1089.899, Time=2.65 sec\n",
      " ARIMA(1,1,1)(2,1,2)[12]             : AIC=inf, Time=8.47 sec\n",
      " ARIMA(1,1,1)(2,1,1)[12]             : AIC=1090.321, Time=2.86 sec\n",
      " ARIMA(0,1,1)(1,1,2)[12]             : AIC=1237.189, Time=2.16 sec\n",
      " ARIMA(1,1,0)(1,1,2)[12]             : AIC=1088.228, Time=2.33 sec\n",
      " ARIMA(1,1,0)(0,1,2)[12]             : AIC=1093.711, Time=1.08 sec\n",
      " ARIMA(1,1,0)(1,1,1)[12]             : AIC=1094.776, Time=0.56 sec\n",
      " ARIMA(1,1,0)(2,1,2)[12]             : AIC=inf, Time=7.37 sec\n",
      " ARIMA(1,1,0)(0,1,1)[12]             : AIC=1094.287, Time=0.36 sec\n",
      " ARIMA(1,1,0)(2,1,1)[12]             : AIC=1088.479, Time=1.75 sec\n",
      " ARIMA(0,1,0)(1,1,2)[12]             : AIC=1429.750, Time=1.30 sec\n",
      " ARIMA(2,1,0)(1,1,2)[12]             : AIC=1089.991, Time=3.01 sec\n",
      " ARIMA(2,1,1)(1,1,2)[12]             : AIC=1091.059, Time=8.61 sec\n",
      " ARIMA(1,1,0)(1,1,2)[12] intercept   : AIC=inf, Time=8.12 sec\n",
      "\n",
      "Best model:  ARIMA(1,1,0)(1,1,2)[12]          \n",
      "Total fit time: 54.306 seconds\n",
      "AIC Value  1088.2283322214537\n",
      "[1934.93874176 1949.64888282 1965.09291503 1977.77911372 1990.94645098\n",
      " 2003.76086521 2016.6071872  2029.32491689 2043.84936461 2057.34995089\n",
      " 2070.72448999 2082.46935017 2092.84445267 2103.81588134 2115.04119905\n",
      " 2124.37363506 2134.10803286 2144.85197422 2155.99709348 2166.10619858\n",
      " 2176.06706303 2185.19118552 2194.79720095 2203.92629837 2211.38670693\n",
      " 2220.3703155  2230.39152073 2238.27882179 2246.98278325 2256.02231992]\n"
     ]
    },
    {
     "data": {
      "application/vnd.plotly.v1+json": {
       "config": {
        "linkText": "Export to plot.ly",
        "plotlyServerURL": "https://plot.ly",
        "showLink": true
       },
       "data": [
        {
         "line": {
          "color": "rgba(255, 153, 51, 1.0)",
          "dash": "solid",
          "shape": "linear",
          "width": 1.3
         },
         "mode": "lines",
         "name": "Value",
         "text": "",
         "type": "scatter",
         "x": [
          "2021",
          "2022",
          "2023",
          "2024",
          "2025",
          "2026",
          "2027",
          "2028",
          "2029",
          "2030",
          "2031",
          "2032",
          "2033",
          "2034",
          "2035",
          "2036",
          "2037",
          "2038",
          "2039",
          "2040",
          "2041",
          "2042",
          "2043",
          "2044",
          "2045",
          "2046",
          "2047",
          "2048",
          "2049",
          "2050"
         ],
         "y": [
          1937.741028,
          1954.371084,
          1971.401082,
          1988.791097,
          2006.511139,
          2024.531158,
          2042.821157,
          2061.371134,
          2080.151225,
          2099.141215,
          2118.321167,
          2137.551208,
          2156.701172,
          2175.761169,
          2194.75118,
          2213.661153,
          2232.50118,
          2251.2712,
          2269.971171,
          2288.591207,
          2307.151164,
          2325.651184,
          2344.101156,
          2362.51123,
          2380.871155,
          2399.191162,
          2417.461161,
          2435.691162,
          2453.871155,
          2472.00116
         ]
        },
        {
         "line": {
          "color": "rgba(55, 128, 191, 1.0)",
          "dash": "solid",
          "shape": "linear",
          "width": 1.3
         },
         "mode": "lines",
         "name": "Prediction",
         "text": "",
         "type": "scatter",
         "x": [
          "2021",
          "2022",
          "2023",
          "2024",
          "2025",
          "2026",
          "2027",
          "2028",
          "2029",
          "2030",
          "2031",
          "2032",
          "2033",
          "2034",
          "2035",
          "2036",
          "2037",
          "2038",
          "2039",
          "2040",
          "2041",
          "2042",
          "2043",
          "2044",
          "2045",
          "2046",
          "2047",
          "2048",
          "2049",
          "2050"
         ],
         "y": [
          1934.938741760882,
          1949.6488828241893,
          1965.0929150341335,
          1977.7791137225195,
          1990.9464509815884,
          2003.7608652089916,
          2016.6071872041746,
          2029.3249168896136,
          2043.8493646104425,
          2057.349950889012,
          2070.724489987358,
          2082.4693501722268,
          2092.8444526718863,
          2103.815881335852,
          2115.041199053851,
          2124.373635055802,
          2134.1080328644143,
          2144.851974220118,
          2155.997093481042,
          2166.1061985840447,
          2176.0670630336517,
          2185.1911855189483,
          2194.7972009536584,
          2203.926298370495,
          2211.386706927576,
          2220.3703154991667,
          2230.3915207346877,
          2238.2788217912416,
          2246.982783251293,
          2256.022319915181
         ]
        }
       ],
       "layout": {
        "legend": {
         "bgcolor": "#F5F6F9",
         "font": {
          "color": "#4D5663"
         }
        },
        "paper_bgcolor": "#F5F6F9",
        "plot_bgcolor": "#F5F6F9",
        "template": {
         "data": {
          "bar": [
           {
            "error_x": {
             "color": "#2a3f5f"
            },
            "error_y": {
             "color": "#2a3f5f"
            },
            "marker": {
             "line": {
              "color": "#E5ECF6",
              "width": 0.5
             },
             "pattern": {
              "fillmode": "overlay",
              "size": 10,
              "solidity": 0.2
             }
            },
            "type": "bar"
           }
          ],
          "barpolar": [
           {
            "marker": {
             "line": {
              "color": "#E5ECF6",
              "width": 0.5
             },
             "pattern": {
              "fillmode": "overlay",
              "size": 10,
              "solidity": 0.2
             }
            },
            "type": "barpolar"
           }
          ],
          "carpet": [
           {
            "aaxis": {
             "endlinecolor": "#2a3f5f",
             "gridcolor": "white",
             "linecolor": "white",
             "minorgridcolor": "white",
             "startlinecolor": "#2a3f5f"
            },
            "baxis": {
             "endlinecolor": "#2a3f5f",
             "gridcolor": "white",
             "linecolor": "white",
             "minorgridcolor": "white",
             "startlinecolor": "#2a3f5f"
            },
            "type": "carpet"
           }
          ],
          "choropleth": [
           {
            "colorbar": {
             "outlinewidth": 0,
             "ticks": ""
            },
            "type": "choropleth"
           }
          ],
          "contour": [
           {
            "colorbar": {
             "outlinewidth": 0,
             "ticks": ""
            },
            "colorscale": [
             [
              0,
              "#0d0887"
             ],
             [
              0.1111111111111111,
              "#46039f"
             ],
             [
              0.2222222222222222,
              "#7201a8"
             ],
             [
              0.3333333333333333,
              "#9c179e"
             ],
             [
              0.4444444444444444,
              "#bd3786"
             ],
             [
              0.5555555555555556,
              "#d8576b"
             ],
             [
              0.6666666666666666,
              "#ed7953"
             ],
             [
              0.7777777777777778,
              "#fb9f3a"
             ],
             [
              0.8888888888888888,
              "#fdca26"
             ],
             [
              1,
              "#f0f921"
             ]
            ],
            "type": "contour"
           }
          ],
          "contourcarpet": [
           {
            "colorbar": {
             "outlinewidth": 0,
             "ticks": ""
            },
            "type": "contourcarpet"
           }
          ],
          "heatmap": [
           {
            "colorbar": {
             "outlinewidth": 0,
             "ticks": ""
            },
            "colorscale": [
             [
              0,
              "#0d0887"
             ],
             [
              0.1111111111111111,
              "#46039f"
             ],
             [
              0.2222222222222222,
              "#7201a8"
             ],
             [
              0.3333333333333333,
              "#9c179e"
             ],
             [
              0.4444444444444444,
              "#bd3786"
             ],
             [
              0.5555555555555556,
              "#d8576b"
             ],
             [
              0.6666666666666666,
              "#ed7953"
             ],
             [
              0.7777777777777778,
              "#fb9f3a"
             ],
             [
              0.8888888888888888,
              "#fdca26"
             ],
             [
              1,
              "#f0f921"
             ]
            ],
            "type": "heatmap"
           }
          ],
          "heatmapgl": [
           {
            "colorbar": {
             "outlinewidth": 0,
             "ticks": ""
            },
            "colorscale": [
             [
              0,
              "#0d0887"
             ],
             [
              0.1111111111111111,
              "#46039f"
             ],
             [
              0.2222222222222222,
              "#7201a8"
             ],
             [
              0.3333333333333333,
              "#9c179e"
             ],
             [
              0.4444444444444444,
              "#bd3786"
             ],
             [
              0.5555555555555556,
              "#d8576b"
             ],
             [
              0.6666666666666666,
              "#ed7953"
             ],
             [
              0.7777777777777778,
              "#fb9f3a"
             ],
             [
              0.8888888888888888,
              "#fdca26"
             ],
             [
              1,
              "#f0f921"
             ]
            ],
            "type": "heatmapgl"
           }
          ],
          "histogram": [
           {
            "marker": {
             "pattern": {
              "fillmode": "overlay",
              "size": 10,
              "solidity": 0.2
             }
            },
            "type": "histogram"
           }
          ],
          "histogram2d": [
           {
            "colorbar": {
             "outlinewidth": 0,
             "ticks": ""
            },
            "colorscale": [
             [
              0,
              "#0d0887"
             ],
             [
              0.1111111111111111,
              "#46039f"
             ],
             [
              0.2222222222222222,
              "#7201a8"
             ],
             [
              0.3333333333333333,
              "#9c179e"
             ],
             [
              0.4444444444444444,
              "#bd3786"
             ],
             [
              0.5555555555555556,
              "#d8576b"
             ],
             [
              0.6666666666666666,
              "#ed7953"
             ],
             [
              0.7777777777777778,
              "#fb9f3a"
             ],
             [
              0.8888888888888888,
              "#fdca26"
             ],
             [
              1,
              "#f0f921"
             ]
            ],
            "type": "histogram2d"
           }
          ],
          "histogram2dcontour": [
           {
            "colorbar": {
             "outlinewidth": 0,
             "ticks": ""
            },
            "colorscale": [
             [
              0,
              "#0d0887"
             ],
             [
              0.1111111111111111,
              "#46039f"
             ],
             [
              0.2222222222222222,
              "#7201a8"
             ],
             [
              0.3333333333333333,
              "#9c179e"
             ],
             [
              0.4444444444444444,
              "#bd3786"
             ],
             [
              0.5555555555555556,
              "#d8576b"
             ],
             [
              0.6666666666666666,
              "#ed7953"
             ],
             [
              0.7777777777777778,
              "#fb9f3a"
             ],
             [
              0.8888888888888888,
              "#fdca26"
             ],
             [
              1,
              "#f0f921"
             ]
            ],
            "type": "histogram2dcontour"
           }
          ],
          "mesh3d": [
           {
            "colorbar": {
             "outlinewidth": 0,
             "ticks": ""
            },
            "type": "mesh3d"
           }
          ],
          "parcoords": [
           {
            "line": {
             "colorbar": {
              "outlinewidth": 0,
              "ticks": ""
             }
            },
            "type": "parcoords"
           }
          ],
          "pie": [
           {
            "automargin": true,
            "type": "pie"
           }
          ],
          "scatter": [
           {
            "marker": {
             "colorbar": {
              "outlinewidth": 0,
              "ticks": ""
             }
            },
            "type": "scatter"
           }
          ],
          "scatter3d": [
           {
            "line": {
             "colorbar": {
              "outlinewidth": 0,
              "ticks": ""
             }
            },
            "marker": {
             "colorbar": {
              "outlinewidth": 0,
              "ticks": ""
             }
            },
            "type": "scatter3d"
           }
          ],
          "scattercarpet": [
           {
            "marker": {
             "colorbar": {
              "outlinewidth": 0,
              "ticks": ""
             }
            },
            "type": "scattercarpet"
           }
          ],
          "scattergeo": [
           {
            "marker": {
             "colorbar": {
              "outlinewidth": 0,
              "ticks": ""
             }
            },
            "type": "scattergeo"
           }
          ],
          "scattergl": [
           {
            "marker": {
             "colorbar": {
              "outlinewidth": 0,
              "ticks": ""
             }
            },
            "type": "scattergl"
           }
          ],
          "scattermapbox": [
           {
            "marker": {
             "colorbar": {
              "outlinewidth": 0,
              "ticks": ""
             }
            },
            "type": "scattermapbox"
           }
          ],
          "scatterpolar": [
           {
            "marker": {
             "colorbar": {
              "outlinewidth": 0,
              "ticks": ""
             }
            },
            "type": "scatterpolar"
           }
          ],
          "scatterpolargl": [
           {
            "marker": {
             "colorbar": {
              "outlinewidth": 0,
              "ticks": ""
             }
            },
            "type": "scatterpolargl"
           }
          ],
          "scatterternary": [
           {
            "marker": {
             "colorbar": {
              "outlinewidth": 0,
              "ticks": ""
             }
            },
            "type": "scatterternary"
           }
          ],
          "surface": [
           {
            "colorbar": {
             "outlinewidth": 0,
             "ticks": ""
            },
            "colorscale": [
             [
              0,
              "#0d0887"
             ],
             [
              0.1111111111111111,
              "#46039f"
             ],
             [
              0.2222222222222222,
              "#7201a8"
             ],
             [
              0.3333333333333333,
              "#9c179e"
             ],
             [
              0.4444444444444444,
              "#bd3786"
             ],
             [
              0.5555555555555556,
              "#d8576b"
             ],
             [
              0.6666666666666666,
              "#ed7953"
             ],
             [
              0.7777777777777778,
              "#fb9f3a"
             ],
             [
              0.8888888888888888,
              "#fdca26"
             ],
             [
              1,
              "#f0f921"
             ]
            ],
            "type": "surface"
           }
          ],
          "table": [
           {
            "cells": {
             "fill": {
              "color": "#EBF0F8"
             },
             "line": {
              "color": "white"
             }
            },
            "header": {
             "fill": {
              "color": "#C8D4E3"
             },
             "line": {
              "color": "white"
             }
            },
            "type": "table"
           }
          ]
         },
         "layout": {
          "annotationdefaults": {
           "arrowcolor": "#2a3f5f",
           "arrowhead": 0,
           "arrowwidth": 1
          },
          "autotypenumbers": "strict",
          "coloraxis": {
           "colorbar": {
            "outlinewidth": 0,
            "ticks": ""
           }
          },
          "colorscale": {
           "diverging": [
            [
             0,
             "#8e0152"
            ],
            [
             0.1,
             "#c51b7d"
            ],
            [
             0.2,
             "#de77ae"
            ],
            [
             0.3,
             "#f1b6da"
            ],
            [
             0.4,
             "#fde0ef"
            ],
            [
             0.5,
             "#f7f7f7"
            ],
            [
             0.6,
             "#e6f5d0"
            ],
            [
             0.7,
             "#b8e186"
            ],
            [
             0.8,
             "#7fbc41"
            ],
            [
             0.9,
             "#4d9221"
            ],
            [
             1,
             "#276419"
            ]
           ],
           "sequential": [
            [
             0,
             "#0d0887"
            ],
            [
             0.1111111111111111,
             "#46039f"
            ],
            [
             0.2222222222222222,
             "#7201a8"
            ],
            [
             0.3333333333333333,
             "#9c179e"
            ],
            [
             0.4444444444444444,
             "#bd3786"
            ],
            [
             0.5555555555555556,
             "#d8576b"
            ],
            [
             0.6666666666666666,
             "#ed7953"
            ],
            [
             0.7777777777777778,
             "#fb9f3a"
            ],
            [
             0.8888888888888888,
             "#fdca26"
            ],
            [
             1,
             "#f0f921"
            ]
           ],
           "sequentialminus": [
            [
             0,
             "#0d0887"
            ],
            [
             0.1111111111111111,
             "#46039f"
            ],
            [
             0.2222222222222222,
             "#7201a8"
            ],
            [
             0.3333333333333333,
             "#9c179e"
            ],
            [
             0.4444444444444444,
             "#bd3786"
            ],
            [
             0.5555555555555556,
             "#d8576b"
            ],
            [
             0.6666666666666666,
             "#ed7953"
            ],
            [
             0.7777777777777778,
             "#fb9f3a"
            ],
            [
             0.8888888888888888,
             "#fdca26"
            ],
            [
             1,
             "#f0f921"
            ]
           ]
          },
          "colorway": [
           "#636efa",
           "#EF553B",
           "#00cc96",
           "#ab63fa",
           "#FFA15A",
           "#19d3f3",
           "#FF6692",
           "#B6E880",
           "#FF97FF",
           "#FECB52"
          ],
          "font": {
           "color": "#2a3f5f"
          },
          "geo": {
           "bgcolor": "white",
           "lakecolor": "white",
           "landcolor": "#E5ECF6",
           "showlakes": true,
           "showland": true,
           "subunitcolor": "white"
          },
          "hoverlabel": {
           "align": "left"
          },
          "hovermode": "closest",
          "mapbox": {
           "style": "light"
          },
          "paper_bgcolor": "white",
          "plot_bgcolor": "#E5ECF6",
          "polar": {
           "angularaxis": {
            "gridcolor": "white",
            "linecolor": "white",
            "ticks": ""
           },
           "bgcolor": "#E5ECF6",
           "radialaxis": {
            "gridcolor": "white",
            "linecolor": "white",
            "ticks": ""
           }
          },
          "scene": {
           "xaxis": {
            "backgroundcolor": "#E5ECF6",
            "gridcolor": "white",
            "gridwidth": 2,
            "linecolor": "white",
            "showbackground": true,
            "ticks": "",
            "zerolinecolor": "white"
           },
           "yaxis": {
            "backgroundcolor": "#E5ECF6",
            "gridcolor": "white",
            "gridwidth": 2,
            "linecolor": "white",
            "showbackground": true,
            "ticks": "",
            "zerolinecolor": "white"
           },
           "zaxis": {
            "backgroundcolor": "#E5ECF6",
            "gridcolor": "white",
            "gridwidth": 2,
            "linecolor": "white",
            "showbackground": true,
            "ticks": "",
            "zerolinecolor": "white"
           }
          },
          "shapedefaults": {
           "line": {
            "color": "#2a3f5f"
           }
          },
          "ternary": {
           "aaxis": {
            "gridcolor": "white",
            "linecolor": "white",
            "ticks": ""
           },
           "baxis": {
            "gridcolor": "white",
            "linecolor": "white",
            "ticks": ""
           },
           "bgcolor": "#E5ECF6",
           "caxis": {
            "gridcolor": "white",
            "linecolor": "white",
            "ticks": ""
           }
          },
          "title": {
           "x": 0.05
          },
          "xaxis": {
           "automargin": true,
           "gridcolor": "white",
           "linecolor": "white",
           "ticks": "",
           "title": {
            "standoff": 15
           },
           "zerolinecolor": "white",
           "zerolinewidth": 2
          },
          "yaxis": {
           "automargin": true,
           "gridcolor": "white",
           "linecolor": "white",
           "ticks": "",
           "title": {
            "standoff": 15
           },
           "zerolinecolor": "white",
           "zerolinewidth": 2
          }
         }
        },
        "title": {
         "font": {
          "color": "#4D5663"
         },
         "text": "CO2 Forecasting"
        },
        "xaxis": {
         "categoryorder": "category ascending",
         "gridcolor": "#E1E5ED",
         "showgrid": true,
         "tickfont": {
          "color": "#4D5663"
         },
         "title": {
          "font": {
           "color": "#4D5663"
          },
          "text": ""
         },
         "zerolinecolor": "#E1E5ED"
        },
        "yaxis": {
         "categoryorder": "category ascending",
         "gridcolor": "#E1E5ED",
         "showgrid": true,
         "tickfont": {
          "color": "#4D5663"
         },
         "title": {
          "font": {
           "color": "#4D5663"
          },
          "text": ""
         },
         "zerolinecolor": "#E1E5ED"
        }
       }
      },
      "text/html": [
       "<div>                            <div id=\"8585e0ab-2e41-4c6b-982b-0f36873bdd51\" class=\"plotly-graph-div\" style=\"height:525px; width:100%;\"></div>            <script type=\"text/javascript\">                require([\"plotly\"], function(Plotly) {                    window.PLOTLYENV=window.PLOTLYENV || {};\n",
       "                    window.PLOTLYENV.BASE_URL='https://plot.ly';                                    if (document.getElementById(\"8585e0ab-2e41-4c6b-982b-0f36873bdd51\")) {                    Plotly.newPlot(                        \"8585e0ab-2e41-4c6b-982b-0f36873bdd51\",                        [{\"line\":{\"color\":\"rgba(255, 153, 51, 1.0)\",\"dash\":\"solid\",\"shape\":\"linear\",\"width\":1.3},\"mode\":\"lines\",\"name\":\"Value\",\"text\":\"\",\"type\":\"scatter\",\"x\":[\"2021\",\"2022\",\"2023\",\"2024\",\"2025\",\"2026\",\"2027\",\"2028\",\"2029\",\"2030\",\"2031\",\"2032\",\"2033\",\"2034\",\"2035\",\"2036\",\"2037\",\"2038\",\"2039\",\"2040\",\"2041\",\"2042\",\"2043\",\"2044\",\"2045\",\"2046\",\"2047\",\"2048\",\"2049\",\"2050\"],\"y\":[1937.741028,1954.371084,1971.401082,1988.791097,2006.511139,2024.531158,2042.821157,2061.371134,2080.151225,2099.141215,2118.321167,2137.551208,2156.701172,2175.761169,2194.75118,2213.661153,2232.50118,2251.2712,2269.971171,2288.591207,2307.151164,2325.651184,2344.101156,2362.51123,2380.871155,2399.191162,2417.461161,2435.691162,2453.871155,2472.00116]},{\"line\":{\"color\":\"rgba(55, 128, 191, 1.0)\",\"dash\":\"solid\",\"shape\":\"linear\",\"width\":1.3},\"mode\":\"lines\",\"name\":\"Prediction\",\"text\":\"\",\"type\":\"scatter\",\"x\":[\"2021\",\"2022\",\"2023\",\"2024\",\"2025\",\"2026\",\"2027\",\"2028\",\"2029\",\"2030\",\"2031\",\"2032\",\"2033\",\"2034\",\"2035\",\"2036\",\"2037\",\"2038\",\"2039\",\"2040\",\"2041\",\"2042\",\"2043\",\"2044\",\"2045\",\"2046\",\"2047\",\"2048\",\"2049\",\"2050\"],\"y\":[1934.938741760882,1949.6488828241893,1965.0929150341335,1977.7791137225195,1990.9464509815884,2003.7608652089916,2016.6071872041746,2029.3249168896136,2043.8493646104425,2057.349950889012,2070.724489987358,2082.4693501722268,2092.8444526718863,2103.815881335852,2115.041199053851,2124.373635055802,2134.1080328644143,2144.851974220118,2155.997093481042,2166.1061985840447,2176.0670630336517,2185.1911855189483,2194.7972009536584,2203.926298370495,2211.386706927576,2220.3703154991667,2230.3915207346877,2238.2788217912416,2246.982783251293,2256.022319915181]}],                        {\"legend\":{\"bgcolor\":\"#F5F6F9\",\"font\":{\"color\":\"#4D5663\"}},\"paper_bgcolor\":\"#F5F6F9\",\"plot_bgcolor\":\"#F5F6F9\",\"template\":{\"data\":{\"bar\":[{\"error_x\":{\"color\":\"#2a3f5f\"},\"error_y\":{\"color\":\"#2a3f5f\"},\"marker\":{\"line\":{\"color\":\"#E5ECF6\",\"width\":0.5},\"pattern\":{\"fillmode\":\"overlay\",\"size\":10,\"solidity\":0.2}},\"type\":\"bar\"}],\"barpolar\":[{\"marker\":{\"line\":{\"color\":\"#E5ECF6\",\"width\":0.5},\"pattern\":{\"fillmode\":\"overlay\",\"size\":10,\"solidity\":0.2}},\"type\":\"barpolar\"}],\"carpet\":[{\"aaxis\":{\"endlinecolor\":\"#2a3f5f\",\"gridcolor\":\"white\",\"linecolor\":\"white\",\"minorgridcolor\":\"white\",\"startlinecolor\":\"#2a3f5f\"},\"baxis\":{\"endlinecolor\":\"#2a3f5f\",\"gridcolor\":\"white\",\"linecolor\":\"white\",\"minorgridcolor\":\"white\",\"startlinecolor\":\"#2a3f5f\"},\"type\":\"carpet\"}],\"choropleth\":[{\"colorbar\":{\"outlinewidth\":0,\"ticks\":\"\"},\"type\":\"choropleth\"}],\"contour\":[{\"colorbar\":{\"outlinewidth\":0,\"ticks\":\"\"},\"colorscale\":[[0.0,\"#0d0887\"],[0.1111111111111111,\"#46039f\"],[0.2222222222222222,\"#7201a8\"],[0.3333333333333333,\"#9c179e\"],[0.4444444444444444,\"#bd3786\"],[0.5555555555555556,\"#d8576b\"],[0.6666666666666666,\"#ed7953\"],[0.7777777777777778,\"#fb9f3a\"],[0.8888888888888888,\"#fdca26\"],[1.0,\"#f0f921\"]],\"type\":\"contour\"}],\"contourcarpet\":[{\"colorbar\":{\"outlinewidth\":0,\"ticks\":\"\"},\"type\":\"contourcarpet\"}],\"heatmap\":[{\"colorbar\":{\"outlinewidth\":0,\"ticks\":\"\"},\"colorscale\":[[0.0,\"#0d0887\"],[0.1111111111111111,\"#46039f\"],[0.2222222222222222,\"#7201a8\"],[0.3333333333333333,\"#9c179e\"],[0.4444444444444444,\"#bd3786\"],[0.5555555555555556,\"#d8576b\"],[0.6666666666666666,\"#ed7953\"],[0.7777777777777778,\"#fb9f3a\"],[0.8888888888888888,\"#fdca26\"],[1.0,\"#f0f921\"]],\"type\":\"heatmap\"}],\"heatmapgl\":[{\"colorbar\":{\"outlinewidth\":0,\"ticks\":\"\"},\"colorscale\":[[0.0,\"#0d0887\"],[0.1111111111111111,\"#46039f\"],[0.2222222222222222,\"#7201a8\"],[0.3333333333333333,\"#9c179e\"],[0.4444444444444444,\"#bd3786\"],[0.5555555555555556,\"#d8576b\"],[0.6666666666666666,\"#ed7953\"],[0.7777777777777778,\"#fb9f3a\"],[0.8888888888888888,\"#fdca26\"],[1.0,\"#f0f921\"]],\"type\":\"heatmapgl\"}],\"histogram\":[{\"marker\":{\"pattern\":{\"fillmode\":\"overlay\",\"size\":10,\"solidity\":0.2}},\"type\":\"histogram\"}],\"histogram2d\":[{\"colorbar\":{\"outlinewidth\":0,\"ticks\":\"\"},\"colorscale\":[[0.0,\"#0d0887\"],[0.1111111111111111,\"#46039f\"],[0.2222222222222222,\"#7201a8\"],[0.3333333333333333,\"#9c179e\"],[0.4444444444444444,\"#bd3786\"],[0.5555555555555556,\"#d8576b\"],[0.6666666666666666,\"#ed7953\"],[0.7777777777777778,\"#fb9f3a\"],[0.8888888888888888,\"#fdca26\"],[1.0,\"#f0f921\"]],\"type\":\"histogram2d\"}],\"histogram2dcontour\":[{\"colorbar\":{\"outlinewidth\":0,\"ticks\":\"\"},\"colorscale\":[[0.0,\"#0d0887\"],[0.1111111111111111,\"#46039f\"],[0.2222222222222222,\"#7201a8\"],[0.3333333333333333,\"#9c179e\"],[0.4444444444444444,\"#bd3786\"],[0.5555555555555556,\"#d8576b\"],[0.6666666666666666,\"#ed7953\"],[0.7777777777777778,\"#fb9f3a\"],[0.8888888888888888,\"#fdca26\"],[1.0,\"#f0f921\"]],\"type\":\"histogram2dcontour\"}],\"mesh3d\":[{\"colorbar\":{\"outlinewidth\":0,\"ticks\":\"\"},\"type\":\"mesh3d\"}],\"parcoords\":[{\"line\":{\"colorbar\":{\"outlinewidth\":0,\"ticks\":\"\"}},\"type\":\"parcoords\"}],\"pie\":[{\"automargin\":true,\"type\":\"pie\"}],\"scatter\":[{\"marker\":{\"colorbar\":{\"outlinewidth\":0,\"ticks\":\"\"}},\"type\":\"scatter\"}],\"scatter3d\":[{\"line\":{\"colorbar\":{\"outlinewidth\":0,\"ticks\":\"\"}},\"marker\":{\"colorbar\":{\"outlinewidth\":0,\"ticks\":\"\"}},\"type\":\"scatter3d\"}],\"scattercarpet\":[{\"marker\":{\"colorbar\":{\"outlinewidth\":0,\"ticks\":\"\"}},\"type\":\"scattercarpet\"}],\"scattergeo\":[{\"marker\":{\"colorbar\":{\"outlinewidth\":0,\"ticks\":\"\"}},\"type\":\"scattergeo\"}],\"scattergl\":[{\"marker\":{\"colorbar\":{\"outlinewidth\":0,\"ticks\":\"\"}},\"type\":\"scattergl\"}],\"scattermapbox\":[{\"marker\":{\"colorbar\":{\"outlinewidth\":0,\"ticks\":\"\"}},\"type\":\"scattermapbox\"}],\"scatterpolar\":[{\"marker\":{\"colorbar\":{\"outlinewidth\":0,\"ticks\":\"\"}},\"type\":\"scatterpolar\"}],\"scatterpolargl\":[{\"marker\":{\"colorbar\":{\"outlinewidth\":0,\"ticks\":\"\"}},\"type\":\"scatterpolargl\"}],\"scatterternary\":[{\"marker\":{\"colorbar\":{\"outlinewidth\":0,\"ticks\":\"\"}},\"type\":\"scatterternary\"}],\"surface\":[{\"colorbar\":{\"outlinewidth\":0,\"ticks\":\"\"},\"colorscale\":[[0.0,\"#0d0887\"],[0.1111111111111111,\"#46039f\"],[0.2222222222222222,\"#7201a8\"],[0.3333333333333333,\"#9c179e\"],[0.4444444444444444,\"#bd3786\"],[0.5555555555555556,\"#d8576b\"],[0.6666666666666666,\"#ed7953\"],[0.7777777777777778,\"#fb9f3a\"],[0.8888888888888888,\"#fdca26\"],[1.0,\"#f0f921\"]],\"type\":\"surface\"}],\"table\":[{\"cells\":{\"fill\":{\"color\":\"#EBF0F8\"},\"line\":{\"color\":\"white\"}},\"header\":{\"fill\":{\"color\":\"#C8D4E3\"},\"line\":{\"color\":\"white\"}},\"type\":\"table\"}]},\"layout\":{\"annotationdefaults\":{\"arrowcolor\":\"#2a3f5f\",\"arrowhead\":0,\"arrowwidth\":1},\"autotypenumbers\":\"strict\",\"coloraxis\":{\"colorbar\":{\"outlinewidth\":0,\"ticks\":\"\"}},\"colorscale\":{\"diverging\":[[0,\"#8e0152\"],[0.1,\"#c51b7d\"],[0.2,\"#de77ae\"],[0.3,\"#f1b6da\"],[0.4,\"#fde0ef\"],[0.5,\"#f7f7f7\"],[0.6,\"#e6f5d0\"],[0.7,\"#b8e186\"],[0.8,\"#7fbc41\"],[0.9,\"#4d9221\"],[1,\"#276419\"]],\"sequential\":[[0.0,\"#0d0887\"],[0.1111111111111111,\"#46039f\"],[0.2222222222222222,\"#7201a8\"],[0.3333333333333333,\"#9c179e\"],[0.4444444444444444,\"#bd3786\"],[0.5555555555555556,\"#d8576b\"],[0.6666666666666666,\"#ed7953\"],[0.7777777777777778,\"#fb9f3a\"],[0.8888888888888888,\"#fdca26\"],[1.0,\"#f0f921\"]],\"sequentialminus\":[[0.0,\"#0d0887\"],[0.1111111111111111,\"#46039f\"],[0.2222222222222222,\"#7201a8\"],[0.3333333333333333,\"#9c179e\"],[0.4444444444444444,\"#bd3786\"],[0.5555555555555556,\"#d8576b\"],[0.6666666666666666,\"#ed7953\"],[0.7777777777777778,\"#fb9f3a\"],[0.8888888888888888,\"#fdca26\"],[1.0,\"#f0f921\"]]},\"colorway\":[\"#636efa\",\"#EF553B\",\"#00cc96\",\"#ab63fa\",\"#FFA15A\",\"#19d3f3\",\"#FF6692\",\"#B6E880\",\"#FF97FF\",\"#FECB52\"],\"font\":{\"color\":\"#2a3f5f\"},\"geo\":{\"bgcolor\":\"white\",\"lakecolor\":\"white\",\"landcolor\":\"#E5ECF6\",\"showlakes\":true,\"showland\":true,\"subunitcolor\":\"white\"},\"hoverlabel\":{\"align\":\"left\"},\"hovermode\":\"closest\",\"mapbox\":{\"style\":\"light\"},\"paper_bgcolor\":\"white\",\"plot_bgcolor\":\"#E5ECF6\",\"polar\":{\"angularaxis\":{\"gridcolor\":\"white\",\"linecolor\":\"white\",\"ticks\":\"\"},\"bgcolor\":\"#E5ECF6\",\"radialaxis\":{\"gridcolor\":\"white\",\"linecolor\":\"white\",\"ticks\":\"\"}},\"scene\":{\"xaxis\":{\"backgroundcolor\":\"#E5ECF6\",\"gridcolor\":\"white\",\"gridwidth\":2,\"linecolor\":\"white\",\"showbackground\":true,\"ticks\":\"\",\"zerolinecolor\":\"white\"},\"yaxis\":{\"backgroundcolor\":\"#E5ECF6\",\"gridcolor\":\"white\",\"gridwidth\":2,\"linecolor\":\"white\",\"showbackground\":true,\"ticks\":\"\",\"zerolinecolor\":\"white\"},\"zaxis\":{\"backgroundcolor\":\"#E5ECF6\",\"gridcolor\":\"white\",\"gridwidth\":2,\"linecolor\":\"white\",\"showbackground\":true,\"ticks\":\"\",\"zerolinecolor\":\"white\"}},\"shapedefaults\":{\"line\":{\"color\":\"#2a3f5f\"}},\"ternary\":{\"aaxis\":{\"gridcolor\":\"white\",\"linecolor\":\"white\",\"ticks\":\"\"},\"baxis\":{\"gridcolor\":\"white\",\"linecolor\":\"white\",\"ticks\":\"\"},\"bgcolor\":\"#E5ECF6\",\"caxis\":{\"gridcolor\":\"white\",\"linecolor\":\"white\",\"ticks\":\"\"}},\"title\":{\"x\":0.05},\"xaxis\":{\"automargin\":true,\"gridcolor\":\"white\",\"linecolor\":\"white\",\"ticks\":\"\",\"title\":{\"standoff\":15},\"zerolinecolor\":\"white\",\"zerolinewidth\":2},\"yaxis\":{\"automargin\":true,\"gridcolor\":\"white\",\"linecolor\":\"white\",\"ticks\":\"\",\"title\":{\"standoff\":15},\"zerolinecolor\":\"white\",\"zerolinewidth\":2}}},\"title\":{\"font\":{\"color\":\"#4D5663\"},\"text\":\"CO2 Forecasting\"},\"xaxis\":{\"categoryorder\":\"category ascending\",\"gridcolor\":\"#E1E5ED\",\"showgrid\":true,\"tickfont\":{\"color\":\"#4D5663\"},\"title\":{\"font\":{\"color\":\"#4D5663\"},\"text\":\"\"},\"zerolinecolor\":\"#E1E5ED\"},\"yaxis\":{\"categoryorder\":\"category ascending\",\"gridcolor\":\"#E1E5ED\",\"showgrid\":true,\"tickfont\":{\"color\":\"#4D5663\"},\"title\":{\"font\":{\"color\":\"#4D5663\"},\"text\":\"\"},\"zerolinecolor\":\"#E1E5ED\"}},                        {\"showLink\": true, \"linkText\": \"Export to plot.ly\", \"plotlyServerURL\": \"https://plot.ly\", \"responsive\": true}                    ).then(function(){\n",
       "                            \n",
       "var gd = document.getElementById('8585e0ab-2e41-4c6b-982b-0f36873bdd51');\n",
       "var x = new MutationObserver(function (mutations, observer) {{\n",
       "        var display = window.getComputedStyle(gd).display;\n",
       "        if (!display || display === 'none') {{\n",
       "            console.log([gd, 'removed!']);\n",
       "            Plotly.purge(gd);\n",
       "            observer.disconnect();\n",
       "        }}\n",
       "}});\n",
       "\n",
       "// Listen for the removal of the full notebook cells\n",
       "var notebookContainer = gd.closest('#notebook-container');\n",
       "if (notebookContainer) {{\n",
       "    x.observe(notebookContainer, {childList: true});\n",
       "}}\n",
       "\n",
       "// Listen for the clearing of the current output cell\n",
       "var outputEl = gd.closest('.output');\n",
       "if (outputEl) {{\n",
       "    x.observe(outputEl, {childList: true});\n",
       "}}\n",
       "\n",
       "                        })                };                });            </script>        </div>"
      ]
     },
     "metadata": {},
     "output_type": "display_data"
    },
    {
     "name": "stdout",
     "output_type": "stream",
     "text": [
      "Performing stepwise search to minimize aic\n",
      " ARIMA(1,1,1)(0,1,1)[12]             : AIC=inf, Time=2.24 sec\n",
      " ARIMA(0,1,0)(0,1,0)[12]             : AIC=311.789, Time=0.06 sec\n",
      " ARIMA(1,1,0)(1,1,0)[12]             : AIC=199.524, Time=0.36 sec\n",
      " ARIMA(0,1,1)(0,1,1)[12]             : AIC=198.860, Time=0.54 sec\n",
      " ARIMA(0,1,1)(0,1,0)[12]             : AIC=225.111, Time=0.11 sec\n",
      " ARIMA(0,1,1)(1,1,1)[12]             : AIC=200.184, Time=0.56 sec\n",
      " ARIMA(0,1,1)(0,1,2)[12]             : AIC=199.031, Time=1.09 sec\n",
      " ARIMA(0,1,1)(1,1,0)[12]             : AIC=201.812, Time=0.30 sec\n",
      " ARIMA(0,1,1)(1,1,2)[12]             : AIC=190.415, Time=2.46 sec\n",
      " ARIMA(0,1,1)(2,1,2)[12]             : AIC=186.172, Time=3.09 sec\n",
      " ARIMA(0,1,1)(2,1,1)[12]             : AIC=197.781, Time=1.48 sec\n",
      " ARIMA(0,1,0)(2,1,2)[12]             : AIC=inf, Time=3.16 sec\n",
      " ARIMA(1,1,1)(2,1,2)[12]             : AIC=94.173, Time=7.62 sec\n",
      " ARIMA(1,1,1)(1,1,2)[12]             : AIC=95.723, Time=5.34 sec\n",
      " ARIMA(1,1,1)(2,1,1)[12]             : AIC=94.373, Time=5.16 sec\n",
      " ARIMA(1,1,1)(1,1,1)[12]             : AIC=inf, Time=2.53 sec\n",
      " ARIMA(1,1,0)(2,1,2)[12]             : AIC=143.725, Time=4.46 sec\n",
      " ARIMA(2,1,1)(2,1,2)[12]             : AIC=145.655, Time=7.62 sec\n",
      " ARIMA(1,1,2)(2,1,2)[12]             : AIC=75.530, Time=7.10 sec\n",
      " ARIMA(1,1,2)(1,1,2)[12]             : AIC=79.860, Time=6.24 sec\n",
      " ARIMA(1,1,2)(2,1,1)[12]             : AIC=74.742, Time=5.79 sec\n",
      " ARIMA(1,1,2)(1,1,1)[12]             : AIC=inf, Time=2.37 sec\n",
      " ARIMA(1,1,2)(2,1,0)[12]             : AIC=108.320, Time=2.84 sec\n",
      " ARIMA(1,1,2)(1,1,0)[12]             : AIC=155.929, Time=1.02 sec\n",
      " ARIMA(0,1,2)(2,1,1)[12]             : AIC=190.299, Time=1.70 sec\n",
      " ARIMA(2,1,2)(2,1,1)[12]             : AIC=70.294, Time=7.32 sec\n",
      " ARIMA(2,1,2)(1,1,1)[12]             : AIC=inf, Time=3.43 sec\n",
      " ARIMA(2,1,2)(2,1,0)[12]             : AIC=104.920, Time=3.63 sec\n",
      " ARIMA(2,1,2)(2,1,2)[12]             : AIC=71.267, Time=8.03 sec\n",
      " ARIMA(2,1,2)(1,1,0)[12]             : AIC=150.308, Time=1.50 sec\n",
      " ARIMA(2,1,2)(1,1,2)[12]             : AIC=73.248, Time=7.23 sec\n",
      " ARIMA(2,1,1)(2,1,1)[12]             : AIC=144.121, Time=4.37 sec\n",
      " ARIMA(3,1,2)(2,1,1)[12]             : AIC=100.321, Time=7.37 sec\n",
      " ARIMA(2,1,3)(2,1,1)[12]             : AIC=76.966, Time=7.81 sec\n",
      " ARIMA(1,1,3)(2,1,1)[12]             : AIC=68.855, Time=6.44 sec\n",
      " ARIMA(1,1,3)(1,1,1)[12]             : AIC=inf, Time=4.06 sec\n",
      " ARIMA(1,1,3)(2,1,0)[12]             : AIC=104.480, Time=2.84 sec\n",
      " ARIMA(1,1,3)(2,1,2)[12]             : AIC=69.140, Time=7.53 sec\n",
      " ARIMA(1,1,3)(1,1,0)[12]             : AIC=148.358, Time=1.41 sec\n",
      " ARIMA(1,1,3)(1,1,2)[12]             : AIC=inf, Time=9.88 sec\n",
      " ARIMA(0,1,3)(2,1,1)[12]             : AIC=182.179, Time=2.45 sec\n",
      " ARIMA(1,1,3)(2,1,1)[12] intercept   : AIC=74.283, Time=11.09 sec\n",
      "\n",
      "Best model:  ARIMA(1,1,3)(2,1,1)[12]          \n",
      "Total fit time: 171.737 seconds\n",
      "AIC Value  68.85544028681426\n",
      "[418.33648229 421.15298224 423.96137992 427.05807668 430.0967218\n",
      " 433.08480397 435.97543924 438.89286763 441.6305775  444.46635447\n",
      " 447.53735629 450.81148853 453.99299196 457.23982919 460.27510133\n",
      " 463.37422053 466.49437221 469.72420484 472.98069148 476.0144797\n",
      " 478.9949631  482.09370326 485.24596644 488.68324334 491.90531984\n",
      " 495.39361121 498.67026323 501.95716541 505.41407864 508.73788448]\n"
     ]
    },
    {
     "data": {
      "application/vnd.plotly.v1+json": {
       "config": {
        "linkText": "Export to plot.ly",
        "plotlyServerURL": "https://plot.ly",
        "showLink": true
       },
       "data": [
        {
         "line": {
          "color": "rgba(255, 153, 51, 1.0)",
          "dash": "solid",
          "shape": "linear",
          "width": 1.3
         },
         "mode": "lines",
         "name": "Value",
         "text": "",
         "type": "scatter",
         "x": [
          "2021",
          "2022",
          "2023",
          "2024",
          "2025",
          "2026",
          "2027",
          "2028",
          "2029",
          "2030",
          "2031",
          "2032",
          "2033",
          "2034",
          "2035",
          "2036",
          "2037",
          "2038",
          "2039",
          "2040",
          "2041",
          "2042",
          "2043",
          "2044",
          "2045",
          "2046",
          "2047",
          "2048",
          "2049",
          "2050"
         ],
         "y": [
          418.4609604,
          421.8429591,
          425.2829564,
          428.7839533,
          432.3469518,
          435.9749502,
          439.6699473,
          443.4319509,
          447.2629445,
          451.1639506,
          455.1359507,
          459.165947,
          463.2419459,
          467.364947,
          471.538943,
          475.7649485,
          480.0449448,
          484.3799464,
          488.7719421,
          493.2209422,
          497.7309367,
          502.2919464,
          506.9009425,
          511.5569458,
          516.2639414,
          521.0209401,
          525.8299357,
          530.6919352,
          535.6089427,
          540.5809377
         ]
        },
        {
         "line": {
          "color": "rgba(55, 128, 191, 1.0)",
          "dash": "solid",
          "shape": "linear",
          "width": 1.3
         },
         "mode": "lines",
         "name": "Prediction",
         "text": "",
         "type": "scatter",
         "x": [
          "2021",
          "2022",
          "2023",
          "2024",
          "2025",
          "2026",
          "2027",
          "2028",
          "2029",
          "2030",
          "2031",
          "2032",
          "2033",
          "2034",
          "2035",
          "2036",
          "2037",
          "2038",
          "2039",
          "2040",
          "2041",
          "2042",
          "2043",
          "2044",
          "2045",
          "2046",
          "2047",
          "2048",
          "2049",
          "2050"
         ],
         "y": [
          418.33648229058036,
          421.1529822433794,
          423.96137992026615,
          427.058076675284,
          430.0967217958886,
          433.08480397025943,
          435.97543924001,
          438.89286762963155,
          441.63057749982124,
          444.46635447472994,
          447.53735629273115,
          450.81148853073296,
          453.99299195607756,
          457.2398291861353,
          460.2751013331494,
          463.3742205253966,
          466.494372213225,
          469.72420483757514,
          472.9806914753618,
          476.01447970203395,
          478.9949630959524,
          482.09370326460635,
          485.24596644483296,
          488.6832433446596,
          491.90531984498807,
          495.3936112110235,
          498.6702632274583,
          501.95716540928106,
          505.414078642498,
          508.737884479917
         ]
        }
       ],
       "layout": {
        "legend": {
         "bgcolor": "#F5F6F9",
         "font": {
          "color": "#4D5663"
         }
        },
        "paper_bgcolor": "#F5F6F9",
        "plot_bgcolor": "#F5F6F9",
        "template": {
         "data": {
          "bar": [
           {
            "error_x": {
             "color": "#2a3f5f"
            },
            "error_y": {
             "color": "#2a3f5f"
            },
            "marker": {
             "line": {
              "color": "#E5ECF6",
              "width": 0.5
             },
             "pattern": {
              "fillmode": "overlay",
              "size": 10,
              "solidity": 0.2
             }
            },
            "type": "bar"
           }
          ],
          "barpolar": [
           {
            "marker": {
             "line": {
              "color": "#E5ECF6",
              "width": 0.5
             },
             "pattern": {
              "fillmode": "overlay",
              "size": 10,
              "solidity": 0.2
             }
            },
            "type": "barpolar"
           }
          ],
          "carpet": [
           {
            "aaxis": {
             "endlinecolor": "#2a3f5f",
             "gridcolor": "white",
             "linecolor": "white",
             "minorgridcolor": "white",
             "startlinecolor": "#2a3f5f"
            },
            "baxis": {
             "endlinecolor": "#2a3f5f",
             "gridcolor": "white",
             "linecolor": "white",
             "minorgridcolor": "white",
             "startlinecolor": "#2a3f5f"
            },
            "type": "carpet"
           }
          ],
          "choropleth": [
           {
            "colorbar": {
             "outlinewidth": 0,
             "ticks": ""
            },
            "type": "choropleth"
           }
          ],
          "contour": [
           {
            "colorbar": {
             "outlinewidth": 0,
             "ticks": ""
            },
            "colorscale": [
             [
              0,
              "#0d0887"
             ],
             [
              0.1111111111111111,
              "#46039f"
             ],
             [
              0.2222222222222222,
              "#7201a8"
             ],
             [
              0.3333333333333333,
              "#9c179e"
             ],
             [
              0.4444444444444444,
              "#bd3786"
             ],
             [
              0.5555555555555556,
              "#d8576b"
             ],
             [
              0.6666666666666666,
              "#ed7953"
             ],
             [
              0.7777777777777778,
              "#fb9f3a"
             ],
             [
              0.8888888888888888,
              "#fdca26"
             ],
             [
              1,
              "#f0f921"
             ]
            ],
            "type": "contour"
           }
          ],
          "contourcarpet": [
           {
            "colorbar": {
             "outlinewidth": 0,
             "ticks": ""
            },
            "type": "contourcarpet"
           }
          ],
          "heatmap": [
           {
            "colorbar": {
             "outlinewidth": 0,
             "ticks": ""
            },
            "colorscale": [
             [
              0,
              "#0d0887"
             ],
             [
              0.1111111111111111,
              "#46039f"
             ],
             [
              0.2222222222222222,
              "#7201a8"
             ],
             [
              0.3333333333333333,
              "#9c179e"
             ],
             [
              0.4444444444444444,
              "#bd3786"
             ],
             [
              0.5555555555555556,
              "#d8576b"
             ],
             [
              0.6666666666666666,
              "#ed7953"
             ],
             [
              0.7777777777777778,
              "#fb9f3a"
             ],
             [
              0.8888888888888888,
              "#fdca26"
             ],
             [
              1,
              "#f0f921"
             ]
            ],
            "type": "heatmap"
           }
          ],
          "heatmapgl": [
           {
            "colorbar": {
             "outlinewidth": 0,
             "ticks": ""
            },
            "colorscale": [
             [
              0,
              "#0d0887"
             ],
             [
              0.1111111111111111,
              "#46039f"
             ],
             [
              0.2222222222222222,
              "#7201a8"
             ],
             [
              0.3333333333333333,
              "#9c179e"
             ],
             [
              0.4444444444444444,
              "#bd3786"
             ],
             [
              0.5555555555555556,
              "#d8576b"
             ],
             [
              0.6666666666666666,
              "#ed7953"
             ],
             [
              0.7777777777777778,
              "#fb9f3a"
             ],
             [
              0.8888888888888888,
              "#fdca26"
             ],
             [
              1,
              "#f0f921"
             ]
            ],
            "type": "heatmapgl"
           }
          ],
          "histogram": [
           {
            "marker": {
             "pattern": {
              "fillmode": "overlay",
              "size": 10,
              "solidity": 0.2
             }
            },
            "type": "histogram"
           }
          ],
          "histogram2d": [
           {
            "colorbar": {
             "outlinewidth": 0,
             "ticks": ""
            },
            "colorscale": [
             [
              0,
              "#0d0887"
             ],
             [
              0.1111111111111111,
              "#46039f"
             ],
             [
              0.2222222222222222,
              "#7201a8"
             ],
             [
              0.3333333333333333,
              "#9c179e"
             ],
             [
              0.4444444444444444,
              "#bd3786"
             ],
             [
              0.5555555555555556,
              "#d8576b"
             ],
             [
              0.6666666666666666,
              "#ed7953"
             ],
             [
              0.7777777777777778,
              "#fb9f3a"
             ],
             [
              0.8888888888888888,
              "#fdca26"
             ],
             [
              1,
              "#f0f921"
             ]
            ],
            "type": "histogram2d"
           }
          ],
          "histogram2dcontour": [
           {
            "colorbar": {
             "outlinewidth": 0,
             "ticks": ""
            },
            "colorscale": [
             [
              0,
              "#0d0887"
             ],
             [
              0.1111111111111111,
              "#46039f"
             ],
             [
              0.2222222222222222,
              "#7201a8"
             ],
             [
              0.3333333333333333,
              "#9c179e"
             ],
             [
              0.4444444444444444,
              "#bd3786"
             ],
             [
              0.5555555555555556,
              "#d8576b"
             ],
             [
              0.6666666666666666,
              "#ed7953"
             ],
             [
              0.7777777777777778,
              "#fb9f3a"
             ],
             [
              0.8888888888888888,
              "#fdca26"
             ],
             [
              1,
              "#f0f921"
             ]
            ],
            "type": "histogram2dcontour"
           }
          ],
          "mesh3d": [
           {
            "colorbar": {
             "outlinewidth": 0,
             "ticks": ""
            },
            "type": "mesh3d"
           }
          ],
          "parcoords": [
           {
            "line": {
             "colorbar": {
              "outlinewidth": 0,
              "ticks": ""
             }
            },
            "type": "parcoords"
           }
          ],
          "pie": [
           {
            "automargin": true,
            "type": "pie"
           }
          ],
          "scatter": [
           {
            "marker": {
             "colorbar": {
              "outlinewidth": 0,
              "ticks": ""
             }
            },
            "type": "scatter"
           }
          ],
          "scatter3d": [
           {
            "line": {
             "colorbar": {
              "outlinewidth": 0,
              "ticks": ""
             }
            },
            "marker": {
             "colorbar": {
              "outlinewidth": 0,
              "ticks": ""
             }
            },
            "type": "scatter3d"
           }
          ],
          "scattercarpet": [
           {
            "marker": {
             "colorbar": {
              "outlinewidth": 0,
              "ticks": ""
             }
            },
            "type": "scattercarpet"
           }
          ],
          "scattergeo": [
           {
            "marker": {
             "colorbar": {
              "outlinewidth": 0,
              "ticks": ""
             }
            },
            "type": "scattergeo"
           }
          ],
          "scattergl": [
           {
            "marker": {
             "colorbar": {
              "outlinewidth": 0,
              "ticks": ""
             }
            },
            "type": "scattergl"
           }
          ],
          "scattermapbox": [
           {
            "marker": {
             "colorbar": {
              "outlinewidth": 0,
              "ticks": ""
             }
            },
            "type": "scattermapbox"
           }
          ],
          "scatterpolar": [
           {
            "marker": {
             "colorbar": {
              "outlinewidth": 0,
              "ticks": ""
             }
            },
            "type": "scatterpolar"
           }
          ],
          "scatterpolargl": [
           {
            "marker": {
             "colorbar": {
              "outlinewidth": 0,
              "ticks": ""
             }
            },
            "type": "scatterpolargl"
           }
          ],
          "scatterternary": [
           {
            "marker": {
             "colorbar": {
              "outlinewidth": 0,
              "ticks": ""
             }
            },
            "type": "scatterternary"
           }
          ],
          "surface": [
           {
            "colorbar": {
             "outlinewidth": 0,
             "ticks": ""
            },
            "colorscale": [
             [
              0,
              "#0d0887"
             ],
             [
              0.1111111111111111,
              "#46039f"
             ],
             [
              0.2222222222222222,
              "#7201a8"
             ],
             [
              0.3333333333333333,
              "#9c179e"
             ],
             [
              0.4444444444444444,
              "#bd3786"
             ],
             [
              0.5555555555555556,
              "#d8576b"
             ],
             [
              0.6666666666666666,
              "#ed7953"
             ],
             [
              0.7777777777777778,
              "#fb9f3a"
             ],
             [
              0.8888888888888888,
              "#fdca26"
             ],
             [
              1,
              "#f0f921"
             ]
            ],
            "type": "surface"
           }
          ],
          "table": [
           {
            "cells": {
             "fill": {
              "color": "#EBF0F8"
             },
             "line": {
              "color": "white"
             }
            },
            "header": {
             "fill": {
              "color": "#C8D4E3"
             },
             "line": {
              "color": "white"
             }
            },
            "type": "table"
           }
          ]
         },
         "layout": {
          "annotationdefaults": {
           "arrowcolor": "#2a3f5f",
           "arrowhead": 0,
           "arrowwidth": 1
          },
          "autotypenumbers": "strict",
          "coloraxis": {
           "colorbar": {
            "outlinewidth": 0,
            "ticks": ""
           }
          },
          "colorscale": {
           "diverging": [
            [
             0,
             "#8e0152"
            ],
            [
             0.1,
             "#c51b7d"
            ],
            [
             0.2,
             "#de77ae"
            ],
            [
             0.3,
             "#f1b6da"
            ],
            [
             0.4,
             "#fde0ef"
            ],
            [
             0.5,
             "#f7f7f7"
            ],
            [
             0.6,
             "#e6f5d0"
            ],
            [
             0.7,
             "#b8e186"
            ],
            [
             0.8,
             "#7fbc41"
            ],
            [
             0.9,
             "#4d9221"
            ],
            [
             1,
             "#276419"
            ]
           ],
           "sequential": [
            [
             0,
             "#0d0887"
            ],
            [
             0.1111111111111111,
             "#46039f"
            ],
            [
             0.2222222222222222,
             "#7201a8"
            ],
            [
             0.3333333333333333,
             "#9c179e"
            ],
            [
             0.4444444444444444,
             "#bd3786"
            ],
            [
             0.5555555555555556,
             "#d8576b"
            ],
            [
             0.6666666666666666,
             "#ed7953"
            ],
            [
             0.7777777777777778,
             "#fb9f3a"
            ],
            [
             0.8888888888888888,
             "#fdca26"
            ],
            [
             1,
             "#f0f921"
            ]
           ],
           "sequentialminus": [
            [
             0,
             "#0d0887"
            ],
            [
             0.1111111111111111,
             "#46039f"
            ],
            [
             0.2222222222222222,
             "#7201a8"
            ],
            [
             0.3333333333333333,
             "#9c179e"
            ],
            [
             0.4444444444444444,
             "#bd3786"
            ],
            [
             0.5555555555555556,
             "#d8576b"
            ],
            [
             0.6666666666666666,
             "#ed7953"
            ],
            [
             0.7777777777777778,
             "#fb9f3a"
            ],
            [
             0.8888888888888888,
             "#fdca26"
            ],
            [
             1,
             "#f0f921"
            ]
           ]
          },
          "colorway": [
           "#636efa",
           "#EF553B",
           "#00cc96",
           "#ab63fa",
           "#FFA15A",
           "#19d3f3",
           "#FF6692",
           "#B6E880",
           "#FF97FF",
           "#FECB52"
          ],
          "font": {
           "color": "#2a3f5f"
          },
          "geo": {
           "bgcolor": "white",
           "lakecolor": "white",
           "landcolor": "#E5ECF6",
           "showlakes": true,
           "showland": true,
           "subunitcolor": "white"
          },
          "hoverlabel": {
           "align": "left"
          },
          "hovermode": "closest",
          "mapbox": {
           "style": "light"
          },
          "paper_bgcolor": "white",
          "plot_bgcolor": "#E5ECF6",
          "polar": {
           "angularaxis": {
            "gridcolor": "white",
            "linecolor": "white",
            "ticks": ""
           },
           "bgcolor": "#E5ECF6",
           "radialaxis": {
            "gridcolor": "white",
            "linecolor": "white",
            "ticks": ""
           }
          },
          "scene": {
           "xaxis": {
            "backgroundcolor": "#E5ECF6",
            "gridcolor": "white",
            "gridwidth": 2,
            "linecolor": "white",
            "showbackground": true,
            "ticks": "",
            "zerolinecolor": "white"
           },
           "yaxis": {
            "backgroundcolor": "#E5ECF6",
            "gridcolor": "white",
            "gridwidth": 2,
            "linecolor": "white",
            "showbackground": true,
            "ticks": "",
            "zerolinecolor": "white"
           },
           "zaxis": {
            "backgroundcolor": "#E5ECF6",
            "gridcolor": "white",
            "gridwidth": 2,
            "linecolor": "white",
            "showbackground": true,
            "ticks": "",
            "zerolinecolor": "white"
           }
          },
          "shapedefaults": {
           "line": {
            "color": "#2a3f5f"
           }
          },
          "ternary": {
           "aaxis": {
            "gridcolor": "white",
            "linecolor": "white",
            "ticks": ""
           },
           "baxis": {
            "gridcolor": "white",
            "linecolor": "white",
            "ticks": ""
           },
           "bgcolor": "#E5ECF6",
           "caxis": {
            "gridcolor": "white",
            "linecolor": "white",
            "ticks": ""
           }
          },
          "title": {
           "x": 0.05
          },
          "xaxis": {
           "automargin": true,
           "gridcolor": "white",
           "linecolor": "white",
           "ticks": "",
           "title": {
            "standoff": 15
           },
           "zerolinecolor": "white",
           "zerolinewidth": 2
          },
          "yaxis": {
           "automargin": true,
           "gridcolor": "white",
           "linecolor": "white",
           "ticks": "",
           "title": {
            "standoff": 15
           },
           "zerolinecolor": "white",
           "zerolinewidth": 2
          }
         }
        },
        "title": {
         "font": {
          "color": "#4D5663"
         },
         "text": "CH4 Forecasting"
        },
        "xaxis": {
         "categoryorder": "category ascending",
         "gridcolor": "#E1E5ED",
         "showgrid": true,
         "tickfont": {
          "color": "#4D5663"
         },
         "title": {
          "font": {
           "color": "#4D5663"
          },
          "text": ""
         },
         "zerolinecolor": "#E1E5ED"
        },
        "yaxis": {
         "categoryorder": "category ascending",
         "gridcolor": "#E1E5ED",
         "showgrid": true,
         "tickfont": {
          "color": "#4D5663"
         },
         "title": {
          "font": {
           "color": "#4D5663"
          },
          "text": ""
         },
         "zerolinecolor": "#E1E5ED"
        }
       }
      },
      "text/html": [
       "<div>                            <div id=\"caa18b36-25c7-41b2-85d9-3c86a82cc07d\" class=\"plotly-graph-div\" style=\"height:525px; width:100%;\"></div>            <script type=\"text/javascript\">                require([\"plotly\"], function(Plotly) {                    window.PLOTLYENV=window.PLOTLYENV || {};\n",
       "                    window.PLOTLYENV.BASE_URL='https://plot.ly';                                    if (document.getElementById(\"caa18b36-25c7-41b2-85d9-3c86a82cc07d\")) {                    Plotly.newPlot(                        \"caa18b36-25c7-41b2-85d9-3c86a82cc07d\",                        [{\"line\":{\"color\":\"rgba(255, 153, 51, 1.0)\",\"dash\":\"solid\",\"shape\":\"linear\",\"width\":1.3},\"mode\":\"lines\",\"name\":\"Value\",\"text\":\"\",\"type\":\"scatter\",\"x\":[\"2021\",\"2022\",\"2023\",\"2024\",\"2025\",\"2026\",\"2027\",\"2028\",\"2029\",\"2030\",\"2031\",\"2032\",\"2033\",\"2034\",\"2035\",\"2036\",\"2037\",\"2038\",\"2039\",\"2040\",\"2041\",\"2042\",\"2043\",\"2044\",\"2045\",\"2046\",\"2047\",\"2048\",\"2049\",\"2050\"],\"y\":[418.4609604,421.8429591,425.2829564,428.7839533,432.3469518,435.9749502,439.6699473,443.4319509,447.2629445,451.1639506,455.1359507,459.165947,463.2419459,467.364947,471.538943,475.7649485,480.0449448,484.3799464,488.7719421,493.2209422,497.7309367,502.2919464,506.9009425,511.5569458,516.2639414,521.0209401,525.8299357,530.6919352,535.6089427,540.5809377]},{\"line\":{\"color\":\"rgba(55, 128, 191, 1.0)\",\"dash\":\"solid\",\"shape\":\"linear\",\"width\":1.3},\"mode\":\"lines\",\"name\":\"Prediction\",\"text\":\"\",\"type\":\"scatter\",\"x\":[\"2021\",\"2022\",\"2023\",\"2024\",\"2025\",\"2026\",\"2027\",\"2028\",\"2029\",\"2030\",\"2031\",\"2032\",\"2033\",\"2034\",\"2035\",\"2036\",\"2037\",\"2038\",\"2039\",\"2040\",\"2041\",\"2042\",\"2043\",\"2044\",\"2045\",\"2046\",\"2047\",\"2048\",\"2049\",\"2050\"],\"y\":[418.33648229058036,421.1529822433794,423.96137992026615,427.058076675284,430.0967217958886,433.08480397025943,435.97543924001,438.89286762963155,441.63057749982124,444.46635447472994,447.53735629273115,450.81148853073296,453.99299195607756,457.2398291861353,460.2751013331494,463.3742205253966,466.494372213225,469.72420483757514,472.9806914753618,476.01447970203395,478.9949630959524,482.09370326460635,485.24596644483296,488.6832433446596,491.90531984498807,495.3936112110235,498.6702632274583,501.95716540928106,505.414078642498,508.737884479917]}],                        {\"legend\":{\"bgcolor\":\"#F5F6F9\",\"font\":{\"color\":\"#4D5663\"}},\"paper_bgcolor\":\"#F5F6F9\",\"plot_bgcolor\":\"#F5F6F9\",\"template\":{\"data\":{\"bar\":[{\"error_x\":{\"color\":\"#2a3f5f\"},\"error_y\":{\"color\":\"#2a3f5f\"},\"marker\":{\"line\":{\"color\":\"#E5ECF6\",\"width\":0.5},\"pattern\":{\"fillmode\":\"overlay\",\"size\":10,\"solidity\":0.2}},\"type\":\"bar\"}],\"barpolar\":[{\"marker\":{\"line\":{\"color\":\"#E5ECF6\",\"width\":0.5},\"pattern\":{\"fillmode\":\"overlay\",\"size\":10,\"solidity\":0.2}},\"type\":\"barpolar\"}],\"carpet\":[{\"aaxis\":{\"endlinecolor\":\"#2a3f5f\",\"gridcolor\":\"white\",\"linecolor\":\"white\",\"minorgridcolor\":\"white\",\"startlinecolor\":\"#2a3f5f\"},\"baxis\":{\"endlinecolor\":\"#2a3f5f\",\"gridcolor\":\"white\",\"linecolor\":\"white\",\"minorgridcolor\":\"white\",\"startlinecolor\":\"#2a3f5f\"},\"type\":\"carpet\"}],\"choropleth\":[{\"colorbar\":{\"outlinewidth\":0,\"ticks\":\"\"},\"type\":\"choropleth\"}],\"contour\":[{\"colorbar\":{\"outlinewidth\":0,\"ticks\":\"\"},\"colorscale\":[[0.0,\"#0d0887\"],[0.1111111111111111,\"#46039f\"],[0.2222222222222222,\"#7201a8\"],[0.3333333333333333,\"#9c179e\"],[0.4444444444444444,\"#bd3786\"],[0.5555555555555556,\"#d8576b\"],[0.6666666666666666,\"#ed7953\"],[0.7777777777777778,\"#fb9f3a\"],[0.8888888888888888,\"#fdca26\"],[1.0,\"#f0f921\"]],\"type\":\"contour\"}],\"contourcarpet\":[{\"colorbar\":{\"outlinewidth\":0,\"ticks\":\"\"},\"type\":\"contourcarpet\"}],\"heatmap\":[{\"colorbar\":{\"outlinewidth\":0,\"ticks\":\"\"},\"colorscale\":[[0.0,\"#0d0887\"],[0.1111111111111111,\"#46039f\"],[0.2222222222222222,\"#7201a8\"],[0.3333333333333333,\"#9c179e\"],[0.4444444444444444,\"#bd3786\"],[0.5555555555555556,\"#d8576b\"],[0.6666666666666666,\"#ed7953\"],[0.7777777777777778,\"#fb9f3a\"],[0.8888888888888888,\"#fdca26\"],[1.0,\"#f0f921\"]],\"type\":\"heatmap\"}],\"heatmapgl\":[{\"colorbar\":{\"outlinewidth\":0,\"ticks\":\"\"},\"colorscale\":[[0.0,\"#0d0887\"],[0.1111111111111111,\"#46039f\"],[0.2222222222222222,\"#7201a8\"],[0.3333333333333333,\"#9c179e\"],[0.4444444444444444,\"#bd3786\"],[0.5555555555555556,\"#d8576b\"],[0.6666666666666666,\"#ed7953\"],[0.7777777777777778,\"#fb9f3a\"],[0.8888888888888888,\"#fdca26\"],[1.0,\"#f0f921\"]],\"type\":\"heatmapgl\"}],\"histogram\":[{\"marker\":{\"pattern\":{\"fillmode\":\"overlay\",\"size\":10,\"solidity\":0.2}},\"type\":\"histogram\"}],\"histogram2d\":[{\"colorbar\":{\"outlinewidth\":0,\"ticks\":\"\"},\"colorscale\":[[0.0,\"#0d0887\"],[0.1111111111111111,\"#46039f\"],[0.2222222222222222,\"#7201a8\"],[0.3333333333333333,\"#9c179e\"],[0.4444444444444444,\"#bd3786\"],[0.5555555555555556,\"#d8576b\"],[0.6666666666666666,\"#ed7953\"],[0.7777777777777778,\"#fb9f3a\"],[0.8888888888888888,\"#fdca26\"],[1.0,\"#f0f921\"]],\"type\":\"histogram2d\"}],\"histogram2dcontour\":[{\"colorbar\":{\"outlinewidth\":0,\"ticks\":\"\"},\"colorscale\":[[0.0,\"#0d0887\"],[0.1111111111111111,\"#46039f\"],[0.2222222222222222,\"#7201a8\"],[0.3333333333333333,\"#9c179e\"],[0.4444444444444444,\"#bd3786\"],[0.5555555555555556,\"#d8576b\"],[0.6666666666666666,\"#ed7953\"],[0.7777777777777778,\"#fb9f3a\"],[0.8888888888888888,\"#fdca26\"],[1.0,\"#f0f921\"]],\"type\":\"histogram2dcontour\"}],\"mesh3d\":[{\"colorbar\":{\"outlinewidth\":0,\"ticks\":\"\"},\"type\":\"mesh3d\"}],\"parcoords\":[{\"line\":{\"colorbar\":{\"outlinewidth\":0,\"ticks\":\"\"}},\"type\":\"parcoords\"}],\"pie\":[{\"automargin\":true,\"type\":\"pie\"}],\"scatter\":[{\"marker\":{\"colorbar\":{\"outlinewidth\":0,\"ticks\":\"\"}},\"type\":\"scatter\"}],\"scatter3d\":[{\"line\":{\"colorbar\":{\"outlinewidth\":0,\"ticks\":\"\"}},\"marker\":{\"colorbar\":{\"outlinewidth\":0,\"ticks\":\"\"}},\"type\":\"scatter3d\"}],\"scattercarpet\":[{\"marker\":{\"colorbar\":{\"outlinewidth\":0,\"ticks\":\"\"}},\"type\":\"scattercarpet\"}],\"scattergeo\":[{\"marker\":{\"colorbar\":{\"outlinewidth\":0,\"ticks\":\"\"}},\"type\":\"scattergeo\"}],\"scattergl\":[{\"marker\":{\"colorbar\":{\"outlinewidth\":0,\"ticks\":\"\"}},\"type\":\"scattergl\"}],\"scattermapbox\":[{\"marker\":{\"colorbar\":{\"outlinewidth\":0,\"ticks\":\"\"}},\"type\":\"scattermapbox\"}],\"scatterpolar\":[{\"marker\":{\"colorbar\":{\"outlinewidth\":0,\"ticks\":\"\"}},\"type\":\"scatterpolar\"}],\"scatterpolargl\":[{\"marker\":{\"colorbar\":{\"outlinewidth\":0,\"ticks\":\"\"}},\"type\":\"scatterpolargl\"}],\"scatterternary\":[{\"marker\":{\"colorbar\":{\"outlinewidth\":0,\"ticks\":\"\"}},\"type\":\"scatterternary\"}],\"surface\":[{\"colorbar\":{\"outlinewidth\":0,\"ticks\":\"\"},\"colorscale\":[[0.0,\"#0d0887\"],[0.1111111111111111,\"#46039f\"],[0.2222222222222222,\"#7201a8\"],[0.3333333333333333,\"#9c179e\"],[0.4444444444444444,\"#bd3786\"],[0.5555555555555556,\"#d8576b\"],[0.6666666666666666,\"#ed7953\"],[0.7777777777777778,\"#fb9f3a\"],[0.8888888888888888,\"#fdca26\"],[1.0,\"#f0f921\"]],\"type\":\"surface\"}],\"table\":[{\"cells\":{\"fill\":{\"color\":\"#EBF0F8\"},\"line\":{\"color\":\"white\"}},\"header\":{\"fill\":{\"color\":\"#C8D4E3\"},\"line\":{\"color\":\"white\"}},\"type\":\"table\"}]},\"layout\":{\"annotationdefaults\":{\"arrowcolor\":\"#2a3f5f\",\"arrowhead\":0,\"arrowwidth\":1},\"autotypenumbers\":\"strict\",\"coloraxis\":{\"colorbar\":{\"outlinewidth\":0,\"ticks\":\"\"}},\"colorscale\":{\"diverging\":[[0,\"#8e0152\"],[0.1,\"#c51b7d\"],[0.2,\"#de77ae\"],[0.3,\"#f1b6da\"],[0.4,\"#fde0ef\"],[0.5,\"#f7f7f7\"],[0.6,\"#e6f5d0\"],[0.7,\"#b8e186\"],[0.8,\"#7fbc41\"],[0.9,\"#4d9221\"],[1,\"#276419\"]],\"sequential\":[[0.0,\"#0d0887\"],[0.1111111111111111,\"#46039f\"],[0.2222222222222222,\"#7201a8\"],[0.3333333333333333,\"#9c179e\"],[0.4444444444444444,\"#bd3786\"],[0.5555555555555556,\"#d8576b\"],[0.6666666666666666,\"#ed7953\"],[0.7777777777777778,\"#fb9f3a\"],[0.8888888888888888,\"#fdca26\"],[1.0,\"#f0f921\"]],\"sequentialminus\":[[0.0,\"#0d0887\"],[0.1111111111111111,\"#46039f\"],[0.2222222222222222,\"#7201a8\"],[0.3333333333333333,\"#9c179e\"],[0.4444444444444444,\"#bd3786\"],[0.5555555555555556,\"#d8576b\"],[0.6666666666666666,\"#ed7953\"],[0.7777777777777778,\"#fb9f3a\"],[0.8888888888888888,\"#fdca26\"],[1.0,\"#f0f921\"]]},\"colorway\":[\"#636efa\",\"#EF553B\",\"#00cc96\",\"#ab63fa\",\"#FFA15A\",\"#19d3f3\",\"#FF6692\",\"#B6E880\",\"#FF97FF\",\"#FECB52\"],\"font\":{\"color\":\"#2a3f5f\"},\"geo\":{\"bgcolor\":\"white\",\"lakecolor\":\"white\",\"landcolor\":\"#E5ECF6\",\"showlakes\":true,\"showland\":true,\"subunitcolor\":\"white\"},\"hoverlabel\":{\"align\":\"left\"},\"hovermode\":\"closest\",\"mapbox\":{\"style\":\"light\"},\"paper_bgcolor\":\"white\",\"plot_bgcolor\":\"#E5ECF6\",\"polar\":{\"angularaxis\":{\"gridcolor\":\"white\",\"linecolor\":\"white\",\"ticks\":\"\"},\"bgcolor\":\"#E5ECF6\",\"radialaxis\":{\"gridcolor\":\"white\",\"linecolor\":\"white\",\"ticks\":\"\"}},\"scene\":{\"xaxis\":{\"backgroundcolor\":\"#E5ECF6\",\"gridcolor\":\"white\",\"gridwidth\":2,\"linecolor\":\"white\",\"showbackground\":true,\"ticks\":\"\",\"zerolinecolor\":\"white\"},\"yaxis\":{\"backgroundcolor\":\"#E5ECF6\",\"gridcolor\":\"white\",\"gridwidth\":2,\"linecolor\":\"white\",\"showbackground\":true,\"ticks\":\"\",\"zerolinecolor\":\"white\"},\"zaxis\":{\"backgroundcolor\":\"#E5ECF6\",\"gridcolor\":\"white\",\"gridwidth\":2,\"linecolor\":\"white\",\"showbackground\":true,\"ticks\":\"\",\"zerolinecolor\":\"white\"}},\"shapedefaults\":{\"line\":{\"color\":\"#2a3f5f\"}},\"ternary\":{\"aaxis\":{\"gridcolor\":\"white\",\"linecolor\":\"white\",\"ticks\":\"\"},\"baxis\":{\"gridcolor\":\"white\",\"linecolor\":\"white\",\"ticks\":\"\"},\"bgcolor\":\"#E5ECF6\",\"caxis\":{\"gridcolor\":\"white\",\"linecolor\":\"white\",\"ticks\":\"\"}},\"title\":{\"x\":0.05},\"xaxis\":{\"automargin\":true,\"gridcolor\":\"white\",\"linecolor\":\"white\",\"ticks\":\"\",\"title\":{\"standoff\":15},\"zerolinecolor\":\"white\",\"zerolinewidth\":2},\"yaxis\":{\"automargin\":true,\"gridcolor\":\"white\",\"linecolor\":\"white\",\"ticks\":\"\",\"title\":{\"standoff\":15},\"zerolinecolor\":\"white\",\"zerolinewidth\":2}}},\"title\":{\"font\":{\"color\":\"#4D5663\"},\"text\":\"CH4 Forecasting\"},\"xaxis\":{\"categoryorder\":\"category ascending\",\"gridcolor\":\"#E1E5ED\",\"showgrid\":true,\"tickfont\":{\"color\":\"#4D5663\"},\"title\":{\"font\":{\"color\":\"#4D5663\"},\"text\":\"\"},\"zerolinecolor\":\"#E1E5ED\"},\"yaxis\":{\"categoryorder\":\"category ascending\",\"gridcolor\":\"#E1E5ED\",\"showgrid\":true,\"tickfont\":{\"color\":\"#4D5663\"},\"title\":{\"font\":{\"color\":\"#4D5663\"},\"text\":\"\"},\"zerolinecolor\":\"#E1E5ED\"}},                        {\"showLink\": true, \"linkText\": \"Export to plot.ly\", \"plotlyServerURL\": \"https://plot.ly\", \"responsive\": true}                    ).then(function(){\n",
       "                            \n",
       "var gd = document.getElementById('caa18b36-25c7-41b2-85d9-3c86a82cc07d');\n",
       "var x = new MutationObserver(function (mutations, observer) {{\n",
       "        var display = window.getComputedStyle(gd).display;\n",
       "        if (!display || display === 'none') {{\n",
       "            console.log([gd, 'removed!']);\n",
       "            Plotly.purge(gd);\n",
       "            observer.disconnect();\n",
       "        }}\n",
       "}});\n",
       "\n",
       "// Listen for the removal of the full notebook cells\n",
       "var notebookContainer = gd.closest('#notebook-container');\n",
       "if (notebookContainer) {{\n",
       "    x.observe(notebookContainer, {childList: true});\n",
       "}}\n",
       "\n",
       "// Listen for the clearing of the current output cell\n",
       "var outputEl = gd.closest('.output');\n",
       "if (outputEl) {{\n",
       "    x.observe(outputEl, {childList: true});\n",
       "}}\n",
       "\n",
       "                        })                };                });            </script>        </div>"
      ]
     },
     "metadata": {},
     "output_type": "display_data"
    },
    {
     "name": "stdout",
     "output_type": "stream",
     "text": [
      "Performing stepwise search to minimize aic\n",
      " ARIMA(1,1,1)(0,1,1)[12]             : AIC=inf, Time=2.52 sec\n",
      " ARIMA(0,1,0)(0,1,0)[12]             : AIC=-246.035, Time=0.07 sec\n",
      " ARIMA(1,1,0)(1,1,0)[12]             : AIC=-437.937, Time=0.84 sec\n",
      " ARIMA(0,1,1)(0,1,1)[12]             : AIC=-368.062, Time=1.26 sec\n",
      " ARIMA(1,1,0)(0,1,0)[12]             : AIC=-396.974, Time=0.24 sec\n",
      " ARIMA(1,1,0)(2,1,0)[12]             : AIC=-471.301, Time=1.64 sec\n",
      " ARIMA(1,1,0)(2,1,1)[12]             : AIC=-480.811, Time=4.29 sec\n",
      " ARIMA(1,1,0)(1,1,1)[12]             : AIC=-480.600, Time=1.50 sec\n",
      " ARIMA(1,1,0)(2,1,2)[12]             : AIC=-479.725, Time=6.23 sec\n",
      " ARIMA(1,1,0)(1,1,2)[12]             : AIC=-479.252, Time=5.13 sec\n",
      " ARIMA(0,1,0)(2,1,1)[12]             : AIC=-254.002, Time=2.32 sec\n",
      " ARIMA(2,1,0)(2,1,1)[12]             : AIC=-492.202, Time=5.44 sec\n",
      " ARIMA(2,1,0)(1,1,1)[12]             : AIC=-492.411, Time=2.22 sec\n",
      " ARIMA(2,1,0)(0,1,1)[12]             : AIC=inf, Time=1.28 sec\n",
      " ARIMA(2,1,0)(1,1,0)[12]             : AIC=-439.321, Time=0.60 sec\n",
      " ARIMA(2,1,0)(1,1,2)[12]             : AIC=inf, Time=4.60 sec\n",
      " ARIMA(2,1,0)(0,1,0)[12]             : AIC=-395.999, Time=0.24 sec\n",
      " ARIMA(2,1,0)(0,1,2)[12]             : AIC=inf, Time=4.83 sec\n",
      " ARIMA(2,1,0)(2,1,0)[12]             : AIC=-475.194, Time=2.18 sec\n",
      " ARIMA(2,1,0)(2,1,2)[12]             : AIC=-490.642, Time=6.73 sec\n",
      " ARIMA(3,1,0)(1,1,1)[12]             : AIC=-498.049, Time=2.76 sec\n",
      " ARIMA(3,1,0)(0,1,1)[12]             : AIC=-500.045, Time=1.44 sec\n",
      " ARIMA(3,1,0)(0,1,0)[12]             : AIC=-398.048, Time=0.28 sec\n",
      " ARIMA(3,1,0)(0,1,2)[12]             : AIC=inf, Time=3.27 sec\n",
      " ARIMA(3,1,0)(1,1,0)[12]             : AIC=-443.078, Time=0.86 sec\n",
      " ARIMA(3,1,0)(1,1,2)[12]             : AIC=inf, Time=5.21 sec\n",
      " ARIMA(3,1,1)(0,1,1)[12]             : AIC=-508.129, Time=2.32 sec\n",
      " ARIMA(3,1,1)(0,1,0)[12]             : AIC=-396.103, Time=0.51 sec\n",
      " ARIMA(3,1,1)(1,1,1)[12]             : AIC=inf, Time=2.97 sec\n",
      " ARIMA(3,1,1)(0,1,2)[12]             : AIC=inf, Time=6.05 sec\n",
      " ARIMA(3,1,1)(1,1,0)[12]             : AIC=-444.229, Time=1.58 sec\n",
      " ARIMA(3,1,1)(1,1,2)[12]             : AIC=inf, Time=7.52 sec\n",
      " ARIMA(2,1,1)(0,1,1)[12]             : AIC=inf, Time=2.29 sec\n",
      " ARIMA(3,1,2)(0,1,1)[12]             : AIC=inf, Time=3.47 sec\n",
      " ARIMA(2,1,2)(0,1,1)[12]             : AIC=inf, Time=2.58 sec\n",
      " ARIMA(3,1,1)(0,1,1)[12] intercept   : AIC=inf, Time=1.96 sec\n",
      "\n",
      "Best model:  ARIMA(3,1,1)(0,1,1)[12]          \n",
      "Total fit time: 99.258 seconds\n",
      "AIC Value  -508.12857304025147\n",
      "[332.96655    333.79998404 334.6729306  335.55891014 336.46291278\n",
      " 337.33068755 338.21553035 339.0303225  339.82924566 340.66530102\n",
      " 341.47068619 342.34840155 343.1872541  344.045278   344.93609667\n",
      " 345.83643639 346.75290922 347.63211904 348.52780921 349.35309576\n",
      " 350.16228363 351.00843898 351.82379383 352.71136699 353.55997552\n",
      " 354.42765926 355.32804498 356.23786112 357.16372126 358.05223047]\n"
     ]
    },
    {
     "data": {
      "application/vnd.plotly.v1+json": {
       "config": {
        "linkText": "Export to plot.ly",
        "plotlyServerURL": "https://plot.ly",
        "showLink": true
       },
       "data": [
        {
         "line": {
          "color": "rgba(255, 153, 51, 1.0)",
          "dash": "solid",
          "shape": "linear",
          "width": 1.3
         },
         "mode": "lines",
         "name": "Value",
         "text": "",
         "type": "scatter",
         "x": [
          "2021",
          "2022",
          "2023",
          "2024",
          "2025",
          "2026",
          "2027",
          "2028",
          "2029",
          "2030",
          "2031",
          "2032",
          "2033",
          "2034",
          "2035",
          "2036",
          "2037",
          "2038",
          "2039",
          "2040",
          "2041",
          "2042",
          "2043",
          "2044",
          "2045",
          "2046",
          "2047",
          "2048",
          "2049",
          "2050"
         ],
         "y": [
          332.9889704,
          333.8299764,
          334.6839727,
          335.5519714,
          336.4319763,
          337.3269755,
          338.2339681,
          339.1539714,
          340.0879745,
          341.0339686,
          341.9929759,
          342.9629695,
          343.9409688,
          344.927976,
          345.9239731,
          346.9279734,
          347.9409739,
          348.9619726,
          349.9909719,
          351.0289688,
          352.0749741,
          353.1279755,
          354.186971,
          355.2529729,
          356.3249664,
          357.4029719,
          358.4869741,
          359.5769679,
          360.6739756,
          361.7759705
         ]
        },
        {
         "line": {
          "color": "rgba(55, 128, 191, 1.0)",
          "dash": "solid",
          "shape": "linear",
          "width": 1.3
         },
         "mode": "lines",
         "name": "Prediction",
         "text": "",
         "type": "scatter",
         "x": [
          "2021",
          "2022",
          "2023",
          "2024",
          "2025",
          "2026",
          "2027",
          "2028",
          "2029",
          "2030",
          "2031",
          "2032",
          "2033",
          "2034",
          "2035",
          "2036",
          "2037",
          "2038",
          "2039",
          "2040",
          "2041",
          "2042",
          "2043",
          "2044",
          "2045",
          "2046",
          "2047",
          "2048",
          "2049",
          "2050"
         ],
         "y": [
          332.96654999510906,
          333.79998404128867,
          334.67293059872384,
          335.55891014431455,
          336.46291278132844,
          337.3306875471326,
          338.2155303452572,
          339.0303224986663,
          339.82924565786635,
          340.66530102421643,
          341.47068619107813,
          342.34840155173174,
          343.1872540956204,
          344.0452779975032,
          344.93609667455723,
          345.8364363939935,
          346.75290921793953,
          347.6321190409809,
          348.5278092114773,
          349.35309576232567,
          350.1622836322754,
          351.0084389828795,
          351.8237938287564,
          352.7113669935661,
          353.559975522115,
          354.42765925643033,
          355.3280449800413,
          356.23786111826155,
          357.16372125511526,
          358.052230470376
         ]
        }
       ],
       "layout": {
        "legend": {
         "bgcolor": "#F5F6F9",
         "font": {
          "color": "#4D5663"
         }
        },
        "paper_bgcolor": "#F5F6F9",
        "plot_bgcolor": "#F5F6F9",
        "template": {
         "data": {
          "bar": [
           {
            "error_x": {
             "color": "#2a3f5f"
            },
            "error_y": {
             "color": "#2a3f5f"
            },
            "marker": {
             "line": {
              "color": "#E5ECF6",
              "width": 0.5
             },
             "pattern": {
              "fillmode": "overlay",
              "size": 10,
              "solidity": 0.2
             }
            },
            "type": "bar"
           }
          ],
          "barpolar": [
           {
            "marker": {
             "line": {
              "color": "#E5ECF6",
              "width": 0.5
             },
             "pattern": {
              "fillmode": "overlay",
              "size": 10,
              "solidity": 0.2
             }
            },
            "type": "barpolar"
           }
          ],
          "carpet": [
           {
            "aaxis": {
             "endlinecolor": "#2a3f5f",
             "gridcolor": "white",
             "linecolor": "white",
             "minorgridcolor": "white",
             "startlinecolor": "#2a3f5f"
            },
            "baxis": {
             "endlinecolor": "#2a3f5f",
             "gridcolor": "white",
             "linecolor": "white",
             "minorgridcolor": "white",
             "startlinecolor": "#2a3f5f"
            },
            "type": "carpet"
           }
          ],
          "choropleth": [
           {
            "colorbar": {
             "outlinewidth": 0,
             "ticks": ""
            },
            "type": "choropleth"
           }
          ],
          "contour": [
           {
            "colorbar": {
             "outlinewidth": 0,
             "ticks": ""
            },
            "colorscale": [
             [
              0,
              "#0d0887"
             ],
             [
              0.1111111111111111,
              "#46039f"
             ],
             [
              0.2222222222222222,
              "#7201a8"
             ],
             [
              0.3333333333333333,
              "#9c179e"
             ],
             [
              0.4444444444444444,
              "#bd3786"
             ],
             [
              0.5555555555555556,
              "#d8576b"
             ],
             [
              0.6666666666666666,
              "#ed7953"
             ],
             [
              0.7777777777777778,
              "#fb9f3a"
             ],
             [
              0.8888888888888888,
              "#fdca26"
             ],
             [
              1,
              "#f0f921"
             ]
            ],
            "type": "contour"
           }
          ],
          "contourcarpet": [
           {
            "colorbar": {
             "outlinewidth": 0,
             "ticks": ""
            },
            "type": "contourcarpet"
           }
          ],
          "heatmap": [
           {
            "colorbar": {
             "outlinewidth": 0,
             "ticks": ""
            },
            "colorscale": [
             [
              0,
              "#0d0887"
             ],
             [
              0.1111111111111111,
              "#46039f"
             ],
             [
              0.2222222222222222,
              "#7201a8"
             ],
             [
              0.3333333333333333,
              "#9c179e"
             ],
             [
              0.4444444444444444,
              "#bd3786"
             ],
             [
              0.5555555555555556,
              "#d8576b"
             ],
             [
              0.6666666666666666,
              "#ed7953"
             ],
             [
              0.7777777777777778,
              "#fb9f3a"
             ],
             [
              0.8888888888888888,
              "#fdca26"
             ],
             [
              1,
              "#f0f921"
             ]
            ],
            "type": "heatmap"
           }
          ],
          "heatmapgl": [
           {
            "colorbar": {
             "outlinewidth": 0,
             "ticks": ""
            },
            "colorscale": [
             [
              0,
              "#0d0887"
             ],
             [
              0.1111111111111111,
              "#46039f"
             ],
             [
              0.2222222222222222,
              "#7201a8"
             ],
             [
              0.3333333333333333,
              "#9c179e"
             ],
             [
              0.4444444444444444,
              "#bd3786"
             ],
             [
              0.5555555555555556,
              "#d8576b"
             ],
             [
              0.6666666666666666,
              "#ed7953"
             ],
             [
              0.7777777777777778,
              "#fb9f3a"
             ],
             [
              0.8888888888888888,
              "#fdca26"
             ],
             [
              1,
              "#f0f921"
             ]
            ],
            "type": "heatmapgl"
           }
          ],
          "histogram": [
           {
            "marker": {
             "pattern": {
              "fillmode": "overlay",
              "size": 10,
              "solidity": 0.2
             }
            },
            "type": "histogram"
           }
          ],
          "histogram2d": [
           {
            "colorbar": {
             "outlinewidth": 0,
             "ticks": ""
            },
            "colorscale": [
             [
              0,
              "#0d0887"
             ],
             [
              0.1111111111111111,
              "#46039f"
             ],
             [
              0.2222222222222222,
              "#7201a8"
             ],
             [
              0.3333333333333333,
              "#9c179e"
             ],
             [
              0.4444444444444444,
              "#bd3786"
             ],
             [
              0.5555555555555556,
              "#d8576b"
             ],
             [
              0.6666666666666666,
              "#ed7953"
             ],
             [
              0.7777777777777778,
              "#fb9f3a"
             ],
             [
              0.8888888888888888,
              "#fdca26"
             ],
             [
              1,
              "#f0f921"
             ]
            ],
            "type": "histogram2d"
           }
          ],
          "histogram2dcontour": [
           {
            "colorbar": {
             "outlinewidth": 0,
             "ticks": ""
            },
            "colorscale": [
             [
              0,
              "#0d0887"
             ],
             [
              0.1111111111111111,
              "#46039f"
             ],
             [
              0.2222222222222222,
              "#7201a8"
             ],
             [
              0.3333333333333333,
              "#9c179e"
             ],
             [
              0.4444444444444444,
              "#bd3786"
             ],
             [
              0.5555555555555556,
              "#d8576b"
             ],
             [
              0.6666666666666666,
              "#ed7953"
             ],
             [
              0.7777777777777778,
              "#fb9f3a"
             ],
             [
              0.8888888888888888,
              "#fdca26"
             ],
             [
              1,
              "#f0f921"
             ]
            ],
            "type": "histogram2dcontour"
           }
          ],
          "mesh3d": [
           {
            "colorbar": {
             "outlinewidth": 0,
             "ticks": ""
            },
            "type": "mesh3d"
           }
          ],
          "parcoords": [
           {
            "line": {
             "colorbar": {
              "outlinewidth": 0,
              "ticks": ""
             }
            },
            "type": "parcoords"
           }
          ],
          "pie": [
           {
            "automargin": true,
            "type": "pie"
           }
          ],
          "scatter": [
           {
            "marker": {
             "colorbar": {
              "outlinewidth": 0,
              "ticks": ""
             }
            },
            "type": "scatter"
           }
          ],
          "scatter3d": [
           {
            "line": {
             "colorbar": {
              "outlinewidth": 0,
              "ticks": ""
             }
            },
            "marker": {
             "colorbar": {
              "outlinewidth": 0,
              "ticks": ""
             }
            },
            "type": "scatter3d"
           }
          ],
          "scattercarpet": [
           {
            "marker": {
             "colorbar": {
              "outlinewidth": 0,
              "ticks": ""
             }
            },
            "type": "scattercarpet"
           }
          ],
          "scattergeo": [
           {
            "marker": {
             "colorbar": {
              "outlinewidth": 0,
              "ticks": ""
             }
            },
            "type": "scattergeo"
           }
          ],
          "scattergl": [
           {
            "marker": {
             "colorbar": {
              "outlinewidth": 0,
              "ticks": ""
             }
            },
            "type": "scattergl"
           }
          ],
          "scattermapbox": [
           {
            "marker": {
             "colorbar": {
              "outlinewidth": 0,
              "ticks": ""
             }
            },
            "type": "scattermapbox"
           }
          ],
          "scatterpolar": [
           {
            "marker": {
             "colorbar": {
              "outlinewidth": 0,
              "ticks": ""
             }
            },
            "type": "scatterpolar"
           }
          ],
          "scatterpolargl": [
           {
            "marker": {
             "colorbar": {
              "outlinewidth": 0,
              "ticks": ""
             }
            },
            "type": "scatterpolargl"
           }
          ],
          "scatterternary": [
           {
            "marker": {
             "colorbar": {
              "outlinewidth": 0,
              "ticks": ""
             }
            },
            "type": "scatterternary"
           }
          ],
          "surface": [
           {
            "colorbar": {
             "outlinewidth": 0,
             "ticks": ""
            },
            "colorscale": [
             [
              0,
              "#0d0887"
             ],
             [
              0.1111111111111111,
              "#46039f"
             ],
             [
              0.2222222222222222,
              "#7201a8"
             ],
             [
              0.3333333333333333,
              "#9c179e"
             ],
             [
              0.4444444444444444,
              "#bd3786"
             ],
             [
              0.5555555555555556,
              "#d8576b"
             ],
             [
              0.6666666666666666,
              "#ed7953"
             ],
             [
              0.7777777777777778,
              "#fb9f3a"
             ],
             [
              0.8888888888888888,
              "#fdca26"
             ],
             [
              1,
              "#f0f921"
             ]
            ],
            "type": "surface"
           }
          ],
          "table": [
           {
            "cells": {
             "fill": {
              "color": "#EBF0F8"
             },
             "line": {
              "color": "white"
             }
            },
            "header": {
             "fill": {
              "color": "#C8D4E3"
             },
             "line": {
              "color": "white"
             }
            },
            "type": "table"
           }
          ]
         },
         "layout": {
          "annotationdefaults": {
           "arrowcolor": "#2a3f5f",
           "arrowhead": 0,
           "arrowwidth": 1
          },
          "autotypenumbers": "strict",
          "coloraxis": {
           "colorbar": {
            "outlinewidth": 0,
            "ticks": ""
           }
          },
          "colorscale": {
           "diverging": [
            [
             0,
             "#8e0152"
            ],
            [
             0.1,
             "#c51b7d"
            ],
            [
             0.2,
             "#de77ae"
            ],
            [
             0.3,
             "#f1b6da"
            ],
            [
             0.4,
             "#fde0ef"
            ],
            [
             0.5,
             "#f7f7f7"
            ],
            [
             0.6,
             "#e6f5d0"
            ],
            [
             0.7,
             "#b8e186"
            ],
            [
             0.8,
             "#7fbc41"
            ],
            [
             0.9,
             "#4d9221"
            ],
            [
             1,
             "#276419"
            ]
           ],
           "sequential": [
            [
             0,
             "#0d0887"
            ],
            [
             0.1111111111111111,
             "#46039f"
            ],
            [
             0.2222222222222222,
             "#7201a8"
            ],
            [
             0.3333333333333333,
             "#9c179e"
            ],
            [
             0.4444444444444444,
             "#bd3786"
            ],
            [
             0.5555555555555556,
             "#d8576b"
            ],
            [
             0.6666666666666666,
             "#ed7953"
            ],
            [
             0.7777777777777778,
             "#fb9f3a"
            ],
            [
             0.8888888888888888,
             "#fdca26"
            ],
            [
             1,
             "#f0f921"
            ]
           ],
           "sequentialminus": [
            [
             0,
             "#0d0887"
            ],
            [
             0.1111111111111111,
             "#46039f"
            ],
            [
             0.2222222222222222,
             "#7201a8"
            ],
            [
             0.3333333333333333,
             "#9c179e"
            ],
            [
             0.4444444444444444,
             "#bd3786"
            ],
            [
             0.5555555555555556,
             "#d8576b"
            ],
            [
             0.6666666666666666,
             "#ed7953"
            ],
            [
             0.7777777777777778,
             "#fb9f3a"
            ],
            [
             0.8888888888888888,
             "#fdca26"
            ],
            [
             1,
             "#f0f921"
            ]
           ]
          },
          "colorway": [
           "#636efa",
           "#EF553B",
           "#00cc96",
           "#ab63fa",
           "#FFA15A",
           "#19d3f3",
           "#FF6692",
           "#B6E880",
           "#FF97FF",
           "#FECB52"
          ],
          "font": {
           "color": "#2a3f5f"
          },
          "geo": {
           "bgcolor": "white",
           "lakecolor": "white",
           "landcolor": "#E5ECF6",
           "showlakes": true,
           "showland": true,
           "subunitcolor": "white"
          },
          "hoverlabel": {
           "align": "left"
          },
          "hovermode": "closest",
          "mapbox": {
           "style": "light"
          },
          "paper_bgcolor": "white",
          "plot_bgcolor": "#E5ECF6",
          "polar": {
           "angularaxis": {
            "gridcolor": "white",
            "linecolor": "white",
            "ticks": ""
           },
           "bgcolor": "#E5ECF6",
           "radialaxis": {
            "gridcolor": "white",
            "linecolor": "white",
            "ticks": ""
           }
          },
          "scene": {
           "xaxis": {
            "backgroundcolor": "#E5ECF6",
            "gridcolor": "white",
            "gridwidth": 2,
            "linecolor": "white",
            "showbackground": true,
            "ticks": "",
            "zerolinecolor": "white"
           },
           "yaxis": {
            "backgroundcolor": "#E5ECF6",
            "gridcolor": "white",
            "gridwidth": 2,
            "linecolor": "white",
            "showbackground": true,
            "ticks": "",
            "zerolinecolor": "white"
           },
           "zaxis": {
            "backgroundcolor": "#E5ECF6",
            "gridcolor": "white",
            "gridwidth": 2,
            "linecolor": "white",
            "showbackground": true,
            "ticks": "",
            "zerolinecolor": "white"
           }
          },
          "shapedefaults": {
           "line": {
            "color": "#2a3f5f"
           }
          },
          "ternary": {
           "aaxis": {
            "gridcolor": "white",
            "linecolor": "white",
            "ticks": ""
           },
           "baxis": {
            "gridcolor": "white",
            "linecolor": "white",
            "ticks": ""
           },
           "bgcolor": "#E5ECF6",
           "caxis": {
            "gridcolor": "white",
            "linecolor": "white",
            "ticks": ""
           }
          },
          "title": {
           "x": 0.05
          },
          "xaxis": {
           "automargin": true,
           "gridcolor": "white",
           "linecolor": "white",
           "ticks": "",
           "title": {
            "standoff": 15
           },
           "zerolinecolor": "white",
           "zerolinewidth": 2
          },
          "yaxis": {
           "automargin": true,
           "gridcolor": "white",
           "linecolor": "white",
           "ticks": "",
           "title": {
            "standoff": 15
           },
           "zerolinecolor": "white",
           "zerolinewidth": 2
          }
         }
        },
        "title": {
         "font": {
          "color": "#4D5663"
         },
         "text": "N2O Forecasting"
        },
        "xaxis": {
         "categoryorder": "category ascending",
         "gridcolor": "#E1E5ED",
         "showgrid": true,
         "tickfont": {
          "color": "#4D5663"
         },
         "title": {
          "font": {
           "color": "#4D5663"
          },
          "text": ""
         },
         "zerolinecolor": "#E1E5ED"
        },
        "yaxis": {
         "categoryorder": "category ascending",
         "gridcolor": "#E1E5ED",
         "showgrid": true,
         "tickfont": {
          "color": "#4D5663"
         },
         "title": {
          "font": {
           "color": "#4D5663"
          },
          "text": ""
         },
         "zerolinecolor": "#E1E5ED"
        }
       }
      },
      "text/html": [
       "<div>                            <div id=\"d3254e81-622b-485f-9246-e0351fcac486\" class=\"plotly-graph-div\" style=\"height:525px; width:100%;\"></div>            <script type=\"text/javascript\">                require([\"plotly\"], function(Plotly) {                    window.PLOTLYENV=window.PLOTLYENV || {};\n",
       "                    window.PLOTLYENV.BASE_URL='https://plot.ly';                                    if (document.getElementById(\"d3254e81-622b-485f-9246-e0351fcac486\")) {                    Plotly.newPlot(                        \"d3254e81-622b-485f-9246-e0351fcac486\",                        [{\"line\":{\"color\":\"rgba(255, 153, 51, 1.0)\",\"dash\":\"solid\",\"shape\":\"linear\",\"width\":1.3},\"mode\":\"lines\",\"name\":\"Value\",\"text\":\"\",\"type\":\"scatter\",\"x\":[\"2021\",\"2022\",\"2023\",\"2024\",\"2025\",\"2026\",\"2027\",\"2028\",\"2029\",\"2030\",\"2031\",\"2032\",\"2033\",\"2034\",\"2035\",\"2036\",\"2037\",\"2038\",\"2039\",\"2040\",\"2041\",\"2042\",\"2043\",\"2044\",\"2045\",\"2046\",\"2047\",\"2048\",\"2049\",\"2050\"],\"y\":[332.9889704,333.8299764,334.6839727,335.5519714,336.4319763,337.3269755,338.2339681,339.1539714,340.0879745,341.0339686,341.9929759,342.9629695,343.9409688,344.927976,345.9239731,346.9279734,347.9409739,348.9619726,349.9909719,351.0289688,352.0749741,353.1279755,354.186971,355.2529729,356.3249664,357.4029719,358.4869741,359.5769679,360.6739756,361.7759705]},{\"line\":{\"color\":\"rgba(55, 128, 191, 1.0)\",\"dash\":\"solid\",\"shape\":\"linear\",\"width\":1.3},\"mode\":\"lines\",\"name\":\"Prediction\",\"text\":\"\",\"type\":\"scatter\",\"x\":[\"2021\",\"2022\",\"2023\",\"2024\",\"2025\",\"2026\",\"2027\",\"2028\",\"2029\",\"2030\",\"2031\",\"2032\",\"2033\",\"2034\",\"2035\",\"2036\",\"2037\",\"2038\",\"2039\",\"2040\",\"2041\",\"2042\",\"2043\",\"2044\",\"2045\",\"2046\",\"2047\",\"2048\",\"2049\",\"2050\"],\"y\":[332.96654999510906,333.79998404128867,334.67293059872384,335.55891014431455,336.46291278132844,337.3306875471326,338.2155303452572,339.0303224986663,339.82924565786635,340.66530102421643,341.47068619107813,342.34840155173174,343.1872540956204,344.0452779975032,344.93609667455723,345.8364363939935,346.75290921793953,347.6321190409809,348.5278092114773,349.35309576232567,350.1622836322754,351.0084389828795,351.8237938287564,352.7113669935661,353.559975522115,354.42765925643033,355.3280449800413,356.23786111826155,357.16372125511526,358.052230470376]}],                        {\"legend\":{\"bgcolor\":\"#F5F6F9\",\"font\":{\"color\":\"#4D5663\"}},\"paper_bgcolor\":\"#F5F6F9\",\"plot_bgcolor\":\"#F5F6F9\",\"template\":{\"data\":{\"bar\":[{\"error_x\":{\"color\":\"#2a3f5f\"},\"error_y\":{\"color\":\"#2a3f5f\"},\"marker\":{\"line\":{\"color\":\"#E5ECF6\",\"width\":0.5},\"pattern\":{\"fillmode\":\"overlay\",\"size\":10,\"solidity\":0.2}},\"type\":\"bar\"}],\"barpolar\":[{\"marker\":{\"line\":{\"color\":\"#E5ECF6\",\"width\":0.5},\"pattern\":{\"fillmode\":\"overlay\",\"size\":10,\"solidity\":0.2}},\"type\":\"barpolar\"}],\"carpet\":[{\"aaxis\":{\"endlinecolor\":\"#2a3f5f\",\"gridcolor\":\"white\",\"linecolor\":\"white\",\"minorgridcolor\":\"white\",\"startlinecolor\":\"#2a3f5f\"},\"baxis\":{\"endlinecolor\":\"#2a3f5f\",\"gridcolor\":\"white\",\"linecolor\":\"white\",\"minorgridcolor\":\"white\",\"startlinecolor\":\"#2a3f5f\"},\"type\":\"carpet\"}],\"choropleth\":[{\"colorbar\":{\"outlinewidth\":0,\"ticks\":\"\"},\"type\":\"choropleth\"}],\"contour\":[{\"colorbar\":{\"outlinewidth\":0,\"ticks\":\"\"},\"colorscale\":[[0.0,\"#0d0887\"],[0.1111111111111111,\"#46039f\"],[0.2222222222222222,\"#7201a8\"],[0.3333333333333333,\"#9c179e\"],[0.4444444444444444,\"#bd3786\"],[0.5555555555555556,\"#d8576b\"],[0.6666666666666666,\"#ed7953\"],[0.7777777777777778,\"#fb9f3a\"],[0.8888888888888888,\"#fdca26\"],[1.0,\"#f0f921\"]],\"type\":\"contour\"}],\"contourcarpet\":[{\"colorbar\":{\"outlinewidth\":0,\"ticks\":\"\"},\"type\":\"contourcarpet\"}],\"heatmap\":[{\"colorbar\":{\"outlinewidth\":0,\"ticks\":\"\"},\"colorscale\":[[0.0,\"#0d0887\"],[0.1111111111111111,\"#46039f\"],[0.2222222222222222,\"#7201a8\"],[0.3333333333333333,\"#9c179e\"],[0.4444444444444444,\"#bd3786\"],[0.5555555555555556,\"#d8576b\"],[0.6666666666666666,\"#ed7953\"],[0.7777777777777778,\"#fb9f3a\"],[0.8888888888888888,\"#fdca26\"],[1.0,\"#f0f921\"]],\"type\":\"heatmap\"}],\"heatmapgl\":[{\"colorbar\":{\"outlinewidth\":0,\"ticks\":\"\"},\"colorscale\":[[0.0,\"#0d0887\"],[0.1111111111111111,\"#46039f\"],[0.2222222222222222,\"#7201a8\"],[0.3333333333333333,\"#9c179e\"],[0.4444444444444444,\"#bd3786\"],[0.5555555555555556,\"#d8576b\"],[0.6666666666666666,\"#ed7953\"],[0.7777777777777778,\"#fb9f3a\"],[0.8888888888888888,\"#fdca26\"],[1.0,\"#f0f921\"]],\"type\":\"heatmapgl\"}],\"histogram\":[{\"marker\":{\"pattern\":{\"fillmode\":\"overlay\",\"size\":10,\"solidity\":0.2}},\"type\":\"histogram\"}],\"histogram2d\":[{\"colorbar\":{\"outlinewidth\":0,\"ticks\":\"\"},\"colorscale\":[[0.0,\"#0d0887\"],[0.1111111111111111,\"#46039f\"],[0.2222222222222222,\"#7201a8\"],[0.3333333333333333,\"#9c179e\"],[0.4444444444444444,\"#bd3786\"],[0.5555555555555556,\"#d8576b\"],[0.6666666666666666,\"#ed7953\"],[0.7777777777777778,\"#fb9f3a\"],[0.8888888888888888,\"#fdca26\"],[1.0,\"#f0f921\"]],\"type\":\"histogram2d\"}],\"histogram2dcontour\":[{\"colorbar\":{\"outlinewidth\":0,\"ticks\":\"\"},\"colorscale\":[[0.0,\"#0d0887\"],[0.1111111111111111,\"#46039f\"],[0.2222222222222222,\"#7201a8\"],[0.3333333333333333,\"#9c179e\"],[0.4444444444444444,\"#bd3786\"],[0.5555555555555556,\"#d8576b\"],[0.6666666666666666,\"#ed7953\"],[0.7777777777777778,\"#fb9f3a\"],[0.8888888888888888,\"#fdca26\"],[1.0,\"#f0f921\"]],\"type\":\"histogram2dcontour\"}],\"mesh3d\":[{\"colorbar\":{\"outlinewidth\":0,\"ticks\":\"\"},\"type\":\"mesh3d\"}],\"parcoords\":[{\"line\":{\"colorbar\":{\"outlinewidth\":0,\"ticks\":\"\"}},\"type\":\"parcoords\"}],\"pie\":[{\"automargin\":true,\"type\":\"pie\"}],\"scatter\":[{\"marker\":{\"colorbar\":{\"outlinewidth\":0,\"ticks\":\"\"}},\"type\":\"scatter\"}],\"scatter3d\":[{\"line\":{\"colorbar\":{\"outlinewidth\":0,\"ticks\":\"\"}},\"marker\":{\"colorbar\":{\"outlinewidth\":0,\"ticks\":\"\"}},\"type\":\"scatter3d\"}],\"scattercarpet\":[{\"marker\":{\"colorbar\":{\"outlinewidth\":0,\"ticks\":\"\"}},\"type\":\"scattercarpet\"}],\"scattergeo\":[{\"marker\":{\"colorbar\":{\"outlinewidth\":0,\"ticks\":\"\"}},\"type\":\"scattergeo\"}],\"scattergl\":[{\"marker\":{\"colorbar\":{\"outlinewidth\":0,\"ticks\":\"\"}},\"type\":\"scattergl\"}],\"scattermapbox\":[{\"marker\":{\"colorbar\":{\"outlinewidth\":0,\"ticks\":\"\"}},\"type\":\"scattermapbox\"}],\"scatterpolar\":[{\"marker\":{\"colorbar\":{\"outlinewidth\":0,\"ticks\":\"\"}},\"type\":\"scatterpolar\"}],\"scatterpolargl\":[{\"marker\":{\"colorbar\":{\"outlinewidth\":0,\"ticks\":\"\"}},\"type\":\"scatterpolargl\"}],\"scatterternary\":[{\"marker\":{\"colorbar\":{\"outlinewidth\":0,\"ticks\":\"\"}},\"type\":\"scatterternary\"}],\"surface\":[{\"colorbar\":{\"outlinewidth\":0,\"ticks\":\"\"},\"colorscale\":[[0.0,\"#0d0887\"],[0.1111111111111111,\"#46039f\"],[0.2222222222222222,\"#7201a8\"],[0.3333333333333333,\"#9c179e\"],[0.4444444444444444,\"#bd3786\"],[0.5555555555555556,\"#d8576b\"],[0.6666666666666666,\"#ed7953\"],[0.7777777777777778,\"#fb9f3a\"],[0.8888888888888888,\"#fdca26\"],[1.0,\"#f0f921\"]],\"type\":\"surface\"}],\"table\":[{\"cells\":{\"fill\":{\"color\":\"#EBF0F8\"},\"line\":{\"color\":\"white\"}},\"header\":{\"fill\":{\"color\":\"#C8D4E3\"},\"line\":{\"color\":\"white\"}},\"type\":\"table\"}]},\"layout\":{\"annotationdefaults\":{\"arrowcolor\":\"#2a3f5f\",\"arrowhead\":0,\"arrowwidth\":1},\"autotypenumbers\":\"strict\",\"coloraxis\":{\"colorbar\":{\"outlinewidth\":0,\"ticks\":\"\"}},\"colorscale\":{\"diverging\":[[0,\"#8e0152\"],[0.1,\"#c51b7d\"],[0.2,\"#de77ae\"],[0.3,\"#f1b6da\"],[0.4,\"#fde0ef\"],[0.5,\"#f7f7f7\"],[0.6,\"#e6f5d0\"],[0.7,\"#b8e186\"],[0.8,\"#7fbc41\"],[0.9,\"#4d9221\"],[1,\"#276419\"]],\"sequential\":[[0.0,\"#0d0887\"],[0.1111111111111111,\"#46039f\"],[0.2222222222222222,\"#7201a8\"],[0.3333333333333333,\"#9c179e\"],[0.4444444444444444,\"#bd3786\"],[0.5555555555555556,\"#d8576b\"],[0.6666666666666666,\"#ed7953\"],[0.7777777777777778,\"#fb9f3a\"],[0.8888888888888888,\"#fdca26\"],[1.0,\"#f0f921\"]],\"sequentialminus\":[[0.0,\"#0d0887\"],[0.1111111111111111,\"#46039f\"],[0.2222222222222222,\"#7201a8\"],[0.3333333333333333,\"#9c179e\"],[0.4444444444444444,\"#bd3786\"],[0.5555555555555556,\"#d8576b\"],[0.6666666666666666,\"#ed7953\"],[0.7777777777777778,\"#fb9f3a\"],[0.8888888888888888,\"#fdca26\"],[1.0,\"#f0f921\"]]},\"colorway\":[\"#636efa\",\"#EF553B\",\"#00cc96\",\"#ab63fa\",\"#FFA15A\",\"#19d3f3\",\"#FF6692\",\"#B6E880\",\"#FF97FF\",\"#FECB52\"],\"font\":{\"color\":\"#2a3f5f\"},\"geo\":{\"bgcolor\":\"white\",\"lakecolor\":\"white\",\"landcolor\":\"#E5ECF6\",\"showlakes\":true,\"showland\":true,\"subunitcolor\":\"white\"},\"hoverlabel\":{\"align\":\"left\"},\"hovermode\":\"closest\",\"mapbox\":{\"style\":\"light\"},\"paper_bgcolor\":\"white\",\"plot_bgcolor\":\"#E5ECF6\",\"polar\":{\"angularaxis\":{\"gridcolor\":\"white\",\"linecolor\":\"white\",\"ticks\":\"\"},\"bgcolor\":\"#E5ECF6\",\"radialaxis\":{\"gridcolor\":\"white\",\"linecolor\":\"white\",\"ticks\":\"\"}},\"scene\":{\"xaxis\":{\"backgroundcolor\":\"#E5ECF6\",\"gridcolor\":\"white\",\"gridwidth\":2,\"linecolor\":\"white\",\"showbackground\":true,\"ticks\":\"\",\"zerolinecolor\":\"white\"},\"yaxis\":{\"backgroundcolor\":\"#E5ECF6\",\"gridcolor\":\"white\",\"gridwidth\":2,\"linecolor\":\"white\",\"showbackground\":true,\"ticks\":\"\",\"zerolinecolor\":\"white\"},\"zaxis\":{\"backgroundcolor\":\"#E5ECF6\",\"gridcolor\":\"white\",\"gridwidth\":2,\"linecolor\":\"white\",\"showbackground\":true,\"ticks\":\"\",\"zerolinecolor\":\"white\"}},\"shapedefaults\":{\"line\":{\"color\":\"#2a3f5f\"}},\"ternary\":{\"aaxis\":{\"gridcolor\":\"white\",\"linecolor\":\"white\",\"ticks\":\"\"},\"baxis\":{\"gridcolor\":\"white\",\"linecolor\":\"white\",\"ticks\":\"\"},\"bgcolor\":\"#E5ECF6\",\"caxis\":{\"gridcolor\":\"white\",\"linecolor\":\"white\",\"ticks\":\"\"}},\"title\":{\"x\":0.05},\"xaxis\":{\"automargin\":true,\"gridcolor\":\"white\",\"linecolor\":\"white\",\"ticks\":\"\",\"title\":{\"standoff\":15},\"zerolinecolor\":\"white\",\"zerolinewidth\":2},\"yaxis\":{\"automargin\":true,\"gridcolor\":\"white\",\"linecolor\":\"white\",\"ticks\":\"\",\"title\":{\"standoff\":15},\"zerolinecolor\":\"white\",\"zerolinewidth\":2}}},\"title\":{\"font\":{\"color\":\"#4D5663\"},\"text\":\"N2O Forecasting\"},\"xaxis\":{\"categoryorder\":\"category ascending\",\"gridcolor\":\"#E1E5ED\",\"showgrid\":true,\"tickfont\":{\"color\":\"#4D5663\"},\"title\":{\"font\":{\"color\":\"#4D5663\"},\"text\":\"\"},\"zerolinecolor\":\"#E1E5ED\"},\"yaxis\":{\"categoryorder\":\"category ascending\",\"gridcolor\":\"#E1E5ED\",\"showgrid\":true,\"tickfont\":{\"color\":\"#4D5663\"},\"title\":{\"font\":{\"color\":\"#4D5663\"},\"text\":\"\"},\"zerolinecolor\":\"#E1E5ED\"}},                        {\"showLink\": true, \"linkText\": \"Export to plot.ly\", \"plotlyServerURL\": \"https://plot.ly\", \"responsive\": true}                    ).then(function(){\n",
       "                            \n",
       "var gd = document.getElementById('d3254e81-622b-485f-9246-e0351fcac486');\n",
       "var x = new MutationObserver(function (mutations, observer) {{\n",
       "        var display = window.getComputedStyle(gd).display;\n",
       "        if (!display || display === 'none') {{\n",
       "            console.log([gd, 'removed!']);\n",
       "            Plotly.purge(gd);\n",
       "            observer.disconnect();\n",
       "        }}\n",
       "}});\n",
       "\n",
       "// Listen for the removal of the full notebook cells\n",
       "var notebookContainer = gd.closest('#notebook-container');\n",
       "if (notebookContainer) {{\n",
       "    x.observe(notebookContainer, {childList: true});\n",
       "}}\n",
       "\n",
       "// Listen for the clearing of the current output cell\n",
       "var outputEl = gd.closest('.output');\n",
       "if (outputEl) {{\n",
       "    x.observe(outputEl, {childList: true});\n",
       "}}\n",
       "\n",
       "                        })                };                });            </script>        </div>"
      ]
     },
     "metadata": {},
     "output_type": "display_data"
    }
   ],
   "source": [
    "for i, row in df_combined.iterrows():\n",
    "    fig_emissions = go.Figure()\n",
    "    if i == 0:\n",
    "        df_Co2, df_Co2_forecastGT = create_df(i)\n",
    "#         plot(df_Co2,\"CO2 Concentration\" )\n",
    "        fig_emissions.add_trace(\n",
    "            go.Scatter(x = df_Co2[\"Year\"].to_list() ,y = df_Co2[\"Value\"].to_list(),name=\"CO2\")\n",
    "            )\n",
    "        df_Co2_forecastGT= df_Co2_forecastGT.set_index('Year')\n",
    "        build_model_and_forecast(df_Co2, df_Co2_forecastGT, \"CO2 Forecasting\")\n",
    "        \n",
    "    elif i == 1:\n",
    "        df_CH4, df_CH4_forecastGT = create_df(i)\n",
    "#         plot(df_CH4, \"CH4 Concentration\" )\n",
    "        fig_emissions.add_trace(\n",
    "            go.Scatter(x = df_CH4[\"Year\"].to_list() ,y = df_CH4[\"Value\"].to_list(),name=\"CH4\")\n",
    "            )\n",
    "        df_CH4_forecastGT= df_CH4_forecastGT.set_index('Year')\n",
    "        build_model_and_forecast(df_CH4, df_CH4_forecastGT,\"CH4 Forecasting\")\n",
    "        \n",
    "    elif i == 42:\n",
    "        df_N2O, df_N2O_forecastGT = create_df(i)\n",
    "#         plot(df_N2O, \"N2O Concentration\" ) \n",
    "        \n",
    "        df_N2O_forecastGT= df_N2O_forecastGT.set_index('Year')\n",
    "        build_model_and_forecast(df_N2O, df_N2O_forecastGT,\"N2O Forecasting\")\n",
    "    \n",
    "        \n",
    "        "
   ]
  },
  {
   "cell_type": "markdown",
   "id": "419627ae",
   "metadata": {},
   "source": [
    "### CO2 Emissions across different Sectors"
   ]
  },
  {
   "cell_type": "code",
   "execution_count": 13,
   "id": "a6720052",
   "metadata": {},
   "outputs": [],
   "source": [
    "df_CO2_fossil_industry = pd.read_csv(r\"Dataset/Total_Fossil_Industy.csv\")"
   ]
  },
  {
   "cell_type": "code",
   "execution_count": 14,
   "id": "4789bcb7",
   "metadata": {},
   "outputs": [
    {
     "data": {
      "text/html": [
       "<div><div id=5237b145-9a2e-48a8-a90f-15b9361a5cd7 style=\"display:none; background-color:#9D6CFF; color:white; width:200px; height:30px; padding-left:5px; border-radius:4px; flex-direction:row; justify-content:space-around; align-items:center;\" onmouseover=\"this.style.backgroundColor='#BA9BF8'\" onmouseout=\"this.style.backgroundColor='#9D6CFF'\" onclick=\"window.commands?.execute('create-mitosheet-from-dataframe-output');\">See Full Dataframe in Mito</div> <script> if (window.commands.hasCommand('create-mitosheet-from-dataframe-output')) document.getElementById('5237b145-9a2e-48a8-a90f-15b9361a5cd7').style.display = 'flex' </script> <table border=\"1\" class=\"dataframe\">\n",
       "  <thead>\n",
       "    <tr style=\"text-align: right;\">\n",
       "      <th></th>\n",
       "      <th>Year</th>\n",
       "      <th>Fossil and Industrial</th>\n",
       "    </tr>\n",
       "  </thead>\n",
       "  <tbody>\n",
       "    <tr>\n",
       "      <th>0</th>\n",
       "      <td>1750</td>\n",
       "      <td>9.505620</td>\n",
       "    </tr>\n",
       "    <tr>\n",
       "      <th>1</th>\n",
       "      <td>1751</td>\n",
       "      <td>9.505963</td>\n",
       "    </tr>\n",
       "    <tr>\n",
       "      <th>2</th>\n",
       "      <td>1752</td>\n",
       "      <td>9.510002</td>\n",
       "    </tr>\n",
       "    <tr>\n",
       "      <th>3</th>\n",
       "      <td>1753</td>\n",
       "      <td>9.510345</td>\n",
       "    </tr>\n",
       "    <tr>\n",
       "      <th>4</th>\n",
       "      <td>1754</td>\n",
       "      <td>9.514384</td>\n",
       "    </tr>\n",
       "  </tbody>\n",
       "</table></div>"
      ],
      "text/plain": [
       "   Year  Fossil and Industrial\n",
       "0  1750               9.505620\n",
       "1  1751               9.505963\n",
       "2  1752               9.510002\n",
       "3  1753               9.510345\n",
       "4  1754               9.514384"
      ]
     },
     "execution_count": 14,
     "metadata": {},
     "output_type": "execute_result"
    }
   ],
   "source": [
    "df_CO2_fossil_industry.head()"
   ]
  },
  {
   "cell_type": "code",
   "execution_count": 15,
   "id": "62af2adb",
   "metadata": {},
   "outputs": [
    {
     "data": {
      "text/html": [
       "<div><div id=4e3f84ed-8231-4fe7-9434-dac8bb8120d6 style=\"display:none; background-color:#9D6CFF; color:white; width:200px; height:30px; padding-left:5px; border-radius:4px; flex-direction:row; justify-content:space-around; align-items:center;\" onmouseover=\"this.style.backgroundColor='#BA9BF8'\" onmouseout=\"this.style.backgroundColor='#9D6CFF'\" onclick=\"window.commands?.execute('create-mitosheet-from-dataframe-output');\">See Full Dataframe in Mito</div> <script> if (window.commands.hasCommand('create-mitosheet-from-dataframe-output')) document.getElementById('4e3f84ed-8231-4fe7-9434-dac8bb8120d6').style.display = 'flex' </script> <table border=\"1\" class=\"dataframe\">\n",
       "  <thead>\n",
       "    <tr style=\"text-align: right;\">\n",
       "      <th></th>\n",
       "      <th>Year</th>\n",
       "      <th>Fossil and Industrial</th>\n",
       "    </tr>\n",
       "  </thead>\n",
       "  <tbody>\n",
       "    <tr>\n",
       "      <th>266</th>\n",
       "      <td>2016</td>\n",
       "      <td>35702.1833</td>\n",
       "    </tr>\n",
       "    <tr>\n",
       "      <th>267</th>\n",
       "      <td>2017</td>\n",
       "      <td>35807.3679</td>\n",
       "    </tr>\n",
       "    <tr>\n",
       "      <th>268</th>\n",
       "      <td>2018</td>\n",
       "      <td>36456.9087</td>\n",
       "    </tr>\n",
       "    <tr>\n",
       "      <th>269</th>\n",
       "      <td>2019</td>\n",
       "      <td>36908.1024</td>\n",
       "    </tr>\n",
       "    <tr>\n",
       "      <th>270</th>\n",
       "      <td>2020</td>\n",
       "      <td>37388.1289</td>\n",
       "    </tr>\n",
       "  </tbody>\n",
       "</table></div>"
      ],
      "text/plain": [
       "     Year  Fossil and Industrial\n",
       "266  2016             35702.1833\n",
       "267  2017             35807.3679\n",
       "268  2018             36456.9087\n",
       "269  2019             36908.1024\n",
       "270  2020             37388.1289"
      ]
     },
     "execution_count": 15,
     "metadata": {},
     "output_type": "execute_result"
    }
   ],
   "source": [
    "df_CO2_fossil_industry.tail()"
   ]
  },
  {
   "cell_type": "code",
   "execution_count": 16,
   "id": "fc23c75a",
   "metadata": {},
   "outputs": [],
   "source": [
    "df_CO2_agriculture_forest = pd.read_csv(r\"Dataset/Total_Agriculture_forest.csv\")"
   ]
  },
  {
   "cell_type": "code",
   "execution_count": 17,
   "id": "a00a1fff",
   "metadata": {},
   "outputs": [
    {
     "data": {
      "text/html": [
       "<div><div id=ef74514d-1a10-4343-adde-652f0b8a81b2 style=\"display:none; background-color:#9D6CFF; color:white; width:200px; height:30px; padding-left:5px; border-radius:4px; flex-direction:row; justify-content:space-around; align-items:center;\" onmouseover=\"this.style.backgroundColor='#BA9BF8'\" onmouseout=\"this.style.backgroundColor='#9D6CFF'\" onclick=\"window.commands?.execute('create-mitosheet-from-dataframe-output');\">See Full Dataframe in Mito</div> <script> if (window.commands.hasCommand('create-mitosheet-from-dataframe-output')) document.getElementById('ef74514d-1a10-4343-adde-652f0b8a81b2').style.display = 'flex' </script> <table border=\"1\" class=\"dataframe\">\n",
       "  <thead>\n",
       "    <tr style=\"text-align: right;\">\n",
       "      <th></th>\n",
       "      <th>Year</th>\n",
       "      <th>Agriculture Waste and Forest Burining</th>\n",
       "    </tr>\n",
       "  </thead>\n",
       "  <tbody>\n",
       "    <tr>\n",
       "      <th>0</th>\n",
       "      <td>1750</td>\n",
       "      <td>297.464607</td>\n",
       "    </tr>\n",
       "    <tr>\n",
       "      <th>1</th>\n",
       "      <td>1751</td>\n",
       "      <td>302.937098</td>\n",
       "    </tr>\n",
       "    <tr>\n",
       "      <th>2</th>\n",
       "      <td>1752</td>\n",
       "      <td>308.510269</td>\n",
       "    </tr>\n",
       "    <tr>\n",
       "      <th>3</th>\n",
       "      <td>1753</td>\n",
       "      <td>314.185969</td>\n",
       "    </tr>\n",
       "    <tr>\n",
       "      <th>4</th>\n",
       "      <td>1754</td>\n",
       "      <td>319.966086</td>\n",
       "    </tr>\n",
       "  </tbody>\n",
       "</table></div>"
      ],
      "text/plain": [
       "   Year  Agriculture Waste and Forest Burining\n",
       "0  1750                             297.464607\n",
       "1  1751                             302.937098\n",
       "2  1752                             308.510269\n",
       "3  1753                             314.185969\n",
       "4  1754                             319.966086"
      ]
     },
     "execution_count": 17,
     "metadata": {},
     "output_type": "execute_result"
    }
   ],
   "source": [
    "df_CO2_agriculture_forest.head()"
   ]
  },
  {
   "cell_type": "code",
   "execution_count": 18,
   "id": "4d6a0831",
   "metadata": {},
   "outputs": [
    {
     "data": {
      "text/html": [
       "<div><div id=8d912887-a127-497f-9212-7c4303a0ca5a style=\"display:none; background-color:#9D6CFF; color:white; width:200px; height:30px; padding-left:5px; border-radius:4px; flex-direction:row; justify-content:space-around; align-items:center;\" onmouseover=\"this.style.backgroundColor='#BA9BF8'\" onmouseout=\"this.style.backgroundColor='#9D6CFF'\" onclick=\"window.commands?.execute('create-mitosheet-from-dataframe-output');\">See Full Dataframe in Mito</div> <script> if (window.commands.hasCommand('create-mitosheet-from-dataframe-output')) document.getElementById('8d912887-a127-497f-9212-7c4303a0ca5a').style.display = 'flex' </script> <table border=\"1\" class=\"dataframe\">\n",
       "  <thead>\n",
       "    <tr style=\"text-align: right;\">\n",
       "      <th></th>\n",
       "      <th>Year</th>\n",
       "      <th>Agriculture Waste and Forest Burining</th>\n",
       "    </tr>\n",
       "  </thead>\n",
       "  <tbody>\n",
       "    <tr>\n",
       "      <th>266</th>\n",
       "      <td>2016</td>\n",
       "      <td>3653.314500</td>\n",
       "    </tr>\n",
       "    <tr>\n",
       "      <th>267</th>\n",
       "      <td>2017</td>\n",
       "      <td>3712.513000</td>\n",
       "    </tr>\n",
       "    <tr>\n",
       "      <th>268</th>\n",
       "      <td>2018</td>\n",
       "      <td>3815.198000</td>\n",
       "    </tr>\n",
       "    <tr>\n",
       "      <th>269</th>\n",
       "      <td>2019</td>\n",
       "      <td>3545.549800</td>\n",
       "    </tr>\n",
       "    <tr>\n",
       "      <th>270</th>\n",
       "      <td>2020</td>\n",
       "      <td>3259.400999</td>\n",
       "    </tr>\n",
       "  </tbody>\n",
       "</table></div>"
      ],
      "text/plain": [
       "     Year  Agriculture Waste and Forest Burining\n",
       "266  2016                            3653.314500\n",
       "267  2017                            3712.513000\n",
       "268  2018                            3815.198000\n",
       "269  2019                            3545.549800\n",
       "270  2020                            3259.400999"
      ]
     },
     "execution_count": 18,
     "metadata": {},
     "output_type": "execute_result"
    }
   ],
   "source": [
    "df_CO2_agriculture_forest.tail()"
   ]
  },
  {
   "cell_type": "code",
   "execution_count": 19,
   "id": "2477cde5",
   "metadata": {},
   "outputs": [
    {
     "data": {
      "application/vnd.plotly.v1+json": {
       "config": {
        "plotlyServerURL": "https://plot.ly"
       },
       "data": [
        {
         "name": "Fossil and Industrial",
         "type": "scatter",
         "x": [
          1750,
          1751,
          1752,
          1753,
          1754,
          1755,
          1756,
          1757,
          1758,
          1759,
          1760,
          1761,
          1762,
          1763,
          1764,
          1765,
          1766,
          1767,
          1768,
          1769,
          1770,
          1771,
          1772,
          1773,
          1774,
          1775,
          1776,
          1777,
          1778,
          1779,
          1780,
          1781,
          1782,
          1783,
          1784,
          1785,
          1786,
          1787,
          1788,
          1789,
          1790,
          1791,
          1792,
          1793,
          1794,
          1795,
          1796,
          1797,
          1798,
          1799,
          1800,
          1801,
          1802,
          1803,
          1804,
          1805,
          1806,
          1807,
          1808,
          1809,
          1810,
          1811,
          1812,
          1813,
          1814,
          1815,
          1816,
          1817,
          1818,
          1819,
          1820,
          1821,
          1822,
          1823,
          1824,
          1825,
          1826,
          1827,
          1828,
          1829,
          1830,
          1831,
          1832,
          1833,
          1834,
          1835,
          1836,
          1837,
          1838,
          1839,
          1840,
          1841,
          1842,
          1843,
          1844,
          1845,
          1846,
          1847,
          1848,
          1849,
          1850,
          1851,
          1852,
          1853,
          1854,
          1855,
          1856,
          1857,
          1858,
          1859,
          1860,
          1861,
          1862,
          1863,
          1864,
          1865,
          1866,
          1867,
          1868,
          1869,
          1870,
          1871,
          1872,
          1873,
          1874,
          1875,
          1876,
          1877,
          1878,
          1879,
          1880,
          1881,
          1882,
          1883,
          1884,
          1885,
          1886,
          1887,
          1888,
          1889,
          1890,
          1891,
          1892,
          1893,
          1894,
          1895,
          1896,
          1897,
          1898,
          1899,
          1900,
          1901,
          1902,
          1903,
          1904,
          1905,
          1906,
          1907,
          1908,
          1909,
          1910,
          1911,
          1912,
          1913,
          1914,
          1915,
          1916,
          1917,
          1918,
          1919,
          1920,
          1921,
          1922,
          1923,
          1924,
          1925,
          1926,
          1927,
          1928,
          1929,
          1930,
          1931,
          1932,
          1933,
          1934,
          1935,
          1936,
          1937,
          1938,
          1939,
          1940,
          1941,
          1942,
          1943,
          1944,
          1945,
          1946,
          1947,
          1948,
          1949,
          1950,
          1951,
          1952,
          1953,
          1954,
          1955,
          1956,
          1957,
          1958,
          1959,
          1960,
          1961,
          1962,
          1963,
          1964,
          1965,
          1966,
          1967,
          1968,
          1969,
          1970,
          1971,
          1972,
          1973,
          1974,
          1975,
          1976,
          1977,
          1978,
          1979,
          1980,
          1981,
          1982,
          1983,
          1984,
          1985,
          1986,
          1987,
          1988,
          1989,
          1990,
          1991,
          1992,
          1993,
          1994,
          1995,
          1996,
          1997,
          1998,
          1999,
          2000,
          2001,
          2002,
          2003,
          2004,
          2005,
          2006,
          2007,
          2008,
          2009,
          2010,
          2011,
          2012,
          2013,
          2014,
          2015,
          2016,
          2017,
          2018,
          2019,
          2020
         ],
         "y": [
          9.505619891,
          9.505963229,
          9.510002042,
          9.51034538,
          9.514384194,
          9.518423007,
          10.16917002,
          10.17320884,
          10.17724765,
          10.18128646,
          10.1816298,
          11.14651159,
          11.15056977,
          11.15462794,
          11.15868611,
          11.16274429,
          12.44543696,
          12.44949514,
          12.45355331,
          12.45761148,
          12.46166966,
          13.81090157,
          13.81498041,
          13.81905926,
          13.8231381,
          13.82721695,
          15.25035837,
          15.25443721,
          15.25851606,
          15.2625949,
          15.27036922,
          17.07416836,
          17.07827094,
          17.08606901,
          17.09017159,
          17.10194574,
          19.40463405,
          19.41243212,
          19.4165347,
          19.42433276,
          19.43213083,
          21.69419182,
          22.34876643,
          22.37174568,
          22.32534355,
          22.33821728,
          23.43921459,
          24.5980621,
          25.61685792,
          26.98144303,
          28.77780539,
          28.55469611,
          37.07238349,
          32.11505223,
          35.05259222,
          34.26830496,
          35.86203938,
          38.36726044,
          35.85692752,
          35.88850331,
          38.156726,
          40.3635149,
          41.75970724,
          41.95454084,
          42.8876376,
          44.31824074,
          49.03968264,
          51.19270204,
          51.50323308,
          51.74568402,
          52.53618867,
          53.36192138,
          55.45545554,
          58.7709369,
          60.46706104,
          63.111523,
          63.69625003,
          68.30482988,
          68.9822692,
          68.39394372,
          91.36832944,
          86.70145063,
          86.79580076,
          88.77741696,
          90.5212983,
          92.61388732,
          107.0790399,
          107.2231617,
          110.9912884,
          114.735853,
          122.9164271,
          126.7943459,
          134.2652383,
          137.2349296,
          146.0170923,
          160.4739031,
          161.9589046,
          173.9315477,
          172.660674,
          179.0134873,
          188.2971893,
          188.9473101,
          196.5696209,
          205.0343782,
          241.4710874,
          243.9077243,
          260.8928805,
          263.451509,
          267.6077703,
          285.2848882,
          314.4307083,
          331.4036247,
          336.6365241,
          357.2415719,
          383.759646,
          406.520184,
          420.4531021,
          449.1953027,
          460.2890534,
          488.4396241,
          500.8359388,
          532.2577503,
          587.5811859,
          623.3057592,
          590.0221812,
          634.898549,
          644.7162038,
          658.9603312,
          662.4475459,
          707.8810192,
          803.7596678,
          825.3182473,
          868.2868736,
          919.3900694,
          926.5548868,
          932.3926773,
          946.6222192,
          992.9671993,
          1095.757642,
          1097.120159,
          1191.992969,
          1247.575065,
          1256.707537,
          1238.107898,
          1286.676887,
          1362.118796,
          1405.955764,
          1473.038386,
          1551.175545,
          1697.800966,
          1788.820939,
          1848.660826,
          1903.11229,
          2075.742538,
          2107.614101,
          2243.726713,
          2360.91611,
          2663.744559,
          2576.958064,
          2672.675265,
          2805.96325,
          2861.986257,
          3004.722072,
          3259.649461,
          2973.66654,
          2942.51981,
          3170.958207,
          3285.621644,
          3251.813367,
          2861.421008,
          3309.21524,
          2908.96889,
          3092.413999,
          3516.252425,
          3555.830056,
          3604.712598,
          3558.887022,
          3928.22156,
          3943.582919,
          4239.586225,
          3931.53488,
          3549.645518,
          3225.71824,
          3383.942487,
          3666.967337,
          3849.855802,
          4215.457073,
          4511.311211,
          4255.968439,
          4516.84672,
          4882.854452,
          4973.871648,
          4980.163241,
          5141.019629,
          5085.933086,
          4327.405026,
          4742.566944,
          5313.062133,
          5649.648194,
          5551.761022,
          6213.731176,
          6659.606041,
          6786.099892,
          6984.021272,
          7165.186495,
          7837.469428,
          8395.39109,
          8738.872584,
          9040.53885,
          9541.019563,
          9998.246947,
          10084.92943,
          10511.07056,
          11125.94113,
          11702.72338,
          12246.75033,
          12831.8669,
          13287.15772,
          14051.66841,
          14883.39681,
          15843.28502,
          16527.5501,
          17246.69564,
          18233.00875,
          18132.227,
          18060.67209,
          19035.55633,
          19657.66065,
          20454.21696,
          20999.96016,
          20707.59534,
          20298.59921,
          20071.08667,
          20092.38694,
          20590.54239,
          20810.00575,
          21196.38264,
          21774.34096,
          22475.37858,
          22760.31988,
          22671.23921,
          22683.40316,
          22521.36802,
          22695.36268,
          22866.39317,
          23369.59016,
          23860.59967,
          24092.17289,
          24150.38625,
          24410.08257,
          25259.64138,
          25493.87142,
          26010.04667,
          27207.37171,
          28629.01552,
          29658.16426,
          30627.93467,
          31811.60094,
          32002.12181,
          31459.23519,
          32890.3978,
          33917.99126,
          34396.87388,
          35396.3397,
          35615.57673,
          35683.2863,
          35702.1833,
          35807.3679,
          36456.9087,
          36908.1024,
          37388.1289
         ]
        },
        {
         "name": "Agriculture Waste and Forest Burining",
         "type": "scatter",
         "x": [
          1750,
          1751,
          1752,
          1753,
          1754,
          1755,
          1756,
          1757,
          1758,
          1759,
          1760,
          1761,
          1762,
          1763,
          1764,
          1765,
          1766,
          1767,
          1768,
          1769,
          1770,
          1771,
          1772,
          1773,
          1774,
          1775,
          1776,
          1777,
          1778,
          1779,
          1780,
          1781,
          1782,
          1783,
          1784,
          1785,
          1786,
          1787,
          1788,
          1789,
          1790,
          1791,
          1792,
          1793,
          1794,
          1795,
          1796,
          1797,
          1798,
          1799,
          1800,
          1801,
          1802,
          1803,
          1804,
          1805,
          1806,
          1807,
          1808,
          1809,
          1810,
          1811,
          1812,
          1813,
          1814,
          1815,
          1816,
          1817,
          1818,
          1819,
          1820,
          1821,
          1822,
          1823,
          1824,
          1825,
          1826,
          1827,
          1828,
          1829,
          1830,
          1831,
          1832,
          1833,
          1834,
          1835,
          1836,
          1837,
          1838,
          1839,
          1840,
          1841,
          1842,
          1843,
          1844,
          1845,
          1846,
          1847,
          1848,
          1849,
          1850,
          1851,
          1852,
          1853,
          1854,
          1855,
          1856,
          1857,
          1858,
          1859,
          1860,
          1861,
          1862,
          1863,
          1864,
          1865,
          1866,
          1867,
          1868,
          1869,
          1870,
          1871,
          1872,
          1873,
          1874,
          1875,
          1876,
          1877,
          1878,
          1879,
          1880,
          1881,
          1882,
          1883,
          1884,
          1885,
          1886,
          1887,
          1888,
          1889,
          1890,
          1891,
          1892,
          1893,
          1894,
          1895,
          1896,
          1897,
          1898,
          1899,
          1900,
          1901,
          1902,
          1903,
          1904,
          1905,
          1906,
          1907,
          1908,
          1909,
          1910,
          1911,
          1912,
          1913,
          1914,
          1915,
          1916,
          1917,
          1918,
          1919,
          1920,
          1921,
          1922,
          1923,
          1924,
          1925,
          1926,
          1927,
          1928,
          1929,
          1930,
          1931,
          1932,
          1933,
          1934,
          1935,
          1936,
          1937,
          1938,
          1939,
          1940,
          1941,
          1942,
          1943,
          1944,
          1945,
          1946,
          1947,
          1948,
          1949,
          1950,
          1951,
          1952,
          1953,
          1954,
          1955,
          1956,
          1957,
          1958,
          1959,
          1960,
          1961,
          1962,
          1963,
          1964,
          1965,
          1966,
          1967,
          1968,
          1969,
          1970,
          1971,
          1972,
          1973,
          1974,
          1975,
          1976,
          1977,
          1978,
          1979,
          1980,
          1981,
          1982,
          1983,
          1984,
          1985,
          1986,
          1987,
          1988,
          1989,
          1990,
          1991,
          1992,
          1993,
          1994,
          1995,
          1996,
          1997,
          1998,
          1999,
          2000,
          2001,
          2002,
          2003,
          2004,
          2005,
          2006,
          2007,
          2008,
          2009,
          2010,
          2011,
          2012,
          2013,
          2014,
          2015,
          2016,
          2017,
          2018,
          2019,
          2020
         ],
         "y": [
          297.4646065,
          302.9370985,
          308.5102686,
          314.185969,
          319.9660859,
          325.8525403,
          331.8472885,
          337.9523229,
          344.1696723,
          350.5014029,
          356.9496193,
          363.5164642,
          370.2041201,
          377.0148097,
          383.9507963,
          391.0143851,
          398.2079236,
          405.5338025,
          412.9944564,
          420.5923649,
          428.330053,
          436.2100923,
          444.2351017,
          452.4077481,
          460.7307476,
          469.2068664,
          477.8389213,
          486.6297812,
          495.5823676,
          504.6996558,
          513.9846758,
          523.4405135,
          533.0703113,
          542.8772697,
          552.8646479,
          563.035765,
          573.3940015,
          583.9427996,
          594.6856653,
          605.6261687,
          616.7679459,
          628.1146997,
          639.6702011,
          651.4382904,
          663.4228787,
          675.6279489,
          688.0575572,
          700.7158345,
          713.6069877,
          726.7353009,
          740.1051373,
          753.7209402,
          767.5872346,
          781.708629,
          796.0898163,
          810.735576,
          825.6507755,
          840.8403718,
          856.3094128,
          872.0630397,
          888.1064879,
          904.4450894,
          921.084274,
          938.0295718,
          955.2866142,
          972.8611365,
          990.7589794,
          1008.986091,
          1027.548529,
          1046.452462,
          1065.704174,
          1085.310061,
          1105.27664,
          1125.610547,
          1146.318539,
          1167.407499,
          1188.884434,
          1210.756484,
          1233.030916,
          1255.715133,
          1278.816675,
          1302.343219,
          1326.302583,
          1350.70273,
          1375.55177,
          1400.857961,
          1426.629713,
          1452.875591,
          1479.604317,
          1506.824775,
          1534.546011,
          1562.777238,
          1591.527838,
          1620.807366,
          1650.625553,
          1680.992309,
          1711.917726,
          1743.412082,
          1775.485843,
          1808.149669,
          1841.414415,
          1812.641691,
          2017.958792,
          2010.429149,
          2003.49854,
          1992.57304,
          2014.438713,
          2033.990905,
          2051.125846,
          2079.153212,
          2095.717761,
          2136.721579,
          1916.34624,
          1916.997535,
          1918.269413,
          1921.087377,
          1921.585666,
          1916.052688,
          1910.698725,
          1904.67254,
          1900.645177,
          1974.459419,
          2287.485899,
          2327.648136,
          2354.256216,
          2383.068243,
          2411.35367,
          2435.735782,
          2460.989956,
          2486.749301,
          2509.623248,
          2648.024913,
          2471.224191,
          2497.151688,
          2508.986068,
          2531.633224,
          2535.558324,
          2535.377123,
          2534.110398,
          2532.312708,
          2520.270356,
          2507.988844,
          2561.196286,
          2564.061168,
          2622.209594,
          2641.864587,
          2651.009917,
          2659.941939,
          2669.096822,
          2669.754913,
          2677.143179,
          2920.220385,
          2932.578084,
          3039.918912,
          3137.132745,
          3236.03741,
          3349.10565,
          3382.273038,
          3416.650809,
          3442.615327,
          3465.07142,
          3251.843109,
          3117.85701,
          3006.122949,
          2965.286448,
          2922.036651,
          2930.495173,
          2941.618045,
          2953.675083,
          2972.449133,
          2981.094687,
          3156.185151,
          3127.125618,
          3156.863354,
          3179.505679,
          3191.17269,
          3207.446458,
          3352.291327,
          3364.921444,
          3464.867641,
          3747.998908,
          3785.850465,
          3426.202541,
          3414.535978,
          3371.399627,
          3366.469335,
          3397.195986,
          3314.552106,
          3324.831062,
          3319.548711,
          3274.049486,
          3210.353251,
          3288.160874,
          3269.143574,
          3291.841556,
          3293.685578,
          3601.956519,
          3714.411991,
          3744.290791,
          3782.548133,
          3830.938177,
          4631.084947,
          4732.664117,
          4722.234813,
          4920.19064,
          5085.59436,
          5299.828735,
          5414.199536,
          5601.462885,
          5400.1783,
          5355.659833,
          5610.847,
          5572.613933,
          5596.3765,
          5563.5569,
          5677.731033,
          5686.360533,
          5847.963,
          5668.8731,
          5656.838367,
          5613.6718,
          5150.578033,
          4862.489867,
          4831.153433,
          4729.1475,
          4775.5246,
          4837.821633,
          4954.6904,
          4761.222033,
          4589.050767,
          4559.0688,
          4590.867967,
          4610.406533,
          5251.240133,
          5354.58,
          5495.730533,
          5607.019,
          5554.162167,
          5551.983433,
          5614.4077,
          5295.479933,
          5998.185967,
          6167.4723,
          5667.8996,
          5510.289033,
          5445.6622,
          5387.4469,
          8000.636862,
          5647.810562,
          4776.350962,
          4402.238762,
          3524.472129,
          3923.348629,
          3301.819662,
          3804.476395,
          3758.465595,
          4003.930962,
          3540.631862,
          2449.088662,
          2766.155962,
          3243.438262,
          3348.037995,
          3557.037995,
          3366.371329,
          4015.371329,
          3517.44,
          3653.3145,
          3712.513,
          3815.198,
          3545.5498,
          3259.400999
         ]
        }
       ],
       "layout": {
        "font": {
         "color": "RebeccaPurple",
         "family": "Courier New, monospace",
         "size": 10
        },
        "legend": {
         "title": {
          "text": "Sector"
         }
        },
        "template": {
         "data": {
          "bar": [
           {
            "error_x": {
             "color": "#2a3f5f"
            },
            "error_y": {
             "color": "#2a3f5f"
            },
            "marker": {
             "line": {
              "color": "#E5ECF6",
              "width": 0.5
             },
             "pattern": {
              "fillmode": "overlay",
              "size": 10,
              "solidity": 0.2
             }
            },
            "type": "bar"
           }
          ],
          "barpolar": [
           {
            "marker": {
             "line": {
              "color": "#E5ECF6",
              "width": 0.5
             },
             "pattern": {
              "fillmode": "overlay",
              "size": 10,
              "solidity": 0.2
             }
            },
            "type": "barpolar"
           }
          ],
          "carpet": [
           {
            "aaxis": {
             "endlinecolor": "#2a3f5f",
             "gridcolor": "white",
             "linecolor": "white",
             "minorgridcolor": "white",
             "startlinecolor": "#2a3f5f"
            },
            "baxis": {
             "endlinecolor": "#2a3f5f",
             "gridcolor": "white",
             "linecolor": "white",
             "minorgridcolor": "white",
             "startlinecolor": "#2a3f5f"
            },
            "type": "carpet"
           }
          ],
          "choropleth": [
           {
            "colorbar": {
             "outlinewidth": 0,
             "ticks": ""
            },
            "type": "choropleth"
           }
          ],
          "contour": [
           {
            "colorbar": {
             "outlinewidth": 0,
             "ticks": ""
            },
            "colorscale": [
             [
              0,
              "#0d0887"
             ],
             [
              0.1111111111111111,
              "#46039f"
             ],
             [
              0.2222222222222222,
              "#7201a8"
             ],
             [
              0.3333333333333333,
              "#9c179e"
             ],
             [
              0.4444444444444444,
              "#bd3786"
             ],
             [
              0.5555555555555556,
              "#d8576b"
             ],
             [
              0.6666666666666666,
              "#ed7953"
             ],
             [
              0.7777777777777778,
              "#fb9f3a"
             ],
             [
              0.8888888888888888,
              "#fdca26"
             ],
             [
              1,
              "#f0f921"
             ]
            ],
            "type": "contour"
           }
          ],
          "contourcarpet": [
           {
            "colorbar": {
             "outlinewidth": 0,
             "ticks": ""
            },
            "type": "contourcarpet"
           }
          ],
          "heatmap": [
           {
            "colorbar": {
             "outlinewidth": 0,
             "ticks": ""
            },
            "colorscale": [
             [
              0,
              "#0d0887"
             ],
             [
              0.1111111111111111,
              "#46039f"
             ],
             [
              0.2222222222222222,
              "#7201a8"
             ],
             [
              0.3333333333333333,
              "#9c179e"
             ],
             [
              0.4444444444444444,
              "#bd3786"
             ],
             [
              0.5555555555555556,
              "#d8576b"
             ],
             [
              0.6666666666666666,
              "#ed7953"
             ],
             [
              0.7777777777777778,
              "#fb9f3a"
             ],
             [
              0.8888888888888888,
              "#fdca26"
             ],
             [
              1,
              "#f0f921"
             ]
            ],
            "type": "heatmap"
           }
          ],
          "heatmapgl": [
           {
            "colorbar": {
             "outlinewidth": 0,
             "ticks": ""
            },
            "colorscale": [
             [
              0,
              "#0d0887"
             ],
             [
              0.1111111111111111,
              "#46039f"
             ],
             [
              0.2222222222222222,
              "#7201a8"
             ],
             [
              0.3333333333333333,
              "#9c179e"
             ],
             [
              0.4444444444444444,
              "#bd3786"
             ],
             [
              0.5555555555555556,
              "#d8576b"
             ],
             [
              0.6666666666666666,
              "#ed7953"
             ],
             [
              0.7777777777777778,
              "#fb9f3a"
             ],
             [
              0.8888888888888888,
              "#fdca26"
             ],
             [
              1,
              "#f0f921"
             ]
            ],
            "type": "heatmapgl"
           }
          ],
          "histogram": [
           {
            "marker": {
             "pattern": {
              "fillmode": "overlay",
              "size": 10,
              "solidity": 0.2
             }
            },
            "type": "histogram"
           }
          ],
          "histogram2d": [
           {
            "colorbar": {
             "outlinewidth": 0,
             "ticks": ""
            },
            "colorscale": [
             [
              0,
              "#0d0887"
             ],
             [
              0.1111111111111111,
              "#46039f"
             ],
             [
              0.2222222222222222,
              "#7201a8"
             ],
             [
              0.3333333333333333,
              "#9c179e"
             ],
             [
              0.4444444444444444,
              "#bd3786"
             ],
             [
              0.5555555555555556,
              "#d8576b"
             ],
             [
              0.6666666666666666,
              "#ed7953"
             ],
             [
              0.7777777777777778,
              "#fb9f3a"
             ],
             [
              0.8888888888888888,
              "#fdca26"
             ],
             [
              1,
              "#f0f921"
             ]
            ],
            "type": "histogram2d"
           }
          ],
          "histogram2dcontour": [
           {
            "colorbar": {
             "outlinewidth": 0,
             "ticks": ""
            },
            "colorscale": [
             [
              0,
              "#0d0887"
             ],
             [
              0.1111111111111111,
              "#46039f"
             ],
             [
              0.2222222222222222,
              "#7201a8"
             ],
             [
              0.3333333333333333,
              "#9c179e"
             ],
             [
              0.4444444444444444,
              "#bd3786"
             ],
             [
              0.5555555555555556,
              "#d8576b"
             ],
             [
              0.6666666666666666,
              "#ed7953"
             ],
             [
              0.7777777777777778,
              "#fb9f3a"
             ],
             [
              0.8888888888888888,
              "#fdca26"
             ],
             [
              1,
              "#f0f921"
             ]
            ],
            "type": "histogram2dcontour"
           }
          ],
          "mesh3d": [
           {
            "colorbar": {
             "outlinewidth": 0,
             "ticks": ""
            },
            "type": "mesh3d"
           }
          ],
          "parcoords": [
           {
            "line": {
             "colorbar": {
              "outlinewidth": 0,
              "ticks": ""
             }
            },
            "type": "parcoords"
           }
          ],
          "pie": [
           {
            "automargin": true,
            "type": "pie"
           }
          ],
          "scatter": [
           {
            "marker": {
             "colorbar": {
              "outlinewidth": 0,
              "ticks": ""
             }
            },
            "type": "scatter"
           }
          ],
          "scatter3d": [
           {
            "line": {
             "colorbar": {
              "outlinewidth": 0,
              "ticks": ""
             }
            },
            "marker": {
             "colorbar": {
              "outlinewidth": 0,
              "ticks": ""
             }
            },
            "type": "scatter3d"
           }
          ],
          "scattercarpet": [
           {
            "marker": {
             "colorbar": {
              "outlinewidth": 0,
              "ticks": ""
             }
            },
            "type": "scattercarpet"
           }
          ],
          "scattergeo": [
           {
            "marker": {
             "colorbar": {
              "outlinewidth": 0,
              "ticks": ""
             }
            },
            "type": "scattergeo"
           }
          ],
          "scattergl": [
           {
            "marker": {
             "colorbar": {
              "outlinewidth": 0,
              "ticks": ""
             }
            },
            "type": "scattergl"
           }
          ],
          "scattermapbox": [
           {
            "marker": {
             "colorbar": {
              "outlinewidth": 0,
              "ticks": ""
             }
            },
            "type": "scattermapbox"
           }
          ],
          "scatterpolar": [
           {
            "marker": {
             "colorbar": {
              "outlinewidth": 0,
              "ticks": ""
             }
            },
            "type": "scatterpolar"
           }
          ],
          "scatterpolargl": [
           {
            "marker": {
             "colorbar": {
              "outlinewidth": 0,
              "ticks": ""
             }
            },
            "type": "scatterpolargl"
           }
          ],
          "scatterternary": [
           {
            "marker": {
             "colorbar": {
              "outlinewidth": 0,
              "ticks": ""
             }
            },
            "type": "scatterternary"
           }
          ],
          "surface": [
           {
            "colorbar": {
             "outlinewidth": 0,
             "ticks": ""
            },
            "colorscale": [
             [
              0,
              "#0d0887"
             ],
             [
              0.1111111111111111,
              "#46039f"
             ],
             [
              0.2222222222222222,
              "#7201a8"
             ],
             [
              0.3333333333333333,
              "#9c179e"
             ],
             [
              0.4444444444444444,
              "#bd3786"
             ],
             [
              0.5555555555555556,
              "#d8576b"
             ],
             [
              0.6666666666666666,
              "#ed7953"
             ],
             [
              0.7777777777777778,
              "#fb9f3a"
             ],
             [
              0.8888888888888888,
              "#fdca26"
             ],
             [
              1,
              "#f0f921"
             ]
            ],
            "type": "surface"
           }
          ],
          "table": [
           {
            "cells": {
             "fill": {
              "color": "#EBF0F8"
             },
             "line": {
              "color": "white"
             }
            },
            "header": {
             "fill": {
              "color": "#C8D4E3"
             },
             "line": {
              "color": "white"
             }
            },
            "type": "table"
           }
          ]
         },
         "layout": {
          "annotationdefaults": {
           "arrowcolor": "#2a3f5f",
           "arrowhead": 0,
           "arrowwidth": 1
          },
          "autotypenumbers": "strict",
          "coloraxis": {
           "colorbar": {
            "outlinewidth": 0,
            "ticks": ""
           }
          },
          "colorscale": {
           "diverging": [
            [
             0,
             "#8e0152"
            ],
            [
             0.1,
             "#c51b7d"
            ],
            [
             0.2,
             "#de77ae"
            ],
            [
             0.3,
             "#f1b6da"
            ],
            [
             0.4,
             "#fde0ef"
            ],
            [
             0.5,
             "#f7f7f7"
            ],
            [
             0.6,
             "#e6f5d0"
            ],
            [
             0.7,
             "#b8e186"
            ],
            [
             0.8,
             "#7fbc41"
            ],
            [
             0.9,
             "#4d9221"
            ],
            [
             1,
             "#276419"
            ]
           ],
           "sequential": [
            [
             0,
             "#0d0887"
            ],
            [
             0.1111111111111111,
             "#46039f"
            ],
            [
             0.2222222222222222,
             "#7201a8"
            ],
            [
             0.3333333333333333,
             "#9c179e"
            ],
            [
             0.4444444444444444,
             "#bd3786"
            ],
            [
             0.5555555555555556,
             "#d8576b"
            ],
            [
             0.6666666666666666,
             "#ed7953"
            ],
            [
             0.7777777777777778,
             "#fb9f3a"
            ],
            [
             0.8888888888888888,
             "#fdca26"
            ],
            [
             1,
             "#f0f921"
            ]
           ],
           "sequentialminus": [
            [
             0,
             "#0d0887"
            ],
            [
             0.1111111111111111,
             "#46039f"
            ],
            [
             0.2222222222222222,
             "#7201a8"
            ],
            [
             0.3333333333333333,
             "#9c179e"
            ],
            [
             0.4444444444444444,
             "#bd3786"
            ],
            [
             0.5555555555555556,
             "#d8576b"
            ],
            [
             0.6666666666666666,
             "#ed7953"
            ],
            [
             0.7777777777777778,
             "#fb9f3a"
            ],
            [
             0.8888888888888888,
             "#fdca26"
            ],
            [
             1,
             "#f0f921"
            ]
           ]
          },
          "colorway": [
           "#636efa",
           "#EF553B",
           "#00cc96",
           "#ab63fa",
           "#FFA15A",
           "#19d3f3",
           "#FF6692",
           "#B6E880",
           "#FF97FF",
           "#FECB52"
          ],
          "font": {
           "color": "#2a3f5f"
          },
          "geo": {
           "bgcolor": "white",
           "lakecolor": "white",
           "landcolor": "#E5ECF6",
           "showlakes": true,
           "showland": true,
           "subunitcolor": "white"
          },
          "hoverlabel": {
           "align": "left"
          },
          "hovermode": "closest",
          "mapbox": {
           "style": "light"
          },
          "paper_bgcolor": "white",
          "plot_bgcolor": "#E5ECF6",
          "polar": {
           "angularaxis": {
            "gridcolor": "white",
            "linecolor": "white",
            "ticks": ""
           },
           "bgcolor": "#E5ECF6",
           "radialaxis": {
            "gridcolor": "white",
            "linecolor": "white",
            "ticks": ""
           }
          },
          "scene": {
           "xaxis": {
            "backgroundcolor": "#E5ECF6",
            "gridcolor": "white",
            "gridwidth": 2,
            "linecolor": "white",
            "showbackground": true,
            "ticks": "",
            "zerolinecolor": "white"
           },
           "yaxis": {
            "backgroundcolor": "#E5ECF6",
            "gridcolor": "white",
            "gridwidth": 2,
            "linecolor": "white",
            "showbackground": true,
            "ticks": "",
            "zerolinecolor": "white"
           },
           "zaxis": {
            "backgroundcolor": "#E5ECF6",
            "gridcolor": "white",
            "gridwidth": 2,
            "linecolor": "white",
            "showbackground": true,
            "ticks": "",
            "zerolinecolor": "white"
           }
          },
          "shapedefaults": {
           "line": {
            "color": "#2a3f5f"
           }
          },
          "ternary": {
           "aaxis": {
            "gridcolor": "white",
            "linecolor": "white",
            "ticks": ""
           },
           "baxis": {
            "gridcolor": "white",
            "linecolor": "white",
            "ticks": ""
           },
           "bgcolor": "#E5ECF6",
           "caxis": {
            "gridcolor": "white",
            "linecolor": "white",
            "ticks": ""
           }
          },
          "title": {
           "x": 0.05
          },
          "xaxis": {
           "automargin": true,
           "gridcolor": "white",
           "linecolor": "white",
           "ticks": "",
           "title": {
            "standoff": 15
           },
           "zerolinecolor": "white",
           "zerolinewidth": 2
          },
          "yaxis": {
           "automargin": true,
           "gridcolor": "white",
           "linecolor": "white",
           "ticks": "",
           "title": {
            "standoff": 15
           },
           "zerolinecolor": "white",
           "zerolinewidth": 2
          }
         }
        },
        "title": {
         "text": "CO2 Emissions by Sector"
        },
        "xaxis": {
         "title": {
          "text": "Year"
         }
        },
        "yaxis": {
         "title": {
          "text": "Emission Value"
         }
        }
       }
      },
      "text/html": [
       "<div>                            <div id=\"5f68db26-f68b-4456-9075-005490c9192b\" class=\"plotly-graph-div\" style=\"height:525px; width:100%;\"></div>            <script type=\"text/javascript\">                require([\"plotly\"], function(Plotly) {                    window.PLOTLYENV=window.PLOTLYENV || {};                                    if (document.getElementById(\"5f68db26-f68b-4456-9075-005490c9192b\")) {                    Plotly.newPlot(                        \"5f68db26-f68b-4456-9075-005490c9192b\",                        [{\"name\":\"Fossil and Industrial\",\"type\":\"scatter\",\"x\":[1750,1751,1752,1753,1754,1755,1756,1757,1758,1759,1760,1761,1762,1763,1764,1765,1766,1767,1768,1769,1770,1771,1772,1773,1774,1775,1776,1777,1778,1779,1780,1781,1782,1783,1784,1785,1786,1787,1788,1789,1790,1791,1792,1793,1794,1795,1796,1797,1798,1799,1800,1801,1802,1803,1804,1805,1806,1807,1808,1809,1810,1811,1812,1813,1814,1815,1816,1817,1818,1819,1820,1821,1822,1823,1824,1825,1826,1827,1828,1829,1830,1831,1832,1833,1834,1835,1836,1837,1838,1839,1840,1841,1842,1843,1844,1845,1846,1847,1848,1849,1850,1851,1852,1853,1854,1855,1856,1857,1858,1859,1860,1861,1862,1863,1864,1865,1866,1867,1868,1869,1870,1871,1872,1873,1874,1875,1876,1877,1878,1879,1880,1881,1882,1883,1884,1885,1886,1887,1888,1889,1890,1891,1892,1893,1894,1895,1896,1897,1898,1899,1900,1901,1902,1903,1904,1905,1906,1907,1908,1909,1910,1911,1912,1913,1914,1915,1916,1917,1918,1919,1920,1921,1922,1923,1924,1925,1926,1927,1928,1929,1930,1931,1932,1933,1934,1935,1936,1937,1938,1939,1940,1941,1942,1943,1944,1945,1946,1947,1948,1949,1950,1951,1952,1953,1954,1955,1956,1957,1958,1959,1960,1961,1962,1963,1964,1965,1966,1967,1968,1969,1970,1971,1972,1973,1974,1975,1976,1977,1978,1979,1980,1981,1982,1983,1984,1985,1986,1987,1988,1989,1990,1991,1992,1993,1994,1995,1996,1997,1998,1999,2000,2001,2002,2003,2004,2005,2006,2007,2008,2009,2010,2011,2012,2013,2014,2015,2016,2017,2018,2019,2020],\"y\":[9.505619891,9.505963229,9.510002042,9.51034538,9.514384194,9.518423007,10.16917002,10.17320884,10.17724765,10.18128646,10.1816298,11.14651159,11.15056977,11.15462794,11.15868611,11.16274429,12.44543696,12.44949514,12.45355331,12.45761148,12.46166966,13.81090157,13.81498041,13.81905926,13.8231381,13.82721695,15.25035837,15.25443721,15.25851606,15.2625949,15.27036922,17.07416836,17.07827094,17.08606901,17.09017159,17.10194574,19.40463405,19.41243212,19.4165347,19.42433276,19.43213083,21.69419182,22.34876643,22.37174568,22.32534355,22.33821728,23.43921459,24.5980621,25.61685792,26.98144303,28.77780539,28.55469611,37.07238349,32.11505223,35.05259222,34.26830496,35.86203938,38.36726044,35.85692752,35.88850331,38.156726,40.3635149,41.75970724,41.95454084,42.8876376,44.31824074,49.03968264,51.19270204,51.50323308,51.74568402,52.53618867,53.36192138,55.45545554,58.7709369,60.46706104,63.111523,63.69625003,68.30482988,68.9822692,68.39394372,91.36832944,86.70145063,86.79580076,88.77741696,90.5212983,92.61388732,107.0790399,107.2231617,110.9912884,114.735853,122.9164271,126.7943459,134.2652383,137.2349296,146.0170923,160.4739031,161.9589046,173.9315477,172.660674,179.0134873,188.2971893,188.9473101,196.5696209,205.0343782,241.4710874,243.9077243,260.8928805,263.451509,267.6077703,285.2848882,314.4307083,331.4036247,336.6365241,357.2415719,383.759646,406.520184,420.4531021,449.1953027,460.2890534,488.4396241,500.8359388,532.2577503,587.5811859,623.3057592,590.0221812,634.898549,644.7162038,658.9603312,662.4475459,707.8810192,803.7596678,825.3182473,868.2868736,919.3900694,926.5548868,932.3926773,946.6222192,992.9671993,1095.757642,1097.120159,1191.992969,1247.575065,1256.707537,1238.107898,1286.676887,1362.118796,1405.955764,1473.038386,1551.175545,1697.800966,1788.820939,1848.660826,1903.11229,2075.742538,2107.614101,2243.726713,2360.91611,2663.744559,2576.958064,2672.675265,2805.96325,2861.986257,3004.722072,3259.649461,2973.66654,2942.51981,3170.958207,3285.621644,3251.813367,2861.421008,3309.21524,2908.96889,3092.413999,3516.252425,3555.830056,3604.712598,3558.887022,3928.22156,3943.582919,4239.586225,3931.53488,3549.645518,3225.71824,3383.942487,3666.967337,3849.855802,4215.457073,4511.311211,4255.968439,4516.84672,4882.854452,4973.871648,4980.163241,5141.019629,5085.933086,4327.405026,4742.566944,5313.062133,5649.648194,5551.761022,6213.731176,6659.606041,6786.099892,6984.021272,7165.186495,7837.469428,8395.39109,8738.872584,9040.53885,9541.019563,9998.246947,10084.92943,10511.07056,11125.94113,11702.72338,12246.75033,12831.8669,13287.15772,14051.66841,14883.39681,15843.28502,16527.5501,17246.69564,18233.00875,18132.227,18060.67209,19035.55633,19657.66065,20454.21696,20999.96016,20707.59534,20298.59921,20071.08667,20092.38694,20590.54239,20810.00575,21196.38264,21774.34096,22475.37858,22760.31988,22671.23921,22683.40316,22521.36802,22695.36268,22866.39317,23369.59016,23860.59967,24092.17289,24150.38625,24410.08257,25259.64138,25493.87142,26010.04667,27207.37171,28629.01552,29658.16426,30627.93467,31811.60094,32002.12181,31459.23519,32890.3978,33917.99126,34396.87388,35396.3397,35615.57673,35683.2863,35702.1833,35807.3679,36456.9087,36908.1024,37388.1289]},{\"name\":\"Agriculture Waste and Forest Burining\",\"type\":\"scatter\",\"x\":[1750,1751,1752,1753,1754,1755,1756,1757,1758,1759,1760,1761,1762,1763,1764,1765,1766,1767,1768,1769,1770,1771,1772,1773,1774,1775,1776,1777,1778,1779,1780,1781,1782,1783,1784,1785,1786,1787,1788,1789,1790,1791,1792,1793,1794,1795,1796,1797,1798,1799,1800,1801,1802,1803,1804,1805,1806,1807,1808,1809,1810,1811,1812,1813,1814,1815,1816,1817,1818,1819,1820,1821,1822,1823,1824,1825,1826,1827,1828,1829,1830,1831,1832,1833,1834,1835,1836,1837,1838,1839,1840,1841,1842,1843,1844,1845,1846,1847,1848,1849,1850,1851,1852,1853,1854,1855,1856,1857,1858,1859,1860,1861,1862,1863,1864,1865,1866,1867,1868,1869,1870,1871,1872,1873,1874,1875,1876,1877,1878,1879,1880,1881,1882,1883,1884,1885,1886,1887,1888,1889,1890,1891,1892,1893,1894,1895,1896,1897,1898,1899,1900,1901,1902,1903,1904,1905,1906,1907,1908,1909,1910,1911,1912,1913,1914,1915,1916,1917,1918,1919,1920,1921,1922,1923,1924,1925,1926,1927,1928,1929,1930,1931,1932,1933,1934,1935,1936,1937,1938,1939,1940,1941,1942,1943,1944,1945,1946,1947,1948,1949,1950,1951,1952,1953,1954,1955,1956,1957,1958,1959,1960,1961,1962,1963,1964,1965,1966,1967,1968,1969,1970,1971,1972,1973,1974,1975,1976,1977,1978,1979,1980,1981,1982,1983,1984,1985,1986,1987,1988,1989,1990,1991,1992,1993,1994,1995,1996,1997,1998,1999,2000,2001,2002,2003,2004,2005,2006,2007,2008,2009,2010,2011,2012,2013,2014,2015,2016,2017,2018,2019,2020],\"y\":[297.4646065,302.9370985,308.5102686,314.185969,319.9660859,325.8525403,331.8472885,337.9523229,344.1696723,350.5014029,356.9496193,363.5164642,370.2041201,377.0148097,383.9507963,391.0143851,398.2079236,405.5338025,412.9944564,420.5923649,428.330053,436.2100923,444.2351017,452.4077481,460.7307476,469.2068664,477.8389213,486.6297812,495.5823676,504.6996558,513.9846758,523.4405135,533.0703113,542.8772697,552.8646479,563.035765,573.3940015,583.9427996,594.6856653,605.6261687,616.7679459,628.1146997,639.6702011,651.4382904,663.4228787,675.6279489,688.0575572,700.7158345,713.6069877,726.7353009,740.1051373,753.7209402,767.5872346,781.708629,796.0898163,810.735576,825.6507755,840.8403718,856.3094128,872.0630397,888.1064879,904.4450894,921.084274,938.0295718,955.2866142,972.8611365,990.7589794,1008.986091,1027.548529,1046.452462,1065.704174,1085.310061,1105.27664,1125.610547,1146.318539,1167.407499,1188.884434,1210.756484,1233.030916,1255.715133,1278.816675,1302.343219,1326.302583,1350.70273,1375.55177,1400.857961,1426.629713,1452.875591,1479.604317,1506.824775,1534.546011,1562.777238,1591.527838,1620.807366,1650.625553,1680.992309,1711.917726,1743.412082,1775.485843,1808.149669,1841.414415,1812.641691,2017.958792,2010.429149,2003.49854,1992.57304,2014.438713,2033.990905,2051.125846,2079.153212,2095.717761,2136.721579,1916.34624,1916.997535,1918.269413,1921.087377,1921.585666,1916.052688,1910.698725,1904.67254,1900.645177,1974.459419,2287.485899,2327.648136,2354.256216,2383.068243,2411.35367,2435.735782,2460.989956,2486.749301,2509.623248,2648.024913,2471.224191,2497.151688,2508.986068,2531.633224,2535.558324,2535.377123,2534.110398,2532.312708,2520.270356,2507.988844,2561.196286,2564.061168,2622.209594,2641.864587,2651.009917,2659.941939,2669.096822,2669.754913,2677.143179,2920.220385,2932.578084,3039.918912,3137.132745,3236.03741,3349.10565,3382.273038,3416.650809,3442.615327,3465.07142,3251.843109,3117.85701,3006.122949,2965.286448,2922.036651,2930.495173,2941.618045,2953.675083,2972.449133,2981.094687,3156.185151,3127.125618,3156.863354,3179.505679,3191.17269,3207.446458,3352.291327,3364.921444,3464.867641,3747.998908,3785.850465,3426.202541,3414.535978,3371.399627,3366.469335,3397.195986,3314.552106,3324.831062,3319.548711,3274.049486,3210.353251,3288.160874,3269.143574,3291.841556,3293.685578,3601.956519,3714.411991,3744.290791,3782.548133,3830.938177,4631.084947,4732.664117,4722.234813,4920.19064,5085.59436,5299.828735,5414.199536,5601.462885,5400.1783,5355.659833,5610.847,5572.613933,5596.3765,5563.5569,5677.731033,5686.360533,5847.963,5668.8731,5656.838367,5613.6718,5150.578033,4862.489867,4831.153433,4729.1475,4775.5246,4837.821633,4954.6904,4761.222033,4589.050767,4559.0688,4590.867967,4610.406533,5251.240133,5354.58,5495.730533,5607.019,5554.162167,5551.983433,5614.4077,5295.479933,5998.185967,6167.4723,5667.8996,5510.289033,5445.6622,5387.4469,8000.636862,5647.810562,4776.350962,4402.238762,3524.472129,3923.348629,3301.819662,3804.476395,3758.465595,4003.930962,3540.631862,2449.088662,2766.155962,3243.438262,3348.037995,3557.037995,3366.371329,4015.371329,3517.44,3653.3145,3712.513,3815.198,3545.5498,3259.400999]}],                        {\"font\":{\"color\":\"RebeccaPurple\",\"family\":\"Courier New, monospace\",\"size\":10},\"legend\":{\"title\":{\"text\":\"Sector\"}},\"template\":{\"data\":{\"bar\":[{\"error_x\":{\"color\":\"#2a3f5f\"},\"error_y\":{\"color\":\"#2a3f5f\"},\"marker\":{\"line\":{\"color\":\"#E5ECF6\",\"width\":0.5},\"pattern\":{\"fillmode\":\"overlay\",\"size\":10,\"solidity\":0.2}},\"type\":\"bar\"}],\"barpolar\":[{\"marker\":{\"line\":{\"color\":\"#E5ECF6\",\"width\":0.5},\"pattern\":{\"fillmode\":\"overlay\",\"size\":10,\"solidity\":0.2}},\"type\":\"barpolar\"}],\"carpet\":[{\"aaxis\":{\"endlinecolor\":\"#2a3f5f\",\"gridcolor\":\"white\",\"linecolor\":\"white\",\"minorgridcolor\":\"white\",\"startlinecolor\":\"#2a3f5f\"},\"baxis\":{\"endlinecolor\":\"#2a3f5f\",\"gridcolor\":\"white\",\"linecolor\":\"white\",\"minorgridcolor\":\"white\",\"startlinecolor\":\"#2a3f5f\"},\"type\":\"carpet\"}],\"choropleth\":[{\"colorbar\":{\"outlinewidth\":0,\"ticks\":\"\"},\"type\":\"choropleth\"}],\"contour\":[{\"colorbar\":{\"outlinewidth\":0,\"ticks\":\"\"},\"colorscale\":[[0.0,\"#0d0887\"],[0.1111111111111111,\"#46039f\"],[0.2222222222222222,\"#7201a8\"],[0.3333333333333333,\"#9c179e\"],[0.4444444444444444,\"#bd3786\"],[0.5555555555555556,\"#d8576b\"],[0.6666666666666666,\"#ed7953\"],[0.7777777777777778,\"#fb9f3a\"],[0.8888888888888888,\"#fdca26\"],[1.0,\"#f0f921\"]],\"type\":\"contour\"}],\"contourcarpet\":[{\"colorbar\":{\"outlinewidth\":0,\"ticks\":\"\"},\"type\":\"contourcarpet\"}],\"heatmap\":[{\"colorbar\":{\"outlinewidth\":0,\"ticks\":\"\"},\"colorscale\":[[0.0,\"#0d0887\"],[0.1111111111111111,\"#46039f\"],[0.2222222222222222,\"#7201a8\"],[0.3333333333333333,\"#9c179e\"],[0.4444444444444444,\"#bd3786\"],[0.5555555555555556,\"#d8576b\"],[0.6666666666666666,\"#ed7953\"],[0.7777777777777778,\"#fb9f3a\"],[0.8888888888888888,\"#fdca26\"],[1.0,\"#f0f921\"]],\"type\":\"heatmap\"}],\"heatmapgl\":[{\"colorbar\":{\"outlinewidth\":0,\"ticks\":\"\"},\"colorscale\":[[0.0,\"#0d0887\"],[0.1111111111111111,\"#46039f\"],[0.2222222222222222,\"#7201a8\"],[0.3333333333333333,\"#9c179e\"],[0.4444444444444444,\"#bd3786\"],[0.5555555555555556,\"#d8576b\"],[0.6666666666666666,\"#ed7953\"],[0.7777777777777778,\"#fb9f3a\"],[0.8888888888888888,\"#fdca26\"],[1.0,\"#f0f921\"]],\"type\":\"heatmapgl\"}],\"histogram\":[{\"marker\":{\"pattern\":{\"fillmode\":\"overlay\",\"size\":10,\"solidity\":0.2}},\"type\":\"histogram\"}],\"histogram2d\":[{\"colorbar\":{\"outlinewidth\":0,\"ticks\":\"\"},\"colorscale\":[[0.0,\"#0d0887\"],[0.1111111111111111,\"#46039f\"],[0.2222222222222222,\"#7201a8\"],[0.3333333333333333,\"#9c179e\"],[0.4444444444444444,\"#bd3786\"],[0.5555555555555556,\"#d8576b\"],[0.6666666666666666,\"#ed7953\"],[0.7777777777777778,\"#fb9f3a\"],[0.8888888888888888,\"#fdca26\"],[1.0,\"#f0f921\"]],\"type\":\"histogram2d\"}],\"histogram2dcontour\":[{\"colorbar\":{\"outlinewidth\":0,\"ticks\":\"\"},\"colorscale\":[[0.0,\"#0d0887\"],[0.1111111111111111,\"#46039f\"],[0.2222222222222222,\"#7201a8\"],[0.3333333333333333,\"#9c179e\"],[0.4444444444444444,\"#bd3786\"],[0.5555555555555556,\"#d8576b\"],[0.6666666666666666,\"#ed7953\"],[0.7777777777777778,\"#fb9f3a\"],[0.8888888888888888,\"#fdca26\"],[1.0,\"#f0f921\"]],\"type\":\"histogram2dcontour\"}],\"mesh3d\":[{\"colorbar\":{\"outlinewidth\":0,\"ticks\":\"\"},\"type\":\"mesh3d\"}],\"parcoords\":[{\"line\":{\"colorbar\":{\"outlinewidth\":0,\"ticks\":\"\"}},\"type\":\"parcoords\"}],\"pie\":[{\"automargin\":true,\"type\":\"pie\"}],\"scatter\":[{\"marker\":{\"colorbar\":{\"outlinewidth\":0,\"ticks\":\"\"}},\"type\":\"scatter\"}],\"scatter3d\":[{\"line\":{\"colorbar\":{\"outlinewidth\":0,\"ticks\":\"\"}},\"marker\":{\"colorbar\":{\"outlinewidth\":0,\"ticks\":\"\"}},\"type\":\"scatter3d\"}],\"scattercarpet\":[{\"marker\":{\"colorbar\":{\"outlinewidth\":0,\"ticks\":\"\"}},\"type\":\"scattercarpet\"}],\"scattergeo\":[{\"marker\":{\"colorbar\":{\"outlinewidth\":0,\"ticks\":\"\"}},\"type\":\"scattergeo\"}],\"scattergl\":[{\"marker\":{\"colorbar\":{\"outlinewidth\":0,\"ticks\":\"\"}},\"type\":\"scattergl\"}],\"scattermapbox\":[{\"marker\":{\"colorbar\":{\"outlinewidth\":0,\"ticks\":\"\"}},\"type\":\"scattermapbox\"}],\"scatterpolar\":[{\"marker\":{\"colorbar\":{\"outlinewidth\":0,\"ticks\":\"\"}},\"type\":\"scatterpolar\"}],\"scatterpolargl\":[{\"marker\":{\"colorbar\":{\"outlinewidth\":0,\"ticks\":\"\"}},\"type\":\"scatterpolargl\"}],\"scatterternary\":[{\"marker\":{\"colorbar\":{\"outlinewidth\":0,\"ticks\":\"\"}},\"type\":\"scatterternary\"}],\"surface\":[{\"colorbar\":{\"outlinewidth\":0,\"ticks\":\"\"},\"colorscale\":[[0.0,\"#0d0887\"],[0.1111111111111111,\"#46039f\"],[0.2222222222222222,\"#7201a8\"],[0.3333333333333333,\"#9c179e\"],[0.4444444444444444,\"#bd3786\"],[0.5555555555555556,\"#d8576b\"],[0.6666666666666666,\"#ed7953\"],[0.7777777777777778,\"#fb9f3a\"],[0.8888888888888888,\"#fdca26\"],[1.0,\"#f0f921\"]],\"type\":\"surface\"}],\"table\":[{\"cells\":{\"fill\":{\"color\":\"#EBF0F8\"},\"line\":{\"color\":\"white\"}},\"header\":{\"fill\":{\"color\":\"#C8D4E3\"},\"line\":{\"color\":\"white\"}},\"type\":\"table\"}]},\"layout\":{\"annotationdefaults\":{\"arrowcolor\":\"#2a3f5f\",\"arrowhead\":0,\"arrowwidth\":1},\"autotypenumbers\":\"strict\",\"coloraxis\":{\"colorbar\":{\"outlinewidth\":0,\"ticks\":\"\"}},\"colorscale\":{\"diverging\":[[0,\"#8e0152\"],[0.1,\"#c51b7d\"],[0.2,\"#de77ae\"],[0.3,\"#f1b6da\"],[0.4,\"#fde0ef\"],[0.5,\"#f7f7f7\"],[0.6,\"#e6f5d0\"],[0.7,\"#b8e186\"],[0.8,\"#7fbc41\"],[0.9,\"#4d9221\"],[1,\"#276419\"]],\"sequential\":[[0.0,\"#0d0887\"],[0.1111111111111111,\"#46039f\"],[0.2222222222222222,\"#7201a8\"],[0.3333333333333333,\"#9c179e\"],[0.4444444444444444,\"#bd3786\"],[0.5555555555555556,\"#d8576b\"],[0.6666666666666666,\"#ed7953\"],[0.7777777777777778,\"#fb9f3a\"],[0.8888888888888888,\"#fdca26\"],[1.0,\"#f0f921\"]],\"sequentialminus\":[[0.0,\"#0d0887\"],[0.1111111111111111,\"#46039f\"],[0.2222222222222222,\"#7201a8\"],[0.3333333333333333,\"#9c179e\"],[0.4444444444444444,\"#bd3786\"],[0.5555555555555556,\"#d8576b\"],[0.6666666666666666,\"#ed7953\"],[0.7777777777777778,\"#fb9f3a\"],[0.8888888888888888,\"#fdca26\"],[1.0,\"#f0f921\"]]},\"colorway\":[\"#636efa\",\"#EF553B\",\"#00cc96\",\"#ab63fa\",\"#FFA15A\",\"#19d3f3\",\"#FF6692\",\"#B6E880\",\"#FF97FF\",\"#FECB52\"],\"font\":{\"color\":\"#2a3f5f\"},\"geo\":{\"bgcolor\":\"white\",\"lakecolor\":\"white\",\"landcolor\":\"#E5ECF6\",\"showlakes\":true,\"showland\":true,\"subunitcolor\":\"white\"},\"hoverlabel\":{\"align\":\"left\"},\"hovermode\":\"closest\",\"mapbox\":{\"style\":\"light\"},\"paper_bgcolor\":\"white\",\"plot_bgcolor\":\"#E5ECF6\",\"polar\":{\"angularaxis\":{\"gridcolor\":\"white\",\"linecolor\":\"white\",\"ticks\":\"\"},\"bgcolor\":\"#E5ECF6\",\"radialaxis\":{\"gridcolor\":\"white\",\"linecolor\":\"white\",\"ticks\":\"\"}},\"scene\":{\"xaxis\":{\"backgroundcolor\":\"#E5ECF6\",\"gridcolor\":\"white\",\"gridwidth\":2,\"linecolor\":\"white\",\"showbackground\":true,\"ticks\":\"\",\"zerolinecolor\":\"white\"},\"yaxis\":{\"backgroundcolor\":\"#E5ECF6\",\"gridcolor\":\"white\",\"gridwidth\":2,\"linecolor\":\"white\",\"showbackground\":true,\"ticks\":\"\",\"zerolinecolor\":\"white\"},\"zaxis\":{\"backgroundcolor\":\"#E5ECF6\",\"gridcolor\":\"white\",\"gridwidth\":2,\"linecolor\":\"white\",\"showbackground\":true,\"ticks\":\"\",\"zerolinecolor\":\"white\"}},\"shapedefaults\":{\"line\":{\"color\":\"#2a3f5f\"}},\"ternary\":{\"aaxis\":{\"gridcolor\":\"white\",\"linecolor\":\"white\",\"ticks\":\"\"},\"baxis\":{\"gridcolor\":\"white\",\"linecolor\":\"white\",\"ticks\":\"\"},\"bgcolor\":\"#E5ECF6\",\"caxis\":{\"gridcolor\":\"white\",\"linecolor\":\"white\",\"ticks\":\"\"}},\"title\":{\"x\":0.05},\"xaxis\":{\"automargin\":true,\"gridcolor\":\"white\",\"linecolor\":\"white\",\"ticks\":\"\",\"title\":{\"standoff\":15},\"zerolinecolor\":\"white\",\"zerolinewidth\":2},\"yaxis\":{\"automargin\":true,\"gridcolor\":\"white\",\"linecolor\":\"white\",\"ticks\":\"\",\"title\":{\"standoff\":15},\"zerolinecolor\":\"white\",\"zerolinewidth\":2}}},\"title\":{\"text\":\"CO2 Emissions by Sector\"},\"xaxis\":{\"title\":{\"text\":\"Year\"}},\"yaxis\":{\"title\":{\"text\":\"Emission Value\"}}},                        {\"responsive\": true}                    ).then(function(){\n",
       "                            \n",
       "var gd = document.getElementById('5f68db26-f68b-4456-9075-005490c9192b');\n",
       "var x = new MutationObserver(function (mutations, observer) {{\n",
       "        var display = window.getComputedStyle(gd).display;\n",
       "        if (!display || display === 'none') {{\n",
       "            console.log([gd, 'removed!']);\n",
       "            Plotly.purge(gd);\n",
       "            observer.disconnect();\n",
       "        }}\n",
       "}});\n",
       "\n",
       "// Listen for the removal of the full notebook cells\n",
       "var notebookContainer = gd.closest('#notebook-container');\n",
       "if (notebookContainer) {{\n",
       "    x.observe(notebookContainer, {childList: true});\n",
       "}}\n",
       "\n",
       "// Listen for the clearing of the current output cell\n",
       "var outputEl = gd.closest('.output');\n",
       "if (outputEl) {{\n",
       "    x.observe(outputEl, {childList: true});\n",
       "}}\n",
       "\n",
       "                        })                };                });            </script>        </div>"
      ]
     },
     "metadata": {},
     "output_type": "display_data"
    }
   ],
   "source": [
    "fig = go.Figure()\n",
    "fig.add_trace(\n",
    "    go.Scatter(x = df_CO2_fossil_industry[\"Year\"].to_list() ,y = df_CO2_fossil_industry[\"Fossil and Industrial\"].to_list(),name=\"Fossil and Industrial\")\n",
    "    )\n",
    "fig.add_trace(\n",
    "    go.Scatter(x = df_CO2_agriculture_forest[\"Year\"].to_list(),y = df_CO2_agriculture_forest[\"Agriculture Waste and Forest Burining\"].to_list(),name=\"Agriculture Waste and Forest Burining\")\n",
    ")\n",
    "fig.update_layout(title=\"CO2 Emissions by Sector\",xaxis_title=\"Year\",yaxis_title=\"Emission Value\",legend_title=\"Sector\",font=dict(family=\"Courier New, monospace\",size=10,color=\"RebeccaPurple\"))"
   ]
  },
  {
   "cell_type": "code",
   "execution_count": 20,
   "id": "7eea5fa3",
   "metadata": {},
   "outputs": [
    {
     "data": {
      "text/html": [
       "<div><div id=ee708a1a-560a-4619-92d1-1b3f8549c771 style=\"display:none; background-color:#9D6CFF; color:white; width:200px; height:30px; padding-left:5px; border-radius:4px; flex-direction:row; justify-content:space-around; align-items:center;\" onmouseover=\"this.style.backgroundColor='#BA9BF8'\" onmouseout=\"this.style.backgroundColor='#9D6CFF'\" onclick=\"window.commands?.execute('create-mitosheet-from-dataframe-output');\">See Full Dataframe in Mito</div> <script> if (window.commands.hasCommand('create-mitosheet-from-dataframe-output')) document.getElementById('ee708a1a-560a-4619-92d1-1b3f8549c771').style.display = 'flex' </script> <table border=\"1\" class=\"dataframe\">\n",
       "  <thead>\n",
       "    <tr style=\"text-align: right;\">\n",
       "      <th></th>\n",
       "      <th>fuel</th>\n",
       "      <th>em</th>\n",
       "      <th>units</th>\n",
       "      <th>X1750</th>\n",
       "      <th>X1751</th>\n",
       "      <th>X1752</th>\n",
       "      <th>X1753</th>\n",
       "      <th>X1754</th>\n",
       "      <th>X1755</th>\n",
       "      <th>X1756</th>\n",
       "      <th>...</th>\n",
       "      <th>X2010</th>\n",
       "      <th>X2011</th>\n",
       "      <th>X2012</th>\n",
       "      <th>X2013</th>\n",
       "      <th>X2014</th>\n",
       "      <th>X2015</th>\n",
       "      <th>X2016</th>\n",
       "      <th>X2017</th>\n",
       "      <th>X2018</th>\n",
       "      <th>X2019</th>\n",
       "    </tr>\n",
       "  </thead>\n",
       "  <tbody>\n",
       "    <tr>\n",
       "      <th>0</th>\n",
       "      <td>biomass</td>\n",
       "      <td>CO2</td>\n",
       "      <td>ktCO2</td>\n",
       "      <td>0.000000</td>\n",
       "      <td>0.000000</td>\n",
       "      <td>0.000000</td>\n",
       "      <td>0.000000</td>\n",
       "      <td>0.000000</td>\n",
       "      <td>0.000000</td>\n",
       "      <td>0.000000</td>\n",
       "      <td>...</td>\n",
       "      <td>0.000000e+00</td>\n",
       "      <td>0.000000e+00</td>\n",
       "      <td>0.000000e+00</td>\n",
       "      <td>0.000000e+00</td>\n",
       "      <td>0.000000e+00</td>\n",
       "      <td>0.000000e+00</td>\n",
       "      <td>0.000000e+00</td>\n",
       "      <td>0.000000e+00</td>\n",
       "      <td>0.000000e+00</td>\n",
       "      <td>0.000000e+00</td>\n",
       "    </tr>\n",
       "    <tr>\n",
       "      <th>1</th>\n",
       "      <td>brown_coal</td>\n",
       "      <td>CO2</td>\n",
       "      <td>ktCO2</td>\n",
       "      <td>0.000000</td>\n",
       "      <td>0.000000</td>\n",
       "      <td>0.000000</td>\n",
       "      <td>0.000000</td>\n",
       "      <td>0.000000</td>\n",
       "      <td>0.000000</td>\n",
       "      <td>0.000000</td>\n",
       "      <td>...</td>\n",
       "      <td>7.473192e+05</td>\n",
       "      <td>7.867700e+05</td>\n",
       "      <td>7.787084e+05</td>\n",
       "      <td>7.362840e+05</td>\n",
       "      <td>7.196863e+05</td>\n",
       "      <td>7.207185e+05</td>\n",
       "      <td>7.154591e+05</td>\n",
       "      <td>7.182963e+05</td>\n",
       "      <td>7.410650e+05</td>\n",
       "      <td>6.987816e+05</td>\n",
       "    </tr>\n",
       "    <tr>\n",
       "      <th>2</th>\n",
       "      <td>coal_coke</td>\n",
       "      <td>CO2</td>\n",
       "      <td>ktCO2</td>\n",
       "      <td>366.177444</td>\n",
       "      <td>366.177444</td>\n",
       "      <td>366.320930</td>\n",
       "      <td>366.320930</td>\n",
       "      <td>366.464417</td>\n",
       "      <td>366.607903</td>\n",
       "      <td>391.861520</td>\n",
       "      <td>...</td>\n",
       "      <td>4.246643e+05</td>\n",
       "      <td>4.707760e+05</td>\n",
       "      <td>5.624562e+05</td>\n",
       "      <td>4.937008e+05</td>\n",
       "      <td>5.116548e+05</td>\n",
       "      <td>5.310231e+05</td>\n",
       "      <td>5.469573e+05</td>\n",
       "      <td>5.434647e+05</td>\n",
       "      <td>5.489173e+05</td>\n",
       "      <td>5.533338e+05</td>\n",
       "    </tr>\n",
       "    <tr>\n",
       "      <th>3</th>\n",
       "      <td>diesel_oil</td>\n",
       "      <td>CO2</td>\n",
       "      <td>ktCO2</td>\n",
       "      <td>0.000000</td>\n",
       "      <td>0.000000</td>\n",
       "      <td>0.000000</td>\n",
       "      <td>0.000000</td>\n",
       "      <td>0.000000</td>\n",
       "      <td>0.000000</td>\n",
       "      <td>0.000000</td>\n",
       "      <td>...</td>\n",
       "      <td>3.876727e+06</td>\n",
       "      <td>3.971659e+06</td>\n",
       "      <td>3.983097e+06</td>\n",
       "      <td>4.096506e+06</td>\n",
       "      <td>4.125405e+06</td>\n",
       "      <td>4.231086e+06</td>\n",
       "      <td>4.197037e+06</td>\n",
       "      <td>4.279408e+06</td>\n",
       "      <td>4.339067e+06</td>\n",
       "      <td>4.372833e+06</td>\n",
       "    </tr>\n",
       "    <tr>\n",
       "      <th>4</th>\n",
       "      <td>hard_coal</td>\n",
       "      <td>CO2</td>\n",
       "      <td>ktCO2</td>\n",
       "      <td>6735.455519</td>\n",
       "      <td>6735.455519</td>\n",
       "      <td>6738.094804</td>\n",
       "      <td>6738.094804</td>\n",
       "      <td>6740.734089</td>\n",
       "      <td>6743.373374</td>\n",
       "      <td>7207.887548</td>\n",
       "      <td>...</td>\n",
       "      <td>1.057572e+07</td>\n",
       "      <td>1.105209e+07</td>\n",
       "      <td>1.112120e+07</td>\n",
       "      <td>1.145373e+07</td>\n",
       "      <td>1.149486e+07</td>\n",
       "      <td>1.123129e+07</td>\n",
       "      <td>1.092686e+07</td>\n",
       "      <td>1.103649e+07</td>\n",
       "      <td>1.122733e+07</td>\n",
       "      <td>1.118936e+07</td>\n",
       "    </tr>\n",
       "  </tbody>\n",
       "</table></div>"
      ],
      "text/plain": [
       "         fuel   em  units        X1750        X1751        X1752        X1753  \\\n",
       "0     biomass  CO2  ktCO2     0.000000     0.000000     0.000000     0.000000   \n",
       "1  brown_coal  CO2  ktCO2     0.000000     0.000000     0.000000     0.000000   \n",
       "2   coal_coke  CO2  ktCO2   366.177444   366.177444   366.320930   366.320930   \n",
       "3  diesel_oil  CO2  ktCO2     0.000000     0.000000     0.000000     0.000000   \n",
       "4   hard_coal  CO2  ktCO2  6735.455519  6735.455519  6738.094804  6738.094804   \n",
       "\n",
       "         X1754        X1755        X1756  ...         X2010         X2011  \\\n",
       "0     0.000000     0.000000     0.000000  ...  0.000000e+00  0.000000e+00   \n",
       "1     0.000000     0.000000     0.000000  ...  7.473192e+05  7.867700e+05   \n",
       "2   366.464417   366.607903   391.861520  ...  4.246643e+05  4.707760e+05   \n",
       "3     0.000000     0.000000     0.000000  ...  3.876727e+06  3.971659e+06   \n",
       "4  6740.734089  6743.373374  7207.887548  ...  1.057572e+07  1.105209e+07   \n",
       "\n",
       "          X2012         X2013         X2014         X2015         X2016  \\\n",
       "0  0.000000e+00  0.000000e+00  0.000000e+00  0.000000e+00  0.000000e+00   \n",
       "1  7.787084e+05  7.362840e+05  7.196863e+05  7.207185e+05  7.154591e+05   \n",
       "2  5.624562e+05  4.937008e+05  5.116548e+05  5.310231e+05  5.469573e+05   \n",
       "3  3.983097e+06  4.096506e+06  4.125405e+06  4.231086e+06  4.197037e+06   \n",
       "4  1.112120e+07  1.145373e+07  1.149486e+07  1.123129e+07  1.092686e+07   \n",
       "\n",
       "          X2017         X2018         X2019  \n",
       "0  0.000000e+00  0.000000e+00  0.000000e+00  \n",
       "1  7.182963e+05  7.410650e+05  6.987816e+05  \n",
       "2  5.434647e+05  5.489173e+05  5.533338e+05  \n",
       "3  4.279408e+06  4.339067e+06  4.372833e+06  \n",
       "4  1.103649e+07  1.122733e+07  1.118936e+07  \n",
       "\n",
       "[5 rows x 273 columns]"
      ]
     },
     "execution_count": 20,
     "metadata": {},
     "output_type": "execute_result"
    }
   ],
   "source": [
    "import pandas as pd\n",
    "df_sectors_2 = pd.read_csv(r\"Dataset/CO2_global_CEDS_emissions_by_fuel_2021_04_21.csv\", error_bad_lines=False, lineterminator='\\n')\n",
    "df_sectors_2.head()"
   ]
  },
  {
   "cell_type": "code",
   "execution_count": 21,
   "id": "4f337e07",
   "metadata": {},
   "outputs": [
    {
     "data": {
      "text/html": [
       "<div><div id=88830a0b-4089-45c2-ad77-27b025a7815a style=\"display:none; background-color:#9D6CFF; color:white; width:200px; height:30px; padding-left:5px; border-radius:4px; flex-direction:row; justify-content:space-around; align-items:center;\" onmouseover=\"this.style.backgroundColor='#BA9BF8'\" onmouseout=\"this.style.backgroundColor='#9D6CFF'\" onclick=\"window.commands?.execute('create-mitosheet-from-dataframe-output');\">See Full Dataframe in Mito</div> <script> if (window.commands.hasCommand('create-mitosheet-from-dataframe-output')) document.getElementById('88830a0b-4089-45c2-ad77-27b025a7815a').style.display = 'flex' </script> <table border=\"1\" class=\"dataframe\">\n",
       "  <thead>\n",
       "    <tr style=\"text-align: right;\">\n",
       "      <th></th>\n",
       "      <th>X1876</th>\n",
       "      <th>X1877</th>\n",
       "      <th>X1878</th>\n",
       "      <th>X1879</th>\n",
       "      <th>X1880</th>\n",
       "      <th>X1881</th>\n",
       "      <th>X1882</th>\n",
       "      <th>X1883</th>\n",
       "      <th>X1884</th>\n",
       "      <th>X1885</th>\n",
       "      <th>...</th>\n",
       "      <th>X2010</th>\n",
       "      <th>X2011</th>\n",
       "      <th>X2012</th>\n",
       "      <th>X2013</th>\n",
       "      <th>X2014</th>\n",
       "      <th>X2015</th>\n",
       "      <th>X2016</th>\n",
       "      <th>X2017</th>\n",
       "      <th>X2018</th>\n",
       "      <th>X2019</th>\n",
       "    </tr>\n",
       "  </thead>\n",
       "  <tbody>\n",
       "    <tr>\n",
       "      <th>3</th>\n",
       "      <td>1602.485057</td>\n",
       "      <td>2136.828026</td>\n",
       "      <td>2391.183867</td>\n",
       "      <td>2993.414741</td>\n",
       "      <td>3578.180149</td>\n",
       "      <td>4037.507502</td>\n",
       "      <td>4473.118810</td>\n",
       "      <td>3873.838807</td>\n",
       "      <td>4366.452119</td>\n",
       "      <td>4460.686440</td>\n",
       "      <td>...</td>\n",
       "      <td>3.876727e+06</td>\n",
       "      <td>3.971659e+06</td>\n",
       "      <td>3.983097e+06</td>\n",
       "      <td>4.096506e+06</td>\n",
       "      <td>4.125405e+06</td>\n",
       "      <td>4.231086e+06</td>\n",
       "      <td>4.197037e+06</td>\n",
       "      <td>4.279408e+06</td>\n",
       "      <td>4.339067e+06</td>\n",
       "      <td>4.372833e+06</td>\n",
       "    </tr>\n",
       "    <tr>\n",
       "      <th>4</th>\n",
       "      <td>494741.979261</td>\n",
       "      <td>505091.710974</td>\n",
       "      <td>509565.212321</td>\n",
       "      <td>548014.869946</td>\n",
       "      <td>619365.140072</td>\n",
       "      <td>638356.652078</td>\n",
       "      <td>675727.307063</td>\n",
       "      <td>721742.563222</td>\n",
       "      <td>728976.258059</td>\n",
       "      <td>732121.550209</td>\n",
       "      <td>...</td>\n",
       "      <td>1.057572e+07</td>\n",
       "      <td>1.105209e+07</td>\n",
       "      <td>1.112120e+07</td>\n",
       "      <td>1.145373e+07</td>\n",
       "      <td>1.149486e+07</td>\n",
       "      <td>1.123129e+07</td>\n",
       "      <td>1.092686e+07</td>\n",
       "      <td>1.103649e+07</td>\n",
       "      <td>1.122733e+07</td>\n",
       "      <td>1.118936e+07</td>\n",
       "    </tr>\n",
       "    <tr>\n",
       "      <th>7</th>\n",
       "      <td>0.000000</td>\n",
       "      <td>0.000000</td>\n",
       "      <td>0.000000</td>\n",
       "      <td>0.000000</td>\n",
       "      <td>0.000000</td>\n",
       "      <td>0.000000</td>\n",
       "      <td>198.071615</td>\n",
       "      <td>457.840312</td>\n",
       "      <td>1408.959130</td>\n",
       "      <td>4465.304536</td>\n",
       "      <td>...</td>\n",
       "      <td>5.584154e+06</td>\n",
       "      <td>5.648876e+06</td>\n",
       "      <td>5.757304e+06</td>\n",
       "      <td>5.825034e+06</td>\n",
       "      <td>5.875273e+06</td>\n",
       "      <td>5.964930e+06</td>\n",
       "      <td>6.112000e+06</td>\n",
       "      <td>6.253758e+06</td>\n",
       "      <td>6.609853e+06</td>\n",
       "      <td>6.753656e+06</td>\n",
       "    </tr>\n",
       "  </tbody>\n",
       "</table></div>"
      ],
      "text/plain": [
       "           X1876          X1877          X1878          X1879          X1880  \\\n",
       "3    1602.485057    2136.828026    2391.183867    2993.414741    3578.180149   \n",
       "4  494741.979261  505091.710974  509565.212321  548014.869946  619365.140072   \n",
       "7       0.000000       0.000000       0.000000       0.000000       0.000000   \n",
       "\n",
       "           X1881          X1882          X1883          X1884          X1885  \\\n",
       "3    4037.507502    4473.118810    3873.838807    4366.452119    4460.686440   \n",
       "4  638356.652078  675727.307063  721742.563222  728976.258059  732121.550209   \n",
       "7       0.000000     198.071615     457.840312    1408.959130    4465.304536   \n",
       "\n",
       "   ...         X2010         X2011         X2012         X2013         X2014  \\\n",
       "3  ...  3.876727e+06  3.971659e+06  3.983097e+06  4.096506e+06  4.125405e+06   \n",
       "4  ...  1.057572e+07  1.105209e+07  1.112120e+07  1.145373e+07  1.149486e+07   \n",
       "7  ...  5.584154e+06  5.648876e+06  5.757304e+06  5.825034e+06  5.875273e+06   \n",
       "\n",
       "          X2015         X2016         X2017         X2018         X2019  \n",
       "3  4.231086e+06  4.197037e+06  4.279408e+06  4.339067e+06  4.372833e+06  \n",
       "4  1.123129e+07  1.092686e+07  1.103649e+07  1.122733e+07  1.118936e+07  \n",
       "7  5.964930e+06  6.112000e+06  6.253758e+06  6.609853e+06  6.753656e+06  \n",
       "\n",
       "[3 rows x 144 columns]"
      ]
     },
     "execution_count": 21,
     "metadata": {},
     "output_type": "execute_result"
    }
   ],
   "source": [
    "##Preprocsesing and fetching relevant data\n",
    "l=[]\n",
    "for i in range(4,129):\n",
    "    l.append(i)  \n",
    "df_sectors_2.drop(df_sectors_2.columns[l], axis = 1, inplace = True)\n",
    "df_sectors_2.drop(df_sectors_2.columns[[1,2,3]], axis = 1, inplace = True)\n",
    "df_sectors_2= df_sectors_2.drop([0,1,2,5,6,8])\n",
    "df_sectors_2.drop(df_sectors_2.columns[0], axis = 1, inplace = True)\n",
    "df_sectors_2.head()"
   ]
  },
  {
   "cell_type": "code",
   "execution_count": 22,
   "id": "9e13b8fe",
   "metadata": {},
   "outputs": [],
   "source": [
    "def convert_df_v2(value):\n",
    "    c=0\n",
    "    temp_df = pd.DataFrame(columns=[\"Year\",\"Value\"])\n",
    "    for i, row in df_sectors_2.iterrows():\n",
    "        if i == value:\n",
    "            for j,val in row.iteritems():\n",
    "                j=j.split(\"X\")[-1]\n",
    "                #print(j)\n",
    "                if int(j) <= 2020 :\n",
    "                    temp_df.loc[c,\"Year\"] = j\n",
    "                    temp_df.loc[c,\"Value\"] = val\n",
    "                    c=c+1\n",
    "                else:\n",
    "                    continue\n",
    "    return temp_df"
   ]
  },
  {
   "cell_type": "code",
   "execution_count": 23,
   "id": "81505f3f",
   "metadata": {},
   "outputs": [],
   "source": [
    "df_diesel_oil = convert_df_v2(3).reset_index()\n",
    "df_hard_coal = convert_df_v2(4).reset_index()\n",
    "df_natural_gas = convert_df_v2(7).reset_index()"
   ]
  },
  {
   "cell_type": "code",
   "execution_count": 24,
   "id": "d0d6993d",
   "metadata": {},
   "outputs": [
    {
     "data": {
      "application/vnd.plotly.v1+json": {
       "config": {
        "plotlyServerURL": "https://plot.ly"
       },
       "data": [
        {
         "name": "CO2-Diesel Oil",
         "type": "scatter",
         "x": [
          "1876",
          "1877",
          "1878",
          "1879",
          "1880",
          "1881",
          "1882",
          "1883",
          "1884",
          "1885",
          "1886",
          "1887",
          "1888",
          "1889",
          "1890",
          "1891",
          "1892",
          "1893",
          "1894",
          "1895",
          "1896",
          "1897",
          "1898",
          "1899",
          "1900",
          "1901",
          "1902",
          "1903",
          "1904",
          "1905",
          "1906",
          "1907",
          "1908",
          "1909",
          "1910",
          "1911",
          "1912",
          "1913",
          "1914",
          "1915",
          "1916",
          "1917",
          "1918",
          "1919",
          "1920",
          "1921",
          "1922",
          "1923",
          "1924",
          "1925",
          "1926",
          "1927",
          "1928",
          "1929",
          "1930",
          "1931",
          "1932",
          "1933",
          "1934",
          "1935",
          "1936",
          "1937",
          "1938",
          "1939",
          "1940",
          "1941",
          "1942",
          "1943",
          "1944",
          "1945",
          "1946",
          "1947",
          "1948",
          "1949",
          "1950",
          "1951",
          "1952",
          "1953",
          "1954",
          "1955",
          "1956",
          "1957",
          "1958",
          "1959",
          "1960",
          "1961",
          "1962",
          "1963",
          "1964",
          "1965",
          "1966",
          "1967",
          "1968",
          "1969",
          "1970",
          "1971",
          "1972",
          "1973",
          "1974",
          "1975",
          "1976",
          "1977",
          "1978",
          "1979",
          "1980",
          "1981",
          "1982",
          "1983",
          "1984",
          "1985",
          "1986",
          "1987",
          "1988",
          "1989",
          "1990",
          "1991",
          "1992",
          "1993",
          "1994",
          "1995",
          "1996",
          "1997",
          "1998",
          "1999",
          "2000",
          "2001",
          "2002",
          "2003",
          "2004",
          "2005",
          "2006",
          "2007",
          "2008",
          "2009",
          "2010",
          "2011",
          "2012",
          "2013",
          "2014",
          "2015",
          "2016",
          "2017",
          "2018",
          "2019"
         ],
         "y": [
          1602.48505682097,
          2136.82802630416,
          2391.18386736343,
          2993.41474115565,
          3578.1801490107,
          4037.50750249373,
          4473.11880968086,
          3873.83880650621,
          4366.45211872101,
          4460.68644036002,
          5129.56511265105,
          5516.74873867244,
          5795.50893116353,
          6741.31593199603,
          8150.85695234365,
          9527.6730074842,
          9460.75796267516,
          9868.9651080347,
          9675.51879679277,
          11155.0428274033,
          12173.3368894296,
          12800.0660296935,
          13022.4655928101,
          13534.1374665106,
          15072.9377300209,
          16762.4703343739,
          18252.0587116575,
          19777.5833709482,
          22310.1883924885,
          23089.8897223189,
          23212.7669285011,
          28408.7820102291,
          30980.3502161936,
          32587.9554281155,
          35130.8842976772,
          37196.016499494,
          38212.0587523645,
          43418.2863129822,
          45238.9736141346,
          48425.1243380926,
          53302.5795504573,
          58147.8960831564,
          60729.795374553,
          67074.4902764842,
          80186.727620192,
          85234.4840460671,
          97496.3190434597,
          113197.636105165,
          114377.624274727,
          124612.429567368,
          126215.633246146,
          140223.210189152,
          145251.514025734,
          159749.211863195,
          152518.41132288,
          147796.939775241,
          140146.59140958,
          151122.844358439,
          157962.206317489,
          169729.632199022,
          184097.086057748,
          202312.978442187,
          194685.809663024,
          203133.901888678,
          212826.162363151,
          219130.337420522,
          209558.141494315,
          223991.005012172,
          248941.674798332,
          247685.513625698,
          263011.552872462,
          290563.533957243,
          326067.753353305,
          322410.214611989,
          371003.714860864,
          402834.616224987,
          427730.367561033,
          454074.737167952,
          481965.00525053,
          538205.537189663,
          586605.980015368,
          613471.325502672,
          639623.671435153,
          679617.767417498,
          725705.607014581,
          769211.494666944,
          840530.884907322,
          909271.950837065,
          973455.527789351,
          1052491.54882927,
          1117986.43919421,
          1187428.20315274,
          1312899.5316503,
          1403886.23937971,
          1539806.73185853,
          1629564.79699617,
          1778348.30829715,
          1919592.5407274,
          1862449.23601239,
          1877756.18185061,
          2012726.63157462,
          2098135.28876679,
          2221298.61079418,
          2251136.38489446,
          2156050.11025587,
          2101951.35153802,
          2061193.99644898,
          2087839.66163321,
          2167022.69859946,
          2218338.87010496,
          2273207.14336435,
          2341041.37157858,
          2429260.36911186,
          2467404.28230226,
          2552916.15135057,
          2603989.05082477,
          2621399.81929621,
          2663001.58996122,
          2684574.07198396,
          2784054.80471316,
          2958277.61668011,
          2965345.61422006,
          2981542.20724083,
          3053882.01058023,
          3174141.70579759,
          3269151.45516283,
          3290934.21339489,
          3402428.38656465,
          3591695.75798264,
          3676399.60833532,
          3754148.56853944,
          3848777.7919543,
          3904488.22761284,
          3770675.3980476,
          3876727.33427157,
          3971659.36998346,
          3983096.79860502,
          4096506.07287839,
          4125404.54892794,
          4231086.45010939,
          4197037.35077266,
          4279408.29184863,
          4339067.23067393,
          4372832.83267511
         ]
        },
        {
         "name": "CO2-Hard Coal",
         "type": "scatter",
         "x": [
          "1876",
          "1877",
          "1878",
          "1879",
          "1880",
          "1881",
          "1882",
          "1883",
          "1884",
          "1885",
          "1886",
          "1887",
          "1888",
          "1889",
          "1890",
          "1891",
          "1892",
          "1893",
          "1894",
          "1895",
          "1896",
          "1897",
          "1898",
          "1899",
          "1900",
          "1901",
          "1902",
          "1903",
          "1904",
          "1905",
          "1906",
          "1907",
          "1908",
          "1909",
          "1910",
          "1911",
          "1912",
          "1913",
          "1914",
          "1915",
          "1916",
          "1917",
          "1918",
          "1919",
          "1920",
          "1921",
          "1922",
          "1923",
          "1924",
          "1925",
          "1926",
          "1927",
          "1928",
          "1929",
          "1930",
          "1931",
          "1932",
          "1933",
          "1934",
          "1935",
          "1936",
          "1937",
          "1938",
          "1939",
          "1940",
          "1941",
          "1942",
          "1943",
          "1944",
          "1945",
          "1946",
          "1947",
          "1948",
          "1949",
          "1950",
          "1951",
          "1952",
          "1953",
          "1954",
          "1955",
          "1956",
          "1957",
          "1958",
          "1959",
          "1960",
          "1961",
          "1962",
          "1963",
          "1964",
          "1965",
          "1966",
          "1967",
          "1968",
          "1969",
          "1970",
          "1971",
          "1972",
          "1973",
          "1974",
          "1975",
          "1976",
          "1977",
          "1978",
          "1979",
          "1980",
          "1981",
          "1982",
          "1983",
          "1984",
          "1985",
          "1986",
          "1987",
          "1988",
          "1989",
          "1990",
          "1991",
          "1992",
          "1993",
          "1994",
          "1995",
          "1996",
          "1997",
          "1998",
          "1999",
          "2000",
          "2001",
          "2002",
          "2003",
          "2004",
          "2005",
          "2006",
          "2007",
          "2008",
          "2009",
          "2010",
          "2011",
          "2012",
          "2013",
          "2014",
          "2015",
          "2016",
          "2017",
          "2018",
          "2019"
         ],
         "y": [
          494741.979261014,
          505091.710973752,
          509565.212320791,
          548014.8699459,
          619365.140072287,
          638356.652078401,
          675727.307062823,
          721742.563222158,
          728976.258058598,
          732121.550208741,
          738484.259873759,
          773075.200045265,
          856307.39620459,
          852933.40684579,
          927748.272426607,
          970739.319103642,
          981209.64483217,
          965390.283390554,
          1003282.6611171,
          1062073.22636065,
          1090829.89571661,
          1137225.77654598,
          1198527.6104272,
          1310368.08567289,
          1373977.24728579,
          1416119.64878639,
          1453961.0651679,
          1591073.32868399,
          1596813.45063402,
          1697928.63631672,
          1816589.87402321,
          2022343.52813102,
          1922988.62134133,
          1999340.5686886,
          2101518.23302208,
          2140442.7593967,
          2237975.03420683,
          2375796.22449236,
          2122969.16317184,
          2100430.51916495,
          2272300.41572224,
          2366226.90306859,
          2331148.24051864,
          1950767.96704636,
          2247067.71407281,
          1879112.63318028,
          1949341.68312719,
          2164761.95406886,
          2159747.51090913,
          2161937.13379811,
          2190323.6788992,
          2315985.59149417,
          2259471.00755038,
          2407068.03885875,
          2191027.75760558,
          1933702.22679688,
          1721482.55244369,
          1811575.79387713,
          1973225.17384948,
          2052458.50874439,
          2244179.02800611,
          2352764.34688781,
          2165939.88013296,
          2308162.54826006,
          2610596.61769282,
          2694299.03347465,
          2752396.45200043,
          2798486.37931594,
          2701624.21052672,
          2139001.57164546,
          2235611.0849654,
          2439413.34742719,
          2485671.86828287,
          2365418.77917578,
          2427249.83524715,
          2564766.47835927,
          2543749.65802433,
          2520634.34281232,
          2526780.05001297,
          2714016.09047271,
          2859116.01930635,
          2888617.39980805,
          3040490.49407265,
          3172708.06635534,
          3312919.06534164,
          3113911.03574568,
          3098022.9147638,
          3188982.24221129,
          3205369.93635125,
          3265776.83087104,
          3305828.57788718,
          3209751.09779043,
          3259002.12374657,
          3364095.53682656,
          3517958.93272998,
          3496398.30052185,
          3509296.23294878,
          3650694.4677598,
          3691367.50271758,
          3843677.22097823,
          4063959.74952882,
          4246390.88783741,
          4464099.61130751,
          4651720.04166034,
          4795404.02373642,
          4839644.00248417,
          4948059.48299489,
          5119014.31072607,
          5344106.7210313,
          5514099.67921881,
          5592013.73870459,
          5902449.5744725,
          6053619.15683653,
          6092891.25103836,
          6119438.5283034,
          6163366.98990388,
          6113679.11263669,
          6143090.37366165,
          6162248.92830138,
          6361047.19549834,
          6409743.44475127,
          6399483.30721841,
          6477965.6763479,
          6384746.26220551,
          6696837.54421679,
          6806299.69667827,
          7114104.7359491,
          7759642.81357251,
          8384144.2689643,
          8932020.57570546,
          9464550.32859905,
          9999472.4736382,
          10073941.6364836,
          10060493.0180071,
          10575719.1189434,
          11052092.9056048,
          11121203.1857953,
          11453730.8535221,
          11494858.4869579,
          11231286.7406675,
          10926860.2691094,
          11036490.514541,
          11227328.4029442,
          11189364.3136558
         ]
        },
        {
         "name": "CO2-Natural Gas",
         "type": "scatter",
         "x": [
          "1876",
          "1877",
          "1878",
          "1879",
          "1880",
          "1881",
          "1882",
          "1883",
          "1884",
          "1885",
          "1886",
          "1887",
          "1888",
          "1889",
          "1890",
          "1891",
          "1892",
          "1893",
          "1894",
          "1895",
          "1896",
          "1897",
          "1898",
          "1899",
          "1900",
          "1901",
          "1902",
          "1903",
          "1904",
          "1905",
          "1906",
          "1907",
          "1908",
          "1909",
          "1910",
          "1911",
          "1912",
          "1913",
          "1914",
          "1915",
          "1916",
          "1917",
          "1918",
          "1919",
          "1920",
          "1921",
          "1922",
          "1923",
          "1924",
          "1925",
          "1926",
          "1927",
          "1928",
          "1929",
          "1930",
          "1931",
          "1932",
          "1933",
          "1934",
          "1935",
          "1936",
          "1937",
          "1938",
          "1939",
          "1940",
          "1941",
          "1942",
          "1943",
          "1944",
          "1945",
          "1946",
          "1947",
          "1948",
          "1949",
          "1950",
          "1951",
          "1952",
          "1953",
          "1954",
          "1955",
          "1956",
          "1957",
          "1958",
          "1959",
          "1960",
          "1961",
          "1962",
          "1963",
          "1964",
          "1965",
          "1966",
          "1967",
          "1968",
          "1969",
          "1970",
          "1971",
          "1972",
          "1973",
          "1974",
          "1975",
          "1976",
          "1977",
          "1978",
          "1979",
          "1980",
          "1981",
          "1982",
          "1983",
          "1984",
          "1985",
          "1986",
          "1987",
          "1988",
          "1989",
          "1990",
          "1991",
          "1992",
          "1993",
          "1994",
          "1995",
          "1996",
          "1997",
          "1998",
          "1999",
          "2000",
          "2001",
          "2002",
          "2003",
          "2004",
          "2005",
          "2006",
          "2007",
          "2008",
          "2009",
          "2010",
          "2011",
          "2012",
          "2013",
          "2014",
          "2015",
          "2016",
          "2017",
          "2018",
          "2019"
         ],
         "y": [
          0,
          0,
          0,
          0,
          0,
          0,
          198.071615382345,
          457.840312321284,
          1408.95913033143,
          4465.30453565322,
          9226.96869272683,
          14170.5051729261,
          20168.186041717,
          14702.8563303608,
          14056.8646713236,
          10761.9194338107,
          9352.63336488819,
          8767.30331524285,
          8058.39447380049,
          8473.54723985298,
          8240.60799221528,
          8770.44118146424,
          10182.3023441892,
          13124.6927097248,
          13893.1191232708,
          15480.5215636957,
          16485.6981417165,
          17486.4368293575,
          18253.410134651,
          20665.298406222,
          22900.6978015743,
          23923.327924601,
          23680.3370963207,
          28310.0494965088,
          29985.1911493883,
          30949.5523145964,
          34159.3363648362,
          35733.1376347778,
          36481.598152719,
          38635.6416591152,
          46429.17550689,
          49128.6323106009,
          44397.1205162765,
          46257.1953766587,
          50787.2527153492,
          42807.2862998063,
          49096.0749750387,
          64189.2123774063,
          72852.634649741,
          77610.1168477515,
          84198.8289697333,
          92428.2081607855,
          100625.069333226,
          124495.747852782,
          125700.818526821,
          112058.439723254,
          106340.925921391,
          109286.554655974,
          122322.410703021,
          131849.974509537,
          148489.241489371,
          166059.119810487,
          159682.646166942,
          166613.314921369,
          180234.66887086,
          179691.652047315,
          192159.729280272,
          208950.597629758,
          222306.954201808,
          239113.303630772,
          243691.500996328,
          266244.244325705,
          297764.414318005,
          315383.009554666,
          366846.308528872,
          426413.410249152,
          451430.139013484,
          472107.915340817,
          490615.333740616,
          526887.852574513,
          556601.606966904,
          604811.797819856,
          652303.927618169,
          691021.673591247,
          844775.803909343,
          903681.238653953,
          982017.162262144,
          1058878.15725575,
          1166849.85764619,
          1244027.41359261,
          1351986.07979685,
          1501559.36732438,
          1627067.21427241,
          1719131.89470441,
          1784912.13153707,
          1932605.43476697,
          2027445.03393025,
          2106412.78023694,
          2153269.75280946,
          2125772.57787005,
          2219145.28510444,
          2254269.59282947,
          2325157.72047017,
          2462238.85658903,
          2543047.93783976,
          2567383.43184162,
          2531720.67303737,
          2563171.81525048,
          2749963.2407101,
          2809120.54961312,
          2835541.28805139,
          2992476.534195,
          3117847.84252481,
          3278362.348194,
          3390308.26344707,
          3495800.63445682,
          3456399.29835457,
          3497132.53674269,
          3511939.68600363,
          3618511.90564741,
          3776123.44394951,
          3819351.07307003,
          3835960.42194708,
          3975491.37918161,
          4139457.42242138,
          4203673.19856264,
          4325527.58478369,
          4466387.89461062,
          4601982.62707477,
          4715314.17728499,
          4863563.53929657,
          5056331.79609394,
          5211445.21668623,
          5123022.28502911,
          5584154.20617127,
          5648876.00353414,
          5757303.55577394,
          5825034.32687546,
          5875272.78775063,
          5964930.4454462,
          6112000.36903765,
          6253758.01018602,
          6609853.41039868,
          6753655.7031504
         ]
        }
       ],
       "layout": {
        "font": {
         "color": "RebeccaPurple",
         "family": "Courier New, monospace",
         "size": 10
        },
        "legend": {
         "title": {
          "text": "Type"
         }
        },
        "template": {
         "data": {
          "bar": [
           {
            "error_x": {
             "color": "#2a3f5f"
            },
            "error_y": {
             "color": "#2a3f5f"
            },
            "marker": {
             "line": {
              "color": "#E5ECF6",
              "width": 0.5
             },
             "pattern": {
              "fillmode": "overlay",
              "size": 10,
              "solidity": 0.2
             }
            },
            "type": "bar"
           }
          ],
          "barpolar": [
           {
            "marker": {
             "line": {
              "color": "#E5ECF6",
              "width": 0.5
             },
             "pattern": {
              "fillmode": "overlay",
              "size": 10,
              "solidity": 0.2
             }
            },
            "type": "barpolar"
           }
          ],
          "carpet": [
           {
            "aaxis": {
             "endlinecolor": "#2a3f5f",
             "gridcolor": "white",
             "linecolor": "white",
             "minorgridcolor": "white",
             "startlinecolor": "#2a3f5f"
            },
            "baxis": {
             "endlinecolor": "#2a3f5f",
             "gridcolor": "white",
             "linecolor": "white",
             "minorgridcolor": "white",
             "startlinecolor": "#2a3f5f"
            },
            "type": "carpet"
           }
          ],
          "choropleth": [
           {
            "colorbar": {
             "outlinewidth": 0,
             "ticks": ""
            },
            "type": "choropleth"
           }
          ],
          "contour": [
           {
            "colorbar": {
             "outlinewidth": 0,
             "ticks": ""
            },
            "colorscale": [
             [
              0,
              "#0d0887"
             ],
             [
              0.1111111111111111,
              "#46039f"
             ],
             [
              0.2222222222222222,
              "#7201a8"
             ],
             [
              0.3333333333333333,
              "#9c179e"
             ],
             [
              0.4444444444444444,
              "#bd3786"
             ],
             [
              0.5555555555555556,
              "#d8576b"
             ],
             [
              0.6666666666666666,
              "#ed7953"
             ],
             [
              0.7777777777777778,
              "#fb9f3a"
             ],
             [
              0.8888888888888888,
              "#fdca26"
             ],
             [
              1,
              "#f0f921"
             ]
            ],
            "type": "contour"
           }
          ],
          "contourcarpet": [
           {
            "colorbar": {
             "outlinewidth": 0,
             "ticks": ""
            },
            "type": "contourcarpet"
           }
          ],
          "heatmap": [
           {
            "colorbar": {
             "outlinewidth": 0,
             "ticks": ""
            },
            "colorscale": [
             [
              0,
              "#0d0887"
             ],
             [
              0.1111111111111111,
              "#46039f"
             ],
             [
              0.2222222222222222,
              "#7201a8"
             ],
             [
              0.3333333333333333,
              "#9c179e"
             ],
             [
              0.4444444444444444,
              "#bd3786"
             ],
             [
              0.5555555555555556,
              "#d8576b"
             ],
             [
              0.6666666666666666,
              "#ed7953"
             ],
             [
              0.7777777777777778,
              "#fb9f3a"
             ],
             [
              0.8888888888888888,
              "#fdca26"
             ],
             [
              1,
              "#f0f921"
             ]
            ],
            "type": "heatmap"
           }
          ],
          "heatmapgl": [
           {
            "colorbar": {
             "outlinewidth": 0,
             "ticks": ""
            },
            "colorscale": [
             [
              0,
              "#0d0887"
             ],
             [
              0.1111111111111111,
              "#46039f"
             ],
             [
              0.2222222222222222,
              "#7201a8"
             ],
             [
              0.3333333333333333,
              "#9c179e"
             ],
             [
              0.4444444444444444,
              "#bd3786"
             ],
             [
              0.5555555555555556,
              "#d8576b"
             ],
             [
              0.6666666666666666,
              "#ed7953"
             ],
             [
              0.7777777777777778,
              "#fb9f3a"
             ],
             [
              0.8888888888888888,
              "#fdca26"
             ],
             [
              1,
              "#f0f921"
             ]
            ],
            "type": "heatmapgl"
           }
          ],
          "histogram": [
           {
            "marker": {
             "pattern": {
              "fillmode": "overlay",
              "size": 10,
              "solidity": 0.2
             }
            },
            "type": "histogram"
           }
          ],
          "histogram2d": [
           {
            "colorbar": {
             "outlinewidth": 0,
             "ticks": ""
            },
            "colorscale": [
             [
              0,
              "#0d0887"
             ],
             [
              0.1111111111111111,
              "#46039f"
             ],
             [
              0.2222222222222222,
              "#7201a8"
             ],
             [
              0.3333333333333333,
              "#9c179e"
             ],
             [
              0.4444444444444444,
              "#bd3786"
             ],
             [
              0.5555555555555556,
              "#d8576b"
             ],
             [
              0.6666666666666666,
              "#ed7953"
             ],
             [
              0.7777777777777778,
              "#fb9f3a"
             ],
             [
              0.8888888888888888,
              "#fdca26"
             ],
             [
              1,
              "#f0f921"
             ]
            ],
            "type": "histogram2d"
           }
          ],
          "histogram2dcontour": [
           {
            "colorbar": {
             "outlinewidth": 0,
             "ticks": ""
            },
            "colorscale": [
             [
              0,
              "#0d0887"
             ],
             [
              0.1111111111111111,
              "#46039f"
             ],
             [
              0.2222222222222222,
              "#7201a8"
             ],
             [
              0.3333333333333333,
              "#9c179e"
             ],
             [
              0.4444444444444444,
              "#bd3786"
             ],
             [
              0.5555555555555556,
              "#d8576b"
             ],
             [
              0.6666666666666666,
              "#ed7953"
             ],
             [
              0.7777777777777778,
              "#fb9f3a"
             ],
             [
              0.8888888888888888,
              "#fdca26"
             ],
             [
              1,
              "#f0f921"
             ]
            ],
            "type": "histogram2dcontour"
           }
          ],
          "mesh3d": [
           {
            "colorbar": {
             "outlinewidth": 0,
             "ticks": ""
            },
            "type": "mesh3d"
           }
          ],
          "parcoords": [
           {
            "line": {
             "colorbar": {
              "outlinewidth": 0,
              "ticks": ""
             }
            },
            "type": "parcoords"
           }
          ],
          "pie": [
           {
            "automargin": true,
            "type": "pie"
           }
          ],
          "scatter": [
           {
            "marker": {
             "colorbar": {
              "outlinewidth": 0,
              "ticks": ""
             }
            },
            "type": "scatter"
           }
          ],
          "scatter3d": [
           {
            "line": {
             "colorbar": {
              "outlinewidth": 0,
              "ticks": ""
             }
            },
            "marker": {
             "colorbar": {
              "outlinewidth": 0,
              "ticks": ""
             }
            },
            "type": "scatter3d"
           }
          ],
          "scattercarpet": [
           {
            "marker": {
             "colorbar": {
              "outlinewidth": 0,
              "ticks": ""
             }
            },
            "type": "scattercarpet"
           }
          ],
          "scattergeo": [
           {
            "marker": {
             "colorbar": {
              "outlinewidth": 0,
              "ticks": ""
             }
            },
            "type": "scattergeo"
           }
          ],
          "scattergl": [
           {
            "marker": {
             "colorbar": {
              "outlinewidth": 0,
              "ticks": ""
             }
            },
            "type": "scattergl"
           }
          ],
          "scattermapbox": [
           {
            "marker": {
             "colorbar": {
              "outlinewidth": 0,
              "ticks": ""
             }
            },
            "type": "scattermapbox"
           }
          ],
          "scatterpolar": [
           {
            "marker": {
             "colorbar": {
              "outlinewidth": 0,
              "ticks": ""
             }
            },
            "type": "scatterpolar"
           }
          ],
          "scatterpolargl": [
           {
            "marker": {
             "colorbar": {
              "outlinewidth": 0,
              "ticks": ""
             }
            },
            "type": "scatterpolargl"
           }
          ],
          "scatterternary": [
           {
            "marker": {
             "colorbar": {
              "outlinewidth": 0,
              "ticks": ""
             }
            },
            "type": "scatterternary"
           }
          ],
          "surface": [
           {
            "colorbar": {
             "outlinewidth": 0,
             "ticks": ""
            },
            "colorscale": [
             [
              0,
              "#0d0887"
             ],
             [
              0.1111111111111111,
              "#46039f"
             ],
             [
              0.2222222222222222,
              "#7201a8"
             ],
             [
              0.3333333333333333,
              "#9c179e"
             ],
             [
              0.4444444444444444,
              "#bd3786"
             ],
             [
              0.5555555555555556,
              "#d8576b"
             ],
             [
              0.6666666666666666,
              "#ed7953"
             ],
             [
              0.7777777777777778,
              "#fb9f3a"
             ],
             [
              0.8888888888888888,
              "#fdca26"
             ],
             [
              1,
              "#f0f921"
             ]
            ],
            "type": "surface"
           }
          ],
          "table": [
           {
            "cells": {
             "fill": {
              "color": "#EBF0F8"
             },
             "line": {
              "color": "white"
             }
            },
            "header": {
             "fill": {
              "color": "#C8D4E3"
             },
             "line": {
              "color": "white"
             }
            },
            "type": "table"
           }
          ]
         },
         "layout": {
          "annotationdefaults": {
           "arrowcolor": "#2a3f5f",
           "arrowhead": 0,
           "arrowwidth": 1
          },
          "autotypenumbers": "strict",
          "coloraxis": {
           "colorbar": {
            "outlinewidth": 0,
            "ticks": ""
           }
          },
          "colorscale": {
           "diverging": [
            [
             0,
             "#8e0152"
            ],
            [
             0.1,
             "#c51b7d"
            ],
            [
             0.2,
             "#de77ae"
            ],
            [
             0.3,
             "#f1b6da"
            ],
            [
             0.4,
             "#fde0ef"
            ],
            [
             0.5,
             "#f7f7f7"
            ],
            [
             0.6,
             "#e6f5d0"
            ],
            [
             0.7,
             "#b8e186"
            ],
            [
             0.8,
             "#7fbc41"
            ],
            [
             0.9,
             "#4d9221"
            ],
            [
             1,
             "#276419"
            ]
           ],
           "sequential": [
            [
             0,
             "#0d0887"
            ],
            [
             0.1111111111111111,
             "#46039f"
            ],
            [
             0.2222222222222222,
             "#7201a8"
            ],
            [
             0.3333333333333333,
             "#9c179e"
            ],
            [
             0.4444444444444444,
             "#bd3786"
            ],
            [
             0.5555555555555556,
             "#d8576b"
            ],
            [
             0.6666666666666666,
             "#ed7953"
            ],
            [
             0.7777777777777778,
             "#fb9f3a"
            ],
            [
             0.8888888888888888,
             "#fdca26"
            ],
            [
             1,
             "#f0f921"
            ]
           ],
           "sequentialminus": [
            [
             0,
             "#0d0887"
            ],
            [
             0.1111111111111111,
             "#46039f"
            ],
            [
             0.2222222222222222,
             "#7201a8"
            ],
            [
             0.3333333333333333,
             "#9c179e"
            ],
            [
             0.4444444444444444,
             "#bd3786"
            ],
            [
             0.5555555555555556,
             "#d8576b"
            ],
            [
             0.6666666666666666,
             "#ed7953"
            ],
            [
             0.7777777777777778,
             "#fb9f3a"
            ],
            [
             0.8888888888888888,
             "#fdca26"
            ],
            [
             1,
             "#f0f921"
            ]
           ]
          },
          "colorway": [
           "#636efa",
           "#EF553B",
           "#00cc96",
           "#ab63fa",
           "#FFA15A",
           "#19d3f3",
           "#FF6692",
           "#B6E880",
           "#FF97FF",
           "#FECB52"
          ],
          "font": {
           "color": "#2a3f5f"
          },
          "geo": {
           "bgcolor": "white",
           "lakecolor": "white",
           "landcolor": "#E5ECF6",
           "showlakes": true,
           "showland": true,
           "subunitcolor": "white"
          },
          "hoverlabel": {
           "align": "left"
          },
          "hovermode": "closest",
          "mapbox": {
           "style": "light"
          },
          "paper_bgcolor": "white",
          "plot_bgcolor": "#E5ECF6",
          "polar": {
           "angularaxis": {
            "gridcolor": "white",
            "linecolor": "white",
            "ticks": ""
           },
           "bgcolor": "#E5ECF6",
           "radialaxis": {
            "gridcolor": "white",
            "linecolor": "white",
            "ticks": ""
           }
          },
          "scene": {
           "xaxis": {
            "backgroundcolor": "#E5ECF6",
            "gridcolor": "white",
            "gridwidth": 2,
            "linecolor": "white",
            "showbackground": true,
            "ticks": "",
            "zerolinecolor": "white"
           },
           "yaxis": {
            "backgroundcolor": "#E5ECF6",
            "gridcolor": "white",
            "gridwidth": 2,
            "linecolor": "white",
            "showbackground": true,
            "ticks": "",
            "zerolinecolor": "white"
           },
           "zaxis": {
            "backgroundcolor": "#E5ECF6",
            "gridcolor": "white",
            "gridwidth": 2,
            "linecolor": "white",
            "showbackground": true,
            "ticks": "",
            "zerolinecolor": "white"
           }
          },
          "shapedefaults": {
           "line": {
            "color": "#2a3f5f"
           }
          },
          "ternary": {
           "aaxis": {
            "gridcolor": "white",
            "linecolor": "white",
            "ticks": ""
           },
           "baxis": {
            "gridcolor": "white",
            "linecolor": "white",
            "ticks": ""
           },
           "bgcolor": "#E5ECF6",
           "caxis": {
            "gridcolor": "white",
            "linecolor": "white",
            "ticks": ""
           }
          },
          "title": {
           "x": 0.05
          },
          "xaxis": {
           "automargin": true,
           "gridcolor": "white",
           "linecolor": "white",
           "ticks": "",
           "title": {
            "standoff": 15
           },
           "zerolinecolor": "white",
           "zerolinewidth": 2
          },
          "yaxis": {
           "automargin": true,
           "gridcolor": "white",
           "linecolor": "white",
           "ticks": "",
           "title": {
            "standoff": 15
           },
           "zerolinecolor": "white",
           "zerolinewidth": 2
          }
         }
        },
        "title": {
         "text": "Sector Wise Emissions"
        },
        "xaxis": {
         "title": {
          "text": "Year"
         }
        },
        "yaxis": {
         "title": {
          "text": "Emission Value"
         }
        }
       }
      },
      "text/html": [
       "<div>                            <div id=\"74d634eb-6478-4cb1-82cb-ba60847a736a\" class=\"plotly-graph-div\" style=\"height:525px; width:100%;\"></div>            <script type=\"text/javascript\">                require([\"plotly\"], function(Plotly) {                    window.PLOTLYENV=window.PLOTLYENV || {};                                    if (document.getElementById(\"74d634eb-6478-4cb1-82cb-ba60847a736a\")) {                    Plotly.newPlot(                        \"74d634eb-6478-4cb1-82cb-ba60847a736a\",                        [{\"name\":\"CO2-Diesel Oil\",\"type\":\"scatter\",\"x\":[\"1876\",\"1877\",\"1878\",\"1879\",\"1880\",\"1881\",\"1882\",\"1883\",\"1884\",\"1885\",\"1886\",\"1887\",\"1888\",\"1889\",\"1890\",\"1891\",\"1892\",\"1893\",\"1894\",\"1895\",\"1896\",\"1897\",\"1898\",\"1899\",\"1900\",\"1901\",\"1902\",\"1903\",\"1904\",\"1905\",\"1906\",\"1907\",\"1908\",\"1909\",\"1910\",\"1911\",\"1912\",\"1913\",\"1914\",\"1915\",\"1916\",\"1917\",\"1918\",\"1919\",\"1920\",\"1921\",\"1922\",\"1923\",\"1924\",\"1925\",\"1926\",\"1927\",\"1928\",\"1929\",\"1930\",\"1931\",\"1932\",\"1933\",\"1934\",\"1935\",\"1936\",\"1937\",\"1938\",\"1939\",\"1940\",\"1941\",\"1942\",\"1943\",\"1944\",\"1945\",\"1946\",\"1947\",\"1948\",\"1949\",\"1950\",\"1951\",\"1952\",\"1953\",\"1954\",\"1955\",\"1956\",\"1957\",\"1958\",\"1959\",\"1960\",\"1961\",\"1962\",\"1963\",\"1964\",\"1965\",\"1966\",\"1967\",\"1968\",\"1969\",\"1970\",\"1971\",\"1972\",\"1973\",\"1974\",\"1975\",\"1976\",\"1977\",\"1978\",\"1979\",\"1980\",\"1981\",\"1982\",\"1983\",\"1984\",\"1985\",\"1986\",\"1987\",\"1988\",\"1989\",\"1990\",\"1991\",\"1992\",\"1993\",\"1994\",\"1995\",\"1996\",\"1997\",\"1998\",\"1999\",\"2000\",\"2001\",\"2002\",\"2003\",\"2004\",\"2005\",\"2006\",\"2007\",\"2008\",\"2009\",\"2010\",\"2011\",\"2012\",\"2013\",\"2014\",\"2015\",\"2016\",\"2017\",\"2018\",\"2019\"],\"y\":[1602.48505682097,2136.82802630416,2391.18386736343,2993.41474115565,3578.1801490107,4037.50750249373,4473.11880968086,3873.83880650621,4366.45211872101,4460.68644036002,5129.56511265105,5516.74873867244,5795.50893116353,6741.31593199603,8150.85695234365,9527.6730074842,9460.75796267516,9868.9651080347,9675.51879679277,11155.0428274033,12173.3368894296,12800.0660296935,13022.4655928101,13534.1374665106,15072.9377300209,16762.4703343739,18252.0587116575,19777.5833709482,22310.1883924885,23089.8897223189,23212.7669285011,28408.7820102291,30980.3502161936,32587.9554281155,35130.8842976772,37196.016499494,38212.0587523645,43418.2863129822,45238.9736141346,48425.1243380926,53302.5795504573,58147.8960831564,60729.795374553,67074.4902764842,80186.727620192,85234.4840460671,97496.3190434597,113197.636105165,114377.624274727,124612.429567368,126215.633246146,140223.210189152,145251.514025734,159749.211863195,152518.41132288,147796.939775241,140146.59140958,151122.844358439,157962.206317489,169729.632199022,184097.086057748,202312.978442187,194685.809663024,203133.901888678,212826.162363151,219130.337420522,209558.141494315,223991.005012172,248941.674798332,247685.513625698,263011.552872462,290563.533957243,326067.753353305,322410.214611989,371003.714860864,402834.616224987,427730.367561033,454074.737167952,481965.00525053,538205.537189663,586605.980015368,613471.325502672,639623.671435153,679617.767417498,725705.607014581,769211.494666944,840530.884907322,909271.950837065,973455.527789351,1052491.54882927,1117986.43919421,1187428.20315274,1312899.5316503,1403886.23937971,1539806.73185853,1629564.79699617,1778348.30829715,1919592.5407274,1862449.23601239,1877756.18185061,2012726.63157462,2098135.28876679,2221298.61079418,2251136.38489446,2156050.11025587,2101951.35153802,2061193.99644898,2087839.66163321,2167022.69859946,2218338.87010496,2273207.14336435,2341041.37157858,2429260.36911186,2467404.28230226,2552916.15135057,2603989.05082477,2621399.81929621,2663001.58996122,2684574.07198396,2784054.80471316,2958277.61668011,2965345.61422006,2981542.20724083,3053882.01058023,3174141.70579759,3269151.45516283,3290934.21339489,3402428.38656465,3591695.75798264,3676399.60833532,3754148.56853944,3848777.7919543,3904488.22761284,3770675.3980476,3876727.33427157,3971659.36998346,3983096.79860502,4096506.07287839,4125404.54892794,4231086.45010939,4197037.35077266,4279408.29184863,4339067.23067393,4372832.83267511]},{\"name\":\"CO2-Hard Coal\",\"type\":\"scatter\",\"x\":[\"1876\",\"1877\",\"1878\",\"1879\",\"1880\",\"1881\",\"1882\",\"1883\",\"1884\",\"1885\",\"1886\",\"1887\",\"1888\",\"1889\",\"1890\",\"1891\",\"1892\",\"1893\",\"1894\",\"1895\",\"1896\",\"1897\",\"1898\",\"1899\",\"1900\",\"1901\",\"1902\",\"1903\",\"1904\",\"1905\",\"1906\",\"1907\",\"1908\",\"1909\",\"1910\",\"1911\",\"1912\",\"1913\",\"1914\",\"1915\",\"1916\",\"1917\",\"1918\",\"1919\",\"1920\",\"1921\",\"1922\",\"1923\",\"1924\",\"1925\",\"1926\",\"1927\",\"1928\",\"1929\",\"1930\",\"1931\",\"1932\",\"1933\",\"1934\",\"1935\",\"1936\",\"1937\",\"1938\",\"1939\",\"1940\",\"1941\",\"1942\",\"1943\",\"1944\",\"1945\",\"1946\",\"1947\",\"1948\",\"1949\",\"1950\",\"1951\",\"1952\",\"1953\",\"1954\",\"1955\",\"1956\",\"1957\",\"1958\",\"1959\",\"1960\",\"1961\",\"1962\",\"1963\",\"1964\",\"1965\",\"1966\",\"1967\",\"1968\",\"1969\",\"1970\",\"1971\",\"1972\",\"1973\",\"1974\",\"1975\",\"1976\",\"1977\",\"1978\",\"1979\",\"1980\",\"1981\",\"1982\",\"1983\",\"1984\",\"1985\",\"1986\",\"1987\",\"1988\",\"1989\",\"1990\",\"1991\",\"1992\",\"1993\",\"1994\",\"1995\",\"1996\",\"1997\",\"1998\",\"1999\",\"2000\",\"2001\",\"2002\",\"2003\",\"2004\",\"2005\",\"2006\",\"2007\",\"2008\",\"2009\",\"2010\",\"2011\",\"2012\",\"2013\",\"2014\",\"2015\",\"2016\",\"2017\",\"2018\",\"2019\"],\"y\":[494741.979261014,505091.710973752,509565.212320791,548014.8699459,619365.140072287,638356.652078401,675727.307062823,721742.563222158,728976.258058598,732121.550208741,738484.259873759,773075.200045265,856307.39620459,852933.40684579,927748.272426607,970739.319103642,981209.64483217,965390.283390554,1003282.6611171,1062073.22636065,1090829.89571661,1137225.77654598,1198527.6104272,1310368.08567289,1373977.24728579,1416119.64878639,1453961.0651679,1591073.32868399,1596813.45063402,1697928.63631672,1816589.87402321,2022343.52813102,1922988.62134133,1999340.5686886,2101518.23302208,2140442.7593967,2237975.03420683,2375796.22449236,2122969.16317184,2100430.51916495,2272300.41572224,2366226.90306859,2331148.24051864,1950767.96704636,2247067.71407281,1879112.63318028,1949341.68312719,2164761.95406886,2159747.51090913,2161937.13379811,2190323.6788992,2315985.59149417,2259471.00755038,2407068.03885875,2191027.75760558,1933702.22679688,1721482.55244369,1811575.79387713,1973225.17384948,2052458.50874439,2244179.02800611,2352764.34688781,2165939.88013296,2308162.54826006,2610596.61769282,2694299.03347465,2752396.45200043,2798486.37931594,2701624.21052672,2139001.57164546,2235611.0849654,2439413.34742719,2485671.86828287,2365418.77917578,2427249.83524715,2564766.47835927,2543749.65802433,2520634.34281232,2526780.05001297,2714016.09047271,2859116.01930635,2888617.39980805,3040490.49407265,3172708.06635534,3312919.06534164,3113911.03574568,3098022.9147638,3188982.24221129,3205369.93635125,3265776.83087104,3305828.57788718,3209751.09779043,3259002.12374657,3364095.53682656,3517958.93272998,3496398.30052185,3509296.23294878,3650694.4677598,3691367.50271758,3843677.22097823,4063959.74952882,4246390.88783741,4464099.61130751,4651720.04166034,4795404.02373642,4839644.00248417,4948059.48299489,5119014.31072607,5344106.7210313,5514099.67921881,5592013.73870459,5902449.5744725,6053619.15683653,6092891.25103836,6119438.5283034,6163366.98990388,6113679.11263669,6143090.37366165,6162248.92830138,6361047.19549834,6409743.44475127,6399483.30721841,6477965.6763479,6384746.26220551,6696837.54421679,6806299.69667827,7114104.7359491,7759642.81357251,8384144.2689643,8932020.57570546,9464550.32859905,9999472.4736382,10073941.6364836,10060493.0180071,10575719.1189434,11052092.9056048,11121203.1857953,11453730.8535221,11494858.4869579,11231286.7406675,10926860.2691094,11036490.514541,11227328.4029442,11189364.3136558]},{\"name\":\"CO2-Natural Gas\",\"type\":\"scatter\",\"x\":[\"1876\",\"1877\",\"1878\",\"1879\",\"1880\",\"1881\",\"1882\",\"1883\",\"1884\",\"1885\",\"1886\",\"1887\",\"1888\",\"1889\",\"1890\",\"1891\",\"1892\",\"1893\",\"1894\",\"1895\",\"1896\",\"1897\",\"1898\",\"1899\",\"1900\",\"1901\",\"1902\",\"1903\",\"1904\",\"1905\",\"1906\",\"1907\",\"1908\",\"1909\",\"1910\",\"1911\",\"1912\",\"1913\",\"1914\",\"1915\",\"1916\",\"1917\",\"1918\",\"1919\",\"1920\",\"1921\",\"1922\",\"1923\",\"1924\",\"1925\",\"1926\",\"1927\",\"1928\",\"1929\",\"1930\",\"1931\",\"1932\",\"1933\",\"1934\",\"1935\",\"1936\",\"1937\",\"1938\",\"1939\",\"1940\",\"1941\",\"1942\",\"1943\",\"1944\",\"1945\",\"1946\",\"1947\",\"1948\",\"1949\",\"1950\",\"1951\",\"1952\",\"1953\",\"1954\",\"1955\",\"1956\",\"1957\",\"1958\",\"1959\",\"1960\",\"1961\",\"1962\",\"1963\",\"1964\",\"1965\",\"1966\",\"1967\",\"1968\",\"1969\",\"1970\",\"1971\",\"1972\",\"1973\",\"1974\",\"1975\",\"1976\",\"1977\",\"1978\",\"1979\",\"1980\",\"1981\",\"1982\",\"1983\",\"1984\",\"1985\",\"1986\",\"1987\",\"1988\",\"1989\",\"1990\",\"1991\",\"1992\",\"1993\",\"1994\",\"1995\",\"1996\",\"1997\",\"1998\",\"1999\",\"2000\",\"2001\",\"2002\",\"2003\",\"2004\",\"2005\",\"2006\",\"2007\",\"2008\",\"2009\",\"2010\",\"2011\",\"2012\",\"2013\",\"2014\",\"2015\",\"2016\",\"2017\",\"2018\",\"2019\"],\"y\":[0.0,0.0,0.0,0.0,0.0,0.0,198.071615382345,457.840312321284,1408.95913033143,4465.30453565322,9226.96869272683,14170.5051729261,20168.186041717,14702.8563303608,14056.8646713236,10761.9194338107,9352.63336488819,8767.30331524285,8058.39447380049,8473.54723985298,8240.60799221528,8770.44118146424,10182.3023441892,13124.6927097248,13893.1191232708,15480.5215636957,16485.6981417165,17486.4368293575,18253.410134651,20665.298406222,22900.6978015743,23923.327924601,23680.3370963207,28310.0494965088,29985.1911493883,30949.5523145964,34159.3363648362,35733.1376347778,36481.598152719,38635.6416591152,46429.17550689,49128.6323106009,44397.1205162765,46257.1953766587,50787.2527153492,42807.2862998063,49096.0749750387,64189.2123774063,72852.634649741,77610.1168477515,84198.8289697333,92428.2081607855,100625.069333226,124495.747852782,125700.818526821,112058.439723254,106340.925921391,109286.554655974,122322.410703021,131849.974509537,148489.241489371,166059.119810487,159682.646166942,166613.314921369,180234.66887086,179691.652047315,192159.729280272,208950.597629758,222306.954201808,239113.303630772,243691.500996328,266244.244325705,297764.414318005,315383.009554666,366846.308528872,426413.410249152,451430.139013484,472107.915340817,490615.333740616,526887.852574513,556601.606966904,604811.797819856,652303.927618169,691021.673591247,844775.803909343,903681.238653953,982017.162262144,1058878.15725575,1166849.85764619,1244027.41359261,1351986.07979685,1501559.36732438,1627067.21427241,1719131.89470441,1784912.13153707,1932605.43476697,2027445.03393025,2106412.78023694,2153269.75280946,2125772.57787005,2219145.28510444,2254269.59282947,2325157.72047017,2462238.85658903,2543047.93783976,2567383.43184162,2531720.67303737,2563171.81525048,2749963.2407101,2809120.54961312,2835541.28805139,2992476.534195,3117847.84252481,3278362.348194,3390308.26344707,3495800.63445682,3456399.29835457,3497132.53674269,3511939.68600363,3618511.90564741,3776123.44394951,3819351.07307003,3835960.42194708,3975491.37918161,4139457.42242138,4203673.19856264,4325527.58478369,4466387.89461062,4601982.62707477,4715314.17728499,4863563.53929657,5056331.79609394,5211445.21668623,5123022.28502911,5584154.20617127,5648876.00353414,5757303.55577394,5825034.32687546,5875272.78775063,5964930.4454462,6112000.36903765,6253758.01018602,6609853.41039868,6753655.7031504]}],                        {\"font\":{\"color\":\"RebeccaPurple\",\"family\":\"Courier New, monospace\",\"size\":10},\"legend\":{\"title\":{\"text\":\"Type\"}},\"template\":{\"data\":{\"bar\":[{\"error_x\":{\"color\":\"#2a3f5f\"},\"error_y\":{\"color\":\"#2a3f5f\"},\"marker\":{\"line\":{\"color\":\"#E5ECF6\",\"width\":0.5},\"pattern\":{\"fillmode\":\"overlay\",\"size\":10,\"solidity\":0.2}},\"type\":\"bar\"}],\"barpolar\":[{\"marker\":{\"line\":{\"color\":\"#E5ECF6\",\"width\":0.5},\"pattern\":{\"fillmode\":\"overlay\",\"size\":10,\"solidity\":0.2}},\"type\":\"barpolar\"}],\"carpet\":[{\"aaxis\":{\"endlinecolor\":\"#2a3f5f\",\"gridcolor\":\"white\",\"linecolor\":\"white\",\"minorgridcolor\":\"white\",\"startlinecolor\":\"#2a3f5f\"},\"baxis\":{\"endlinecolor\":\"#2a3f5f\",\"gridcolor\":\"white\",\"linecolor\":\"white\",\"minorgridcolor\":\"white\",\"startlinecolor\":\"#2a3f5f\"},\"type\":\"carpet\"}],\"choropleth\":[{\"colorbar\":{\"outlinewidth\":0,\"ticks\":\"\"},\"type\":\"choropleth\"}],\"contour\":[{\"colorbar\":{\"outlinewidth\":0,\"ticks\":\"\"},\"colorscale\":[[0.0,\"#0d0887\"],[0.1111111111111111,\"#46039f\"],[0.2222222222222222,\"#7201a8\"],[0.3333333333333333,\"#9c179e\"],[0.4444444444444444,\"#bd3786\"],[0.5555555555555556,\"#d8576b\"],[0.6666666666666666,\"#ed7953\"],[0.7777777777777778,\"#fb9f3a\"],[0.8888888888888888,\"#fdca26\"],[1.0,\"#f0f921\"]],\"type\":\"contour\"}],\"contourcarpet\":[{\"colorbar\":{\"outlinewidth\":0,\"ticks\":\"\"},\"type\":\"contourcarpet\"}],\"heatmap\":[{\"colorbar\":{\"outlinewidth\":0,\"ticks\":\"\"},\"colorscale\":[[0.0,\"#0d0887\"],[0.1111111111111111,\"#46039f\"],[0.2222222222222222,\"#7201a8\"],[0.3333333333333333,\"#9c179e\"],[0.4444444444444444,\"#bd3786\"],[0.5555555555555556,\"#d8576b\"],[0.6666666666666666,\"#ed7953\"],[0.7777777777777778,\"#fb9f3a\"],[0.8888888888888888,\"#fdca26\"],[1.0,\"#f0f921\"]],\"type\":\"heatmap\"}],\"heatmapgl\":[{\"colorbar\":{\"outlinewidth\":0,\"ticks\":\"\"},\"colorscale\":[[0.0,\"#0d0887\"],[0.1111111111111111,\"#46039f\"],[0.2222222222222222,\"#7201a8\"],[0.3333333333333333,\"#9c179e\"],[0.4444444444444444,\"#bd3786\"],[0.5555555555555556,\"#d8576b\"],[0.6666666666666666,\"#ed7953\"],[0.7777777777777778,\"#fb9f3a\"],[0.8888888888888888,\"#fdca26\"],[1.0,\"#f0f921\"]],\"type\":\"heatmapgl\"}],\"histogram\":[{\"marker\":{\"pattern\":{\"fillmode\":\"overlay\",\"size\":10,\"solidity\":0.2}},\"type\":\"histogram\"}],\"histogram2d\":[{\"colorbar\":{\"outlinewidth\":0,\"ticks\":\"\"},\"colorscale\":[[0.0,\"#0d0887\"],[0.1111111111111111,\"#46039f\"],[0.2222222222222222,\"#7201a8\"],[0.3333333333333333,\"#9c179e\"],[0.4444444444444444,\"#bd3786\"],[0.5555555555555556,\"#d8576b\"],[0.6666666666666666,\"#ed7953\"],[0.7777777777777778,\"#fb9f3a\"],[0.8888888888888888,\"#fdca26\"],[1.0,\"#f0f921\"]],\"type\":\"histogram2d\"}],\"histogram2dcontour\":[{\"colorbar\":{\"outlinewidth\":0,\"ticks\":\"\"},\"colorscale\":[[0.0,\"#0d0887\"],[0.1111111111111111,\"#46039f\"],[0.2222222222222222,\"#7201a8\"],[0.3333333333333333,\"#9c179e\"],[0.4444444444444444,\"#bd3786\"],[0.5555555555555556,\"#d8576b\"],[0.6666666666666666,\"#ed7953\"],[0.7777777777777778,\"#fb9f3a\"],[0.8888888888888888,\"#fdca26\"],[1.0,\"#f0f921\"]],\"type\":\"histogram2dcontour\"}],\"mesh3d\":[{\"colorbar\":{\"outlinewidth\":0,\"ticks\":\"\"},\"type\":\"mesh3d\"}],\"parcoords\":[{\"line\":{\"colorbar\":{\"outlinewidth\":0,\"ticks\":\"\"}},\"type\":\"parcoords\"}],\"pie\":[{\"automargin\":true,\"type\":\"pie\"}],\"scatter\":[{\"marker\":{\"colorbar\":{\"outlinewidth\":0,\"ticks\":\"\"}},\"type\":\"scatter\"}],\"scatter3d\":[{\"line\":{\"colorbar\":{\"outlinewidth\":0,\"ticks\":\"\"}},\"marker\":{\"colorbar\":{\"outlinewidth\":0,\"ticks\":\"\"}},\"type\":\"scatter3d\"}],\"scattercarpet\":[{\"marker\":{\"colorbar\":{\"outlinewidth\":0,\"ticks\":\"\"}},\"type\":\"scattercarpet\"}],\"scattergeo\":[{\"marker\":{\"colorbar\":{\"outlinewidth\":0,\"ticks\":\"\"}},\"type\":\"scattergeo\"}],\"scattergl\":[{\"marker\":{\"colorbar\":{\"outlinewidth\":0,\"ticks\":\"\"}},\"type\":\"scattergl\"}],\"scattermapbox\":[{\"marker\":{\"colorbar\":{\"outlinewidth\":0,\"ticks\":\"\"}},\"type\":\"scattermapbox\"}],\"scatterpolar\":[{\"marker\":{\"colorbar\":{\"outlinewidth\":0,\"ticks\":\"\"}},\"type\":\"scatterpolar\"}],\"scatterpolargl\":[{\"marker\":{\"colorbar\":{\"outlinewidth\":0,\"ticks\":\"\"}},\"type\":\"scatterpolargl\"}],\"scatterternary\":[{\"marker\":{\"colorbar\":{\"outlinewidth\":0,\"ticks\":\"\"}},\"type\":\"scatterternary\"}],\"surface\":[{\"colorbar\":{\"outlinewidth\":0,\"ticks\":\"\"},\"colorscale\":[[0.0,\"#0d0887\"],[0.1111111111111111,\"#46039f\"],[0.2222222222222222,\"#7201a8\"],[0.3333333333333333,\"#9c179e\"],[0.4444444444444444,\"#bd3786\"],[0.5555555555555556,\"#d8576b\"],[0.6666666666666666,\"#ed7953\"],[0.7777777777777778,\"#fb9f3a\"],[0.8888888888888888,\"#fdca26\"],[1.0,\"#f0f921\"]],\"type\":\"surface\"}],\"table\":[{\"cells\":{\"fill\":{\"color\":\"#EBF0F8\"},\"line\":{\"color\":\"white\"}},\"header\":{\"fill\":{\"color\":\"#C8D4E3\"},\"line\":{\"color\":\"white\"}},\"type\":\"table\"}]},\"layout\":{\"annotationdefaults\":{\"arrowcolor\":\"#2a3f5f\",\"arrowhead\":0,\"arrowwidth\":1},\"autotypenumbers\":\"strict\",\"coloraxis\":{\"colorbar\":{\"outlinewidth\":0,\"ticks\":\"\"}},\"colorscale\":{\"diverging\":[[0,\"#8e0152\"],[0.1,\"#c51b7d\"],[0.2,\"#de77ae\"],[0.3,\"#f1b6da\"],[0.4,\"#fde0ef\"],[0.5,\"#f7f7f7\"],[0.6,\"#e6f5d0\"],[0.7,\"#b8e186\"],[0.8,\"#7fbc41\"],[0.9,\"#4d9221\"],[1,\"#276419\"]],\"sequential\":[[0.0,\"#0d0887\"],[0.1111111111111111,\"#46039f\"],[0.2222222222222222,\"#7201a8\"],[0.3333333333333333,\"#9c179e\"],[0.4444444444444444,\"#bd3786\"],[0.5555555555555556,\"#d8576b\"],[0.6666666666666666,\"#ed7953\"],[0.7777777777777778,\"#fb9f3a\"],[0.8888888888888888,\"#fdca26\"],[1.0,\"#f0f921\"]],\"sequentialminus\":[[0.0,\"#0d0887\"],[0.1111111111111111,\"#46039f\"],[0.2222222222222222,\"#7201a8\"],[0.3333333333333333,\"#9c179e\"],[0.4444444444444444,\"#bd3786\"],[0.5555555555555556,\"#d8576b\"],[0.6666666666666666,\"#ed7953\"],[0.7777777777777778,\"#fb9f3a\"],[0.8888888888888888,\"#fdca26\"],[1.0,\"#f0f921\"]]},\"colorway\":[\"#636efa\",\"#EF553B\",\"#00cc96\",\"#ab63fa\",\"#FFA15A\",\"#19d3f3\",\"#FF6692\",\"#B6E880\",\"#FF97FF\",\"#FECB52\"],\"font\":{\"color\":\"#2a3f5f\"},\"geo\":{\"bgcolor\":\"white\",\"lakecolor\":\"white\",\"landcolor\":\"#E5ECF6\",\"showlakes\":true,\"showland\":true,\"subunitcolor\":\"white\"},\"hoverlabel\":{\"align\":\"left\"},\"hovermode\":\"closest\",\"mapbox\":{\"style\":\"light\"},\"paper_bgcolor\":\"white\",\"plot_bgcolor\":\"#E5ECF6\",\"polar\":{\"angularaxis\":{\"gridcolor\":\"white\",\"linecolor\":\"white\",\"ticks\":\"\"},\"bgcolor\":\"#E5ECF6\",\"radialaxis\":{\"gridcolor\":\"white\",\"linecolor\":\"white\",\"ticks\":\"\"}},\"scene\":{\"xaxis\":{\"backgroundcolor\":\"#E5ECF6\",\"gridcolor\":\"white\",\"gridwidth\":2,\"linecolor\":\"white\",\"showbackground\":true,\"ticks\":\"\",\"zerolinecolor\":\"white\"},\"yaxis\":{\"backgroundcolor\":\"#E5ECF6\",\"gridcolor\":\"white\",\"gridwidth\":2,\"linecolor\":\"white\",\"showbackground\":true,\"ticks\":\"\",\"zerolinecolor\":\"white\"},\"zaxis\":{\"backgroundcolor\":\"#E5ECF6\",\"gridcolor\":\"white\",\"gridwidth\":2,\"linecolor\":\"white\",\"showbackground\":true,\"ticks\":\"\",\"zerolinecolor\":\"white\"}},\"shapedefaults\":{\"line\":{\"color\":\"#2a3f5f\"}},\"ternary\":{\"aaxis\":{\"gridcolor\":\"white\",\"linecolor\":\"white\",\"ticks\":\"\"},\"baxis\":{\"gridcolor\":\"white\",\"linecolor\":\"white\",\"ticks\":\"\"},\"bgcolor\":\"#E5ECF6\",\"caxis\":{\"gridcolor\":\"white\",\"linecolor\":\"white\",\"ticks\":\"\"}},\"title\":{\"x\":0.05},\"xaxis\":{\"automargin\":true,\"gridcolor\":\"white\",\"linecolor\":\"white\",\"ticks\":\"\",\"title\":{\"standoff\":15},\"zerolinecolor\":\"white\",\"zerolinewidth\":2},\"yaxis\":{\"automargin\":true,\"gridcolor\":\"white\",\"linecolor\":\"white\",\"ticks\":\"\",\"title\":{\"standoff\":15},\"zerolinecolor\":\"white\",\"zerolinewidth\":2}}},\"title\":{\"text\":\"Sector Wise Emissions\"},\"xaxis\":{\"title\":{\"text\":\"Year\"}},\"yaxis\":{\"title\":{\"text\":\"Emission Value\"}}},                        {\"responsive\": true}                    ).then(function(){\n",
       "                            \n",
       "var gd = document.getElementById('74d634eb-6478-4cb1-82cb-ba60847a736a');\n",
       "var x = new MutationObserver(function (mutations, observer) {{\n",
       "        var display = window.getComputedStyle(gd).display;\n",
       "        if (!display || display === 'none') {{\n",
       "            console.log([gd, 'removed!']);\n",
       "            Plotly.purge(gd);\n",
       "            observer.disconnect();\n",
       "        }}\n",
       "}});\n",
       "\n",
       "// Listen for the removal of the full notebook cells\n",
       "var notebookContainer = gd.closest('#notebook-container');\n",
       "if (notebookContainer) {{\n",
       "    x.observe(notebookContainer, {childList: true});\n",
       "}}\n",
       "\n",
       "// Listen for the clearing of the current output cell\n",
       "var outputEl = gd.closest('.output');\n",
       "if (outputEl) {{\n",
       "    x.observe(outputEl, {childList: true});\n",
       "}}\n",
       "\n",
       "                        })                };                });            </script>        </div>"
      ]
     },
     "metadata": {},
     "output_type": "display_data"
    }
   ],
   "source": [
    "fig_sectors_v2 = go.Figure()\n",
    "\n",
    "fig_sectors_v2.add_trace(\n",
    "            go.Scatter(x = df_diesel_oil[\"Year\"].to_list() ,y = df_diesel_oil[\"Value\"].to_list(),name=\"CO2-Diesel Oil\")\n",
    "            )\n",
    "fig_sectors_v2.add_trace(\n",
    "            go.Scatter(x = df_hard_coal[\"Year\"].to_list() ,y = df_hard_coal[\"Value\"].to_list(),name=\"CO2-Hard Coal\")\n",
    "            )\n",
    "fig_sectors_v2.add_trace(\n",
    "            go.Scatter(x = df_natural_gas[\"Year\"].to_list() ,y = df_natural_gas[\"Value\"].to_list(),name=\"CO2-Natural Gas\")\n",
    "            )\n",
    "fig_sectors_v2.update_layout(title=\"Sector Wise Emissions\",xaxis_title=\"Year\",yaxis_title=\"Emission Value\",legend_title=\"Type\",font=dict(family=\"Courier New, monospace\",size=10,color=\"RebeccaPurple\"))"
   ]
  },
  {
   "cell_type": "markdown",
   "id": "50a6c2f4",
   "metadata": {},
   "source": [
    "# Change in Forest Cover"
   ]
  },
  {
   "attachments": {},
   "cell_type": "markdown",
   "id": "03822b53",
   "metadata": {},
   "source": [
    "<br />\n",
    "<center>\n",
    "<img src =images/forest.jpg width = 300 />\n",
    "</center>"
   ]
  },
  {
   "cell_type": "code",
   "execution_count": 25,
   "id": "9f613cc3",
   "metadata": {},
   "outputs": [],
   "source": [
    "df_deforest = pd.read_csv(r\"Dataset/annual-deforestation.csv\")\n",
    "df_afforest = pd.read_csv(r\"Dataset/annual-afforestation.csv\")"
   ]
  },
  {
   "cell_type": "code",
   "execution_count": 26,
   "id": "50a5d4c9",
   "metadata": {},
   "outputs": [
    {
     "data": {
      "text/html": [
       "<div><div id=0508721b-6335-4938-9f9b-7b70d58f203d style=\"display:none; background-color:#9D6CFF; color:white; width:200px; height:30px; padding-left:5px; border-radius:4px; flex-direction:row; justify-content:space-around; align-items:center;\" onmouseover=\"this.style.backgroundColor='#BA9BF8'\" onmouseout=\"this.style.backgroundColor='#9D6CFF'\" onclick=\"window.commands?.execute('create-mitosheet-from-dataframe-output');\">See Full Dataframe in Mito</div> <script> if (window.commands.hasCommand('create-mitosheet-from-dataframe-output')) document.getElementById('0508721b-6335-4938-9f9b-7b70d58f203d').style.display = 'flex' </script> <table border=\"1\" class=\"dataframe\">\n",
       "  <thead>\n",
       "    <tr style=\"text-align: right;\">\n",
       "      <th></th>\n",
       "      <th>Entity</th>\n",
       "      <th>Code_x</th>\n",
       "      <th>Year</th>\n",
       "      <th>Afforestation</th>\n",
       "      <th>Code_y</th>\n",
       "      <th>Deforestation</th>\n",
       "    </tr>\n",
       "  </thead>\n",
       "  <tbody>\n",
       "    <tr>\n",
       "      <th>0</th>\n",
       "      <td>Argentina</td>\n",
       "      <td>ARG</td>\n",
       "      <td>1990</td>\n",
       "      <td>23000</td>\n",
       "      <td>ARG</td>\n",
       "      <td>213600</td>\n",
       "    </tr>\n",
       "    <tr>\n",
       "      <th>1</th>\n",
       "      <td>Argentina</td>\n",
       "      <td>ARG</td>\n",
       "      <td>2000</td>\n",
       "      <td>7000</td>\n",
       "      <td>ARG</td>\n",
       "      <td>327400</td>\n",
       "    </tr>\n",
       "    <tr>\n",
       "      <th>2</th>\n",
       "      <td>Argentina</td>\n",
       "      <td>ARG</td>\n",
       "      <td>2010</td>\n",
       "      <td>13000</td>\n",
       "      <td>ARG</td>\n",
       "      <td>242400</td>\n",
       "    </tr>\n",
       "    <tr>\n",
       "      <th>3</th>\n",
       "      <td>Argentina</td>\n",
       "      <td>ARG</td>\n",
       "      <td>2015</td>\n",
       "      <td>21000</td>\n",
       "      <td>ARG</td>\n",
       "      <td>134800</td>\n",
       "    </tr>\n",
       "    <tr>\n",
       "      <th>4</th>\n",
       "      <td>Australia</td>\n",
       "      <td>AUS</td>\n",
       "      <td>1990</td>\n",
       "      <td>45340</td>\n",
       "      <td>AUS</td>\n",
       "      <td>626200</td>\n",
       "    </tr>\n",
       "  </tbody>\n",
       "</table></div>"
      ],
      "text/plain": [
       "      Entity Code_x  Year  Afforestation Code_y  Deforestation\n",
       "0  Argentina    ARG  1990          23000    ARG         213600\n",
       "1  Argentina    ARG  2000           7000    ARG         327400\n",
       "2  Argentina    ARG  2010          13000    ARG         242400\n",
       "3  Argentina    ARG  2015          21000    ARG         134800\n",
       "4  Australia    AUS  1990          45340    AUS         626200"
      ]
     },
     "execution_count": 26,
     "metadata": {},
     "output_type": "execute_result"
    }
   ],
   "source": [
    "combined_df = pd.merge(df_afforest, df_deforest, on=['Entity','Year'], how='inner')\n",
    "combined_df.head()"
   ]
  },
  {
   "cell_type": "code",
   "execution_count": 27,
   "id": "ad6f9f79",
   "metadata": {},
   "outputs": [
    {
     "name": "stderr",
     "output_type": "stream",
     "text": [
      "NumExpr defaulting to 4 threads.\n"
     ]
    },
    {
     "name": "stdout",
     "output_type": "stream",
     "text": [
      "29\n"
     ]
    }
   ],
   "source": [
    "filtered_df = combined_df[combined_df['Year'] == 2000] \n",
    "filtered_df = filtered_df[filtered_df['Afforestation'] >= 2000]\n",
    "filtered_df = filtered_df[filtered_df['Deforestation'] >= 2000]\n",
    "filtered_df.head()\n",
    "print(len(filtered_df))"
   ]
  },
  {
   "cell_type": "code",
   "execution_count": 28,
   "id": "993ed1f5",
   "metadata": {},
   "outputs": [],
   "source": [
    "index = list(filtered_df[\"Entity\"].unique())"
   ]
  },
  {
   "cell_type": "code",
   "execution_count": 29,
   "id": "6b6727b5",
   "metadata": {},
   "outputs": [
    {
     "name": "stdout",
     "output_type": "stream",
     "text": [
      "29\n",
      "29\n",
      "29\n"
     ]
    }
   ],
   "source": [
    "Afforestation = list(filtered_df['Afforestation'])\n",
    "print(len(Afforestation))\n",
    "Deforestation = list(filtered_df['Deforestation'])\n",
    "print(len(Deforestation))\n",
    "print(len(index))"
   ]
  },
  {
   "cell_type": "code",
   "execution_count": 30,
   "id": "4084bcd3",
   "metadata": {},
   "outputs": [
    {
     "data": {
      "text/html": [
       "<div><div id=85e5d208-3ba6-45bd-872b-8dc47bbc292a style=\"display:none; background-color:#9D6CFF; color:white; width:200px; height:30px; padding-left:5px; border-radius:4px; flex-direction:row; justify-content:space-around; align-items:center;\" onmouseover=\"this.style.backgroundColor='#BA9BF8'\" onmouseout=\"this.style.backgroundColor='#9D6CFF'\" onclick=\"window.commands?.execute('create-mitosheet-from-dataframe-output');\">See Full Dataframe in Mito</div> <script> if (window.commands.hasCommand('create-mitosheet-from-dataframe-output')) document.getElementById('85e5d208-3ba6-45bd-872b-8dc47bbc292a').style.display = 'flex' </script> <table border=\"1\" class=\"dataframe\">\n",
       "  <thead>\n",
       "    <tr style=\"text-align: right;\">\n",
       "      <th></th>\n",
       "      <th>Afforestation</th>\n",
       "      <th>Deforestation</th>\n",
       "    </tr>\n",
       "  </thead>\n",
       "  <tbody>\n",
       "    <tr>\n",
       "      <th>Argentina</th>\n",
       "      <td>7000</td>\n",
       "      <td>327400</td>\n",
       "    </tr>\n",
       "    <tr>\n",
       "      <th>Australia</th>\n",
       "      <td>73120</td>\n",
       "      <td>632300</td>\n",
       "    </tr>\n",
       "    <tr>\n",
       "      <th>Belarus</th>\n",
       "      <td>6990</td>\n",
       "      <td>7200</td>\n",
       "    </tr>\n",
       "    <tr>\n",
       "      <th>Cameroon</th>\n",
       "      <td>2000</td>\n",
       "      <td>71700</td>\n",
       "    </tr>\n",
       "    <tr>\n",
       "      <th>Canada</th>\n",
       "      <td>2470</td>\n",
       "      <td>50450</td>\n",
       "    </tr>\n",
       "  </tbody>\n",
       "</table></div>"
      ],
      "text/plain": [
       "           Afforestation  Deforestation\n",
       "Argentina           7000         327400\n",
       "Australia          73120         632300\n",
       "Belarus             6990           7200\n",
       "Cameroon            2000          71700\n",
       "Canada              2470          50450"
      ]
     },
     "execution_count": 30,
     "metadata": {},
     "output_type": "execute_result"
    }
   ],
   "source": [
    "df_forest_cover = pd.DataFrame({'Afforestation': Afforestation,'Deforestation': Deforestation}, index=index)\n",
    "df_forest_cover.head()"
   ]
  },
  {
   "cell_type": "markdown",
   "id": "57092206",
   "metadata": {},
   "source": [
    "### Global Afforestation and Deforestation"
   ]
  },
  {
   "cell_type": "code",
   "execution_count": 31,
   "id": "9675cb55",
   "metadata": {},
   "outputs": [
    {
     "data": {
      "text/plain": [
       "<AxesSubplot:>"
      ]
     },
     "execution_count": 31,
     "metadata": {},
     "output_type": "execute_result"
    },
    {
     "data": {
      "image/png": "[encoded data removed]",
      "text/plain": [
       "<Figure size 1440x720 with 1 Axes>"
      ]
     },
     "metadata": {
      "needs_background": "light"
     },
     "output_type": "display_data"
    }
   ],
   "source": [
    "df_forest_cover.plot.bar(rot=45,figsize=(20,10))"
   ]
  },
  {
   "cell_type": "markdown",
   "id": "b57002a9",
   "metadata": {},
   "source": [
    "### United States"
   ]
  },
  {
   "cell_type": "code",
   "execution_count": 32,
   "id": "427c1822",
   "metadata": {},
   "outputs": [],
   "source": [
    "filtered_df_US = combined_df[combined_df['Entity'] == \"United States\"]"
   ]
  },
  {
   "cell_type": "code",
   "execution_count": 33,
   "id": "73ce1a46",
   "metadata": {},
   "outputs": [
    {
     "name": "stdout",
     "output_type": "stream",
     "text": [
      "3\n",
      "3\n",
      "3\n"
     ]
    },
    {
     "data": {
      "text/plain": [
       "array([<AxesSubplot:ylabel='Afforestation'>], dtype=object)"
      ]
     },
     "execution_count": 33,
     "metadata": {},
     "output_type": "execute_result"
    },
    {
     "data": {
      "image/png": "[encoded data removed]",
      "text/plain": [
       "<Figure size 432x288 with 1 Axes>"
      ]
     },
     "metadata": {},
     "output_type": "display_data"
    }
   ],
   "source": [
    "Afforestation = list(filtered_df_US['Afforestation'])\n",
    "print(len(Afforestation))\n",
    "Deforestation = list(filtered_df_US['Deforestation'])\n",
    "print(len(Deforestation))\n",
    "index = list(filtered_df_US[\"Year\"])\n",
    "print(len(index))\n",
    "# df = pd.DataFrame({'Afforestation': Afforestation,'Deforestation': Deforestation}, index=index)\n",
    "df_aforest = pd.DataFrame({'Afforestation': Afforestation}, index=index)\n",
    "df_aforest.plot.pie(subplots=True,title=\"Afforestation\")"
   ]
  },
  {
   "cell_type": "code",
   "execution_count": 34,
   "id": "d0e71fab",
   "metadata": {},
   "outputs": [
    {
     "data": {
      "text/html": [
       "<div><div id=ec13d6fa-684a-4d23-9618-7d296bae8e0c style=\"display:none; background-color:#9D6CFF; color:white; width:200px; height:30px; padding-left:5px; border-radius:4px; flex-direction:row; justify-content:space-around; align-items:center;\" onmouseover=\"this.style.backgroundColor='#BA9BF8'\" onmouseout=\"this.style.backgroundColor='#9D6CFF'\" onclick=\"window.commands?.execute('create-mitosheet-from-dataframe-output');\">See Full Dataframe in Mito</div> <script> if (window.commands.hasCommand('create-mitosheet-from-dataframe-output')) document.getElementById('ec13d6fa-684a-4d23-9618-7d296bae8e0c').style.display = 'flex' </script> <table border=\"1\" class=\"dataframe\">\n",
       "  <thead>\n",
       "    <tr style=\"text-align: right;\">\n",
       "      <th></th>\n",
       "      <th>Deforestation</th>\n",
       "    </tr>\n",
       "  </thead>\n",
       "  <tbody>\n",
       "    <tr>\n",
       "      <th>1990</th>\n",
       "      <td>0</td>\n",
       "    </tr>\n",
       "    <tr>\n",
       "      <th>2000</th>\n",
       "      <td>0</td>\n",
       "    </tr>\n",
       "    <tr>\n",
       "      <th>2010</th>\n",
       "      <td>0</td>\n",
       "    </tr>\n",
       "  </tbody>\n",
       "</table></div>"
      ],
      "text/plain": [
       "      Deforestation\n",
       "1990              0\n",
       "2000              0\n",
       "2010              0"
      ]
     },
     "execution_count": 34,
     "metadata": {},
     "output_type": "execute_result"
    }
   ],
   "source": [
    "df_deforest = pd.DataFrame({'Deforestation': Deforestation}, index=index)\n",
    "df_deforest.head()"
   ]
  },
  {
   "cell_type": "code",
   "execution_count": 35,
   "id": "b9c1ad9b",
   "metadata": {},
   "outputs": [
    {
     "name": "stderr",
     "output_type": "stream",
     "text": [
      "C:\\Users\\Dell\\anaconda3\\lib\\site-packages\\pandas\\plotting\\_matplotlib\\core.py:1583: MatplotlibDeprecationWarning:\n",
      "\n",
      "normalize=None does not normalize if the sum is less than 1 but this behavior is deprecated since 3.3 until two minor releases later. After the deprecation period the default value will be normalize=True. To prevent normalization pass normalize=False \n",
      "\n",
      "No handles with labels found to put in legend.\n"
     ]
    },
    {
     "data": {
      "text/plain": [
       "array([<AxesSubplot:ylabel='Deforestation'>], dtype=object)"
      ]
     },
     "execution_count": 35,
     "metadata": {},
     "output_type": "execute_result"
    },
    {
     "data": {
      "image/png": "[encoded data removed]",
      "text/plain": [
       "<Figure size 432x288 with 1 Axes>"
      ]
     },
     "metadata": {},
     "output_type": "display_data"
    }
   ],
   "source": [
    "df_deforest.plot.pie(subplots=True,title=\"Zero Deforestation\")"
   ]
  },
  {
   "cell_type": "markdown",
   "id": "9cafbab5",
   "metadata": {},
   "source": [
    "#### Zero Deforestation in USA between observed years based on dataset taken !!!"
   ]
  },
  {
   "attachments": {},
   "cell_type": "markdown",
   "id": "29791e48",
   "metadata": {},
   "source": [
    "<br />\n",
    "<center>\n",
    "<img src =images/surprise_v2.png width = 300 />\n",
    "</center>"
   ]
  },
  {
   "cell_type": "code",
   "execution_count": null,
   "id": "baaf8ac1",
   "metadata": {},
   "outputs": [],
   "source": []
  }
 ],
 "metadata": {
  "kernelspec": {
   "display_name": "Python 3",
   "language": "python",
   "name": "python3"
  },
  "language_info": {
   "codemirror_mode": {
    "name": "ipython",
    "version": 3
   },
   "file_extension": ".py",
   "mimetype": "text/x-python",
   "name": "python",
   "nbconvert_exporter": "python",
   "pygments_lexer": "ipython3",
   "version": "3.8.8"
  }
 },
 "nbformat": 4,
 "nbformat_minor": 5
}
